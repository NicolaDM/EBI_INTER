{
 "cells": [
  {
   "cell_type": "markdown",
   "id": "e16ab3c8",
   "metadata": {},
   "source": [
    "## 1.for_vir"
   ]
  },
  {
   "cell_type": "markdown",
   "id": "f2e174b4",
   "metadata": {},
   "source": [
    "#### Combine the seprate file_Viridian"
   ]
  },
  {
   "cell_type": "markdown",
   "id": "f1fc78be",
   "metadata": {},
   "source": [
    "\n",
    "```bash\n",
    "bsub -M 20000 -e /nfs/research/goldman/zihao/compViridian_2/3_combination/pg_combine_split_errorChecking_error.txt 'python3 /nfs/research/goldman/zihao/compViridian_2/3_combination/pg_combine_split.py'\n",
    "```\n",
    "\n",
    "Code：\n",
    "```python\n",
    "import os\n",
    "\n",
    "directory = \"/nfs/research/goldman/zihao/Datas/p2_comp_viridian/2_alignment/Aligned_split/\"\n",
    "output_file = \"/nfs/research/goldman/zihao/Datas/p2_comp_viridian/2_alignment/Aligned_split_all.fasta\"\n",
    "\n",
    "txt_files = [file for file in os.listdir(directory) if file.endswith(\".txt\")]\n",
    "\n",
    "with open(output_file, \"w\") as outfile:\n",
    "    for file in txt_files:\n",
    "        file_path = os.path.join(directory, file)\n",
    "        with open(file_path, \"r\") as infile:\n",
    "            content = infile.read()\n",
    "            outfile.write(content)\n",
    "            outfile.write(\"\\n\")\n",
    "```"
   ]
  },
  {
   "cell_type": "markdown",
   "id": "e8962975",
   "metadata": {},
   "source": [
    "##### createMapleFile\n",
    "```bash\n",
    "bsub \"/hps/software/users/goldman/pypy3/pypy3.7-v7.3.5-linux64/bin/pypy3 /nfs/research/goldman/zihao/errorsProject_1/MAPLE/createMapleFile.py --path /nfs/research/goldman/zihao/Datas/p2_comp_viridian/2_alignment/ --fasta Aligned_split_all.fasta --output Vir_MAPLE_format_consensuses.txt\"\n",
    "```"
   ]
  },
  {
   "cell_type": "markdown",
   "id": "cecf1a89",
   "metadata": {},
   "source": [
    "##### Start MAPLE:\n",
    "```bash\n",
    "bsub -g /MapleRealErrors_3 -q long -M 40000 \n",
    "-o /nfs/research/goldman/zihao/compViridian_2/MAPLE_Part/For_vir/MAPLE_realData_errorChecking_output_vir.txt \n",
    "-e /nfs/research/goldman/zihao/compViridian_2/MAPLE_Part/For_vir/MAPLE_realData_errorChecking_error_vir.txt \n",
    "/hps/software/users/goldman/pypy3/pypy3.7-v7.3.5-linux64/bin/pypy3 /nfs/research/goldman/demaio/fastLK/code/MAPLEv0.3.2.py \n",
    "--model UNREST --rateVariation --estimateSiteSpecificErrorRate \n",
    "--input /nfs/research/goldman/zihao/Datas/p2_comp_viridian/2_alignment/Vir_MAPLE_format_consensuses.txt \n",
    "--overwrite --estimateErrors --calculateLKfinalTree \n",
    "--output /nfs/research/goldman/zihao/compViridian_2/MAPLE_Part/For_vir/MAPLE0.3.2_rateVar_errors_realData_checkingErrors_vir\n",
    "```"
   ]
  },
  {
   "cell_type": "markdown",
   "id": "c7b59bdd",
   "metadata": {},
   "source": [
    "## 2.for_col"
   ]
  },
  {
   "cell_type": "code",
   "execution_count": 4,
   "id": "44d2f42e",
   "metadata": {},
   "outputs": [],
   "source": [
    "import os\n",
    "import shutil\n",
    "\n",
    "folder_a = '/nfs/research/goldman/zihao/Datas/p1/File_5_consensus/Decompress/Aligned_split_May'\n",
    "folder_b = '/nfs/research/goldman/zihao/Datas/p1/File_5_consensus/Decompress/Aligned_split_July_for_MAPLE'\n",
    "\n",
    "file_set = modified_set\n",
    "\n",
    "for file_name in os.listdir(folder_a):\n",
    "    \n",
    "    if file_name.endswith('.txt') and file_name.split('.')[0] in file_set:\n",
    "        file_path = os.path.join(folder_a, file_name)\n",
    "        shutil.move(file_path, folder_b)"
   ]
  },
  {
   "cell_type": "code",
   "execution_count": 5,
   "id": "e6ce5a72",
   "metadata": {},
   "outputs": [],
   "source": [
    "directory = folder_b\n",
    "output_file = \"/nfs/research/goldman/zihao/Datas/p2_comp_viridian/2_alignment/Col_Aligned_split_all.fasta\"\n",
    "\n",
    "txt_files = [file for file in os.listdir(directory) if file.endswith(\".txt\")]\n",
    "\n",
    "with open(output_file, \"w\") as outfile:\n",
    "    for file in txt_files:\n",
    "        file_path = os.path.join(directory, file)\n",
    "        with open(file_path, \"r\") as infile:\n",
    "            content = infile.read()\n",
    "            outfile.write(content)\n",
    "            outfile.write(\"\\n\")"
   ]
  },
  {
   "cell_type": "markdown",
   "id": "ac9a0c78",
   "metadata": {},
   "source": [
    "##### createMapleFile\n",
    "```bash\n",
    "bsub \"/hps/software/users/goldman/pypy3/pypy3.7-v7.3.5-linux64/bin/pypy3 /nfs/research/goldman/zihao/errorsProject_1/MAPLE/createMapleFile.py --path /nfs/research/goldman/zihao/Datas/p2_comp_viridian/2_alignment/ --fasta Col_Aligned_split_all.fasta --output Col_MAPLE_format_consensuses.txt\"\n",
    "```"
   ]
  },
  {
   "cell_type": "markdown",
   "id": "f9bb6df9",
   "metadata": {},
   "source": [
    "##### Start MAPLE:\n",
    "```bash\n",
    "bsub -g /MapleRealErrors_3 -q long -M 40000 -o /nfs/research/goldman/zihao/compViridian_2/MAPLE_Part/For_col/MAPLE_errorChecking_output_col.txt -e /nfs/research/goldman/zihao/compViridian_2/MAPLE_Part/For_col/MAPLE_errorChecking_error_col.txt /hps/software/users/goldman/pypy3/pypy3.7-v7.3.5-linux64/bin/pypy3 /nfs/research/goldman/demaio/fastLK/code/MAPLEv0.3.2.py --model UNREST --rateVariation --estimateSiteSpecificErrorRate --input /nfs/research/goldman/zihao/Datas/p2_comp_viridian/2_alignment/Col_MAPLE_format_consensuses.txt --overwrite --estimateErrors --calculateLKfinalTree --output /nfs/research/goldman/zihao/compViridian_2/MAPLE_Part/For_col/MAPLE0.3.2_rateVar_checkingErrors_col\n",
    "```"
   ]
  }
 ],
 "metadata": {
  "kernelspec": {
   "display_name": "Python 3 (ipykernel)",
   "language": "python",
   "name": "python3"
  },
  "language_info": {
   "codemirror_mode": {
    "name": "ipython",
    "version": 3
   },
   "file_extension": ".py",
   "mimetype": "text/x-python",
   "name": "python",
   "nbconvert_exporter": "python",
   "pygments_lexer": "ipython3",
   "version": "3.11.3"
  }
 },
 "nbformat": 4,
 "nbformat_minor": 5
}
