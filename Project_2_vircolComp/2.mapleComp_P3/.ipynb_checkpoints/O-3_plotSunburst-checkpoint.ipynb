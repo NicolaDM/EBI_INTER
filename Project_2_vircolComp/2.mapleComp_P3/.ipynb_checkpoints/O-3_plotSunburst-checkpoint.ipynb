{
 "cells": [
  {
   "cell_type": "markdown",
   "id": "3d873209",
   "metadata": {},
   "source": [
    "## TODO：\n",
    "- 将output中的数字加入\n",
    "```python\n",
    "/nfs/research/goldman/zihao/Datas/p2_compViridian_P3/output_calculPercentage.txt\n",
    "```"
   ]
  },
  {
   "cell_type": "code",
   "execution_count": 4,
   "id": "c9d0676c",
   "metadata": {},
   "outputs": [
    {
     "data": {
      "text/plain": [
       "'Figure/PLOT.html'"
      ]
     },
     "execution_count": 4,
     "metadata": {},
     "output_type": "execute_result"
    }
   ],
   "source": [
    "import plotly.graph_objects as go\n",
    "import plotly.offline as pyo\n",
    "\n",
    "labels = [\"Masked\", \"BOTH_M\", \"VIR_M\", \"COL_M\", \n",
    "          \"Correct-Unmasked\", \"VIR_CU\", \"COL_CU\",\n",
    "          \"Error\", \"BOTH_E\", \"VIR_E\", \"COL_E\"]\n",
    "parents = [\"\", \"Masked\", \"Masked\", \"Masked\", \n",
    "           \"\",\"Correct-Unmasked\", \"Correct-Unmasked\",\n",
    "           \"\",\"Error\", \"Error\", \"Error\"]\n",
    "\n",
    "# 保证子节点的值之和等于父节点\n",
    "values = [10, 5, 4, 1, \n",
    "          15, 7, 8,\n",
    "          20, 10, 8, 2]\n",
    "\n",
    "# 指定颜色\n",
    "colors = ['#1f77b4', '#1c9cf0', '#1a5f8c', '#149cd6', \n",
    "          '#2ca02c', '#30cc30', '#249c24',\n",
    "          '#ff7f0e', '#ffb84d', '#cc6b00', '#994d00']\n",
    "\n",
    "fig = go.Figure(go.Sunburst(\n",
    "    labels=labels,\n",
    "    parents=parents,\n",
    "    values=values,\n",
    "    marker=dict(colors=colors),\n",
    "    branchvalues='total',\n",
    "))\n",
    "\n",
    "fig.update_layout(margin=dict(t=0, l=0, r=0, b=0))\n",
    "\n",
    "\n",
    "# fig.show()\n",
    "\n",
    "# Specify the filename with .html extension\n",
    "html_file = 'Figure/PLOT.html'\n",
    "\n",
    "# Use plotly.offline.plot to save the figure as an interactive HTML file\n",
    "pyo.plot(fig, filename=html_file, auto_open=False, include_plotlyjs='cdn', show_link=False)\n"
   ]
  }
 ],
 "metadata": {
  "kernelspec": {
   "display_name": "Python 3 (ipykernel)",
   "language": "python",
   "name": "python3"
  },
  "language_info": {
   "codemirror_mode": {
    "name": "ipython",
    "version": 3
   },
   "file_extension": ".py",
   "mimetype": "text/x-python",
   "name": "python",
   "nbconvert_exporter": "python",
   "pygments_lexer": "ipython3",
   "version": "3.11.3"
  }
 },
 "nbformat": 4,
 "nbformat_minor": 5
}
