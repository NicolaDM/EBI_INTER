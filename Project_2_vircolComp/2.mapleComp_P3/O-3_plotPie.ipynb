{
 "cells": [
  {
   "cell_type": "markdown",
   "id": "85e404a2",
   "metadata": {},
   "source": [
    "====================== Info ======================  \n",
    "Total masked positions in Virdian assembly:  93450014  \n",
    "Total positions in Colman assembly:  254979847  \n",
    "====================== Info ======================  \n",
    "Total unmasked positions in Virdian assembly, without errors identified by MAPLE:  3983602552  \n",
    "Total unmasked positions in Colman assembly, without errors identified by MAPLE:  3822049253  \n",
    "====================== Info ======================  \n",
    "Total positions in Virdian assembly identified as errors by MAPLE (Virdian's errors):  12174  \n",
    "Total positions in Colman assembly identified as errors by MAPLE (Colman's errors):  35629  \n",
    "====================== For VIR error ======================  \n",
    "Colman’s assemblies are masked:  513  \n",
    "Same nucleotide, Colman’s assembly error:  7743  \n",
    "Same nucleotide, Colman’s assembly not error:  3043  \n",
    "Diff nucleotide, Colman’s assembly error:  3  \n",
    "Diff nucleotide, Colman’s assembly not error:  862  \n",
    "====================== For COL error ======================  \n",
    "Viridian’s assemblies are masked:  9387  \n",
    "Same nucleotide, Viridian's assembly error:  7743  \n",
    "Same nucleotide, Viridian's assembly not error:  7742  \n",
    "Diff nucleotide, Viridian's assembly error:  3  \n",
    "Diff nucleotide, Viridian's assembly not error:  10754  "
   ]
  },
  {
   "cell_type": "code",
   "execution_count": 15,
   "id": "6badf9b5",
   "metadata": {},
   "outputs": [],
   "source": [
    "import numpy as np\n",
    "\n",
    "from plotly.subplots import make_subplots\n",
    "import plotly.graph_objects as go"
   ]
  },
  {
   "cell_type": "code",
   "execution_count": 54,
   "id": "69c4b638",
   "metadata": {},
   "outputs": [],
   "source": [
    "def format_number(number):\n",
    "    suffixes = ['', 'K', 'M', 'B', 'T']\n",
    "\n",
    "    for i in range(len(suffixes)):\n",
    "        magnitude = number / (1000 ** i)\n",
    "        if magnitude < 1000:\n",
    "            if magnitude < 10:\n",
    "                formatted = f\"{magnitude:.1f}\"\n",
    "            else:\n",
    "                formatted = f\"{magnitude:.0f}\"\n",
    "            return f\"{formatted}{suffixes[i]}\"\n",
    "    \n",
    "    return f\"{number:.1e}\""
   ]
  },
  {
   "cell_type": "code",
   "execution_count": 52,
   "id": "db1644b0",
   "metadata": {},
   "outputs": [
    {
     "data": {
      "text/plain": [
       "[12174, 513, 865, 7746, 93450014, 3983602552]"
      ]
     },
     "execution_count": 52,
     "metadata": {},
     "output_type": "execute_result"
    }
   ],
   "source": [
    "values_rawVIR"
   ]
  },
  {
   "cell_type": "code",
   "execution_count": 55,
   "id": "e6d7eecd",
   "metadata": {},
   "outputs": [
    {
     "data": {
      "text/plain": [
       "'12K'"
      ]
     },
     "execution_count": 55,
     "metadata": {},
     "output_type": "execute_result"
    }
   ],
   "source": [
    "format_number(values_rawVIR[0])"
   ]
  },
  {
   "cell_type": "code",
   "execution_count": 69,
   "id": "53e1563c",
   "metadata": {},
   "outputs": [],
   "source": [
    "VIR_masked = 93450014\n",
    "VIR_unmasked = 3983602552\n",
    "VIR_error = 12174\n",
    "VIR_error_masked = 513\n",
    "VIR_error_diff = 865\n",
    "VIR_error_both = 7746\n",
    "VIR_error_now = VIR_error_masked+VIR_error_diff+VIR_error_both\n",
    "\n",
    "labels_rawVIR = [\"Error\", \n",
    "              \"COL_masked\", \"Diff_nucleotide\", \"COL_error\", \n",
    "              \"Masked\", \"Correct-Unmasked\"]\n",
    "\n",
    "values_rawVIR = [VIR_error, VIR_error_masked, VIR_error_diff, VIR_error_both, \n",
    "                 VIR_masked, VIR_unmasked]\n",
    "\n",
    "labels_VIR = [f\"{label}<br>{format_number(value)}\" for label, value in zip(labels_rawVIR, values_rawVIR)]\n",
    "parents_VIR = [\"\", labels_VIR[0], labels_VIR[0], labels_VIR[0], \"\", \"\"]\n",
    "values_VIR = [np.log(VIR_error), \n",
    "              VIR_error_masked*(np.log(VIR_error)/VIR_error_now), VIR_error_diff*(np.log(VIR_error)/VIR_error_now), VIR_error_both*(np.log(VIR_error)/VIR_error_now), \n",
    "              np.log(VIR_masked), np.log(VIR_unmasked)]"
   ]
  },
  {
   "cell_type": "code",
   "execution_count": 70,
   "id": "ad30c545",
   "metadata": {},
   "outputs": [],
   "source": [
    "COL_masked = 254979847\n",
    "COL_unmasked = 3822049253\n",
    "COL_error = 35629\n",
    "COL_error_masked = 9387\n",
    "COL_error_diff = 10757\n",
    "COL_error_both = 7746\n",
    "COL_error_now = COL_error_masked+COL_error_diff+COL_error_both\n",
    "\n",
    "labels_rawCOL = [\"Error\", \n",
    "              \"VIR_masked\", \"Diff_nucleotide\", \"VIR_error\", \n",
    "              \"Masked\", \"Correct-Unmasked\"]\n",
    "\n",
    "values_rawCOL = [COL_error, COL_error_masked, COL_error_diff, COL_error_both, \n",
    "                 COL_masked, COL_unmasked]\n",
    "\n",
    "labels_COL = [f\"{label}<br>{format_number(value)}\" for label, value in zip(labels_rawCOL, values_rawCOL)]\n",
    "parents_COL = [\"\", labels_COL[0], labels_COL[0], labels_COL[0], \"\", \"\"]\n",
    "values_COL = [np.log(COL_error), \n",
    "              COL_error_masked*(np.log(COL_error)/COL_error_now), COL_error_diff*(np.log(COL_error)/COL_error_now), COL_error_both*(np.log(COL_error)/COL_error_now), \n",
    "              np.log(COL_masked), np.log(COL_unmasked)]"
   ]
  },
  {
   "cell_type": "code",
   "execution_count": 71,
   "id": "d7abcb13",
   "metadata": {},
   "outputs": [],
   "source": [
    "import plotly.io as pio"
   ]
  },
  {
   "cell_type": "code",
   "execution_count": 74,
   "id": "99a7bf0f",
   "metadata": {},
   "outputs": [],
   "source": [
    "colors = colors = ['#1f77b4', '#1c9cf0', '#1a5f8c', '#149cd6', \n",
    "          '#2ca02c', '#ff7f0e']\n",
    "\n",
    "# Create two subplots, one row and two columns\n",
    "fig = make_subplots(rows=1, cols=2, subplot_titles=('Viridian assembly', 'Colman\\'s assembly'),\n",
    "                    specs=[[{'type': 'sunburst'}, {'type': 'sunburst'}]],\n",
    "                    horizontal_spacing=0.0002)  # Decrease spacing between subplots\n",
    "\n",
    "# First plot\n",
    "fig.add_trace(go.Sunburst(\n",
    "    labels=labels_VIR,\n",
    "    parents=parents_VIR,\n",
    "    values=values_VIR,\n",
    "    marker=dict(colors=colors),\n",
    "    branchvalues='total'),\n",
    "    row=1, col=1)\n",
    "\n",
    "# Second plot\n",
    "fig.add_trace(go.Sunburst(\n",
    "    labels=labels_COL,\n",
    "    parents=parents_COL,\n",
    "    values=values_COL,\n",
    "    marker=dict(colors=colors),\n",
    "    branchvalues='total'),\n",
    "    row=1, col=2)\n",
    "\n",
    "\"\"\"\n",
    "# Set titles for the two subplots\n",
    "fig.update_layout(title_text=\"Two sunburst subplots\",\n",
    "                  height=800, width=1200)  # Increase figure size\n",
    "\n",
    "fig.show()\n",
    "\"\"\"\n",
    "# Set titles for the two subplots\n",
    "fig.update_layout(title_text=\"Two sunburst subplots\")  # Increase figure size\n",
    "\n",
    "# Save the figure as an HTML file\n",
    "pio.write_html(fig, 'Figure/sunburst_plots.html')"
   ]
  }
 ],
 "metadata": {
  "kernelspec": {
   "display_name": "Python 3 (ipykernel)",
   "language": "python",
   "name": "python3"
  },
  "language_info": {
   "codemirror_mode": {
    "name": "ipython",
    "version": 3
   },
   "file_extension": ".py",
   "mimetype": "text/x-python",
   "name": "python",
   "nbconvert_exporter": "python",
   "pygments_lexer": "ipython3",
   "version": "3.11.3"
  }
 },
 "nbformat": 4,
 "nbformat_minor": 5
}
