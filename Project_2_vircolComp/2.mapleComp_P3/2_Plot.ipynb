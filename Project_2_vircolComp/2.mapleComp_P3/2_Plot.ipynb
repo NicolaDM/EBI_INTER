{
 "cells": [
  {
   "cell_type": "code",
   "execution_count": null,
   "id": "3b2d7a01",
   "metadata": {},
   "outputs": [],
   "source": [
    "import pandas as pd\n",
    "\n",
    "Folder_col = \"/nfs/research/goldman/zihao/N_compProject_2/Folder_mapleComp_p3/COL_output_modified.txt\"\n",
    "Folder_vir = \"/nfs/research/goldman/zihao/N_compProject_2/Folder_mapleComp_p3/VIR_output_modified.txt\"\n",
    "\n",
    "df_col = pd.read_csv(Folder_col, sep='\\t')\n",
    "df_vir = pd.read_csv(Folder_vir, sep='\\t')"
   ]
  },
  {
   "cell_type": "code",
   "execution_count": null,
   "id": "2c7cdb9b",
   "metadata": {},
   "outputs": [],
   "source": [
    "df_vir['VIR'] = 1\n",
    "df_col['COL'] = 1\n",
    "merged_df = pd.merge(df_vir, df_col, on=['ID','Position'], how='outer')\n",
    "df_filled = merged_df.fillna(0)\n",
    "df_filled"
   ]
  }
 ],
 "metadata": {
  "kernelspec": {
   "display_name": "Python 3 (ipykernel)",
   "language": "python",
   "name": "python3"
  },
  "language_info": {
   "codemirror_mode": {
    "name": "ipython",
    "version": 3
   },
   "file_extension": ".py",
   "mimetype": "text/x-python",
   "name": "python",
   "nbconvert_exporter": "python",
   "pygments_lexer": "ipython3",
   "version": "3.10.9"
  }
 },
 "nbformat": 4,
 "nbformat_minor": 5
}
