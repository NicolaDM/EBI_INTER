{
 "cells": [
  {
   "cell_type": "code",
   "execution_count": 1,
   "id": "a0fd86f0",
   "metadata": {},
   "outputs": [],
   "source": [
    "import plotly.graph_objects as go\n",
    "import plotly.offline as pyo\n",
    "import numpy as np"
   ]
  },
  {
   "cell_type": "markdown",
   "id": "3d873209",
   "metadata": {},
   "source": [
    "## TODO：\n",
    "- 将output中的数字加入\n",
    "```python\n",
    "/nfs/research/goldman/zihao/Datas/p2_compViridian_P3/output_calculPercentage.txt\n",
    "```\n",
    "====================== Info ======================  \n",
    "Total masked positions in Virdian assembly (excludes Colman's):  28486535  \n",
    "Total positions in Colman assembly (excludes Virdian's):  190016368  \n",
    "Total positions masked in both assemblies:  64963479  \n",
    "====================== Info ======================  \n",
    "Total unmasked positions in Virdian assembly, without errors identified by MAPLE:  3983602552  \n",
    "Total unmasked positions in Colman assembly, without errors identified by MAPLE:  3822049253  \n",
    "====================== Info ======================  \n",
    "Total positions in Virdian assembly identified as errors by MAPLE (excludes Colman's errors):  4428  \n",
    "Total positions in Colman assembly identified as errors by MAPLE (excludes Virdian's errors):  27883  \n",
    "Total positions identified as errors in both assemblies by MAPLE:  7746"
   ]
  },
  {
   "cell_type": "code",
   "execution_count": 2,
   "id": "a07e5eff",
   "metadata": {},
   "outputs": [],
   "source": [
    "def format_number(number):\n",
    "    suffixes = ['', 'K', 'M', 'B', 'T']\n",
    "\n",
    "    for i in range(len(suffixes)):\n",
    "        magnitude = number / (1000 ** i)\n",
    "        if magnitude < 1000:\n",
    "            if magnitude < 10:\n",
    "                formatted = f\"{magnitude:.1f}\"\n",
    "            else:\n",
    "                formatted = f\"{magnitude:.0f}\"\n",
    "            return f\"{formatted}{suffixes[i]}\"\n",
    "    \n",
    "    return f\"{number:.1e}\""
   ]
  },
  {
   "cell_type": "code",
   "execution_count": 3,
   "id": "ac68ff07",
   "metadata": {},
   "outputs": [],
   "source": [
    "Vir_masked = 28486535\n",
    "Col_masked = 190016368\n",
    "Both_masked = 64963479\n",
    "\n",
    "Vir_unmasked_right = 3983602552\n",
    "Col_unmasked_right = 3822049253\n",
    "\n",
    "Vir_error = 7746\n",
    "Col_error = 4428\n",
    "Both_error = 27883"
   ]
  },
  {
   "cell_type": "code",
   "execution_count": 4,
   "id": "f4fed88f",
   "metadata": {},
   "outputs": [],
   "source": [
    "# Convert values to log scale\n",
    "All_MASKED_log = np.log(Vir_masked) + np.log(Col_masked) + np.log(Both_masked)\n",
    "All_unmasked_right_log = np.log(Vir_unmasked_right) + np.log(Col_unmasked_right)\n",
    "All_error_log = np.log(Vir_error) + np.log(Col_error) + np.log(Both_error)"
   ]
  },
  {
   "cell_type": "code",
   "execution_count": 5,
   "id": "e740c250",
   "metadata": {},
   "outputs": [],
   "source": [
    "# Convert values to log scale\n",
    "All_MASKED = Vir_masked + Col_masked + Both_masked\n",
    "All_unmasked_right = Vir_unmasked_right + Col_unmasked_right\n",
    "All_error = Vir_error + Col_error + Both_error"
   ]
  },
  {
   "cell_type": "code",
   "execution_count": 6,
   "id": "3be1773b",
   "metadata": {},
   "outputs": [],
   "source": [
    "values = [All_MASKED, Vir_masked, Col_masked, Both_masked, \n",
    "          All_unmasked_right, Vir_unmasked_right, Col_unmasked_right, \n",
    "          All_error, Vir_error, Col_error, Both_error]\n",
    "# Format labels\n",
    "labels_raw = [\"Masked\", \"BOTH\", \"VIR\", \"COL\", \n",
    "              \"Correct-Unmasked\", \"VIR\", \"COL\",\n",
    "              \"Error\", \"BOTH\", \"VIR\", \"COL\"]\n",
    "\n",
    "labels = [f\"{label}<br>{format_number(value)}\" for label, value in zip(labels_raw, values)]\n",
    "parents = [\"\", labels[0], labels[0], labels[0], \n",
    "           \"\",labels[4], labels[4],\n",
    "           \"\",labels[7], labels[7], labels[7]]"
   ]
  },
  {
   "cell_type": "code",
   "execution_count": 8,
   "id": "c9d0676c",
   "metadata": {},
   "outputs": [
    {
     "data": {
      "text/plain": [
       "'Figure/PLOT.html'"
      ]
     },
     "execution_count": 8,
     "metadata": {},
     "output_type": "execute_result"
    }
   ],
   "source": [
    "\"\"\"\n",
    "labels = [\"Masked\", \"BOTH_M\", \"VIR_M\", \"COL_M\", \n",
    "          \"Correct-Unmasked\", \"VIR_CU\", \"COL_CU\",\n",
    "          \"Error\", \"BOTH_E\", \"VIR_E\", \"COL_E\"]\n",
    "parents = [\"\", \"Masked\", \"Masked\", \"Masked\", \n",
    "           \"\",\"Correct-Unmasked\", \"Correct-Unmasked\",\n",
    "           \"\",\"Error\", \"Error\", \"Error\"]\n",
    "\"\"\"\n",
    "\n",
    "# Ensure that the sum of the values of the child nodes is equal to the parent node\n",
    "values = [All_MASKED_log, np.log(Vir_masked), np.log(Col_masked), np.log(Both_masked), \n",
    "          All_unmasked_right_log, np.log(Vir_unmasked_right), np.log(Col_unmasked_right), \n",
    "          All_error_log, np.log(Vir_error), np.log(Col_error), np.log(Both_error)]\n",
    "\n",
    "# Specify color\n",
    "colors = ['#1f77b4', '#1c9cf0', '#1a5f8c', '#149cd6', \n",
    "          '#2ca02c', '#30cc30', '#249c24',\n",
    "          '#ff7f0e', '#ffb84d', '#cc6b00', '#994d00']\n",
    "\n",
    "\n",
    "\n",
    "fig = go.Figure(go.Sunburst(\n",
    "    labels=labels,\n",
    "    parents=parents,\n",
    "    values = values,\n",
    "    marker=dict(colors=colors),\n",
    "    branchvalues='total',\n",
    "))\n",
    "\n",
    "fig.update_layout(margin=dict(t=0, l=0, r=0, b=0))\n",
    "\n",
    "\"\"\"\n",
    "fig.show()\n",
    "\"\"\"\n",
    "# Specify the filename with .html extension\n",
    "html_file = 'Figure/PLOT.html'\n",
    "\n",
    "# Use plotly.offline.plot to save the figure as an interactive HTML file\n",
    "pyo.plot(fig, filename=html_file, auto_open=False, include_plotlyjs='cdn', show_link=False)\n"
   ]
  }
 ],
 "metadata": {
  "kernelspec": {
   "display_name": "Python 3 (ipykernel)",
   "language": "python",
   "name": "python3"
  },
  "language_info": {
   "codemirror_mode": {
    "name": "ipython",
    "version": 3
   },
   "file_extension": ".py",
   "mimetype": "text/x-python",
   "name": "python",
   "nbconvert_exporter": "python",
   "pygments_lexer": "ipython3",
   "version": "3.11.3"
  }
 },
 "nbformat": 4,
 "nbformat_minor": 5
}
