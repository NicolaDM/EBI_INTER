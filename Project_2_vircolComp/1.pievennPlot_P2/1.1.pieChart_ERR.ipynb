{
 "cells": [
  {
   "cell_type": "markdown",
   "id": "dd53a1f1",
   "metadata": {},
   "source": [
    "##  threshold\n",
    "- SB > 0, \n",
    "- coverage ratio < 0.1,\n",
    "- AF > 0.001."
   ]
  },
  {
   "cell_type": "code",
   "execution_count": 1,
   "id": "5a97af46",
   "metadata": {},
   "outputs": [],
   "source": [
    "threshold_AF = 0.001\n",
    "threshold_SB = 0\n",
    "threshold_COV = 0.1"
   ]
  },
  {
   "cell_type": "code",
   "execution_count": 2,
   "id": "6badf9b5",
   "metadata": {},
   "outputs": [],
   "source": [
    "import pandas as pd"
   ]
  },
  {
   "cell_type": "markdown",
   "id": "267a1316",
   "metadata": {},
   "source": [
    "## Part1_ERR_POS"
   ]
  },
  {
   "cell_type": "code",
   "execution_count": 3,
   "id": "be6b033b",
   "metadata": {},
   "outputs": [],
   "source": [
    "File_for_errPos = '/nfs/research/goldman/zihao/Datas/p2_comp_viridian/Folder_3_mergeINFO/errpos_outputData.txt'"
   ]
  },
  {
   "cell_type": "code",
   "execution_count": 4,
   "id": "76015db1",
   "metadata": {},
   "outputs": [
    {
     "data": {
      "text/html": [
       "<div>\n",
       "<style scoped>\n",
       "    .dataframe tbody tr th:only-of-type {\n",
       "        vertical-align: middle;\n",
       "    }\n",
       "\n",
       "    .dataframe tbody tr th {\n",
       "        vertical-align: top;\n",
       "    }\n",
       "\n",
       "    .dataframe thead th {\n",
       "        text-align: right;\n",
       "    }\n",
       "</style>\n",
       "<table border=\"1\" class=\"dataframe\">\n",
       "  <thead>\n",
       "    <tr style=\"text-align: right;\">\n",
       "      <th></th>\n",
       "      <th>ID</th>\n",
       "      <th>Position</th>\n",
       "      <th>position</th>\n",
       "      <th>nucleotide_martin</th>\n",
       "      <th>nucleotide_origin</th>\n",
       "      <th>label_masked</th>\n",
       "      <th>label_mar</th>\n",
       "      <th>label_ori</th>\n",
       "      <th>label_same</th>\n",
       "      <th>RATIO</th>\n",
       "      <th>AF</th>\n",
       "      <th>SB</th>\n",
       "      <th>Flag_SB</th>\n",
       "      <th>Flag_AF</th>\n",
       "      <th>Flag_COV</th>\n",
       "    </tr>\n",
       "  </thead>\n",
       "  <tbody>\n",
       "    <tr>\n",
       "      <th>0</th>\n",
       "      <td>ERR4590003</td>\n",
       "      <td>3078</td>\n",
       "      <td>3078.0</td>\n",
       "      <td>t</td>\n",
       "      <td>t</td>\n",
       "      <td>0.0</td>\n",
       "      <td>0.0</td>\n",
       "      <td>0.0</td>\n",
       "      <td>1.0</td>\n",
       "      <td>0.735556</td>\n",
       "      <td>0.000000</td>\n",
       "      <td>0.000000e+00</td>\n",
       "      <td>0</td>\n",
       "      <td>0</td>\n",
       "      <td>0</td>\n",
       "    </tr>\n",
       "    <tr>\n",
       "      <th>1</th>\n",
       "      <td>ERR4590003</td>\n",
       "      <td>18425</td>\n",
       "      <td>18425.0</td>\n",
       "      <td>c</td>\n",
       "      <td>c</td>\n",
       "      <td>0.0</td>\n",
       "      <td>0.0</td>\n",
       "      <td>0.0</td>\n",
       "      <td>1.0</td>\n",
       "      <td>1.571556</td>\n",
       "      <td>0.000214</td>\n",
       "      <td>0.000000e+00</td>\n",
       "      <td>0</td>\n",
       "      <td>0</td>\n",
       "      <td>0</td>\n",
       "    </tr>\n",
       "    <tr>\n",
       "      <th>2</th>\n",
       "      <td>ERR4589177</td>\n",
       "      <td>29616</td>\n",
       "      <td>29616.0</td>\n",
       "      <td>c</td>\n",
       "      <td>c</td>\n",
       "      <td>0.0</td>\n",
       "      <td>0.0</td>\n",
       "      <td>0.0</td>\n",
       "      <td>1.0</td>\n",
       "      <td>0.517866</td>\n",
       "      <td>0.000000</td>\n",
       "      <td>0.000000e+00</td>\n",
       "      <td>0</td>\n",
       "      <td>0</td>\n",
       "      <td>0</td>\n",
       "    </tr>\n",
       "    <tr>\n",
       "      <th>3</th>\n",
       "      <td>ERR4589104</td>\n",
       "      <td>17722</td>\n",
       "      <td>17722.0</td>\n",
       "      <td>t</td>\n",
       "      <td>t</td>\n",
       "      <td>0.0</td>\n",
       "      <td>0.0</td>\n",
       "      <td>0.0</td>\n",
       "      <td>1.0</td>\n",
       "      <td>0.950682</td>\n",
       "      <td>0.000595</td>\n",
       "      <td>0.000000e+00</td>\n",
       "      <td>0</td>\n",
       "      <td>0</td>\n",
       "      <td>0</td>\n",
       "    </tr>\n",
       "    <tr>\n",
       "      <th>4</th>\n",
       "      <td>ERR4589145</td>\n",
       "      <td>5941</td>\n",
       "      <td>5941.0</td>\n",
       "      <td>a</td>\n",
       "      <td>a</td>\n",
       "      <td>0.0</td>\n",
       "      <td>0.0</td>\n",
       "      <td>0.0</td>\n",
       "      <td>1.0</td>\n",
       "      <td>0.964792</td>\n",
       "      <td>0.115942</td>\n",
       "      <td>1.353000e+03</td>\n",
       "      <td>1</td>\n",
       "      <td>1</td>\n",
       "      <td>0</td>\n",
       "    </tr>\n",
       "    <tr>\n",
       "      <th>...</th>\n",
       "      <td>...</td>\n",
       "      <td>...</td>\n",
       "      <td>...</td>\n",
       "      <td>...</td>\n",
       "      <td>...</td>\n",
       "      <td>...</td>\n",
       "      <td>...</td>\n",
       "      <td>...</td>\n",
       "      <td>...</td>\n",
       "      <td>...</td>\n",
       "      <td>...</td>\n",
       "      <td>...</td>\n",
       "      <td>...</td>\n",
       "      <td>...</td>\n",
       "      <td>...</td>\n",
       "    </tr>\n",
       "    <tr>\n",
       "      <th>44454</th>\n",
       "      <td>ERR4423892</td>\n",
       "      <td>24144</td>\n",
       "      <td>24144.0</td>\n",
       "      <td>g</td>\n",
       "      <td>g</td>\n",
       "      <td>0.0</td>\n",
       "      <td>0.0</td>\n",
       "      <td>0.0</td>\n",
       "      <td>1.0</td>\n",
       "      <td>0.119646</td>\n",
       "      <td>0.000000</td>\n",
       "      <td>2.147484e+09</td>\n",
       "      <td>1</td>\n",
       "      <td>0</td>\n",
       "      <td>0</td>\n",
       "    </tr>\n",
       "    <tr>\n",
       "      <th>44455</th>\n",
       "      <td>ERR4423892</td>\n",
       "      <td>28275</td>\n",
       "      <td>28275.0</td>\n",
       "      <td>k</td>\n",
       "      <td>g</td>\n",
       "      <td>0.0</td>\n",
       "      <td>1.0</td>\n",
       "      <td>0.0</td>\n",
       "      <td>2.0</td>\n",
       "      <td>2.891230</td>\n",
       "      <td>0.330510</td>\n",
       "      <td>1.200000e+01</td>\n",
       "      <td>1</td>\n",
       "      <td>1</td>\n",
       "      <td>0</td>\n",
       "    </tr>\n",
       "    <tr>\n",
       "      <th>44456</th>\n",
       "      <td>ERR4425059</td>\n",
       "      <td>27008</td>\n",
       "      <td>27008.0</td>\n",
       "      <td>k</td>\n",
       "      <td>t</td>\n",
       "      <td>0.0</td>\n",
       "      <td>1.0</td>\n",
       "      <td>0.0</td>\n",
       "      <td>2.0</td>\n",
       "      <td>1.698294</td>\n",
       "      <td>0.292220</td>\n",
       "      <td>8.000000e+00</td>\n",
       "      <td>1</td>\n",
       "      <td>1</td>\n",
       "      <td>0</td>\n",
       "    </tr>\n",
       "    <tr>\n",
       "      <th>44457</th>\n",
       "      <td>SRR21662653</td>\n",
       "      <td>8984</td>\n",
       "      <td>8984.0</td>\n",
       "      <td>g</td>\n",
       "      <td>c</td>\n",
       "      <td>0.0</td>\n",
       "      <td>0.0</td>\n",
       "      <td>0.0</td>\n",
       "      <td>0.0</td>\n",
       "      <td>0.436244</td>\n",
       "      <td>0.290323</td>\n",
       "      <td>0.000000e+00</td>\n",
       "      <td>0</td>\n",
       "      <td>1</td>\n",
       "      <td>0</td>\n",
       "    </tr>\n",
       "    <tr>\n",
       "      <th>44458</th>\n",
       "      <td>SRR21662653</td>\n",
       "      <td>21744</td>\n",
       "      <td>21744.0</td>\n",
       "      <td>a</td>\n",
       "      <td>c</td>\n",
       "      <td>0.0</td>\n",
       "      <td>0.0</td>\n",
       "      <td>0.0</td>\n",
       "      <td>0.0</td>\n",
       "      <td>0.200811</td>\n",
       "      <td>0.448276</td>\n",
       "      <td>0.000000e+00</td>\n",
       "      <td>0</td>\n",
       "      <td>1</td>\n",
       "      <td>0</td>\n",
       "    </tr>\n",
       "  </tbody>\n",
       "</table>\n",
       "<p>44459 rows × 15 columns</p>\n",
       "</div>"
      ],
      "text/plain": [
       "                ID  Position  position nucleotide_martin nucleotide_origin  \\\n",
       "0       ERR4590003      3078    3078.0                 t                 t   \n",
       "1       ERR4590003     18425   18425.0                 c                 c   \n",
       "2       ERR4589177     29616   29616.0                 c                 c   \n",
       "3       ERR4589104     17722   17722.0                 t                 t   \n",
       "4       ERR4589145      5941    5941.0                 a                 a   \n",
       "...            ...       ...       ...               ...               ...   \n",
       "44454   ERR4423892     24144   24144.0                 g                 g   \n",
       "44455   ERR4423892     28275   28275.0                 k                 g   \n",
       "44456   ERR4425059     27008   27008.0                 k                 t   \n",
       "44457  SRR21662653      8984    8984.0                 g                 c   \n",
       "44458  SRR21662653     21744   21744.0                 a                 c   \n",
       "\n",
       "       label_masked  label_mar  label_ori  label_same     RATIO        AF  \\\n",
       "0               0.0        0.0        0.0         1.0  0.735556  0.000000   \n",
       "1               0.0        0.0        0.0         1.0  1.571556  0.000214   \n",
       "2               0.0        0.0        0.0         1.0  0.517866  0.000000   \n",
       "3               0.0        0.0        0.0         1.0  0.950682  0.000595   \n",
       "4               0.0        0.0        0.0         1.0  0.964792  0.115942   \n",
       "...             ...        ...        ...         ...       ...       ...   \n",
       "44454           0.0        0.0        0.0         1.0  0.119646  0.000000   \n",
       "44455           0.0        1.0        0.0         2.0  2.891230  0.330510   \n",
       "44456           0.0        1.0        0.0         2.0  1.698294  0.292220   \n",
       "44457           0.0        0.0        0.0         0.0  0.436244  0.290323   \n",
       "44458           0.0        0.0        0.0         0.0  0.200811  0.448276   \n",
       "\n",
       "                 SB  Flag_SB  Flag_AF  Flag_COV  \n",
       "0      0.000000e+00        0        0         0  \n",
       "1      0.000000e+00        0        0         0  \n",
       "2      0.000000e+00        0        0         0  \n",
       "3      0.000000e+00        0        0         0  \n",
       "4      1.353000e+03        1        1         0  \n",
       "...             ...      ...      ...       ...  \n",
       "44454  2.147484e+09        1        0         0  \n",
       "44455  1.200000e+01        1        1         0  \n",
       "44456  8.000000e+00        1        1         0  \n",
       "44457  0.000000e+00        0        1         0  \n",
       "44458  0.000000e+00        0        1         0  \n",
       "\n",
       "[44459 rows x 15 columns]"
      ]
     },
     "execution_count": 4,
     "metadata": {},
     "output_type": "execute_result"
    }
   ],
   "source": [
    "df_err = pd.read_csv(File_for_errPos, sep='\\t')\n",
    "\n",
    "df_err['Flag_SB'] = (df_err['SB'].astype(float) > threshold_SB).astype(int)\n",
    "df_err['Flag_AF'] = (df_err['AF'].astype(float) > threshold_AF).astype(int)\n",
    "df_err['Flag_COV'] = (df_err['RATIO'].astype(float) < threshold_COV).astype(int)\n",
    "\n",
    "df_err"
   ]
  },
  {
   "cell_type": "code",
   "execution_count": 5,
   "id": "f95dcf5a",
   "metadata": {},
   "outputs": [
    {
     "name": "stdout",
     "output_type": "stream",
     "text": [
      "================================= information =================================\n",
      "Martin version masked: 11531 , Total number: 44459\n",
      "Same nucleotide type: 19375 , Total number: 44459\n",
      "Different nucleotide type: 13085 , Total number: 44459\n",
      "Total records:  43991\n",
      "================================= percentage =================================\n",
      "Martin version masked: 26.212 %\n",
      "Same nucleotide type: 44.043 %\n",
      "Different nucleotide type: 29.745 %\n"
     ]
    }
   ],
   "source": [
    "count_label_1_total = sum(df_err['label_mar'] == 1.0)\n",
    "count_label_2_total = sum(df_err['label_same'] == 1.0)\n",
    "count_label_3_total = sum(df_err['label_same'] == 0.0)\n",
    "\n",
    "total_files = len(df_err)\n",
    "total_records = count_label_1_total + count_label_2_total + count_label_3_total\n",
    "\n",
    "print('================================= information =================================')\n",
    "print(\"Martin version masked:\", count_label_1_total, ', Total number:', (total_files))\n",
    "print(\"Same nucleotide type:\", count_label_2_total, ', Total number:', (total_files))\n",
    "print(\"Different nucleotide type:\", count_label_3_total, ', Total number:', (total_files))\n",
    "print('Total records: ', total_records)\n",
    "print('================================= percentage =================================')\n",
    "print(\"Martin version masked:\", round(count_label_1_total / total_records * 100, 3), '%')\n",
    "print(\"Same nucleotide type:\", round(count_label_2_total / total_records * 100, 3), '%')\n",
    "print(\"Different nucleotide type:\", round(count_label_3_total / total_records * 100, 3), '%')"
   ]
  },
  {
   "cell_type": "markdown",
   "id": "80180d3d",
   "metadata": {},
   "source": [
    "# 1. PLOT"
   ]
  },
  {
   "cell_type": "code",
   "execution_count": 6,
   "id": "bd8ff0b8",
   "metadata": {},
   "outputs": [],
   "source": [
    "def format_number(number):\n",
    "    suffixes = ['', 'K', 'M', 'B', 'T']\n",
    "\n",
    "    for i in range(len(suffixes)):\n",
    "        magnitude = number / (1000 ** i)\n",
    "        if magnitude < 1000:\n",
    "            if magnitude < 10:\n",
    "                formatted = f\"{magnitude:.1f}\"\n",
    "            else:\n",
    "                formatted = f\"{magnitude:.0f}\"\n",
    "            return f\"{formatted}{suffixes[i]}\"\n",
    "    \n",
    "    return f\"{number:.1e}\""
   ]
  },
  {
   "cell_type": "code",
   "execution_count": 18,
   "id": "9cd75c55",
   "metadata": {},
   "outputs": [
    {
     "name": "stdout",
     "output_type": "stream",
     "text": [
      "['19K', '13K', '12K']\n"
     ]
    }
   ],
   "source": [
    "# Err pos:\n",
    "numbers = [19375, 13085, 11531]\n",
    "\n",
    "formatted_numbers_err = []\n",
    "\n",
    "for number in numbers:\n",
    "    formatted_number = format_number(number)\n",
    "    formatted_numbers_err.append(formatted_number)\n",
    "\n",
    "print(formatted_numbers_err)"
   ]
  },
  {
   "cell_type": "code",
   "execution_count": null,
   "id": "298fd609",
   "metadata": {},
   "outputs": [],
   "source": [
    "================================= percentage =================================\n",
    "Martin version masked: 26.212 %\n",
    "Same nucleotide type: 44.043 %\n",
    "Different nucleotide type: 29.745 %"
   ]
  },
  {
   "cell_type": "code",
   "execution_count": 19,
   "id": "d7446c92",
   "metadata": {},
   "outputs": [],
   "source": [
    "import pandas as pd\n",
    "import numpy as np\n",
    "\n",
    "# creat DataFrame\n",
    "data_err = {'Category': ['Same nucleotide',\n",
    "                        'Different nucleotides',\n",
    "                        'Viridian masked'],\n",
    "        'Percentage': [44.043, 29.745, 26.212],\n",
    "           'Raw_number':formatted_numbers_err}\n",
    "df_err_plot = pd.DataFrame(data_err)"
   ]
  },
  {
   "cell_type": "code",
   "execution_count": 20,
   "id": "00530178",
   "metadata": {},
   "outputs": [],
   "source": [
    "colors = ['#D9BFCB0', '#49998B', '#C1BEE3']"
   ]
  },
  {
   "cell_type": "code",
   "execution_count": 21,
   "id": "3fb97224",
   "metadata": {},
   "outputs": [
    {
     "data": {
      "application/vnd.plotly.v1+json": {
       "config": {
        "plotlyServerURL": "https://plot.ly"
       },
       "data": [
        {
         "hole": 0.4,
         "hovertemplate": "%{label}<br>Current percentage: %{percent:.1%}",
         "labels": [
          "Same nucleotide",
          "Different nucleotides",
          "Viridian masked"
         ],
         "marker": {
          "colors": [
           "#D9BFCB0",
           "#49998B",
           "#C1BEE3"
          ]
         },
         "text": [
          "Same nucleotide: <br>19K",
          "Different nucleotides: <br>13K",
          "Viridian masked: <br>12K"
         ],
         "textfont": {
          "size": 15
         },
         "textinfo": "percent+text",
         "texttemplate": "%{text} (%{percent:.1%})",
         "type": "pie",
         "values": [
          44.043,
          29.745,
          26.212
         ]
        }
       ],
       "layout": {
        "template": {
         "data": {
          "bar": [
           {
            "error_x": {
             "color": "#2a3f5f"
            },
            "error_y": {
             "color": "#2a3f5f"
            },
            "marker": {
             "line": {
              "color": "#E5ECF6",
              "width": 0.5
             },
             "pattern": {
              "fillmode": "overlay",
              "size": 10,
              "solidity": 0.2
             }
            },
            "type": "bar"
           }
          ],
          "barpolar": [
           {
            "marker": {
             "line": {
              "color": "#E5ECF6",
              "width": 0.5
             },
             "pattern": {
              "fillmode": "overlay",
              "size": 10,
              "solidity": 0.2
             }
            },
            "type": "barpolar"
           }
          ],
          "carpet": [
           {
            "aaxis": {
             "endlinecolor": "#2a3f5f",
             "gridcolor": "white",
             "linecolor": "white",
             "minorgridcolor": "white",
             "startlinecolor": "#2a3f5f"
            },
            "baxis": {
             "endlinecolor": "#2a3f5f",
             "gridcolor": "white",
             "linecolor": "white",
             "minorgridcolor": "white",
             "startlinecolor": "#2a3f5f"
            },
            "type": "carpet"
           }
          ],
          "choropleth": [
           {
            "colorbar": {
             "outlinewidth": 0,
             "ticks": ""
            },
            "type": "choropleth"
           }
          ],
          "contour": [
           {
            "colorbar": {
             "outlinewidth": 0,
             "ticks": ""
            },
            "colorscale": [
             [
              0,
              "#0d0887"
             ],
             [
              0.1111111111111111,
              "#46039f"
             ],
             [
              0.2222222222222222,
              "#7201a8"
             ],
             [
              0.3333333333333333,
              "#9c179e"
             ],
             [
              0.4444444444444444,
              "#bd3786"
             ],
             [
              0.5555555555555556,
              "#d8576b"
             ],
             [
              0.6666666666666666,
              "#ed7953"
             ],
             [
              0.7777777777777778,
              "#fb9f3a"
             ],
             [
              0.8888888888888888,
              "#fdca26"
             ],
             [
              1,
              "#f0f921"
             ]
            ],
            "type": "contour"
           }
          ],
          "contourcarpet": [
           {
            "colorbar": {
             "outlinewidth": 0,
             "ticks": ""
            },
            "type": "contourcarpet"
           }
          ],
          "heatmap": [
           {
            "colorbar": {
             "outlinewidth": 0,
             "ticks": ""
            },
            "colorscale": [
             [
              0,
              "#0d0887"
             ],
             [
              0.1111111111111111,
              "#46039f"
             ],
             [
              0.2222222222222222,
              "#7201a8"
             ],
             [
              0.3333333333333333,
              "#9c179e"
             ],
             [
              0.4444444444444444,
              "#bd3786"
             ],
             [
              0.5555555555555556,
              "#d8576b"
             ],
             [
              0.6666666666666666,
              "#ed7953"
             ],
             [
              0.7777777777777778,
              "#fb9f3a"
             ],
             [
              0.8888888888888888,
              "#fdca26"
             ],
             [
              1,
              "#f0f921"
             ]
            ],
            "type": "heatmap"
           }
          ],
          "heatmapgl": [
           {
            "colorbar": {
             "outlinewidth": 0,
             "ticks": ""
            },
            "colorscale": [
             [
              0,
              "#0d0887"
             ],
             [
              0.1111111111111111,
              "#46039f"
             ],
             [
              0.2222222222222222,
              "#7201a8"
             ],
             [
              0.3333333333333333,
              "#9c179e"
             ],
             [
              0.4444444444444444,
              "#bd3786"
             ],
             [
              0.5555555555555556,
              "#d8576b"
             ],
             [
              0.6666666666666666,
              "#ed7953"
             ],
             [
              0.7777777777777778,
              "#fb9f3a"
             ],
             [
              0.8888888888888888,
              "#fdca26"
             ],
             [
              1,
              "#f0f921"
             ]
            ],
            "type": "heatmapgl"
           }
          ],
          "histogram": [
           {
            "marker": {
             "pattern": {
              "fillmode": "overlay",
              "size": 10,
              "solidity": 0.2
             }
            },
            "type": "histogram"
           }
          ],
          "histogram2d": [
           {
            "colorbar": {
             "outlinewidth": 0,
             "ticks": ""
            },
            "colorscale": [
             [
              0,
              "#0d0887"
             ],
             [
              0.1111111111111111,
              "#46039f"
             ],
             [
              0.2222222222222222,
              "#7201a8"
             ],
             [
              0.3333333333333333,
              "#9c179e"
             ],
             [
              0.4444444444444444,
              "#bd3786"
             ],
             [
              0.5555555555555556,
              "#d8576b"
             ],
             [
              0.6666666666666666,
              "#ed7953"
             ],
             [
              0.7777777777777778,
              "#fb9f3a"
             ],
             [
              0.8888888888888888,
              "#fdca26"
             ],
             [
              1,
              "#f0f921"
             ]
            ],
            "type": "histogram2d"
           }
          ],
          "histogram2dcontour": [
           {
            "colorbar": {
             "outlinewidth": 0,
             "ticks": ""
            },
            "colorscale": [
             [
              0,
              "#0d0887"
             ],
             [
              0.1111111111111111,
              "#46039f"
             ],
             [
              0.2222222222222222,
              "#7201a8"
             ],
             [
              0.3333333333333333,
              "#9c179e"
             ],
             [
              0.4444444444444444,
              "#bd3786"
             ],
             [
              0.5555555555555556,
              "#d8576b"
             ],
             [
              0.6666666666666666,
              "#ed7953"
             ],
             [
              0.7777777777777778,
              "#fb9f3a"
             ],
             [
              0.8888888888888888,
              "#fdca26"
             ],
             [
              1,
              "#f0f921"
             ]
            ],
            "type": "histogram2dcontour"
           }
          ],
          "mesh3d": [
           {
            "colorbar": {
             "outlinewidth": 0,
             "ticks": ""
            },
            "type": "mesh3d"
           }
          ],
          "parcoords": [
           {
            "line": {
             "colorbar": {
              "outlinewidth": 0,
              "ticks": ""
             }
            },
            "type": "parcoords"
           }
          ],
          "pie": [
           {
            "automargin": true,
            "type": "pie"
           }
          ],
          "scatter": [
           {
            "fillpattern": {
             "fillmode": "overlay",
             "size": 10,
             "solidity": 0.2
            },
            "type": "scatter"
           }
          ],
          "scatter3d": [
           {
            "line": {
             "colorbar": {
              "outlinewidth": 0,
              "ticks": ""
             }
            },
            "marker": {
             "colorbar": {
              "outlinewidth": 0,
              "ticks": ""
             }
            },
            "type": "scatter3d"
           }
          ],
          "scattercarpet": [
           {
            "marker": {
             "colorbar": {
              "outlinewidth": 0,
              "ticks": ""
             }
            },
            "type": "scattercarpet"
           }
          ],
          "scattergeo": [
           {
            "marker": {
             "colorbar": {
              "outlinewidth": 0,
              "ticks": ""
             }
            },
            "type": "scattergeo"
           }
          ],
          "scattergl": [
           {
            "marker": {
             "colorbar": {
              "outlinewidth": 0,
              "ticks": ""
             }
            },
            "type": "scattergl"
           }
          ],
          "scattermapbox": [
           {
            "marker": {
             "colorbar": {
              "outlinewidth": 0,
              "ticks": ""
             }
            },
            "type": "scattermapbox"
           }
          ],
          "scatterpolar": [
           {
            "marker": {
             "colorbar": {
              "outlinewidth": 0,
              "ticks": ""
             }
            },
            "type": "scatterpolar"
           }
          ],
          "scatterpolargl": [
           {
            "marker": {
             "colorbar": {
              "outlinewidth": 0,
              "ticks": ""
             }
            },
            "type": "scatterpolargl"
           }
          ],
          "scatterternary": [
           {
            "marker": {
             "colorbar": {
              "outlinewidth": 0,
              "ticks": ""
             }
            },
            "type": "scatterternary"
           }
          ],
          "surface": [
           {
            "colorbar": {
             "outlinewidth": 0,
             "ticks": ""
            },
            "colorscale": [
             [
              0,
              "#0d0887"
             ],
             [
              0.1111111111111111,
              "#46039f"
             ],
             [
              0.2222222222222222,
              "#7201a8"
             ],
             [
              0.3333333333333333,
              "#9c179e"
             ],
             [
              0.4444444444444444,
              "#bd3786"
             ],
             [
              0.5555555555555556,
              "#d8576b"
             ],
             [
              0.6666666666666666,
              "#ed7953"
             ],
             [
              0.7777777777777778,
              "#fb9f3a"
             ],
             [
              0.8888888888888888,
              "#fdca26"
             ],
             [
              1,
              "#f0f921"
             ]
            ],
            "type": "surface"
           }
          ],
          "table": [
           {
            "cells": {
             "fill": {
              "color": "#EBF0F8"
             },
             "line": {
              "color": "white"
             }
            },
            "header": {
             "fill": {
              "color": "#C8D4E3"
             },
             "line": {
              "color": "white"
             }
            },
            "type": "table"
           }
          ]
         },
         "layout": {
          "annotationdefaults": {
           "arrowcolor": "#2a3f5f",
           "arrowhead": 0,
           "arrowwidth": 1
          },
          "autotypenumbers": "strict",
          "coloraxis": {
           "colorbar": {
            "outlinewidth": 0,
            "ticks": ""
           }
          },
          "colorscale": {
           "diverging": [
            [
             0,
             "#8e0152"
            ],
            [
             0.1,
             "#c51b7d"
            ],
            [
             0.2,
             "#de77ae"
            ],
            [
             0.3,
             "#f1b6da"
            ],
            [
             0.4,
             "#fde0ef"
            ],
            [
             0.5,
             "#f7f7f7"
            ],
            [
             0.6,
             "#e6f5d0"
            ],
            [
             0.7,
             "#b8e186"
            ],
            [
             0.8,
             "#7fbc41"
            ],
            [
             0.9,
             "#4d9221"
            ],
            [
             1,
             "#276419"
            ]
           ],
           "sequential": [
            [
             0,
             "#0d0887"
            ],
            [
             0.1111111111111111,
             "#46039f"
            ],
            [
             0.2222222222222222,
             "#7201a8"
            ],
            [
             0.3333333333333333,
             "#9c179e"
            ],
            [
             0.4444444444444444,
             "#bd3786"
            ],
            [
             0.5555555555555556,
             "#d8576b"
            ],
            [
             0.6666666666666666,
             "#ed7953"
            ],
            [
             0.7777777777777778,
             "#fb9f3a"
            ],
            [
             0.8888888888888888,
             "#fdca26"
            ],
            [
             1,
             "#f0f921"
            ]
           ],
           "sequentialminus": [
            [
             0,
             "#0d0887"
            ],
            [
             0.1111111111111111,
             "#46039f"
            ],
            [
             0.2222222222222222,
             "#7201a8"
            ],
            [
             0.3333333333333333,
             "#9c179e"
            ],
            [
             0.4444444444444444,
             "#bd3786"
            ],
            [
             0.5555555555555556,
             "#d8576b"
            ],
            [
             0.6666666666666666,
             "#ed7953"
            ],
            [
             0.7777777777777778,
             "#fb9f3a"
            ],
            [
             0.8888888888888888,
             "#fdca26"
            ],
            [
             1,
             "#f0f921"
            ]
           ]
          },
          "colorway": [
           "#636efa",
           "#EF553B",
           "#00cc96",
           "#ab63fa",
           "#FFA15A",
           "#19d3f3",
           "#FF6692",
           "#B6E880",
           "#FF97FF",
           "#FECB52"
          ],
          "font": {
           "color": "#2a3f5f"
          },
          "geo": {
           "bgcolor": "white",
           "lakecolor": "white",
           "landcolor": "#E5ECF6",
           "showlakes": true,
           "showland": true,
           "subunitcolor": "white"
          },
          "hoverlabel": {
           "align": "left"
          },
          "hovermode": "closest",
          "mapbox": {
           "style": "light"
          },
          "paper_bgcolor": "white",
          "plot_bgcolor": "#E5ECF6",
          "polar": {
           "angularaxis": {
            "gridcolor": "white",
            "linecolor": "white",
            "ticks": ""
           },
           "bgcolor": "#E5ECF6",
           "radialaxis": {
            "gridcolor": "white",
            "linecolor": "white",
            "ticks": ""
           }
          },
          "scene": {
           "xaxis": {
            "backgroundcolor": "#E5ECF6",
            "gridcolor": "white",
            "gridwidth": 2,
            "linecolor": "white",
            "showbackground": true,
            "ticks": "",
            "zerolinecolor": "white"
           },
           "yaxis": {
            "backgroundcolor": "#E5ECF6",
            "gridcolor": "white",
            "gridwidth": 2,
            "linecolor": "white",
            "showbackground": true,
            "ticks": "",
            "zerolinecolor": "white"
           },
           "zaxis": {
            "backgroundcolor": "#E5ECF6",
            "gridcolor": "white",
            "gridwidth": 2,
            "linecolor": "white",
            "showbackground": true,
            "ticks": "",
            "zerolinecolor": "white"
           }
          },
          "shapedefaults": {
           "line": {
            "color": "#2a3f5f"
           }
          },
          "ternary": {
           "aaxis": {
            "gridcolor": "white",
            "linecolor": "white",
            "ticks": ""
           },
           "baxis": {
            "gridcolor": "white",
            "linecolor": "white",
            "ticks": ""
           },
           "bgcolor": "#E5ECF6",
           "caxis": {
            "gridcolor": "white",
            "linecolor": "white",
            "ticks": ""
           }
          },
          "title": {
           "x": 0.05
          },
          "xaxis": {
           "automargin": true,
           "gridcolor": "white",
           "linecolor": "white",
           "ticks": "",
           "title": {
            "standoff": 15
           },
           "zerolinecolor": "white",
           "zerolinewidth": 2
          },
          "yaxis": {
           "automargin": true,
           "gridcolor": "white",
           "linecolor": "white",
           "ticks": "",
           "title": {
            "standoff": 15
           },
           "zerolinecolor": "white",
           "zerolinewidth": 2
          }
         }
        },
        "title": {
         "text": "Comparison of assembled and sequenced sequences regarding MAPLE marker error positions"
        }
       }
      },
      "text/html": [
       "<div>                            <div id=\"bdb27c98-e0f5-4171-843a-e1e94085af4f\" class=\"plotly-graph-div\" style=\"height:525px; width:100%;\"></div>            <script type=\"text/javascript\">                require([\"plotly\"], function(Plotly) {                    window.PLOTLYENV=window.PLOTLYENV || {};                                    if (document.getElementById(\"bdb27c98-e0f5-4171-843a-e1e94085af4f\")) {                    Plotly.newPlot(                        \"bdb27c98-e0f5-4171-843a-e1e94085af4f\",                        [{\"hole\":0.4,\"hovertemplate\":\"%{label}<br>Current percentage: %{percent:.1%}\",\"labels\":[\"Same nucleotide\",\"Different nucleotides\",\"Viridian masked\"],\"marker\":{\"colors\":[\"#D9BFCB0\",\"#49998B\",\"#C1BEE3\"]},\"text\":[\"Same nucleotide: <br>19K\",\"Different nucleotides: <br>13K\",\"Viridian masked: <br>12K\"],\"textfont\":{\"size\":15},\"textinfo\":\"percent+text\",\"texttemplate\":\"%{text} (%{percent:.1%})\",\"values\":[44.043,29.745,26.212],\"type\":\"pie\"}],                        {\"template\":{\"data\":{\"histogram2dcontour\":[{\"type\":\"histogram2dcontour\",\"colorbar\":{\"outlinewidth\":0,\"ticks\":\"\"},\"colorscale\":[[0.0,\"#0d0887\"],[0.1111111111111111,\"#46039f\"],[0.2222222222222222,\"#7201a8\"],[0.3333333333333333,\"#9c179e\"],[0.4444444444444444,\"#bd3786\"],[0.5555555555555556,\"#d8576b\"],[0.6666666666666666,\"#ed7953\"],[0.7777777777777778,\"#fb9f3a\"],[0.8888888888888888,\"#fdca26\"],[1.0,\"#f0f921\"]]}],\"choropleth\":[{\"type\":\"choropleth\",\"colorbar\":{\"outlinewidth\":0,\"ticks\":\"\"}}],\"histogram2d\":[{\"type\":\"histogram2d\",\"colorbar\":{\"outlinewidth\":0,\"ticks\":\"\"},\"colorscale\":[[0.0,\"#0d0887\"],[0.1111111111111111,\"#46039f\"],[0.2222222222222222,\"#7201a8\"],[0.3333333333333333,\"#9c179e\"],[0.4444444444444444,\"#bd3786\"],[0.5555555555555556,\"#d8576b\"],[0.6666666666666666,\"#ed7953\"],[0.7777777777777778,\"#fb9f3a\"],[0.8888888888888888,\"#fdca26\"],[1.0,\"#f0f921\"]]}],\"heatmap\":[{\"type\":\"heatmap\",\"colorbar\":{\"outlinewidth\":0,\"ticks\":\"\"},\"colorscale\":[[0.0,\"#0d0887\"],[0.1111111111111111,\"#46039f\"],[0.2222222222222222,\"#7201a8\"],[0.3333333333333333,\"#9c179e\"],[0.4444444444444444,\"#bd3786\"],[0.5555555555555556,\"#d8576b\"],[0.6666666666666666,\"#ed7953\"],[0.7777777777777778,\"#fb9f3a\"],[0.8888888888888888,\"#fdca26\"],[1.0,\"#f0f921\"]]}],\"heatmapgl\":[{\"type\":\"heatmapgl\",\"colorbar\":{\"outlinewidth\":0,\"ticks\":\"\"},\"colorscale\":[[0.0,\"#0d0887\"],[0.1111111111111111,\"#46039f\"],[0.2222222222222222,\"#7201a8\"],[0.3333333333333333,\"#9c179e\"],[0.4444444444444444,\"#bd3786\"],[0.5555555555555556,\"#d8576b\"],[0.6666666666666666,\"#ed7953\"],[0.7777777777777778,\"#fb9f3a\"],[0.8888888888888888,\"#fdca26\"],[1.0,\"#f0f921\"]]}],\"contourcarpet\":[{\"type\":\"contourcarpet\",\"colorbar\":{\"outlinewidth\":0,\"ticks\":\"\"}}],\"contour\":[{\"type\":\"contour\",\"colorbar\":{\"outlinewidth\":0,\"ticks\":\"\"},\"colorscale\":[[0.0,\"#0d0887\"],[0.1111111111111111,\"#46039f\"],[0.2222222222222222,\"#7201a8\"],[0.3333333333333333,\"#9c179e\"],[0.4444444444444444,\"#bd3786\"],[0.5555555555555556,\"#d8576b\"],[0.6666666666666666,\"#ed7953\"],[0.7777777777777778,\"#fb9f3a\"],[0.8888888888888888,\"#fdca26\"],[1.0,\"#f0f921\"]]}],\"surface\":[{\"type\":\"surface\",\"colorbar\":{\"outlinewidth\":0,\"ticks\":\"\"},\"colorscale\":[[0.0,\"#0d0887\"],[0.1111111111111111,\"#46039f\"],[0.2222222222222222,\"#7201a8\"],[0.3333333333333333,\"#9c179e\"],[0.4444444444444444,\"#bd3786\"],[0.5555555555555556,\"#d8576b\"],[0.6666666666666666,\"#ed7953\"],[0.7777777777777778,\"#fb9f3a\"],[0.8888888888888888,\"#fdca26\"],[1.0,\"#f0f921\"]]}],\"mesh3d\":[{\"type\":\"mesh3d\",\"colorbar\":{\"outlinewidth\":0,\"ticks\":\"\"}}],\"scatter\":[{\"fillpattern\":{\"fillmode\":\"overlay\",\"size\":10,\"solidity\":0.2},\"type\":\"scatter\"}],\"parcoords\":[{\"type\":\"parcoords\",\"line\":{\"colorbar\":{\"outlinewidth\":0,\"ticks\":\"\"}}}],\"scatterpolargl\":[{\"type\":\"scatterpolargl\",\"marker\":{\"colorbar\":{\"outlinewidth\":0,\"ticks\":\"\"}}}],\"bar\":[{\"error_x\":{\"color\":\"#2a3f5f\"},\"error_y\":{\"color\":\"#2a3f5f\"},\"marker\":{\"line\":{\"color\":\"#E5ECF6\",\"width\":0.5},\"pattern\":{\"fillmode\":\"overlay\",\"size\":10,\"solidity\":0.2}},\"type\":\"bar\"}],\"scattergeo\":[{\"type\":\"scattergeo\",\"marker\":{\"colorbar\":{\"outlinewidth\":0,\"ticks\":\"\"}}}],\"scatterpolar\":[{\"type\":\"scatterpolar\",\"marker\":{\"colorbar\":{\"outlinewidth\":0,\"ticks\":\"\"}}}],\"histogram\":[{\"marker\":{\"pattern\":{\"fillmode\":\"overlay\",\"size\":10,\"solidity\":0.2}},\"type\":\"histogram\"}],\"scattergl\":[{\"type\":\"scattergl\",\"marker\":{\"colorbar\":{\"outlinewidth\":0,\"ticks\":\"\"}}}],\"scatter3d\":[{\"type\":\"scatter3d\",\"line\":{\"colorbar\":{\"outlinewidth\":0,\"ticks\":\"\"}},\"marker\":{\"colorbar\":{\"outlinewidth\":0,\"ticks\":\"\"}}}],\"scattermapbox\":[{\"type\":\"scattermapbox\",\"marker\":{\"colorbar\":{\"outlinewidth\":0,\"ticks\":\"\"}}}],\"scatterternary\":[{\"type\":\"scatterternary\",\"marker\":{\"colorbar\":{\"outlinewidth\":0,\"ticks\":\"\"}}}],\"scattercarpet\":[{\"type\":\"scattercarpet\",\"marker\":{\"colorbar\":{\"outlinewidth\":0,\"ticks\":\"\"}}}],\"carpet\":[{\"aaxis\":{\"endlinecolor\":\"#2a3f5f\",\"gridcolor\":\"white\",\"linecolor\":\"white\",\"minorgridcolor\":\"white\",\"startlinecolor\":\"#2a3f5f\"},\"baxis\":{\"endlinecolor\":\"#2a3f5f\",\"gridcolor\":\"white\",\"linecolor\":\"white\",\"minorgridcolor\":\"white\",\"startlinecolor\":\"#2a3f5f\"},\"type\":\"carpet\"}],\"table\":[{\"cells\":{\"fill\":{\"color\":\"#EBF0F8\"},\"line\":{\"color\":\"white\"}},\"header\":{\"fill\":{\"color\":\"#C8D4E3\"},\"line\":{\"color\":\"white\"}},\"type\":\"table\"}],\"barpolar\":[{\"marker\":{\"line\":{\"color\":\"#E5ECF6\",\"width\":0.5},\"pattern\":{\"fillmode\":\"overlay\",\"size\":10,\"solidity\":0.2}},\"type\":\"barpolar\"}],\"pie\":[{\"automargin\":true,\"type\":\"pie\"}]},\"layout\":{\"autotypenumbers\":\"strict\",\"colorway\":[\"#636efa\",\"#EF553B\",\"#00cc96\",\"#ab63fa\",\"#FFA15A\",\"#19d3f3\",\"#FF6692\",\"#B6E880\",\"#FF97FF\",\"#FECB52\"],\"font\":{\"color\":\"#2a3f5f\"},\"hovermode\":\"closest\",\"hoverlabel\":{\"align\":\"left\"},\"paper_bgcolor\":\"white\",\"plot_bgcolor\":\"#E5ECF6\",\"polar\":{\"bgcolor\":\"#E5ECF6\",\"angularaxis\":{\"gridcolor\":\"white\",\"linecolor\":\"white\",\"ticks\":\"\"},\"radialaxis\":{\"gridcolor\":\"white\",\"linecolor\":\"white\",\"ticks\":\"\"}},\"ternary\":{\"bgcolor\":\"#E5ECF6\",\"aaxis\":{\"gridcolor\":\"white\",\"linecolor\":\"white\",\"ticks\":\"\"},\"baxis\":{\"gridcolor\":\"white\",\"linecolor\":\"white\",\"ticks\":\"\"},\"caxis\":{\"gridcolor\":\"white\",\"linecolor\":\"white\",\"ticks\":\"\"}},\"coloraxis\":{\"colorbar\":{\"outlinewidth\":0,\"ticks\":\"\"}},\"colorscale\":{\"sequential\":[[0.0,\"#0d0887\"],[0.1111111111111111,\"#46039f\"],[0.2222222222222222,\"#7201a8\"],[0.3333333333333333,\"#9c179e\"],[0.4444444444444444,\"#bd3786\"],[0.5555555555555556,\"#d8576b\"],[0.6666666666666666,\"#ed7953\"],[0.7777777777777778,\"#fb9f3a\"],[0.8888888888888888,\"#fdca26\"],[1.0,\"#f0f921\"]],\"sequentialminus\":[[0.0,\"#0d0887\"],[0.1111111111111111,\"#46039f\"],[0.2222222222222222,\"#7201a8\"],[0.3333333333333333,\"#9c179e\"],[0.4444444444444444,\"#bd3786\"],[0.5555555555555556,\"#d8576b\"],[0.6666666666666666,\"#ed7953\"],[0.7777777777777778,\"#fb9f3a\"],[0.8888888888888888,\"#fdca26\"],[1.0,\"#f0f921\"]],\"diverging\":[[0,\"#8e0152\"],[0.1,\"#c51b7d\"],[0.2,\"#de77ae\"],[0.3,\"#f1b6da\"],[0.4,\"#fde0ef\"],[0.5,\"#f7f7f7\"],[0.6,\"#e6f5d0\"],[0.7,\"#b8e186\"],[0.8,\"#7fbc41\"],[0.9,\"#4d9221\"],[1,\"#276419\"]]},\"xaxis\":{\"gridcolor\":\"white\",\"linecolor\":\"white\",\"ticks\":\"\",\"title\":{\"standoff\":15},\"zerolinecolor\":\"white\",\"automargin\":true,\"zerolinewidth\":2},\"yaxis\":{\"gridcolor\":\"white\",\"linecolor\":\"white\",\"ticks\":\"\",\"title\":{\"standoff\":15},\"zerolinecolor\":\"white\",\"automargin\":true,\"zerolinewidth\":2},\"scene\":{\"xaxis\":{\"backgroundcolor\":\"#E5ECF6\",\"gridcolor\":\"white\",\"linecolor\":\"white\",\"showbackground\":true,\"ticks\":\"\",\"zerolinecolor\":\"white\",\"gridwidth\":2},\"yaxis\":{\"backgroundcolor\":\"#E5ECF6\",\"gridcolor\":\"white\",\"linecolor\":\"white\",\"showbackground\":true,\"ticks\":\"\",\"zerolinecolor\":\"white\",\"gridwidth\":2},\"zaxis\":{\"backgroundcolor\":\"#E5ECF6\",\"gridcolor\":\"white\",\"linecolor\":\"white\",\"showbackground\":true,\"ticks\":\"\",\"zerolinecolor\":\"white\",\"gridwidth\":2}},\"shapedefaults\":{\"line\":{\"color\":\"#2a3f5f\"}},\"annotationdefaults\":{\"arrowcolor\":\"#2a3f5f\",\"arrowhead\":0,\"arrowwidth\":1},\"geo\":{\"bgcolor\":\"white\",\"landcolor\":\"#E5ECF6\",\"subunitcolor\":\"white\",\"showland\":true,\"showlakes\":true,\"lakecolor\":\"white\"},\"title\":{\"x\":0.05},\"mapbox\":{\"style\":\"light\"}}},\"title\":{\"text\":\"Comparison of assembled and sequenced sequences regarding MAPLE marker error positions\"}},                        {\"responsive\": true}                    ).then(function(){\n",
       "                            \n",
       "var gd = document.getElementById('bdb27c98-e0f5-4171-843a-e1e94085af4f');\n",
       "var x = new MutationObserver(function (mutations, observer) {{\n",
       "        var display = window.getComputedStyle(gd).display;\n",
       "        if (!display || display === 'none') {{\n",
       "            console.log([gd, 'removed!']);\n",
       "            Plotly.purge(gd);\n",
       "            observer.disconnect();\n",
       "        }}\n",
       "}});\n",
       "\n",
       "// Listen for the removal of the full notebook cells\n",
       "var notebookContainer = gd.closest('#notebook-container');\n",
       "if (notebookContainer) {{\n",
       "    x.observe(notebookContainer, {childList: true});\n",
       "}}\n",
       "\n",
       "// Listen for the clearing of the current output cell\n",
       "var outputEl = gd.closest('.output');\n",
       "if (outputEl) {{\n",
       "    x.observe(outputEl, {childList: true});\n",
       "}}\n",
       "\n",
       "                        })                };                });            </script>        </div>"
      ]
     },
     "metadata": {},
     "output_type": "display_data"
    }
   ],
   "source": [
    "import plotly.graph_objects as go\n",
    "\n",
    "fig = go.Figure(go.Pie(\n",
    "    labels=df_err_plot['Category'],\n",
    "    values=df_err_plot['Percentage'],\n",
    "    hole=0.4,\n",
    "    text=df_err_plot['Category']+': <br>' + df_err_plot['Raw_number'].astype(str),\n",
    "    textinfo='percent+text',\n",
    "    marker={'colors': colors},\n",
    "    hovertemplate='%{label}<br>Current percentage: %{percent:.1%}',\n",
    "    textfont={'size': 15},  # 设置文本的字体大小\n",
    "    texttemplate='%{text} (%{percent:.1%})'  # 设置文本显示的格式\n",
    "))\n",
    "\n",
    "# Add titles for subplots\n",
    "fig.update_layout(\n",
    "    title=\"Comparison of assembled and sequenced sequences regarding MAPLE marker error positions\"\n",
    ")\n",
    "\n",
    "fig.show()"
   ]
  },
  {
   "cell_type": "markdown",
   "id": "11bdfd8a",
   "metadata": {},
   "source": [
    "# 2. For Venn chart"
   ]
  },
  {
   "cell_type": "code",
   "execution_count": 12,
   "id": "fb1bb04d",
   "metadata": {},
   "outputs": [
    {
     "data": {
      "text/html": [
       "<div>\n",
       "<style scoped>\n",
       "    .dataframe tbody tr th:only-of-type {\n",
       "        vertical-align: middle;\n",
       "    }\n",
       "\n",
       "    .dataframe tbody tr th {\n",
       "        vertical-align: top;\n",
       "    }\n",
       "\n",
       "    .dataframe thead th {\n",
       "        text-align: right;\n",
       "    }\n",
       "</style>\n",
       "<table border=\"1\" class=\"dataframe\">\n",
       "  <thead>\n",
       "    <tr style=\"text-align: right;\">\n",
       "      <th></th>\n",
       "      <th>ID_POS</th>\n",
       "      <th>Flag_AF</th>\n",
       "      <th>Flag_SB</th>\n",
       "      <th>Flag_COV</th>\n",
       "    </tr>\n",
       "  </thead>\n",
       "  <tbody>\n",
       "    <tr>\n",
       "      <th>0</th>\n",
       "      <td>ERR4590003_3078</td>\n",
       "      <td>False</td>\n",
       "      <td>False</td>\n",
       "      <td>False</td>\n",
       "    </tr>\n",
       "    <tr>\n",
       "      <th>1</th>\n",
       "      <td>ERR4590003_18425</td>\n",
       "      <td>False</td>\n",
       "      <td>False</td>\n",
       "      <td>False</td>\n",
       "    </tr>\n",
       "    <tr>\n",
       "      <th>2</th>\n",
       "      <td>ERR4589177_29616</td>\n",
       "      <td>False</td>\n",
       "      <td>False</td>\n",
       "      <td>False</td>\n",
       "    </tr>\n",
       "    <tr>\n",
       "      <th>3</th>\n",
       "      <td>ERR4589104_17722</td>\n",
       "      <td>False</td>\n",
       "      <td>False</td>\n",
       "      <td>False</td>\n",
       "    </tr>\n",
       "    <tr>\n",
       "      <th>4</th>\n",
       "      <td>ERR4589145_5941</td>\n",
       "      <td>True</td>\n",
       "      <td>True</td>\n",
       "      <td>False</td>\n",
       "    </tr>\n",
       "    <tr>\n",
       "      <th>...</th>\n",
       "      <td>...</td>\n",
       "      <td>...</td>\n",
       "      <td>...</td>\n",
       "      <td>...</td>\n",
       "    </tr>\n",
       "    <tr>\n",
       "      <th>44445</th>\n",
       "      <td>SRR19929120_29543</td>\n",
       "      <td>False</td>\n",
       "      <td>False</td>\n",
       "      <td>True</td>\n",
       "    </tr>\n",
       "    <tr>\n",
       "      <th>44448</th>\n",
       "      <td>SRR21135713_1346</td>\n",
       "      <td>True</td>\n",
       "      <td>False</td>\n",
       "      <td>False</td>\n",
       "    </tr>\n",
       "    <tr>\n",
       "      <th>44449</th>\n",
       "      <td>ERR4461486_28546</td>\n",
       "      <td>True</td>\n",
       "      <td>False</td>\n",
       "      <td>True</td>\n",
       "    </tr>\n",
       "    <tr>\n",
       "      <th>44450</th>\n",
       "      <td>ERR4424721_27578</td>\n",
       "      <td>True</td>\n",
       "      <td>False</td>\n",
       "      <td>True</td>\n",
       "    </tr>\n",
       "    <tr>\n",
       "      <th>44454</th>\n",
       "      <td>ERR4423892_24144</td>\n",
       "      <td>False</td>\n",
       "      <td>True</td>\n",
       "      <td>False</td>\n",
       "    </tr>\n",
       "  </tbody>\n",
       "</table>\n",
       "<p>19375 rows × 4 columns</p>\n",
       "</div>"
      ],
      "text/plain": [
       "                  ID_POS  Flag_AF  Flag_SB  Flag_COV\n",
       "0        ERR4590003_3078    False    False     False\n",
       "1       ERR4590003_18425    False    False     False\n",
       "2       ERR4589177_29616    False    False     False\n",
       "3       ERR4589104_17722    False    False     False\n",
       "4        ERR4589145_5941     True     True     False\n",
       "...                  ...      ...      ...       ...\n",
       "44445  SRR19929120_29543    False    False      True\n",
       "44448   SRR21135713_1346     True    False     False\n",
       "44449   ERR4461486_28546     True    False      True\n",
       "44450   ERR4424721_27578     True    False      True\n",
       "44454   ERR4423892_24144    False     True     False\n",
       "\n",
       "[19375 rows x 4 columns]"
      ]
     },
     "execution_count": 12,
     "metadata": {},
     "output_type": "execute_result"
    }
   ],
   "source": [
    "# For diff\n",
    "df_err_diff = df_err[df_err['label_same'] == 1.0].copy()\n",
    "\n",
    "df_err_diff['ID_POS'] = df_err_diff['ID'].astype(str) + \"_\" + df_err_diff['Position'].astype(str)\n",
    "\n",
    "df_err_diff['Flag_AF'] = df_err_diff['AF'] > threshold_AF\n",
    "df_err_diff['Flag_SB'] = df_err_diff['SB'] > threshold_SB\n",
    "df_err_diff['Flag_COV'] = df_err_diff['RATIO'] < threshold_COV\n",
    "\n",
    "df_err_diff = df_err_diff[['ID_POS', 'Flag_AF', 'Flag_SB', 'Flag_COV']]\n",
    "\n",
    "df_err_diff.to_csv(\"/nfs/research/goldman/zihao/code/EBI_INTER/A_Datas/For_COMP/COMP_ERR_diff.txt\", \n",
    "                   sep='\\t', index=False)\n",
    "df_err_diff"
   ]
  },
  {
   "cell_type": "code",
   "execution_count": 13,
   "id": "5a2fc337",
   "metadata": {},
   "outputs": [
    {
     "data": {
      "text/html": [
       "<div>\n",
       "<style scoped>\n",
       "    .dataframe tbody tr th:only-of-type {\n",
       "        vertical-align: middle;\n",
       "    }\n",
       "\n",
       "    .dataframe tbody tr th {\n",
       "        vertical-align: top;\n",
       "    }\n",
       "\n",
       "    .dataframe thead th {\n",
       "        text-align: right;\n",
       "    }\n",
       "</style>\n",
       "<table border=\"1\" class=\"dataframe\">\n",
       "  <thead>\n",
       "    <tr style=\"text-align: right;\">\n",
       "      <th></th>\n",
       "      <th>ID_POS</th>\n",
       "      <th>Flag_AF</th>\n",
       "      <th>Flag_SB</th>\n",
       "      <th>Flag_COV</th>\n",
       "    </tr>\n",
       "  </thead>\n",
       "  <tbody>\n",
       "    <tr>\n",
       "      <th>10</th>\n",
       "      <td>ERR4437926_27784</td>\n",
       "      <td>True</td>\n",
       "      <td>True</td>\n",
       "      <td>True</td>\n",
       "    </tr>\n",
       "    <tr>\n",
       "      <th>13</th>\n",
       "      <td>ERR4589830_29015</td>\n",
       "      <td>True</td>\n",
       "      <td>True</td>\n",
       "      <td>False</td>\n",
       "    </tr>\n",
       "    <tr>\n",
       "      <th>19</th>\n",
       "      <td>ERR4637124_10999</td>\n",
       "      <td>True</td>\n",
       "      <td>True</td>\n",
       "      <td>True</td>\n",
       "    </tr>\n",
       "    <tr>\n",
       "      <th>21</th>\n",
       "      <td>SRR23585665_1871</td>\n",
       "      <td>True</td>\n",
       "      <td>True</td>\n",
       "      <td>False</td>\n",
       "    </tr>\n",
       "    <tr>\n",
       "      <th>27</th>\n",
       "      <td>ERR4640487_10764</td>\n",
       "      <td>True</td>\n",
       "      <td>True</td>\n",
       "      <td>True</td>\n",
       "    </tr>\n",
       "    <tr>\n",
       "      <th>...</th>\n",
       "      <td>...</td>\n",
       "      <td>...</td>\n",
       "      <td>...</td>\n",
       "      <td>...</td>\n",
       "    </tr>\n",
       "    <tr>\n",
       "      <th>44436</th>\n",
       "      <td>SRR23594517_5260</td>\n",
       "      <td>True</td>\n",
       "      <td>True</td>\n",
       "      <td>False</td>\n",
       "    </tr>\n",
       "    <tr>\n",
       "      <th>44441</th>\n",
       "      <td>SRR23599857_1871</td>\n",
       "      <td>True</td>\n",
       "      <td>True</td>\n",
       "      <td>False</td>\n",
       "    </tr>\n",
       "    <tr>\n",
       "      <th>44446</th>\n",
       "      <td>SRR20057108_28254</td>\n",
       "      <td>True</td>\n",
       "      <td>True</td>\n",
       "      <td>False</td>\n",
       "    </tr>\n",
       "    <tr>\n",
       "      <th>44457</th>\n",
       "      <td>SRR21662653_8984</td>\n",
       "      <td>True</td>\n",
       "      <td>False</td>\n",
       "      <td>False</td>\n",
       "    </tr>\n",
       "    <tr>\n",
       "      <th>44458</th>\n",
       "      <td>SRR21662653_21744</td>\n",
       "      <td>True</td>\n",
       "      <td>False</td>\n",
       "      <td>False</td>\n",
       "    </tr>\n",
       "  </tbody>\n",
       "</table>\n",
       "<p>13085 rows × 4 columns</p>\n",
       "</div>"
      ],
      "text/plain": [
       "                  ID_POS  Flag_AF  Flag_SB  Flag_COV\n",
       "10      ERR4437926_27784     True     True      True\n",
       "13      ERR4589830_29015     True     True     False\n",
       "19      ERR4637124_10999     True     True      True\n",
       "21      SRR23585665_1871     True     True     False\n",
       "27      ERR4640487_10764     True     True      True\n",
       "...                  ...      ...      ...       ...\n",
       "44436   SRR23594517_5260     True     True     False\n",
       "44441   SRR23599857_1871     True     True     False\n",
       "44446  SRR20057108_28254     True     True     False\n",
       "44457   SRR21662653_8984     True    False     False\n",
       "44458  SRR21662653_21744     True    False     False\n",
       "\n",
       "[13085 rows x 4 columns]"
      ]
     },
     "execution_count": 13,
     "metadata": {},
     "output_type": "execute_result"
    }
   ],
   "source": [
    "# For same\n",
    "df_err_same = df_err[df_err['label_same'] == 0.0].copy()\n",
    "\n",
    "df_err_same['ID_POS'] = df_err_same['ID'].astype(str) + \"_\" + df_err_same['Position'].astype(str)\n",
    "\n",
    "df_err_same['Flag_AF'] = df_err_same['AF'] > threshold_AF\n",
    "df_err_same['Flag_SB'] = df_err_same['SB'] > threshold_SB\n",
    "df_err_same['Flag_COV'] = df_err_same['RATIO'] < threshold_COV\n",
    "\n",
    "df_err_same = df_err_same[['ID_POS', 'Flag_AF', 'Flag_SB', 'Flag_COV']]\n",
    "\n",
    "df_err_same.to_csv(\"/nfs/research/goldman/zihao/code/EBI_INTER/A_Datas/For_COMP/COMP_ERR_same.txt\", \n",
    "                   sep='\\t', index=False)\n",
    "df_err_same"
   ]
  },
  {
   "cell_type": "code",
   "execution_count": 14,
   "id": "faf21d30",
   "metadata": {},
   "outputs": [
    {
     "data": {
      "text/html": [
       "<div>\n",
       "<style scoped>\n",
       "    .dataframe tbody tr th:only-of-type {\n",
       "        vertical-align: middle;\n",
       "    }\n",
       "\n",
       "    .dataframe tbody tr th {\n",
       "        vertical-align: top;\n",
       "    }\n",
       "\n",
       "    .dataframe thead th {\n",
       "        text-align: right;\n",
       "    }\n",
       "</style>\n",
       "<table border=\"1\" class=\"dataframe\">\n",
       "  <thead>\n",
       "    <tr style=\"text-align: right;\">\n",
       "      <th></th>\n",
       "      <th>ID_POS</th>\n",
       "      <th>Flag_AF</th>\n",
       "      <th>Flag_SB</th>\n",
       "      <th>Flag_COV</th>\n",
       "    </tr>\n",
       "  </thead>\n",
       "  <tbody>\n",
       "    <tr>\n",
       "      <th>11</th>\n",
       "      <td>ERR4460144_7394</td>\n",
       "      <td>True</td>\n",
       "      <td>True</td>\n",
       "      <td>False</td>\n",
       "    </tr>\n",
       "    <tr>\n",
       "      <th>12</th>\n",
       "      <td>ERR4589830_26655</td>\n",
       "      <td>True</td>\n",
       "      <td>True</td>\n",
       "      <td>False</td>\n",
       "    </tr>\n",
       "    <tr>\n",
       "      <th>15</th>\n",
       "      <td>ERR4589153_28964</td>\n",
       "      <td>True</td>\n",
       "      <td>False</td>\n",
       "      <td>True</td>\n",
       "    </tr>\n",
       "    <tr>\n",
       "      <th>16</th>\n",
       "      <td>ERR4589157_11105</td>\n",
       "      <td>True</td>\n",
       "      <td>True</td>\n",
       "      <td>False</td>\n",
       "    </tr>\n",
       "    <tr>\n",
       "      <th>20</th>\n",
       "      <td>ERR4461112_25739</td>\n",
       "      <td>True</td>\n",
       "      <td>False</td>\n",
       "      <td>True</td>\n",
       "    </tr>\n",
       "    <tr>\n",
       "      <th>...</th>\n",
       "      <td>...</td>\n",
       "      <td>...</td>\n",
       "      <td>...</td>\n",
       "      <td>...</td>\n",
       "    </tr>\n",
       "    <tr>\n",
       "      <th>44451</th>\n",
       "      <td>ERR4437827_6729</td>\n",
       "      <td>True</td>\n",
       "      <td>True</td>\n",
       "      <td>False</td>\n",
       "    </tr>\n",
       "    <tr>\n",
       "      <th>44452</th>\n",
       "      <td>ERR4423816_8888</td>\n",
       "      <td>True</td>\n",
       "      <td>True</td>\n",
       "      <td>True</td>\n",
       "    </tr>\n",
       "    <tr>\n",
       "      <th>44453</th>\n",
       "      <td>ERR4423816_23895</td>\n",
       "      <td>True</td>\n",
       "      <td>False</td>\n",
       "      <td>True</td>\n",
       "    </tr>\n",
       "    <tr>\n",
       "      <th>44455</th>\n",
       "      <td>ERR4423892_28275</td>\n",
       "      <td>True</td>\n",
       "      <td>True</td>\n",
       "      <td>False</td>\n",
       "    </tr>\n",
       "    <tr>\n",
       "      <th>44456</th>\n",
       "      <td>ERR4425059_27008</td>\n",
       "      <td>True</td>\n",
       "      <td>True</td>\n",
       "      <td>False</td>\n",
       "    </tr>\n",
       "  </tbody>\n",
       "</table>\n",
       "<p>11531 rows × 4 columns</p>\n",
       "</div>"
      ],
      "text/plain": [
       "                 ID_POS  Flag_AF  Flag_SB  Flag_COV\n",
       "11      ERR4460144_7394     True     True     False\n",
       "12     ERR4589830_26655     True     True     False\n",
       "15     ERR4589153_28964     True    False      True\n",
       "16     ERR4589157_11105     True     True     False\n",
       "20     ERR4461112_25739     True    False      True\n",
       "...                 ...      ...      ...       ...\n",
       "44451   ERR4437827_6729     True     True     False\n",
       "44452   ERR4423816_8888     True     True      True\n",
       "44453  ERR4423816_23895     True    False      True\n",
       "44455  ERR4423892_28275     True     True     False\n",
       "44456  ERR4425059_27008     True     True     False\n",
       "\n",
       "[11531 rows x 4 columns]"
      ]
     },
     "execution_count": 14,
     "metadata": {},
     "output_type": "execute_result"
    }
   ],
   "source": [
    "# For masked\n",
    "df_err_masked = df_err[df_err['label_mar'] == 1.0].copy()\n",
    "\n",
    "df_err_masked['ID_POS'] = df_err_masked['ID'].astype(str) + \"_\" + df_err_masked['Position'].astype(str)\n",
    "\n",
    "df_err_masked['Flag_AF'] = df_err_masked['AF'] > threshold_AF\n",
    "df_err_masked['Flag_SB'] = df_err_masked['SB'] > threshold_SB\n",
    "df_err_masked['Flag_COV'] = df_err_masked['RATIO'] < threshold_COV\n",
    "\n",
    "df_err_masked = df_err_masked[['ID_POS', 'Flag_AF', 'Flag_SB', 'Flag_COV']]\n",
    "\n",
    "df_err_masked.to_csv(\"/nfs/research/goldman/zihao/code/EBI_INTER/A_Datas/For_COMP/COMP_ERR_masked.txt\", \n",
    "                     sep='\\t', index=False)\n",
    "df_err_masked"
   ]
  }
 ],
 "metadata": {
  "kernelspec": {
   "display_name": "Python 3 (ipykernel)",
   "language": "python",
   "name": "python3"
  },
  "language_info": {
   "codemirror_mode": {
    "name": "ipython",
    "version": 3
   },
   "file_extension": ".py",
   "mimetype": "text/x-python",
   "name": "python",
   "nbconvert_exporter": "python",
   "pygments_lexer": "ipython3",
   "version": "3.11.3"
  }
 },
 "nbformat": 4,
 "nbformat_minor": 5
}
