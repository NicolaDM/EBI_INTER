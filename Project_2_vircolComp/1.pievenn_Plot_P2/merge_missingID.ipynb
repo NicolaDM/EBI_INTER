{
 "cells": [
  {
   "cell_type": "markdown",
   "id": "817cbe8f",
   "metadata": {},
   "source": [
    "```bash\n",
    "cat /nfs/research/goldman/zihao/Datas/p2_comp_viridian/Folder_3_mergeINFO/Folder_missingData/missing_ann_ids_*.txt | sort | uniq > /nfs/research/goldman/zihao/Datas/p2_comp_viridian/Folder_3_mergeINFO/missing_ann_ids.txt && echo -n \"The number of missing IDs for Annot is: \" && wc -l /nfs/research/goldman/zihao/Datas/p2_comp_viridian/Folder_3_mergeINFO/missing_ann_ids.txt\n",
    "\n",
    "cat /nfs/research/goldman/zihao/Datas/p2_comp_viridian/Folder_3_mergeINFO/Folder_missingData/missing_cov_ids_*.txt | sort | uniq > /nfs/research/goldman/zihao/Datas/p2_comp_viridian/Folder_3_mergeINFO/missing_cov_ids.txt && echo -n \"The number of missing IDs for COV is: \" && wc -l /nfs/research/goldman/zihao/Datas/p2_comp_viridian/Folder_3_mergeINFO/missing_cov_ids.txt\n",
    "\n",
    "\n",
    "```"
   ]
  },
  {
   "cell_type": "code",
   "execution_count": 1,
   "id": "476cd2d1",
   "metadata": {},
   "outputs": [
    {
     "name": "stdout",
     "output_type": "stream",
     "text": [
      "去重后的行数: 1444\n"
     ]
    }
   ],
   "source": [
    "import pandas as pd\n",
    "\n",
    "# 假设 'file.txt' 是你的文件名\n",
    "df = pd.read_csv('/nfs/research/goldman/zihao/Datas/p2_comp_viridian/Folder_3_mergeINFO/missing_cov_ids.txt', header=None, sep=\"\\t\") \n",
    "\n",
    "# 删除重复的行\n",
    "df = df.drop_duplicates()\n",
    "\n",
    "# 打印去重后的行数\n",
    "print(f\"去重后的行数: {df.shape[0]}\")\n"
   ]
  },
  {
   "cell_type": "code",
   "execution_count": 3,
   "id": "7b23f2de",
   "metadata": {},
   "outputs": [
    {
     "name": "stdout",
     "output_type": "stream",
     "text": [
      "去重后的行数: 20\n"
     ]
    }
   ],
   "source": [
    "import pandas as pd\n",
    "\n",
    "# 假设 'file.txt' 是你的文件名\n",
    "df = pd.read_csv('/nfs/research/goldman/zihao/Datas/p2_comp_viridian/Folder_3_mergeINFO/missing_ann_ids.txt', header=None, sep=\"\\t\") \n",
    "\n",
    "# 删除重复的行\n",
    "df = df.drop_duplicates()\n",
    "\n",
    "# 打印去重后的行数\n",
    "print(f\"去重后的行数: {df.shape[0]}\")"
   ]
  }
 ],
 "metadata": {
  "kernelspec": {
   "display_name": "Python 3 (ipykernel)",
   "language": "python",
   "name": "python3"
  },
  "language_info": {
   "codemirror_mode": {
    "name": "ipython",
    "version": 3
   },
   "file_extension": ".py",
   "mimetype": "text/x-python",
   "name": "python",
   "nbconvert_exporter": "python",
   "pygments_lexer": "ipython3",
   "version": "3.11.3"
  }
 },
 "nbformat": 4,
 "nbformat_minor": 5
}
