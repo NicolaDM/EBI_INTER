{
 "cells": [
  {
   "cell_type": "markdown",
   "id": "83818370",
   "metadata": {},
   "source": [
    "## <center>Preparing data for the Venn diagram.</center>\n",
    "\n",
    "\n",
    "| **Label** | **start time** | **finish time** | **last modified** |\n",
    "|:--------------:|:-----------:|:-----------:|:----------------:|\n",
    "|   Project 1   |  2023-07-10 |  2023-07-19 |   2023-07-19     |\n",
    "\n",
    "####  Threshold:\n",
    "- SB > 0, \n",
    "- coverage ratio < 0.1,\n",
    "- AF > 0.001."
   ]
  },
  {
   "cell_type": "code",
   "execution_count": null,
   "id": "f0fc5e1f",
   "metadata": {},
   "outputs": [],
   "source": [
    "import pandas as pd\n",
    "\n",
    "threshold_AF = 0.001\n",
    "threshold_SB = 0\n",
    "threshold_COV = 0.1"
   ]
  },
  {
   "cell_type": "markdown",
   "id": "688d228f",
   "metadata": {},
   "source": [
    "## 1. Error position\n",
    "### Next \n",
    "- go ---> \n",
    "```python\n",
    "/nfs/research/goldman/zihao/Code/Figure/P1/2-1_vennChart_errPos.Rmd\n",
    "```"
   ]
  },
  {
   "cell_type": "code",
   "execution_count": null,
   "id": "2281cc84",
   "metadata": {},
   "outputs": [],
   "source": [
    "input_for_annot_err = \"/nfs/research/goldman/zihao/Datas/p1_errorsProject_NEW/Folder_dataProcessing/ANNOT_dataProcessing_errorPos.txt\"\n",
    "input_for_cov_err = \"/nfs/research/goldman/zihao/Datas/p1_errorsProject_NEW/Folder_dataProcessing/COV_dataProcessing_errorPos.txt\"\n",
    "\n",
    "### For annot\n",
    "df_err_annot = pd.read_csv(input_for_annot_err, sep='\\t')\n",
    "\n",
    "df_err_annot['ID_POS'] = df_err_annot['ID'].astype(str) + \"_\" + df_err_annot['Position'].astype(str)\n",
    "\n",
    "df_err_annot['Flag_AF'] = df_err_annot['AF'] > threshold_AF\n",
    "df_err_annot['Flag_SB'] = df_err_annot['SB'] > threshold_SB\n",
    "df_err_annot.drop(['ID', 'Position','AF','SB'], axis=1, inplace=True)\n",
    "\n",
    "print(df_err_annot)\n",
    "print('=====================================')\n",
    "### For coverage\n",
    "df_err_cov = pd.read_csv(input_for_cov_err, sep='\\t')\n",
    "\n",
    "df_err_cov['ID_POS'] = df_err_cov['ID'].astype(str) + \"_\" + df_err_cov['Position'].astype(str)\n",
    "\n",
    "df_err_cov['Flag_COV'] = df_err_cov['COV_Ratio'] < threshold_COV\n",
    "df_err_cov.drop(['ID', 'Position', 'COV_Ratio'], axis=1, inplace=True)\n",
    "\n",
    "print(df_err_cov)\n",
    "print('=====================================')\n",
    "### Merge\n",
    "merged_df = pd.merge(df_err_annot, df_err_cov, on='ID_POS', how='inner')\n",
    "merged_df.to_csv(\"/nfs/research/goldman/zihao/Code/IntermediateDATA/P1-ERR_POS_all.txt\", sep='\\t', index=False)\n",
    "\n",
    "merged_df"
   ]
  },
  {
   "cell_type": "markdown",
   "id": "212af4fe",
   "metadata": {},
   "source": [
    "## 2. All position\n",
    "- **output**\n",
    "```python\n",
    "'/nfs/research/goldman/zihao/Datas/p1_errorsProject_NEW/Folder2_calculPercentage/output_calculPercentage.txt'\n",
    "```\n",
    "\n",
    "====================== Info ======================  \n",
    "Total number of positions:  4033264429  \n",
    "nb_SB_PASSED:  1782985  \n",
    "nb_AF_PASSED:  7547094  \n",
    "nb_COV_PASSED:  583535685  \n",
    "====================== Info ======================  \n",
    "both_PASSED:  377289  \n",
    "both_UNPASSED:  3420841838  \n",
    "====================== Info ======================  \n",
    "nb_AF_SB_PASSED:  17971522  \n",
    "nb_SB_COV_PASSED:  253433  \n",
    "nb_AF_COV_PASSED:  954583  "
   ]
  },
  {
   "cell_type": "code",
   "execution_count": 1,
   "id": "a846f012",
   "metadata": {},
   "outputs": [
    {
     "name": "stdout",
     "output_type": "stream",
     "text": [
      "84.816 %\n",
      "=======================================\n",
      "0.187 %\n",
      "14.468 %\n",
      "0.044 %\n",
      "=======================================\n",
      "0.446 %\n",
      "0.006 %\n",
      "0.024 %\n",
      "=======================================\n",
      "0.009 %\n"
     ]
    }
   ],
   "source": [
    "same_count = 4033264429\n",
    "Flag_SB_PASSED = 1782985\n",
    "Flag_AF_PASSED = 7547094\n",
    "Flag_COV_PASSED = 583535685\n",
    "both_PASSED = 377289\n",
    "both_UNPASSED = 3420841838\n",
    "Flag_SB_Flag_AF_PASSED = 17971522\n",
    "Flag_SB_Flag_COV_PASSED = 253433\n",
    "Flag_AF_Flag_COV_PASSED = 954583\n",
    "\n",
    "pass_1 = Flag_SB_PASSED+Flag_AF_PASSED+Flag_COV_PASSED\n",
    "pass_2 = Flag_SB_Flag_AF_PASSED+Flag_SB_Flag_COV_PASSED+Flag_AF_Flag_COV_PASSED\n",
    "pass_3 = both_PASSED + both_UNPASSED\n",
    "nb_pass = pass_1+pass_2+pass_3\n",
    "\n",
    "print(round(both_UNPASSED/nb_pass*100,3),'%')\n",
    "print('=======================================')\n",
    "\n",
    "print(round(Flag_AF_PASSED/nb_pass*100,3),'%')\n",
    "print(round(Flag_COV_PASSED/nb_pass*100,3),'%')\n",
    "print(round(Flag_SB_PASSED/nb_pass*100,3),'%')\n",
    "print('=======================================')\n",
    "\n",
    "print(round(Flag_SB_Flag_AF_PASSED/nb_pass*100,3),'%')\n",
    "print(round(Flag_SB_Flag_COV_PASSED/nb_pass*100,3),'%')\n",
    "print(round(Flag_AF_Flag_COV_PASSED/nb_pass*100,3),'%')\n",
    "\n",
    "print('=======================================')\n",
    "print(round(both_PASSED/nb_pass*100,3),'%')"
   ]
  },
  {
   "cell_type": "markdown",
   "id": "1a68e24c",
   "metadata": {},
   "source": [
    "### Next \n",
    "- go ---> \n",
    "```python\n",
    "/nfs/research/goldman/zihao/Code/Figure/P1/2-1_vennChart_errPos.Rmd\n",
    "```"
   ]
  }
 ],
 "metadata": {
  "kernelspec": {
   "display_name": "Python 3 (ipykernel)",
   "language": "python",
   "name": "python3"
  },
  "language_info": {
   "codemirror_mode": {
    "name": "ipython",
    "version": 3
   },
   "file_extension": ".py",
   "mimetype": "text/x-python",
   "name": "python",
   "nbconvert_exporter": "python",
   "pygments_lexer": "ipython3",
   "version": "3.11.3"
  }
 },
 "nbformat": 4,
 "nbformat_minor": 5
}
