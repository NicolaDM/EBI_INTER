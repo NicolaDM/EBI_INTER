{
 "cells": [
  {
   "cell_type": "markdown",
   "id": "dd53a1f1",
   "metadata": {},
   "source": [
    "##  threshold\n",
    "- SB > 0, \n",
    "- coverage ratio < 0.1,\n",
    "- AF > 0.001."
   ]
  },
  {
   "cell_type": "code",
   "execution_count": 1,
   "id": "5a97af46",
   "metadata": {},
   "outputs": [],
   "source": [
    "threshold_AF = 0.001\n",
    "threshold_SB = 0\n",
    "threshold_COV = 0.1"
   ]
  },
  {
   "cell_type": "code",
   "execution_count": 2,
   "id": "6badf9b5",
   "metadata": {},
   "outputs": [],
   "source": [
    "import os\n",
    "import pandas as pd\n",
    "import numpy as np\n",
    "import plotly.graph_objects as go\n",
    "from plotly.offline import iplot, plot\n",
    "import plotly.io as pio\n",
    "\n",
    "def format_number(number):\n",
    "    suffixes = ['', 'K', 'M', 'B', 'T']\n",
    "\n",
    "    for i in range(len(suffixes)):\n",
    "        magnitude = number / (1000 ** i)\n",
    "        if magnitude < 1000:\n",
    "            if magnitude < 10:\n",
    "                formatted = f\"{magnitude:.1f}\"\n",
    "            else:\n",
    "                formatted = f\"{magnitude:.0f}\"\n",
    "            return f\"{formatted}{suffixes[i]}\"\n",
    "    \n",
    "    return f\"{number:.1e}\""
   ]
  },
  {
   "cell_type": "markdown",
   "id": "5f9cf224",
   "metadata": {},
   "source": [
    "# <center>Catalog:</center>\n",
    "- 0. [Input data](#0.input_data)\n",
    "\n",
    "&nbsp;\n",
    "\n",
    "- 1. [For Pie Chart](#1.For_Pie_Chart)\n",
    "\n",
    "&nbsp;\n",
    "\n",
    "- 2. [For Venn chart](#2.For_Venn_chart)\n",
    "    - 2.1 [Different nucleotide](#2.1_Diff_nucleotide)\n",
    "    - 2.2 [Same nucleotide](#2.2_Same_nucleotide)\n",
    "    - 2.3 [Viridian masked](#2.3_Viridian_masked)"
   ]
  },
  {
   "cell_type": "markdown",
   "id": "267a1316",
   "metadata": {},
   "source": [
    "# 0.input_data\n",
    "[Return to Catalog](#Catalog:)"
   ]
  },
  {
   "cell_type": "code",
   "execution_count": 3,
   "id": "be6b033b",
   "metadata": {},
   "outputs": [],
   "source": [
    "File_for_errPos = '/nfs/research/goldman/zihao/Datas/p2_compViridian_P2/Folder_3_calculForPLOT/errPos/errpos_outputData.txt'\n",
    "# File_for_errPos = '/nfs/research/goldman/zihao/Datas/p2_compViridian_P3/Folder_mapleOutput/COL_output_modified.txt'"
   ]
  },
  {
   "cell_type": "code",
   "execution_count": 4,
   "id": "76015db1",
   "metadata": {},
   "outputs": [],
   "source": [
    "df_err = pd.read_csv(File_for_errPos, sep='\\t')\n",
    "\n",
    "df_err['Flag_SB'] = (df_err['SB'].astype(float) > threshold_SB).astype(int)\n",
    "df_err['Flag_AF'] = (df_err['AF'].astype(float) > threshold_AF).astype(int)\n",
    "df_err['Flag_COV'] = (df_err['RATIO'].astype(float) < threshold_COV).astype(int)\n",
    "\n",
    "df_err"
   ]
  },
  {
   "cell_type": "code",
   "execution_count": 5,
   "id": "f95dcf5a",
   "metadata": {},
   "outputs": [],
   "source": [
    "count_label_1_total = sum((df_err['label_mar'] == 1.0)&(df_err['label_ori'] == 0.0))\n",
    "count_label_2_total = sum(df_err['label_same'] == 1.0)\n",
    "count_label_3_total = sum(df_err['label_same'] == 0.0)\n",
    "\n",
    "total_files = len(df_err)\n",
    "total_records = count_label_1_total + count_label_2_total + count_label_3_total\n",
    "\n",
    "percentage_label_1_total = round(count_label_1_total / total_records * 100, 3)\n",
    "percentage_label_2_total = round(count_label_2_total / total_records * 100, 3)\n",
    "percentage_label_3_total = round(count_label_3_total / total_records * 100, 3)\n",
    "print('================================= information =================================')\n",
    "print(\"Martin version masked:\", count_label_1_total, ', Total number:', (total_files))\n",
    "print(\"Same nucleotide type:\", count_label_2_total, ', Total number:', (total_files))\n",
    "print(\"Different nucleotide type:\", count_label_3_total, ', Total number:', (total_files))\n",
    "print('Total records: ', total_records)\n",
    "print('================================= percentage =================================')\n",
    "print(\"Martin version masked:\", percentage_label_1_total, '%')\n",
    "print(\"Same nucleotide type:\", percentage_label_2_total, '%')\n",
    "print(\"Different nucleotide type:\", percentage_label_3_total, '%')"
   ]
  },
  {
   "cell_type": "markdown",
   "id": "80180d3d",
   "metadata": {},
   "source": [
    "# 1.For_Pie_Chart"
   ]
  },
  {
   "cell_type": "code",
   "execution_count": 6,
   "id": "9cd75c55",
   "metadata": {},
   "outputs": [],
   "source": [
    "numbers = [count_label_2_total, count_label_3_total, count_label_1_total]\n",
    "\n",
    "formatted_numbers_err = []\n",
    "\n",
    "for number in numbers:\n",
    "    formatted_number = format_number(number)\n",
    "    formatted_numbers_err.append(formatted_number)\n",
    "\n",
    "print(formatted_numbers_err)\n",
    "\n",
    "# creat DataFrame\n",
    "data_err = {'Category': ['Same nucleotide',\n",
    "                        'Different nucleotides',\n",
    "                        'Viridian masked'],\n",
    "        'Percentage': [percentage_label_2_total, percentage_label_3_total, percentage_label_1_total],\n",
    "           'Raw_number':formatted_numbers_err}\n",
    "df_err_plot = pd.DataFrame(data_err)\n",
    "\n",
    "colors = ['#D9BFCB0', '#49998B', '#C1BEE3']"
   ]
  },
  {
   "cell_type": "code",
   "execution_count": 7,
   "id": "3fb97224",
   "metadata": {},
   "outputs": [],
   "source": [
    "fig = go.Figure(go.Pie(\n",
    "    labels=df_err_plot['Category'],\n",
    "    values=df_err_plot['Percentage'],\n",
    "    hole=0.4,\n",
    "    text=df_err_plot['Category']+': <br>' + df_err_plot['Raw_number'].astype(str),\n",
    "    textinfo='percent+text',\n",
    "    marker={'colors': colors},\n",
    "    hovertemplate='%{label}<br>Current percentage: %{percent:.1%}',\n",
    "    textfont={'size': 15},  # Set the font size of the text\n",
    "    texttemplate='%{text} (%{percent:.2%})'  # Set the format of the text display\n",
    "))\n",
    "\n",
    "# Add titles for subplots\n",
    "fig.update_layout(\n",
    "    title=\"Comparison of assembled and sequenced sequences regarding MAPLE marker error positions\"\n",
    ")\n",
    "\n",
    "fig.show()\n",
    "\n",
    "pio.write_html(fig, '/nfs/research/goldman/zihao/Code/Figure/P2/errPIE.html')"
   ]
  },
  {
   "cell_type": "markdown",
   "id": "11bdfd8a",
   "metadata": {},
   "source": [
    "# 2.For_Venn_chart\n",
    "[Return to Catalog](#Catalog:)\n",
    "\n",
    "### 2.1_Diff_nucleotide"
   ]
  },
  {
   "cell_type": "code",
   "execution_count": 8,
   "id": "fb1bb04d",
   "metadata": {},
   "outputs": [],
   "source": [
    "# For diff\n",
    "df_err_diff = df_err[df_err['label_same'] == 0.0].copy()\n",
    "\n",
    "df_err_diff['ID_POS'] = df_err_diff['ID'].astype(str) + \"_\" + df_err_diff['Position'].astype(str)\n",
    "\n",
    "df_err_diff['Flag_AF'] = df_err_diff['AF'] > threshold_AF\n",
    "df_err_diff['Flag_SB'] = df_err_diff['SB'] > threshold_SB\n",
    "df_err_diff['Flag_COV'] = df_err_diff['RATIO'] < threshold_COV\n",
    "\n",
    "df_err_diff = df_err_diff[['ID_POS', 'Flag_AF', 'Flag_SB', 'Flag_COV']]\n",
    "\n",
    "df_err_diff.to_csv(\"/nfs/research/goldman/zihao/Code/IntermediateDATA/P2-ERR_diff.txt\", \n",
    "                   sep='\\t', index=False)\n",
    "df_err_diff"
   ]
  },
  {
   "cell_type": "code",
   "execution_count": 9,
   "id": "4ad0338a",
   "metadata": {},
   "outputs": [],
   "source": [
    "same_count = len(df_err_diff)\n",
    "Flag_SB_PASSED = len(df_err_diff[(df_err_diff['Flag_AF'] == False) & (df_err_diff['Flag_SB'] == True) & (df_err_diff['Flag_COV'] == False)])\n",
    "Flag_AF_PASSED = len(df_err_diff[(df_err_diff['Flag_AF'] == True) & (df_err_diff['Flag_SB'] == False) & (df_err_diff['Flag_COV'] == False)])\n",
    "Flag_COV_PASSED = len(df_err_diff[(df_err_diff['Flag_AF'] == False) & (df_err_diff['Flag_SB'] == False) & (df_err_diff['Flag_COV'] == True)])\n",
    "both_PASSED = len(df_err_diff[(df_err_diff['Flag_AF'] == True) & (df_err_diff['Flag_SB'] == True) & (df_err_diff['Flag_COV'] == True)])\n",
    "both_UNPASSED = len(df_err_diff[(df_err_diff['Flag_AF'] == False) & (df_err_diff['Flag_SB'] == False) & (df_err_diff['Flag_COV'] == False)])\n",
    "Flag_SB_Flag_AF_PASSED = len(df_err_diff[(df_err_diff['Flag_AF'] == True) & (df_err_diff['Flag_SB'] == True) & (df_err_diff['Flag_COV'] == False)])\n",
    "Flag_SB_Flag_COV_PASSED = len(df_err_diff[(df_err_diff['Flag_AF'] == False) & (df_err_diff['Flag_SB'] == True) & (df_err_diff['Flag_COV'] == True)])\n",
    "Flag_AF_Flag_COV_PASSED = len(df_err_diff[(df_err_diff['Flag_AF'] == True) & (df_err_diff['Flag_SB'] == False) & (df_err_diff['Flag_COV'] == True)])\n",
    "\n",
    "pass_1 = Flag_SB_PASSED+Flag_AF_PASSED+Flag_COV_PASSED\n",
    "pass_2 = Flag_SB_Flag_AF_PASSED+Flag_SB_Flag_COV_PASSED+Flag_AF_Flag_COV_PASSED\n",
    "pass_3 = both_PASSED + both_UNPASSED\n",
    "nb_pass = pass_1+pass_2+pass_3\n",
    "\n",
    "print(round(both_UNPASSED/nb_pass*100,3),'%',both_UNPASSED)\n",
    "print('=======================================')\n",
    "\n",
    "print(round(Flag_AF_PASSED/nb_pass*100,3),'%', Flag_AF_PASSED)\n",
    "print(round(Flag_COV_PASSED/nb_pass*100,3),'%', Flag_COV_PASSED)\n",
    "print(round(Flag_SB_PASSED/nb_pass*100,3),'%', Flag_SB_PASSED)\n",
    "print('=======================================')\n",
    "\n",
    "print(round(Flag_SB_Flag_AF_PASSED/nb_pass*100,3),'%',Flag_SB_Flag_AF_PASSED)\n",
    "print(round(Flag_SB_Flag_COV_PASSED/nb_pass*100,3),'%',Flag_SB_Flag_COV_PASSED)\n",
    "print(round(Flag_AF_Flag_COV_PASSED/nb_pass*100,3),'%',Flag_AF_Flag_COV_PASSED)\n",
    "\n",
    "print('=======================================')\n",
    "print(round(both_PASSED/nb_pass*100,3),'%',both_PASSED)"
   ]
  },
  {
   "cell_type": "markdown",
   "id": "b9eccad2",
   "metadata": {},
   "source": [
    "### 2.2_Same_nucleotide"
   ]
  },
  {
   "cell_type": "code",
   "execution_count": 10,
   "id": "5a2fc337",
   "metadata": {},
   "outputs": [],
   "source": [
    "# For same\n",
    "df_err_same = df_err[df_err['label_same'] == 1.0].copy()\n",
    "\n",
    "df_err_same['ID_POS'] = df_err_same['ID'].astype(str) + \"_\" + df_err_same['Position'].astype(str)\n",
    "\n",
    "df_err_same['Flag_AF'] = df_err_same['AF'] > threshold_AF\n",
    "df_err_same['Flag_SB'] = df_err_same['SB'] > threshold_SB\n",
    "df_err_same['Flag_COV'] = df_err_same['RATIO'] < threshold_COV\n",
    "\n",
    "df_err_same = df_err_same[['ID_POS', 'Flag_AF', 'Flag_SB', 'Flag_COV']]\n",
    "\n",
    "df_err_same.to_csv(\"/nfs/research/goldman/zihao/Code/IntermediateDATA/P2-ERR_same.txt\", \n",
    "                   sep='\\t', index=False)\n",
    "df_err_same"
   ]
  },
  {
   "cell_type": "code",
   "execution_count": 11,
   "id": "35492196",
   "metadata": {},
   "outputs": [],
   "source": [
    "same_count = len(df_err_same)\n",
    "Flag_SB_PASSED = len(df_err_same[(df_err_same['Flag_AF'] == False) & (df_err_same['Flag_SB'] == True) & (df_err_same['Flag_COV'] == False)])\n",
    "Flag_AF_PASSED = len(df_err_same[(df_err_same['Flag_AF'] == True) & (df_err_same['Flag_SB'] == False) & (df_err_same['Flag_COV'] == False)])\n",
    "Flag_COV_PASSED = len(df_err_same[(df_err_same['Flag_AF'] == False) & (df_err_same['Flag_SB'] == False) & (df_err_same['Flag_COV'] == True)])\n",
    "both_PASSED = len(df_err_same[(df_err_same['Flag_AF'] == True) & (df_err_same['Flag_SB'] == True) & (df_err_same['Flag_COV'] == True)])\n",
    "both_UNPASSED = len(df_err_same[(df_err_same['Flag_AF'] == False) & (df_err_same['Flag_SB'] == False) & (df_err_same['Flag_COV'] == False)])\n",
    "Flag_SB_Flag_AF_PASSED = len(df_err_same[(df_err_same['Flag_AF'] == True) & (df_err_same['Flag_SB'] == True) & (df_err_same['Flag_COV'] == False)])\n",
    "Flag_SB_Flag_COV_PASSED = len(df_err_same[(df_err_same['Flag_AF'] == False) & (df_err_same['Flag_SB'] == True) & (df_err_same['Flag_COV'] == True)])\n",
    "Flag_AF_Flag_COV_PASSED = len(df_err_same[(df_err_same['Flag_AF'] == True) & (df_err_same['Flag_SB'] == False) & (df_err_same['Flag_COV'] == True)])\n",
    "\n",
    "pass_1 = Flag_SB_PASSED+Flag_AF_PASSED+Flag_COV_PASSED\n",
    "pass_2 = Flag_SB_Flag_AF_PASSED+Flag_SB_Flag_COV_PASSED+Flag_AF_Flag_COV_PASSED\n",
    "pass_3 = both_PASSED + both_UNPASSED\n",
    "nb_pass = pass_1+pass_2+pass_3\n",
    "\n",
    "print(round(both_UNPASSED/nb_pass*100,3),'%',both_UNPASSED)\n",
    "print('=======================================')\n",
    "\n",
    "print(round(Flag_AF_PASSED/nb_pass*100,3),'%', Flag_AF_PASSED)\n",
    "print(round(Flag_COV_PASSED/nb_pass*100,3),'%', Flag_COV_PASSED)\n",
    "print(round(Flag_SB_PASSED/nb_pass*100,3),'%', Flag_SB_PASSED)\n",
    "print('=======================================')\n",
    "\n",
    "print(round(Flag_SB_Flag_AF_PASSED/nb_pass*100,3),'%',Flag_SB_Flag_AF_PASSED)\n",
    "print(round(Flag_SB_Flag_COV_PASSED/nb_pass*100,3),'%',Flag_SB_Flag_COV_PASSED)\n",
    "print(round(Flag_AF_Flag_COV_PASSED/nb_pass*100,3),'%',Flag_AF_Flag_COV_PASSED)\n",
    "\n",
    "print('=======================================')\n",
    "print(round(both_PASSED/nb_pass*100,3),'%',both_PASSED)"
   ]
  },
  {
   "cell_type": "markdown",
   "id": "6a7ddd54",
   "metadata": {},
   "source": [
    "### 2.3_Viridian_masked"
   ]
  },
  {
   "cell_type": "code",
   "execution_count": 12,
   "id": "faf21d30",
   "metadata": {},
   "outputs": [],
   "source": [
    "# For masked\n",
    "df_err_masked = df_err[df_err['label_mar'] == 1.0].copy()\n",
    "\n",
    "df_err_masked['ID_POS'] = df_err_masked['ID'].astype(str) + \"_\" + df_err_masked['Position'].astype(str)\n",
    "\n",
    "df_err_masked['Flag_AF'] = df_err_masked['AF'] > threshold_AF\n",
    "df_err_masked['Flag_SB'] = df_err_masked['SB'] > threshold_SB\n",
    "df_err_masked['Flag_COV'] = df_err_masked['RATIO'] < threshold_COV\n",
    "\n",
    "df_err_masked = df_err_masked[['ID_POS', 'Flag_AF', 'Flag_SB', 'Flag_COV']]\n",
    "\n",
    "df_err_masked.to_csv(\"/nfs/research/goldman/zihao/Code/IntermediateDATA/P2-ERR_masked.txt\", \n",
    "                     sep='\\t', index=False)\n",
    "df_err_masked"
   ]
  },
  {
   "cell_type": "code",
   "execution_count": 13,
   "id": "cd157efe",
   "metadata": {},
   "outputs": [],
   "source": [
    "same_count = len(df_err_masked)\n",
    "Flag_SB_PASSED = len(df_err_masked[(df_err_masked['Flag_AF'] == False) & (df_err_masked['Flag_SB'] == True) & (df_err_masked['Flag_COV'] == False)])\n",
    "Flag_AF_PASSED = len(df_err_masked[(df_err_masked['Flag_AF'] == True) & (df_err_masked['Flag_SB'] == False) & (df_err_masked['Flag_COV'] == False)])\n",
    "Flag_COV_PASSED = len(df_err_masked[(df_err_masked['Flag_AF'] == False) & (df_err_masked['Flag_SB'] == False) & (df_err_masked['Flag_COV'] == True)])\n",
    "both_PASSED = len(df_err_masked[(df_err_masked['Flag_AF'] == True) & (df_err_masked['Flag_SB'] == True) & (df_err_masked['Flag_COV'] == True)])\n",
    "both_UNPASSED = len(df_err_masked[(df_err_masked['Flag_AF'] == False) & (df_err_masked['Flag_SB'] == False) & (df_err_masked['Flag_COV'] == False)])\n",
    "Flag_SB_Flag_AF_PASSED = len(df_err_masked[(df_err_masked['Flag_AF'] == True) & (df_err_masked['Flag_SB'] == True) & (df_err_masked['Flag_COV'] == False)])\n",
    "Flag_SB_Flag_COV_PASSED = len(df_err_masked[(df_err_masked['Flag_AF'] == False) & (df_err_masked['Flag_SB'] == True) & (df_err_masked['Flag_COV'] == True)])\n",
    "Flag_AF_Flag_COV_PASSED = len(df_err_masked[(df_err_masked['Flag_AF'] == True) & (df_err_masked['Flag_SB'] == False) & (df_err_masked['Flag_COV'] == True)])\n",
    "\n",
    "pass_1 = Flag_SB_PASSED+Flag_AF_PASSED+Flag_COV_PASSED\n",
    "pass_2 = Flag_SB_Flag_AF_PASSED+Flag_SB_Flag_COV_PASSED+Flag_AF_Flag_COV_PASSED\n",
    "pass_3 = both_PASSED + both_UNPASSED\n",
    "nb_pass = pass_1+pass_2+pass_3\n",
    "\n",
    "print(round(both_UNPASSED/nb_pass*100,3),'%',both_UNPASSED)\n",
    "print('=======================================')\n",
    "\n",
    "print(round(Flag_AF_PASSED/nb_pass*100,3),'%', Flag_AF_PASSED)\n",
    "print(round(Flag_COV_PASSED/nb_pass*100,3),'%', Flag_COV_PASSED)\n",
    "print(round(Flag_SB_PASSED/nb_pass*100,3),'%', Flag_SB_PASSED)\n",
    "print('=======================================')\n",
    "\n",
    "print(round(Flag_SB_Flag_AF_PASSED/nb_pass*100,3),'%',Flag_SB_Flag_AF_PASSED)\n",
    "print(round(Flag_SB_Flag_COV_PASSED/nb_pass*100,3),'%',Flag_SB_Flag_COV_PASSED)\n",
    "print(round(Flag_AF_Flag_COV_PASSED/nb_pass*100,3),'%',Flag_AF_Flag_COV_PASSED)\n",
    "\n",
    "print('=======================================')\n",
    "print(round(both_PASSED/nb_pass*100,3),'%',both_PASSED)"
   ]
  }
 ],
 "metadata": {
  "kernelspec": {
   "display_name": "Python 3 (ipykernel)",
   "language": "python",
   "name": "python3"
  },
  "language_info": {
   "codemirror_mode": {
    "name": "ipython",
    "version": 3
   },
   "file_extension": ".py",
   "mimetype": "text/x-python",
   "name": "python",
   "nbconvert_exporter": "python",
   "pygments_lexer": "ipython3",
   "version": "3.11.3"
  }
 },
 "nbformat": 4,
 "nbformat_minor": 5
}
