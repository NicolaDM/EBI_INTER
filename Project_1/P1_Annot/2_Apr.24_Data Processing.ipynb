{
 "cells": [
  {
   "cell_type": "code",
   "execution_count": 2,
   "id": "2441241d",
   "metadata": {},
   "outputs": [],
   "source": [
    "import pandas as pd\n",
    "import os"
   ]
  },
  {
   "cell_type": "markdown",
   "id": "7f989006",
   "metadata": {},
   "source": [
    "# Data Processing"
   ]
  },
  {
   "cell_type": "code",
   "execution_count": 30,
   "id": "598e6d8e",
   "metadata": {},
   "outputs": [
    {
     "data": {
      "text/html": [
       "<div>\n",
       "<style scoped>\n",
       "    .dataframe tbody tr th:only-of-type {\n",
       "        vertical-align: middle;\n",
       "    }\n",
       "\n",
       "    .dataframe tbody tr th {\n",
       "        vertical-align: top;\n",
       "    }\n",
       "\n",
       "    .dataframe thead th {\n",
       "        text-align: right;\n",
       "    }\n",
       "</style>\n",
       "<table border=\"1\" class=\"dataframe\">\n",
       "  <thead>\n",
       "    <tr style=\"text-align: right;\">\n",
       "      <th></th>\n",
       "      <th>ID</th>\n",
       "      <th>Position</th>\n",
       "    </tr>\n",
       "  </thead>\n",
       "  <tbody>\n",
       "    <tr>\n",
       "      <th>0</th>\n",
       "      <td>EPI_ISL_542150</td>\n",
       "      <td>28221</td>\n",
       "    </tr>\n",
       "    <tr>\n",
       "      <th>1</th>\n",
       "      <td>EPI_ISL_653826</td>\n",
       "      <td>4</td>\n",
       "    </tr>\n",
       "    <tr>\n",
       "      <th>2</th>\n",
       "      <td>EPI_ISL_653826</td>\n",
       "      <td>29868</td>\n",
       "    </tr>\n",
       "    <tr>\n",
       "      <th>3</th>\n",
       "      <td>EPI_ISL_511905</td>\n",
       "      <td>26</td>\n",
       "    </tr>\n",
       "    <tr>\n",
       "      <th>4</th>\n",
       "      <td>EPI_ISL_511905</td>\n",
       "      <td>20441</td>\n",
       "    </tr>\n",
       "  </tbody>\n",
       "</table>\n",
       "</div>"
      ],
      "text/plain": [
       "               ID  Position\n",
       "0  EPI_ISL_542150     28221\n",
       "1  EPI_ISL_653826         4\n",
       "2  EPI_ISL_653826     29868\n",
       "3  EPI_ISL_511905        26\n",
       "4  EPI_ISL_511905     20441"
      ]
     },
     "execution_count": 30,
     "metadata": {},
     "output_type": "execute_result"
    }
   ],
   "source": [
    "df.head()"
   ]
  },
  {
   "cell_type": "markdown",
   "id": "73460259",
   "metadata": {},
   "source": [
    "### 1. Rename (!!! Just for test)"
   ]
  },
  {
   "cell_type": "code",
   "execution_count": 4,
   "id": "2228f8e5",
   "metadata": {},
   "outputs": [],
   "source": [
    "df = pd.read_csv(\"/homes/zihao/EBI_INTER/P1_Coverage/output_modified.txt\", sep='\\t')\n",
    "\n",
    "folder_path = '/homes/zihao/DATAS/TEST_for_annot/'\n",
    "file_extension = '_annot.txt'\n",
    "file_list = os.listdir(folder_path)\n",
    "id_list = df['ID'].to_list()\n",
    "\n",
    "for i in range(len(file_list)):\n",
    "    old_file_name = file_list[i]\n",
    "    new_file_name = id_list[i] + file_extension\n",
    "    os.rename(os.path.join(folder_path, old_file_name), os.path.join(folder_path, new_file_name))\n"
   ]
  },
  {
   "cell_type": "markdown",
   "id": "1824a50b",
   "metadata": {},
   "source": [
    "### 2. handle with the datas (For test also for final version)_output.txt"
   ]
  },
  {
   "cell_type": "code",
   "execution_count": null,
   "id": "6422e4e6",
   "metadata": {},
   "outputs": [],
   "source": [
    "# 读取数据1\n",
    "data1_file = \"/homes/zihao/EBI_INTER/P1_Coverage/output_modified.txt\"\n",
    "data1 = []\n",
    "with open(data1_file) as f:\n",
    "    header = f.readline().strip() + \"\\tAF\\tSB\\n\"\n",
    "    for line in f:\n",
    "        line = line.strip().split()\n",
    "        data1.append(line)\n",
    "\n",
    "# 遍历数据1中的ID，并在文件名中寻找含有该ID的文件\n",
    "data_folder = \"/homes/zihao/DATAS/TEST_for_annot/\"\n",
    "for row in data1:\n",
    "    id = row[0]\n",
    "    filename = os.path.join(data_folder, f\"{id}_annot.txt\")\n",
    "    if os.path.exists(filename):\n",
    "        # 打开含有该ID的文件\n",
    "        with open(filename) as f:\n",
    "            for line in f:\n",
    "                line = line.strip().split()\n",
    "                # 如果POS列与数据1中第二列相同，则将该行信息添加到数据1新的列中\n",
    "                if line[0] == row[1]:\n",
    "                    row.append(line[3])\n",
    "                    row.append(line[4])\n",
    "                    break\n",
    "            else:\n",
    "                # 如果未找到匹配行，则在该行中添加空值\n",
    "                row.append(\"\")\n",
    "                row.append(\"\")\n",
    "    else:\n",
    "        # 如果文件不存在，则在该行中添加空值\n",
    "        row.append(\"\")\n",
    "        row.append(\"\")\n",
    "\n",
    "# 将数据1输出到文件中\n",
    "output_file = \"output.txt\"\n",
    "with open(output_file, \"w\") as f:\n",
    "    f.write(header)\n",
    "    for row in data1:\n",
    "        f.write(\"\\t\".join(row) + \"\\n\")\n",
    "\n",
    "\n"
   ]
  }
 ],
 "metadata": {
  "kernelspec": {
   "display_name": "Python 3 (ipykernel)",
   "language": "python",
   "name": "python3"
  },
  "language_info": {
   "codemirror_mode": {
    "name": "ipython",
    "version": 3
   },
   "file_extension": ".py",
   "mimetype": "text/x-python",
   "name": "python",
   "nbconvert_exporter": "python",
   "pygments_lexer": "ipython3",
   "version": "3.10.9"
  }
 },
 "nbformat": 4,
 "nbformat_minor": 5
}
