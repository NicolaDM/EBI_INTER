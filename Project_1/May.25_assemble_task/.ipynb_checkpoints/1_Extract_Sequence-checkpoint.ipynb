{
 "cells": [
  {
   "cell_type": "markdown",
   "id": "9846a69b",
   "metadata": {},
   "source": [
    "## 1_Extract_Sequence"
   ]
  },
  {
   "cell_type": "markdown",
   "id": "ba7bd24a",
   "metadata": {},
   "source": [
    "```bash\n",
    "bsub -M 2000 -e /nfs/research/goldman/zihao/errorsProject_1/Part1_2_for_assemble/Extract_Sequence_errorChecking_error.txt 'python3 /nfs/research/goldman/zihao/errorsProject_1/Part1_2_for_assemble/1_Extract_Sequence.py'\n",
    "```"
   ]
  },
  {
   "cell_type": "code",
   "execution_count": null,
   "id": "797d28eb",
   "metadata": {},
   "outputs": [],
   "source": [
    "import os\n",
    "import gzip\n",
    "\n",
    "base_path = \"/nfs/research/zi/mhunt/Viridian_wf_paper/Vdn_all_ena/Reads/\"\n",
    "\n",
    "folders = ['D', 'S', 'E']\n",
    "\n",
    "output_files = [\"/nfs/research/goldman/zihao/Datas/p1/Part1_2_for_assemble_data/output_D.txt\", \n",
    "\"/nfs/research/goldman/zihao/Datas/p1/Part1_2_for_assemble_data/output_S.txt\", \n",
    "\"/nfs/research/goldman/zihao/Datas/p1/Part1_2_for_assemble_data/output_E.txt\"]\n",
    "\n",
    "def process_folder(folder_path, output_file):\n",
    "    # Get the list of subfolders in the current folder\n",
    "    subfolders = [subfolder for subfolder in os.listdir(folder_path) if os.path.isdir(os.path.join(folder_path, subfolder))]\n",
    "    for subfolder in subfolders:\n",
    "        subfolder_path = os.path.join(folder_path, subfolder)\n",
    "        if subfolder == \"vdn.v1.0.0\":\n",
    "            file_path = os.path.join(subfolder_path, \"consensus.fa.gz\")\n",
    "            if os.path.exists(file_path):\n",
    "                # Read the content of the gzipped file\n",
    "                with gzip.open(file_path, 'rt') as f_in:\n",
    "                    content = f_in.read()\n",
    "                    # Write the content to the output file\n",
    "                    with open(output_file, \"a\") as f_out:\n",
    "                        f_out.write(content)\n",
    "        else:\n",
    "            # Recursively process the subfolder\n",
    "            process_folder(subfolder_path, output_file)\n",
    "\n",
    "for i, folder in enumerate(folders):\n",
    "    output_file = output_files[i]\n",
    "    with open(output_file, \"w\") as f_out:\n",
    "        folder_path = os.path.join(base_path, folder)\n",
    "        # Process the current folder\n",
    "        process_folder(folder_path, output_file)"
   ]
  },
  {
   "cell_type": "markdown",
   "id": "f7cb15b2",
   "metadata": {},
   "source": [
    "### For test\n",
    "```python\n",
    "import os\n",
    "import gzip\n",
    "\n",
    "base_path = \"/nfs/research/zi/mhunt/Viridian_wf_paper/Vdn_all_ena/Reads/\"\n",
    "\n",
    "folders = ['D', 'S', 'E']\n",
    "\n",
    "output_files = [\"output_D.txt\", \"output_S.txt\", \"output_E.txt\"]\n",
    "\n",
    "def process_folder(folder_path, output_file):\n",
    "    # Get the list of subfolders in the current folder\n",
    "    subfolders = [subfolder for subfolder in os.listdir(folder_path) if os.path.isdir(os.path.join(folder_path, subfolder))]\n",
    "    for subfolder in subfolders:\n",
    "        subfolder_path = os.path.join(folder_path, subfolder)\n",
    "        if subfolder == \"vdn.v1.0.0\":\n",
    "            file_path = os.path.join(subfolder_path, \"consensus.fa.gz\")\n",
    "            if os.path.exists(file_path):\n",
    "                # Read the content of the gzipped file\n",
    "                with gzip.open(file_path, 'rt') as f_in:\n",
    "                    content = f_in.read()\n",
    "                    # Write the content to the output file\n",
    "                    with open(output_file, \"a\") as f_out:\n",
    "                        f_out.write(content)\n",
    "        else:\n",
    "            # Recursively process the subfolder\n",
    "            process_folder(subfolder_path, output_file)\n",
    "\n",
    "for i, folder in enumerate(folders):\n",
    "    output_file = output_files[i]\n",
    "    with open(output_file, \"w\") as f_out:\n",
    "        folder_path = os.path.join(base_path, folder)\n",
    "        # Process the current folder\n",
    "        process_folder(folder_path, output_file)\n",
    "```"
   ]
  },
  {
   "cell_type": "markdown",
   "id": "a803ee76",
   "metadata": {},
   "source": [
    "在递归扫描文件夹时依次进入子文件夹，并在进入 vdn.v1.0.0 文件夹后读取其中的 consensus.fa.gz 文件并写入文本\n",
    "\n",
    "在这个更新后的示例代码中，我们使用了递归函数 process_folder，对于每个文件夹，我们首先列出其中的子文件夹，并在循环中对子文件夹进行处理。\n",
    "\n",
    "在处理每个子文件夹时，如果子文件夹的名称是 vdn.v1.0.0，我们构建 consensus.fa.gz 文件的路径并检查其是否存在。如果文件存在，我们使用 gzip.open 打开文件，并以文本模式 'rt' 进行读取。然后将文件内容写入输出文件中。\n",
    "\n",
    "如果子文件夹的名称不是 vdn.v1.0.0，我们递归调用 process_folder 函数，传递子文件夹路径和输出文件作为参数，以处理子文件夹中的子文件夹。\n",
    "\n",
    "======================================\n",
    "\n",
    "\n",
    "\n",
    "\n",
    "\n",
    "在这个修改后的代码中，我添加了一个名为 output_files 的列表，其中包含三个输出文件的路径，分别对应于D、S和E文件夹的结果。\n",
    "\n",
    "在主程序的主循环中，我们使用 enumerate 函数同时迭代 folders 列表中的文件夹名称，并获取对应的输出文件路径。然后，我们使用 with open 语句打开输出文件，并将文件路径作为参数传递给 process_folder 函数。\n",
    "\n",
    "这样，process_folder 函数将会将相应文件夹的结果写入正确的输出文件中。"
   ]
  },
  {
   "cell_type": "code",
   "execution_count": null,
   "id": "01b37a7c",
   "metadata": {},
   "outputs": [],
   "source": []
  },
  {
   "cell_type": "markdown",
   "id": "614eafce",
   "metadata": {},
   "source": [
    "```bash\n",
    "mafft --6merpair --keeplength --addfragments \"/nfs/research/goldman/zihao/Datas/p1/File_5_consensus/Decompress/all_consensuses_batch_$i.fasta\" \"/nfs/research/goldman/zihao/errorsProject_1/Consensuses/ref_MN908947.3.fasta\" > \"/nfs/research/goldman/zihao/Datas/p1/File_5_consensus/Decompress/aligned_$i.fasta\"\n",
    "```"
   ]
  },
  {
   "cell_type": "code",
   "execution_count": null,
   "id": "4e973fc2",
   "metadata": {},
   "outputs": [],
   "source": []
  }
 ],
 "metadata": {
  "kernelspec": {
   "display_name": "Python 3 (ipykernel)",
   "language": "python",
   "name": "python3"
  },
  "language_info": {
   "codemirror_mode": {
    "name": "ipython",
    "version": 3
   },
   "file_extension": ".py",
   "mimetype": "text/x-python",
   "name": "python",
   "nbconvert_exporter": "python",
   "pygments_lexer": "ipython3",
   "version": "3.10.9"
  }
 },
 "nbformat": 4,
 "nbformat_minor": 5
}
