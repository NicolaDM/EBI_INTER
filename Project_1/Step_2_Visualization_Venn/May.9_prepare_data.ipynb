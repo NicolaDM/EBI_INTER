{
 "cells": [
  {
   "cell_type": "code",
   "execution_count": 1,
   "id": "8d05510a",
   "metadata": {},
   "outputs": [],
   "source": [
    "input_for_annot_err = \"/nfs/research/goldman/zihao/Datas/p1/File_5_annot/Error_pos_for_annot.txt\"\n",
    "input_for_annot_af = \"/nfs/research/goldman/zihao/Datas/p1/File_5_annot/AF_2_RATIO.txt\"\n",
    "input_for_annot_sb = \"/nfs/research/goldman/zihao/Datas/p1/File_5_annot/SB_2_RATIO.txt\"\n",
    "\n",
    "input_for_cov_err = \"/nfs/research/goldman/zihao/Datas/p1/File_5_coverage/Error_pos_for_coverage.txt\"\n",
    "input_for_cov_all = \"/nfs/research/goldman/zihao/Datas/p1/File_5_coverage/Cov_RATIO.txt\""
   ]
  },
  {
   "cell_type": "markdown",
   "id": "daa05506",
   "metadata": {},
   "source": [
    "## 1. Error position"
   ]
  },
  {
   "cell_type": "markdown",
   "id": "c7ae4c69",
   "metadata": {},
   "source": [
    "### 1.1_input SB&AF"
   ]
  },
  {
   "cell_type": "code",
   "execution_count": 2,
   "id": "dc978865",
   "metadata": {},
   "outputs": [],
   "source": [
    "import pandas as pd\n",
    "\n",
    "# 读取数据\n",
    "df = pd.read_csv(input_for_annot_err, sep='\\t')\n",
    "\n",
    "# 分别计算 DP、AF、SB 的平均值\n",
    "columns = [\"AF\", \"SB\"]\n",
    "results = {}\n",
    "for i, col in enumerate(columns):\n",
    "    df_col = df.dropna(subset=[col])[[\"Position\", col]]\n",
    "    df_col[col] = df_col[col].astype(float)\n",
    "    result = df_col.groupby(by=[\"Position\"], as_index=False).max(numeric_only=True)\n",
    "    result = result[result[col] != 0]  # 只保留非零值\n",
    "    results[f\"df_err_v{i+1}\"] = result\n",
    "    \n",
    "\n",
    "# 返回结果\n",
    "df_err_v1 = results[\"df_err_v1\"]\n",
    "df_err_v2 = results[\"df_err_v2\"]\n",
    "\n",
    "# 创建一个新的索引\n",
    "new_index = pd.RangeIndex(start=1, stop=29903, step=1)\n",
    "\n",
    "# 重新索引数据框\n",
    "df_err_v1 = df_err_v1.set_index('Position').reindex(new_index, fill_value=0).reset_index(drop=False).rename(columns={'index': 'Position'})\n",
    "df_err_v2 = df_err_v2.set_index('Position').reindex(new_index, fill_value=0).reset_index(drop=False).rename(columns={'index': 'Position'})"
   ]
  },
  {
   "cell_type": "markdown",
   "id": "f13ef366",
   "metadata": {},
   "source": [
    "### 1.2_input coverage"
   ]
  },
  {
   "cell_type": "code",
   "execution_count": 3,
   "id": "0966bbdd",
   "metadata": {},
   "outputs": [
    {
     "data": {
      "text/html": [
       "<div>\n",
       "<style scoped>\n",
       "    .dataframe tbody tr th:only-of-type {\n",
       "        vertical-align: middle;\n",
       "    }\n",
       "\n",
       "    .dataframe tbody tr th {\n",
       "        vertical-align: top;\n",
       "    }\n",
       "\n",
       "    .dataframe thead th {\n",
       "        text-align: right;\n",
       "    }\n",
       "</style>\n",
       "<table border=\"1\" class=\"dataframe\">\n",
       "  <thead>\n",
       "    <tr style=\"text-align: right;\">\n",
       "      <th></th>\n",
       "      <th>Position</th>\n",
       "      <th>MEAN_err</th>\n",
       "    </tr>\n",
       "  </thead>\n",
       "  <tbody>\n",
       "    <tr>\n",
       "      <th>0</th>\n",
       "      <td>1</td>\n",
       "      <td>0.000000</td>\n",
       "    </tr>\n",
       "    <tr>\n",
       "      <th>1</th>\n",
       "      <td>2</td>\n",
       "      <td>0.002446</td>\n",
       "    </tr>\n",
       "    <tr>\n",
       "      <th>2</th>\n",
       "      <td>3</td>\n",
       "      <td>0.004533</td>\n",
       "    </tr>\n",
       "    <tr>\n",
       "      <th>3</th>\n",
       "      <td>4</td>\n",
       "      <td>0.000000</td>\n",
       "    </tr>\n",
       "    <tr>\n",
       "      <th>4</th>\n",
       "      <td>5</td>\n",
       "      <td>0.000000</td>\n",
       "    </tr>\n",
       "    <tr>\n",
       "      <th>...</th>\n",
       "      <td>...</td>\n",
       "      <td>...</td>\n",
       "    </tr>\n",
       "    <tr>\n",
       "      <th>29897</th>\n",
       "      <td>29898</td>\n",
       "      <td>0.000000</td>\n",
       "    </tr>\n",
       "    <tr>\n",
       "      <th>29898</th>\n",
       "      <td>29899</td>\n",
       "      <td>0.000000</td>\n",
       "    </tr>\n",
       "    <tr>\n",
       "      <th>29899</th>\n",
       "      <td>29900</td>\n",
       "      <td>0.000000</td>\n",
       "    </tr>\n",
       "    <tr>\n",
       "      <th>29900</th>\n",
       "      <td>29901</td>\n",
       "      <td>0.000000</td>\n",
       "    </tr>\n",
       "    <tr>\n",
       "      <th>29901</th>\n",
       "      <td>29902</td>\n",
       "      <td>0.000000</td>\n",
       "    </tr>\n",
       "  </tbody>\n",
       "</table>\n",
       "<p>29902 rows × 2 columns</p>\n",
       "</div>"
      ],
      "text/plain": [
       "       Position  MEAN_err\n",
       "0             1  0.000000\n",
       "1             2  0.002446\n",
       "2             3  0.004533\n",
       "3             4  0.000000\n",
       "4             5  0.000000\n",
       "...         ...       ...\n",
       "29897     29898  0.000000\n",
       "29898     29899  0.000000\n",
       "29899     29900  0.000000\n",
       "29900     29901  0.000000\n",
       "29901     29902  0.000000\n",
       "\n",
       "[29902 rows x 2 columns]"
      ]
     },
     "execution_count": 3,
     "metadata": {},
     "output_type": "execute_result"
    }
   ],
   "source": [
    "df_err = pd.read_csv(input_for_cov_err, sep='\\t')\n",
    "# 使用loc和布尔索引筛选出满足条件的行，然后删除该列\n",
    "df = df_err[df_err['Position'].astype(int) <= 29903]\n",
    "\n",
    "df[\"MEAN_err\"] = pd.to_numeric(df_err['MEAN_err'], errors='coerce')\n",
    "df_err = df.groupby(by=[\"Position\"], as_index=False).mean(numeric_only=True)\n",
    "\n",
    "# 重新索引数据框\n",
    "df_err = df_err.set_index('Position').reindex(new_index, fill_value=0).reset_index(drop=False).rename(columns={'index': 'Position'})\n",
    "\n",
    "df_err"
   ]
  },
  {
   "cell_type": "markdown",
   "id": "8330f5a2",
   "metadata": {},
   "source": [
    "## Tips \n",
    "SB>0, and/or a very low coverage (for example a coverage ratio<0.1), and/or an AF>0.01(need change) ."
   ]
  },
  {
   "cell_type": "code",
   "execution_count": 4,
   "id": "922a7440",
   "metadata": {},
   "outputs": [],
   "source": [
    "# Convert the 'MEAN_err' column to a floating point number\n",
    "df_err['MEAN_err'] = pd.to_numeric(df_err['MEAN_err'], errors='coerce')\n",
    "\n",
    "# Replace the NaN value with 0\n",
    "df_err['MEAN_err'] = df_err['MEAN_err'].fillna(0)\n",
    "\n",
    "# Compare the 'MEAN_err' column with 0.1\n",
    "df_err['Flag'] = df_err['MEAN_err'] > 0.1\n",
    "\n",
    "# Compare the 'MEAN_err' column with 0.1\n",
    "df_err_v1['Flag'] = df_err_v1['AF'] > 0.01\n",
    "\n",
    "# Compare the 'MEAN_err' column with 0.1\n",
    "df_err_v2['Flag'] = df_err_v2['SB'] > 0"
   ]
  },
  {
   "cell_type": "code",
   "execution_count": null,
   "id": "5e2ff7e3",
   "metadata": {},
   "outputs": [],
   "source": []
  },
  {
   "cell_type": "code",
   "execution_count": 8,
   "id": "6acc48b7",
   "metadata": {},
   "outputs": [
    {
     "data": {
      "text/plain": [
       "Position    0.845696\n",
       "MEAN_err    0.845696\n",
       "Flag        0.845696\n",
       "dtype: float64"
      ]
     },
     "execution_count": 8,
     "metadata": {},
     "output_type": "execute_result"
    }
   ],
   "source": [
    "(df_err[df_err['Flag'] == False]).count()/29902"
   ]
  },
  {
   "cell_type": "code",
   "execution_count": 9,
   "id": "2ace854a",
   "metadata": {},
   "outputs": [
    {
     "data": {
      "text/plain": [
       "Position    0.89275\n",
       "AF          0.89275\n",
       "Flag        0.89275\n",
       "dtype: float64"
      ]
     },
     "execution_count": 9,
     "metadata": {},
     "output_type": "execute_result"
    }
   ],
   "source": [
    "(df_err_v1[df_err_v1['Flag'] == False]).count()/29902"
   ]
  },
  {
   "cell_type": "code",
   "execution_count": 10,
   "id": "da234fcd",
   "metadata": {},
   "outputs": [
    {
     "data": {
      "text/plain": [
       "Position    0.895759\n",
       "SB          0.895759\n",
       "Flag        0.895759\n",
       "dtype: float64"
      ]
     },
     "execution_count": 10,
     "metadata": {},
     "output_type": "execute_result"
    }
   ],
   "source": [
    "(df_err_v2[df_err_v2['Flag'] == False]).count()/29902"
   ]
  },
  {
   "cell_type": "code",
   "execution_count": null,
   "id": "7fa7db42",
   "metadata": {},
   "outputs": [],
   "source": []
  },
  {
   "cell_type": "code",
   "execution_count": 8,
   "id": "e45b08f6",
   "metadata": {},
   "outputs": [],
   "source": [
    "df_err.to_csv(\"/homes/zihao/EBI_INTER/A_Datas/ERR_COV.txt\", sep='\\t', index=False)\n",
    "df_err_v1.to_csv(\"/homes/zihao/EBI_INTER/A_Datas/ERR_AF.txt\", sep='\\t', index=False)\n",
    "df_err_v2.to_csv(\"/homes/zihao/EBI_INTER/A_Datas/ERR_SB.txt\", sep='\\t', index=False)"
   ]
  },
  {
   "cell_type": "markdown",
   "id": "9bd3f54c",
   "metadata": {},
   "source": [
    "## 2. All position"
   ]
  },
  {
   "cell_type": "markdown",
   "id": "bb2160df",
   "metadata": {},
   "source": [
    "#### 1) For annot"
   ]
  },
  {
   "cell_type": "code",
   "execution_count": 12,
   "id": "29fef2e9",
   "metadata": {},
   "outputs": [],
   "source": [
    "df_all_1 = pd.read_csv(input_for_annot_af, \n",
    "                       sep='\\t').reset_index().rename(columns={'index': 'POS'})\n",
    "df_all_2 = pd.read_csv(input_for_annot_sb, \n",
    "                       sep='\\t').reset_index().rename(columns={'index': 'POS'})\n",
    "df_all_1['Flag'] = df_all_1['ERROR_all'] > 0.01\n",
    "df_all_2['Flag'] = df_all_2['ERROR_all'] > 0"
   ]
  },
  {
   "cell_type": "code",
   "execution_count": 13,
   "id": "42d69356",
   "metadata": {},
   "outputs": [
    {
     "data": {
      "text/plain": [
       "POS          0.976958\n",
       "ERROR_all    0.976958\n",
       "Flag         0.976958\n",
       "dtype: float64"
      ]
     },
     "execution_count": 13,
     "metadata": {},
     "output_type": "execute_result"
    }
   ],
   "source": [
    "(df_all_1[df_all_1['Flag'] == False]).count()/29902"
   ]
  },
  {
   "cell_type": "code",
   "execution_count": 14,
   "id": "c861966d",
   "metadata": {},
   "outputs": [
    {
     "data": {
      "text/plain": [
       "POS          1.000033\n",
       "ERROR_all    1.000033\n",
       "Flag         1.000033\n",
       "dtype: float64"
      ]
     },
     "execution_count": 14,
     "metadata": {},
     "output_type": "execute_result"
    }
   ],
   "source": [
    "(df_all_2[df_all_2['Flag'] == False]).count()/29902"
   ]
  },
  {
   "cell_type": "code",
   "execution_count": 16,
   "id": "2f994c2b",
   "metadata": {},
   "outputs": [
    {
     "data": {
      "text/plain": [
       "POS          29903\n",
       "ERROR_all    29903\n",
       "Flag         29903\n",
       "dtype: int64"
      ]
     },
     "execution_count": 16,
     "metadata": {},
     "output_type": "execute_result"
    }
   ],
   "source": [
    "(df_all_2[df_all_2['Flag'] == False]).count()"
   ]
  },
  {
   "cell_type": "markdown",
   "id": "1dfd2fee",
   "metadata": {},
   "source": [
    "#### 2) For coverage"
   ]
  },
  {
   "cell_type": "code",
   "execution_count": null,
   "id": "df28eba6",
   "metadata": {},
   "outputs": [],
   "source": [
    "df_all = pd.read_csv(input_for_cov_all, sep='\\t').reset_index().rename(columns={'index': 'POS'})\n",
    "df_all['Flag'] = df_all['ERROR_all'] > 0.1"
   ]
  },
  {
   "cell_type": "code",
   "execution_count": 19,
   "id": "7e3edab9",
   "metadata": {},
   "outputs": [
    {
     "data": {
      "text/plain": [
       "POS          0.201692\n",
       "ERROR_all    0.201692\n",
       "Flag         0.201692\n",
       "dtype: float64"
      ]
     },
     "execution_count": 19,
     "metadata": {},
     "output_type": "execute_result"
    }
   ],
   "source": [
    "(df_all[df_all['Flag'] == False]).count()/29902"
   ]
  },
  {
   "cell_type": "code",
   "execution_count": 15,
   "id": "6577322a",
   "metadata": {},
   "outputs": [],
   "source": []
  },
  {
   "cell_type": "code",
   "execution_count": 17,
   "id": "82263a6e",
   "metadata": {},
   "outputs": [],
   "source": []
  },
  {
   "cell_type": "code",
   "execution_count": 10,
   "id": "f4eece77",
   "metadata": {},
   "outputs": [],
   "source": [
    "df_all_1.to_csv(\"/homes/zihao/EBI_INTER/A_Datas/ALL_AF.txt\", sep='\\t', index=False)\n",
    "df_all_2.to_csv(\"/homes/zihao/EBI_INTER/A_Datas/ALL_SB.txt\", sep='\\t', index=False)\n",
    "df_all.to_csv(\"/homes/zihao/EBI_INTER/A_Datas/ALL_COV.txt\", sep='\\t', index=False)"
   ]
  },
  {
   "cell_type": "markdown",
   "id": "02ad6446",
   "metadata": {},
   "source": [
    "### Next \n",
    "- go ---> May.2_Venn.Rmd"
   ]
  }
 ],
 "metadata": {
  "kernelspec": {
   "display_name": "Python 3 (ipykernel)",
   "language": "python",
   "name": "python3"
  },
  "language_info": {
   "codemirror_mode": {
    "name": "ipython",
    "version": 3
   },
   "file_extension": ".py",
   "mimetype": "text/x-python",
   "name": "python",
   "nbconvert_exporter": "python",
   "pygments_lexer": "ipython3",
   "version": "3.10.9"
  }
 },
 "nbformat": 4,
 "nbformat_minor": 5
}
