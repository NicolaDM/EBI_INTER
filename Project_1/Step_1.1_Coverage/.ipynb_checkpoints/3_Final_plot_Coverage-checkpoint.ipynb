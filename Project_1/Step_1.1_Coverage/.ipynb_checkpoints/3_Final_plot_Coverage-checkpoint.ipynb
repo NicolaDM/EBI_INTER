{
 "cells": [
  {
   "cell_type": "code",
   "execution_count": 2,
   "id": "5f302aa1",
   "metadata": {},
   "outputs": [],
   "source": [
    "import plotly.graph_objects as go\n",
    "import plotly.express as px\n",
    "import plotly.figure_factory as ff\n",
    "import pandas as pd\n",
    "import numpy as np"
   ]
  },
  {
   "cell_type": "markdown",
   "id": "49fda0cd",
   "metadata": {},
   "source": [
    "### 1.处理 error position"
   ]
  },
  {
   "cell_type": "code",
   "execution_count": 8,
   "id": "cb236c66",
   "metadata": {},
   "outputs": [],
   "source": [
    "df = pd.read_csv(\"processed_data.txt\", sep='\\t')\n",
    "\n",
    "# Delete rows where RATIO is None\n",
    "df = df.replace(\"None\", np.nan)\n",
    "df = df.dropna(subset=[\"MEAN_err\"])\n",
    "\n",
    "# Calculate the mean from the position\n",
    "df[\"MEAN_err\"] = df[\"MEAN_err\"].astype(float)\n",
    "df_err = df.groupby(by=[\"Position\"], as_index=False).mean(numeric_only=True)"
   ]
  },
  {
   "cell_type": "markdown",
   "id": "285f032b",
   "metadata": {},
   "source": [
    "### 2.处理 all position"
   ]
  },
  {
   "cell_type": "code",
   "execution_count": 13,
   "id": "1c4a3261",
   "metadata": {},
   "outputs": [],
   "source": [
    "df_all = pd.read_csv('/homes/zihao/P1/processed_data_all.txt', sep='\\t')"
   ]
  },
  {
   "cell_type": "markdown",
   "id": "614a003c",
   "metadata": {},
   "source": [
    "# Visualization"
   ]
  },
  {
   "cell_type": "code",
   "execution_count": 14,
   "id": "6847ef06",
   "metadata": {},
   "outputs": [
    {
     "data": {
      "text/plain": [
       "'my_plot.html'"
      ]
     },
     "execution_count": 14,
     "metadata": {},
     "output_type": "execute_result"
    }
   ],
   "source": [
    "from plotly.offline import iplot, plot\n",
    "\n",
    "hist_data = [df_err['MEAN_err'].tolist(), df_all['MEAN_pos'].tolist()]\n",
    "group_labels = ['error position', 'all position'] # name of the dataset\n",
    "colors = ['#7FA6EE', '#B8F7D4']\n",
    "\n",
    "fig = ff.create_distplot(hist_data, group_labels, curve_type='normal', colors=colors, bin_size=.5)\n",
    "\n",
    "# 设置图形布局\n",
    "fig.update_layout(\n",
    "    title=\"Blank for now\",\n",
    "    yaxis=dict(\n",
    "        title='Frequency',\n",
    "        showline=True, showgrid=False,\n",
    "        linewidth=2, linecolor='gray', ticks='outside',\n",
    "        tickfont=dict(\n",
    "            family='Arial',\n",
    "            size=12,\n",
    "            color='black',\n",
    "        )\n",
    "    ),\n",
    "    \n",
    "    xaxis=dict(\n",
    "        title='The ratio of coverage vs mean coverage',\n",
    "        showline=True, showgrid=False,\n",
    "        linewidth=2, linecolor='gray', ticks='outside',\n",
    "        tickfont=dict(\n",
    "            family='Arial',\n",
    "            size=12,\n",
    "            color='black',\n",
    "        )\n",
    "    ),\n",
    "    legend=dict(\n",
    "        traceorder=\"normal\",\n",
    "        font=dict(size=12),\n",
    "    ),\n",
    "\n",
    "    plot_bgcolor='white',\n",
    "    yaxis_gridcolor='lightgray', yaxis_gridwidth=0.5,\n",
    "    xaxis_gridcolor='lightgray', xaxis_gridwidth=0.5,\n",
    ")\n",
    "# fig.show()\n",
    "plot(fig, filename='my_plot.html')"
   ]
  },
  {
   "cell_type": "markdown",
   "id": "2189d4d4",
   "metadata": {},
   "source": [
    "### rug plot：\n",
    "Showing the original discrete distribution of the data"
   ]
  },
  {
   "cell_type": "code",
   "execution_count": 6,
   "id": "609db7fd",
   "metadata": {},
   "outputs": [
    {
     "data": {
      "text/plain": [
       "1123"
      ]
     },
     "execution_count": 6,
     "metadata": {},
     "output_type": "execute_result"
    }
   ],
   "source": [
    "import gc\n",
    "gc.collect()"
   ]
  }
 ],
 "metadata": {
  "kernelspec": {
   "display_name": "Python 3 (ipykernel)",
   "language": "python",
   "name": "python3"
  },
  "language_info": {
   "codemirror_mode": {
    "name": "ipython",
    "version": 3
   },
   "file_extension": ".py",
   "mimetype": "text/x-python",
   "name": "python",
   "nbconvert_exporter": "python",
   "pygments_lexer": "ipython3",
   "version": "3.10.9"
  }
 },
 "nbformat": 4,
 "nbformat_minor": 5
}
