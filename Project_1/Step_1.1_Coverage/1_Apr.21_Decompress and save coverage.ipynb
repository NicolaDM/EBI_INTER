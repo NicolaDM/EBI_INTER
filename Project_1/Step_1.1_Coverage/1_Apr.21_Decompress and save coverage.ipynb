{
 "cells": [
  {
   "cell_type": "markdown",
   "id": "df9ed0c5",
   "metadata": {},
   "source": [
    "### 0. Decompress and save coverage"
   ]
  },
  {
   "cell_type": "code",
   "execution_count": 6,
   "id": "8f97c0d4",
   "metadata": {},
   "outputs": [
    {
     "name": "stdout",
     "output_type": "stream",
     "text": [
      "/homes/zihao/TEST/SRR20920168_coverage.txt already exists. Skipping file /nfs/research/goldman/zihao/Datas/p1/File_5_coverage/Downloads/SRR20920168.coverage.gz.\n",
      "/homes/zihao/TEST/ERR4908531_coverage.txt already exists. Skipping file /nfs/research/goldman/zihao/Datas/p1/File_5_coverage/Downloads/ERR4908531.coverage.gz.\n",
      "/homes/zihao/TEST/ERR7093094_coverage.txt already exists. Skipping file /nfs/research/goldman/zihao/Datas/p1/File_5_coverage/Downloads/ERR7093094.coverage.gz.\n",
      "/homes/zihao/TEST/SRR22391894_coverage.txt already exists. Skipping file /nfs/research/goldman/zihao/Datas/p1/File_5_coverage/Downloads/SRR22391894.coverage.gz.\n",
      "/homes/zihao/TEST/SRR20507431_coverage.txt already exists. Skipping file /nfs/research/goldman/zihao/Datas/p1/File_5_coverage/Downloads/SRR20507431.coverage.gz.\n",
      "/homes/zihao/TEST/ERR6624907_coverage.txt already exists. Skipping file /nfs/research/goldman/zihao/Datas/p1/File_5_coverage/Downloads/ERR6624907.coverage.gz.\n",
      "/homes/zihao/TEST/SRR21152334_coverage.txt already exists. Skipping file /nfs/research/goldman/zihao/Datas/p1/File_5_coverage/Downloads/SRR21152334.coverage.gz.\n",
      "/homes/zihao/TEST/ERR6580345_coverage.txt already exists. Skipping file /nfs/research/goldman/zihao/Datas/p1/File_5_coverage/Downloads/ERR6580345.coverage.gz.\n",
      "/homes/zihao/TEST/ERR6498063_coverage.txt already exists. Skipping file /nfs/research/goldman/zihao/Datas/p1/File_5_coverage/Downloads/ERR6498063.coverage.gz.\n",
      "/homes/zihao/TEST/ERR8009037_coverage.txt already exists. Skipping file /nfs/research/goldman/zihao/Datas/p1/File_5_coverage/Downloads/ERR8009037.coverage.gz.\n"
     ]
    }
   ],
   "source": [
    "import os\n",
    "import gzip\n",
    "\n",
    "input_dir = '/nfs/research/goldman/zihao/Datas/p1/File_5_coverage/Downloads/'\n",
    "output_dir = '/homes/zihao/TEST/'\n",
    "\n",
    "# Get all file paths that end with '.coverage.gz'\n",
    "file_paths = (entry.path for entry in os.scandir(input_dir) if entry.name.endswith('.coverage.gz'))\n",
    "\n",
    "# Iterate over each file and store the results in a list\n",
    "for i, file_path in enumerate(file_paths):\n",
    "    \n",
    "    # Only process the first 10 files 正式版删除！！！！！！！！\n",
    "    if i >= 20:\n",
    "        break\n",
    "    # 正式版删除！！！！！！！！\n",
    "        \n",
    "    # Construct the output file name\n",
    "    output_file = os.path.join(output_dir, os.path.basename(file_path).replace('.coverage.gz', '_coverage.txt'))\n",
    "\n",
    "    # Check if the output file already exists and skip the file if it does\n",
    "    if os.path.exists(output_file):\n",
    "        print(f\"{output_file} already exists. Skipping file {file_path}.\")\n",
    "        continue\n",
    "\n",
    "    try:\n",
    "        with gzip.open(file_path, 'rt') as f:\n",
    "            # Read each line in the file and strip the newline character\n",
    "            # Ignore lines that start with '##'\n",
    "            lines = (line.strip() for line in f if not line.startswith('##'))\n",
    "            # Split each line by the tab character and parse the data\n",
    "            data = [[int(pos), n, int(cov)] for line in lines for pos, n, cov in [line.split(',')]]\n",
    "            # Calculate the mean coverage and the coverage ratio for each position\n",
    "            total_coverage = sum(row[2] for row in data)\n",
    "            mean_coverage = total_coverage / len(data)\n",
    "            ratio_data = [[str(row[0]), row[1], str(row[2] / mean_coverage)] for row in data]\n",
    "            # Write the results to a text file\n",
    "            with open(output_file, 'w') as out_f:\n",
    "                out_f.write('Position\\tN\\tRATIO\\n')\n",
    "                out_f.writelines('\\t'.join(row) + '\\n' for row in ratio_data)\n",
    "                    \n",
    "    except Exception as e:\n",
    "        print(f\"Unknown error processing {file_path}: {e}\")"
   ]
  },
  {
   "cell_type": "markdown",
   "id": "b19e9dec",
   "metadata": {},
   "source": [
    "### pandas version\n",
    "\n",
    "```python\n",
    "import os\n",
    "import gzip\n",
    "import pandas as pd\n",
    "import glob\n",
    "\n",
    "input_dir = '/nfs/research/goldman/zihao/Datas/p1/File_5_coverage/Downloads/'\n",
    "output_dir = '/nfs/research/goldman/zihao/Datas/p1/File_5_coverage/Decompress/'\n",
    "\n",
    "# Get all file paths that end with .coverage.gz\n",
    "file_paths = glob.glob(os.path.join(input_dir, '*.coverage.gz'))\n",
    "\n",
    "# Traverse each file and store the results in a list\n",
    "for i, file_path in enumerate(file_paths):\n",
    "    # Construct the output file name\n",
    "    output_file = os.path.join(output_dir, os.path.basename(file_path).replace('.coverage.gz', '_coverage.txt'))\n",
    "    try:\n",
    "        with gzip.open(file_path, 'rt') as f:\n",
    "            lines = [line for line in f if not line.startswith('##')]\n",
    "            data = [line.strip().split('\\t') for line in lines[0:]]\n",
    "            df = pd.DataFrame(data)\n",
    "            df[['Position', 'N', 'Coverage']] = df.iloc[:, 0].str.split(',', expand=True)\n",
    "            df = df.drop(df.columns[[0, 2]], axis=1)\n",
    "            df['SUM'] = df['Coverage'].astype(int).sum()\n",
    "            df['MEAN'] = df['SUM']/len(df)\n",
    "            df['RATIO'] = df['Coverage'].astype(int)/df['MEAN'].astype(int)\n",
    "            df = df.drop(['SUM','MEAN'], axis=1)\n",
    "            # Save the results to a text file\n",
    "            df.to_csv(output_file, sep='\\t', header=True, index=False)\n",
    "            # Delete the DataFrame to free up memory\n",
    "            del df\n",
    "    except gzip.BadGzipFile:\n",
    "        print(f\"Skipping {file_path}: gzip decompression failed.\")\n",
    "        continue\n",
    "    except IndexError as e:\n",
    "        file_id = os.path.basename(file_path)[:10]\n",
    "        print(f\"Error processing {file_id}: {e}\")\n",
    "        continue\n",
    "    except EOFError as e:\n",
    "        file_id = os.path.basename(file_path)[:10]\n",
    "        print(f\"Error processing {file_id}: {e}\")\n",
    "        continue\n",
    "```"
   ]
  }
 ],
 "metadata": {
  "kernelspec": {
   "display_name": "Python 3 (ipykernel)",
   "language": "python",
   "name": "python3"
  },
  "language_info": {
   "codemirror_mode": {
    "name": "ipython",
    "version": 3
   },
   "file_extension": ".py",
   "mimetype": "text/x-python",
   "name": "python",
   "nbconvert_exporter": "python",
   "pygments_lexer": "ipython3",
   "version": "3.10.9"
  }
 },
 "nbformat": 4,
 "nbformat_minor": 5
}
