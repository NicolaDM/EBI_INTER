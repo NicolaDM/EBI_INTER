{
 "cells": [
  {
   "cell_type": "markdown",
   "id": "8a5c4afd",
   "metadata": {},
   "source": [
    "```bash\n",
    "bsub -M 2000 -e /nfs/research/goldman/zihao/errorsProject_1/Coverage/Treat_all_pos_errorChecking_error.txt 'python3 /nfs/research/goldman/zihao/errorsProject_1/Coverage/Coverage_Treat_all_pos.py'\n",
    "```\n",
    "\n",
    "```bash\n",
    "sed -i 's|checkid_file = \"/nfs/research/goldman/zihao/errorsProject_1/MAPLE/TEST_50000/output_modified.txt\"|checkid_file = \"/nfs/research/goldman/zihao/errorsProject_1/MAPLE/TEST_50000/MAPLE0.3.2_rateVar_errors_realData_checkingErrors_50000_estimatedErrors.txt\"|g' Coverage_Treat_all_pos.py\n",
    "```"
   ]
  },
  {
   "cell_type": "code",
   "execution_count": 1,
   "id": "3411ca84",
   "metadata": {},
   "outputs": [
    {
     "name": "stdout",
     "output_type": "stream",
     "text": [
      "ERR6532208_coverage.txt\n",
      "SRR22120425_coverage.txt\n",
      "ERR6117514_coverage.txt\n",
      "ERR4908584_coverage.txt\n"
     ]
    }
   ],
   "source": [
    "import os\n",
    "\n",
    "# 指定目标文件夹的路径\n",
    "folder_path = \"/nfs/research/goldman/zihao/Datas/p1/File_5_coverage/Decompress/\"\n",
    "\n",
    "# 获取目标文件夹下的所有文件名\n",
    "file_names = os.listdir(folder_path)\n",
    "\n",
    "# 读取前4个以\".txt\"结尾的文件的文件名\n",
    "count = 0\n",
    "for file_name in file_names:\n",
    "    # 只读取前4个文件名以\".txt\"结尾的文件\n",
    "    if file_name.endswith(\".txt\") and count < 4:\n",
    "        print(file_name)\n",
    "        count += 1"
   ]
  },
  {
   "cell_type": "code",
   "execution_count": 13,
   "id": "90359a5b",
   "metadata": {},
   "outputs": [],
   "source": [
    "import csv\n",
    "import os\n",
    "\n",
    "def process_files(input_folder, output_folder, n=100):\n",
    "    # Get the list of file names in the input folder\n",
    "    file_names = os.listdir(input_folder)\n",
    "\n",
    "    # Create a new txt file to store the file content\n",
    "    with open(os.path.join(output_folder, \"output.txt\"), \"wt\") as output_file:\n",
    "        # Create a csv writer object and set the delimiter as '\\t'\n",
    "        writer = csv.writer(output_file, delimiter='\\t')\n",
    "        # Write the column names to the output file\n",
    "        writer.writerow([\"ID\", \"Position\", \"Ratio\"])\n",
    "\n",
    "        # Loop through the first N files with the extension '.txt' in the input folder\n",
    "        for i, file_name in enumerate(file_names):\n",
    "            if file_name.endswith(\".txt\") and i < n:\n",
    "                # Extract the file ID from the file name\n",
    "                file_id = file_name.split(\"_\")[0]\n",
    "                # Open the file, skip the header, and read the Position and Ratio columns\n",
    "                with open(os.path.join(input_folder, file_name), \"r\") as f:\n",
    "                    file_lines = f.readlines()[1:]\n",
    "                    # Loop through each line and write the ID, Position, and Ratio to the output file\n",
    "                    for line in file_lines:\n",
    "                        columns = line.strip().split(\"\\t\")\n",
    "                        position = columns[0]\n",
    "                        ratio = columns[2]\n",
    "                        writer.writerow([file_id, position, ratio])"
   ]
  },
  {
   "cell_type": "code",
   "execution_count": 14,
   "id": "e21a1039",
   "metadata": {},
   "outputs": [],
   "source": [
    "input_folder = \"/nfs/research/goldman/zihao/Datas/p1/File_5_coverage/Decompress/\"\n",
    "output_folder = '/homes/zihao/EBI_INTER/Project_1/Step_1.1_Coverage/'\n",
    "process_files(input_folder, output_folder, n=10)"
   ]
  }
 ],
 "metadata": {
  "kernelspec": {
   "display_name": "Python 3 (ipykernel)",
   "language": "python",
   "name": "python3"
  },
  "language_info": {
   "codemirror_mode": {
    "name": "ipython",
    "version": 3
   },
   "file_extension": ".py",
   "mimetype": "text/x-python",
   "name": "python",
   "nbconvert_exporter": "python",
   "pygments_lexer": "ipython3",
   "version": "3.10.9"
  }
 },
 "nbformat": 4,
 "nbformat_minor": 5
}
