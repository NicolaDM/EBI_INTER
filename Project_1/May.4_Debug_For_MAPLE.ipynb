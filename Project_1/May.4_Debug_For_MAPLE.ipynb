{
 "cells": [
  {
   "cell_type": "markdown",
   "id": "b33509c7",
   "metadata": {},
   "source": [
    "# For 1000"
   ]
  },
  {
   "cell_type": "code",
   "execution_count": 1,
   "id": "69e9bfe2",
   "metadata": {},
   "outputs": [],
   "source": [
    "count = 0\n",
    "with open('/nfs/research/goldman/zihao/Datas/p1/File_5_consensus/Decompress/Aligned/noReference/MAPLE_format_consensuses_new_1.txt', 'r') as f:\n",
    "    with open('/nfs/research/goldman/zihao/Datas/p1/File_5_consensus/Decompress/Aligned/noReference/A_NEW_MAPLE_format/MAPLE_format_consensuses_1000.txt', 'w') as out_file:\n",
    "        for line in f:\n",
    "            if line.startswith('>'):\n",
    "                count += 1\n",
    "                if count > 1000:\n",
    "                    break\n",
    "            out_file.write(line)\n"
   ]
  },
  {
   "cell_type": "markdown",
   "id": "e7baea07",
   "metadata": {},
   "source": [
    "```bash\n",
    "bsub -g /MapleRealErrors -q long -M 40000 -o /nfs/research/goldman/zihao/errorsProject_1/MAPLE/TEST_1000/MAPLE_realData_errorChecking_output_1000.txt -e /nfs/research/goldman/zihao/errorsProject_1/MAPLE/TEST_1000/MAPLE_realData_errorChecking_error_1000.txt /hps/software/users/goldman/pypy3/pypy3.7-v7.3.5-linux64/bin/pypy3 /nfs/research/goldman/demaio/fastLK/code/MAPLEv0.3.2.py --model UNREST --rateVariation --estimateSiteSpecificErrorRate --input /nfs/research/goldman/zihao/Datas/p1/File_5_consensus/Decompress/Aligned/noReference/A_NEW_MAPLE_format/MAPLE_format_consensuses_1000.txt --overwrite --estimateErrors --calculateLKfinalTree --output /nfs/research/goldman/zihao/errorsProject_1/MAPLE/TEST_1000/MAPLE0.3.2_rateVar_errors_realData_checkingErrors_1000\n",
    "```"
   ]
  },
  {
   "cell_type": "markdown",
   "id": "343a9cbe",
   "metadata": {},
   "source": [
    "# For 10000"
   ]
  },
  {
   "cell_type": "code",
   "execution_count": 6,
   "id": "c2931d26",
   "metadata": {},
   "outputs": [],
   "source": [
    "count = 0\n",
    "with open('/nfs/research/goldman/zihao/Datas/p1/File_5_consensus/Decompress/Aligned/noReference/MAPLE_format_consensuses_new_1.txt', 'r') as f:\n",
    "    with open('/nfs/research/goldman/zihao/Datas/p1/File_5_consensus/Decompress/Aligned/noReference/A_NEW_MAPLE_format/MAPLE_format_consensuses_10000.txt', 'w') as out_file:\n",
    "        for line in f:\n",
    "            if line.startswith('>'):\n",
    "                count += 1\n",
    "                if count > 10000:\n",
    "                    break\n",
    "            out_file.write(line)"
   ]
  },
  {
   "cell_type": "markdown",
   "id": "3e959a84",
   "metadata": {},
   "source": [
    "```bash\n",
    "bsub -g /MapleRealErrors_0 -q long -M 40000 -o /nfs/research/goldman/zihao/errorsProject_1/MAPLE/TEST_10000/MAPLE_realData_errorChecking_output_10000.txt -e /nfs/research/goldman/zihao/errorsProject_1/MAPLE/TEST_10000/MAPLE_realData_errorChecking_error_10000.txt /hps/software/users/goldman/pypy3/pypy3.7-v7.3.5-linux64/bin/pypy3 /nfs/research/goldman/demaio/fastLK/code/MAPLEv0.3.2.py --model UNREST --rateVariation --estimateSiteSpecificErrorRate --input /nfs/research/goldman/zihao/Datas/p1/File_5_consensus/Decompress/Aligned/noReference/A_NEW_MAPLE_format/MAPLE_format_consensuses_10000.txt --overwrite --estimateErrors --calculateLKfinalTree --output /nfs/research/goldman/zihao/errorsProject_1/MAPLE/TEST_10000/MAPLE0.3.2_rateVar_errors_realData_checkingErrors_10000\n",
    "```"
   ]
  },
  {
   "cell_type": "markdown",
   "id": "a4f13060",
   "metadata": {},
   "source": [
    "# For 50000"
   ]
  },
  {
   "cell_type": "code",
   "execution_count": 2,
   "id": "88915f3e",
   "metadata": {},
   "outputs": [],
   "source": [
    "count = 0\n",
    "with open('/nfs/research/goldman/zihao/Datas/p1/File_5_consensus/Decompress/Aligned/noReference/MAPLE_format_consensuses_new_1.txt', 'r') as f:\n",
    "    with open('/nfs/research/goldman/zihao/Datas/p1/File_5_consensus/Decompress/Aligned/noReference/A_NEW_MAPLE_format/MAPLE_format_consensuses_50000.txt', 'w') as out_file:\n",
    "        for line in f:\n",
    "            if line.startswith('>'):\n",
    "                count += 1\n",
    "                if count > 50000:\n",
    "                    break\n",
    "            out_file.write(line)\n"
   ]
  },
  {
   "cell_type": "markdown",
   "id": "79e5d60b",
   "metadata": {},
   "source": [
    "```bash\n",
    "bsub -g /MapleRealErrors_1 -q long -M 40000 -o /nfs/research/goldman/zihao/errorsProject_1/MAPLE/TEST_50000/MAPLE_realData_errorChecking_output_50000.txt -e /nfs/research/goldman/zihao/errorsProject_1/MAPLE/TEST_50000/MAPLE_realData_errorChecking_error_50000.txt /hps/software/users/goldman/pypy3/pypy3.7-v7.3.5-linux64/bin/pypy3 /nfs/research/goldman/demaio/fastLK/code/MAPLEv0.3.2.py --model UNREST --rateVariation --estimateSiteSpecificErrorRate --input /nfs/research/goldman/zihao/Datas/p1/File_5_consensus/Decompress/Aligned/noReference/A_NEW_MAPLE_format/MAPLE_format_consensuses_50000.txt --overwrite --estimateErrors --calculateLKfinalTree --output /nfs/research/goldman/zihao/errorsProject_1/MAPLE/TEST_50000/MAPLE0.3.2_rateVar_errors_realData_checkingErrors_50000\n",
    "```"
   ]
  },
  {
   "cell_type": "markdown",
   "id": "71f9bf10",
   "metadata": {},
   "source": [
    "# For 100000"
   ]
  },
  {
   "cell_type": "code",
   "execution_count": 5,
   "id": "c9948c46",
   "metadata": {},
   "outputs": [],
   "source": [
    "count = 0\n",
    "with open('/nfs/research/goldman/zihao/Datas/p1/File_5_consensus/Decompress/Aligned/noReference/MAPLE_format_consensuses_new_1.txt', 'r') as f:\n",
    "    with open('/nfs/research/goldman/zihao/Datas/p1/File_5_consensus/Decompress/Aligned/noReference/A_NEW_MAPLE_format/MAPLE_format_consensuses_100000.txt', 'w') as out_file:\n",
    "        for line in f:\n",
    "            if line.startswith('>'):\n",
    "                count += 1\n",
    "                if count > 100000:\n",
    "                    break\n",
    "            out_file.write(line)\n"
   ]
  },
  {
   "cell_type": "markdown",
   "id": "7d9dc40d",
   "metadata": {},
   "source": [
    "```bash\n",
    "bsub -g /MapleRealErrors_2 -q long -M 40000 -o /nfs/research/goldman/zihao/errorsProject_1/MAPLE/TEST_100000/MAPLE_realData_errorChecking_output_100000.txt -e /nfs/research/goldman/zihao/errorsProject_1/MAPLE/TEST_100000/MAPLE_realData_errorChecking_error_100000.txt /hps/software/users/goldman/pypy3/pypy3.7-v7.3.5-linux64/bin/pypy3 /nfs/research/goldman/demaio/fastLK/code/MAPLEv0.3.2.py --model UNREST --rateVariation --estimateSiteSpecificErrorRate --input /nfs/research/goldman/zihao/Datas/p1/File_5_consensus/Decompress/Aligned/noReference/A_NEW_MAPLE_format/MAPLE_format_consensuses_100000.txt --overwrite --estimateErrors --calculateLKfinalTree --output /nfs/research/goldman/zihao/errorsProject_1/MAPLE/TEST_100000/MAPLE0.3.2_rateVar_errors_realData_checkingErrors_100000\n",
    "```"
   ]
  },
  {
   "cell_type": "markdown",
   "id": "84e13a1a",
   "metadata": {},
   "source": [
    "# For all"
   ]
  },
  {
   "cell_type": "markdown",
   "id": "25ff26f1",
   "metadata": {},
   "source": [
    "```bash\n",
    "bsub -g /MapleRealErrors_3 -q long -M 40000 -o /nfs/research/goldman/zihao/errorsProject_1/MAPLE/new_version_MAY/MAPLE_realData_errorChecking_output_new_all.txt -e /nfs/research/goldman/zihao/errorsProject_1/MAPLE/new_version_MAY/MAPLE_realData_errorChecking_error_new_all.txt /hps/software/users/goldman/pypy3/pypy3.7-v7.3.5-linux64/bin/pypy3 /nfs/research/goldman/demaio/fastLK/code/MAPLEv0.3.2.py --model UNREST --rateVariation --estimateSiteSpecificErrorRate --input /nfs/research/goldman/zihao/Datas/p1/File_5_consensus/Decompress/Aligned/noReference/A_NEW_MAPLE_format/MAPLE_format_consensuses_new_1.txt --overwrite --estimateErrors --calculateLKfinalTree --output /nfs/research/goldman/zihao/errorsProject_1/MAPLE/new_version_MAY/MAPLE0.3.2_rateVar_errors_realData_checkingErrors_new_all \n",
    "```"
   ]
  }
 ],
 "metadata": {
  "kernelspec": {
   "display_name": "Python 3 (ipykernel)",
   "language": "python",
   "name": "python3"
  },
  "language_info": {
   "codemirror_mode": {
    "name": "ipython",
    "version": 3
   },
   "file_extension": ".py",
   "mimetype": "text/x-python",
   "name": "python",
   "nbconvert_exporter": "python",
   "pygments_lexer": "ipython3",
   "version": "3.10.9"
  }
 },
 "nbformat": 4,
 "nbformat_minor": 5
}
