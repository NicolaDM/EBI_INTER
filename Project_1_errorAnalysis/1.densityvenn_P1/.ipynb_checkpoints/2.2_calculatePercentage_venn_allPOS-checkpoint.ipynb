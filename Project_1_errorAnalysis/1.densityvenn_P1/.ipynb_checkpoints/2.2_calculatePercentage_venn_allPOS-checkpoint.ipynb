{
 "cells": [
  {
   "cell_type": "markdown",
   "id": "83818370",
   "metadata": {},
   "source": [
    "## <center>Preparing data for the Venn diagram.</center>\n",
    "\n",
    "\n",
    "| **Label** | **start time** | **finish time** | **last modified** |\n",
    "|:--------------:|:-----------:|:-----------:|:----------------:|\n",
    "|   Project 1   |  2023-07-10 |  2023-07-19 |   2023-07-19     |\n",
    "\n",
    "####  Threshold:\n",
    "- SB > 0, \n",
    "- coverage ratio < 0.1,\n",
    "- AF > 0.001."
   ]
  },
  {
   "cell_type": "markdown",
   "id": "2451cab0",
   "metadata": {},
   "source": [
    "# TODO:\n",
    "- 1.add label\n",
    "    - AF\n",
    "    - SB\n",
    "    - COV\n",
    "- 2.Judging the six cases\n",
    "   "
   ]
  },
  {
   "cell_type": "code",
   "execution_count": 1,
   "id": "bd5b4674",
   "metadata": {},
   "outputs": [],
   "source": [
    "import pandas as pd"
   ]
  },
  {
   "cell_type": "code",
   "execution_count": 7,
   "id": "d9e87569",
   "metadata": {},
   "outputs": [
    {
     "data": {
      "text/html": [
       "<div>\n",
       "<style scoped>\n",
       "    .dataframe tbody tr th:only-of-type {\n",
       "        vertical-align: middle;\n",
       "    }\n",
       "\n",
       "    .dataframe tbody tr th {\n",
       "        vertical-align: top;\n",
       "    }\n",
       "\n",
       "    .dataframe thead th {\n",
       "        text-align: right;\n",
       "    }\n",
       "</style>\n",
       "<table border=\"1\" class=\"dataframe\">\n",
       "  <thead>\n",
       "    <tr style=\"text-align: right;\">\n",
       "      <th></th>\n",
       "      <th>Position</th>\n",
       "      <th>N</th>\n",
       "      <th>RATIO</th>\n",
       "      <th>Label</th>\n",
       "    </tr>\n",
       "  </thead>\n",
       "  <tbody>\n",
       "    <tr>\n",
       "      <th>0</th>\n",
       "      <td>1</td>\n",
       "      <td>A</td>\n",
       "      <td>0.0</td>\n",
       "      <td>1</td>\n",
       "    </tr>\n",
       "    <tr>\n",
       "      <th>1</th>\n",
       "      <td>2</td>\n",
       "      <td>T</td>\n",
       "      <td>0.0</td>\n",
       "      <td>1</td>\n",
       "    </tr>\n",
       "    <tr>\n",
       "      <th>2</th>\n",
       "      <td>3</td>\n",
       "      <td>T</td>\n",
       "      <td>0.0</td>\n",
       "      <td>1</td>\n",
       "    </tr>\n",
       "    <tr>\n",
       "      <th>3</th>\n",
       "      <td>4</td>\n",
       "      <td>A</td>\n",
       "      <td>0.0</td>\n",
       "      <td>1</td>\n",
       "    </tr>\n",
       "    <tr>\n",
       "      <th>4</th>\n",
       "      <td>5</td>\n",
       "      <td>A</td>\n",
       "      <td>0.0</td>\n",
       "      <td>1</td>\n",
       "    </tr>\n",
       "    <tr>\n",
       "      <th>...</th>\n",
       "      <td>...</td>\n",
       "      <td>...</td>\n",
       "      <td>...</td>\n",
       "      <td>...</td>\n",
       "    </tr>\n",
       "    <tr>\n",
       "      <th>29898</th>\n",
       "      <td>29899</td>\n",
       "      <td>A</td>\n",
       "      <td>0.0</td>\n",
       "      <td>1</td>\n",
       "    </tr>\n",
       "    <tr>\n",
       "      <th>29899</th>\n",
       "      <td>29900</td>\n",
       "      <td>A</td>\n",
       "      <td>0.0</td>\n",
       "      <td>1</td>\n",
       "    </tr>\n",
       "    <tr>\n",
       "      <th>29900</th>\n",
       "      <td>29901</td>\n",
       "      <td>A</td>\n",
       "      <td>0.0</td>\n",
       "      <td>1</td>\n",
       "    </tr>\n",
       "    <tr>\n",
       "      <th>29901</th>\n",
       "      <td>29902</td>\n",
       "      <td>A</td>\n",
       "      <td>0.0</td>\n",
       "      <td>1</td>\n",
       "    </tr>\n",
       "    <tr>\n",
       "      <th>29902</th>\n",
       "      <td>29903</td>\n",
       "      <td>A</td>\n",
       "      <td>0.0</td>\n",
       "      <td>1</td>\n",
       "    </tr>\n",
       "  </tbody>\n",
       "</table>\n",
       "<p>29903 rows × 4 columns</p>\n",
       "</div>"
      ],
      "text/plain": [
       "       Position   N  RATIO  Label\n",
       "0             1  A     0.0      1\n",
       "1             2  T     0.0      1\n",
       "2             3  T     0.0      1\n",
       "3             4  A     0.0      1\n",
       "4             5  A     0.0      1\n",
       "...         ...  ..    ...    ...\n",
       "29898     29899  A     0.0      1\n",
       "29899     29900  A     0.0      1\n",
       "29900     29901  A     0.0      1\n",
       "29901     29902  A     0.0      1\n",
       "29902     29903  A     0.0      1\n",
       "\n",
       "[29903 rows x 4 columns]"
      ]
     },
     "execution_count": 7,
     "metadata": {},
     "output_type": "execute_result"
    }
   ],
   "source": [
    "Folder_path = \"/nfs/research/goldman/zihao/Datas/p1_errorsProject_NEW/Folder_dataProcessing/folderData_MAPLE_allPos/ERR7875743_coverage.txt\"\n",
    "df_v0 = pd.read_csv(Folder_path, sep='\\t')\n",
    "\n",
    "# 创建 \"Label\" 列并设置相应的值\n",
    "df_v0[\"Label\"] = (df_v0[\"RATIO\"] < 0.1).astype(int)\n",
    "df_v0"
   ]
  },
  {
   "cell_type": "code",
   "execution_count": 8,
   "id": "41eefe98",
   "metadata": {},
   "outputs": [
    {
     "data": {
      "text/plain": [
       "6404"
      ]
     },
     "execution_count": 8,
     "metadata": {},
     "output_type": "execute_result"
    }
   ],
   "source": [
    "sum(df_v0[\"Label\"] == 1)"
   ]
  },
  {
   "cell_type": "code",
   "execution_count": null,
   "id": "545c3e05",
   "metadata": {},
   "outputs": [],
   "source": []
  },
  {
   "cell_type": "code",
   "execution_count": 53,
   "id": "bb809411",
   "metadata": {},
   "outputs": [
    {
     "name": "stdout",
     "output_type": "stream",
     "text": [
      "Number of Virdian assembly's called as errors by MAPLE:  66\n",
      "Number of Colman assembly's called as errors by MAPLE:  4465\n",
      "Number of both called as errors by MAPLE:  77\n"
     ]
    }
   ],
   "source": [
    "# positions that were masked/ambiguous in the assemblies.\n",
    "print('Number of Virdian assembly\\'s called as errors by MAPLE: ', \n",
    "      sum((df_v1['label_mar'] == 1)&(df_v1['label_ori'] == 0)))\n",
    "print('Number of Colman assembly\\'s called as errors by MAPLE: ', \n",
    "      sum((df_v1['label_mar'] == 0)&(df_v1['label_ori'] == 1)))\n",
    "print('Number of both called as errors by MAPLE: ', \n",
    "      sum((df_v1['label_mar'] == 1)&(df_v1['label_ori'] == 1)))"
   ]
  },
  {
   "cell_type": "code",
   "execution_count": 20,
   "id": "52e12b4a",
   "metadata": {},
   "outputs": [
    {
     "name": "stdout",
     "output_type": "stream",
     "text": [
      "Number of Virdian assembly's not masked and not called as errors by MAPLE:  29760\n",
      "Number of Colman assembly's not masked and not called as errors by MAPLE:  25360\n"
     ]
    }
   ],
   "source": [
    "# positions that were not masked and not called as errors by MAPLE.\n",
    "print('Number of Virdian assembly\\'s not masked and not called as errors by MAPLE: ', \n",
    "      sum((df_v1['label_mar'] == 0)&(df_v1['VIR'] == 0)))\n",
    "print('Number of Colman assembly\\'s not masked and not called as errors by MAPLE: ', \n",
    "      sum((df_v1['label_ori'] == 0)&(df_v1['COL'] == 0)))"
   ]
  },
  {
   "cell_type": "code",
   "execution_count": 23,
   "id": "db239e01",
   "metadata": {},
   "outputs": [
    {
     "name": "stdout",
     "output_type": "stream",
     "text": [
      "Number of Virdian assembly's called as errors by MAPLE:  0\n",
      "Number of Colman assembly's called as errors by MAPLE:  1\n",
      "Number of both called as errors by MAPLE:  0\n"
     ]
    }
   ],
   "source": [
    "# positions that were called as errors by MAPLE.\n",
    "print('Number of Virdian assembly\\'s called as errors by MAPLE: ', \n",
    "      sum((df_v1['VIR'] == 1)&(df_v1['COL'] == 0)))\n",
    "print('Number of Colman assembly\\'s called as errors by MAPLE: ', \n",
    "      sum((df_v1['COL'] == 1)&(df_v1['VIR'] == 0)))\n",
    "print('Number of both called as errors by MAPLE: ', \n",
    "      sum((df_v1['COL'] == 1)&(df_v1['VIR'] == 1)))"
   ]
  },
  {
   "cell_type": "markdown",
   "id": "c774f94e",
   "metadata": {},
   "source": [
    "## Test - Final version"
   ]
  },
  {
   "cell_type": "code",
   "execution_count": 54,
   "id": "6511ebcd",
   "metadata": {},
   "outputs": [
    {
     "name": "stdout",
     "output_type": "stream",
     "text": [
      "====================== Info ======================\n",
      "Total masked positions in Virdian assembly (excludes Colman's):  19070\n",
      "Total positions in Colman assembly (excludes Virdian's):  168689\n",
      "Total positions masked in both assemblies:  43755\n",
      "====================== Info ======================\n",
      "Total unmasked positions in Virdian assembly, without errors identified by MAPLE:  2927438\n",
      "Total unmasked positions in Colman assembly, without errors identified by MAPLE:  2777767\n",
      "====================== Info ======================\n",
      "Total positions in Virdian assembly identified as errors by MAPLE (excludes Colman's errors):  11\n",
      "Total positions in Colman assembly identified as errors by MAPLE (excludes Virdian's errors):  63\n",
      "Total positions identified as errors in both assemblies by MAPLE:  26\n"
     ]
    }
   ],
   "source": [
    "import os\n",
    "import pandas as pd\n",
    "\n",
    "def process_files(folder_path):\n",
    "    num_viridian_masked = 0\n",
    "    num_colman_masked = 0\n",
    "    num_both_masked = 0\n",
    "    \n",
    "    num_viridian_unmasked_no_error = 0\n",
    "    num_colman_unmasked_no_error = 0\n",
    "    num_viridian_error = 0\n",
    "    num_colman_error = 0\n",
    "    num_both_error = 0\n",
    "\n",
    "    for file_name in os.listdir(folder_path):\n",
    "        if file_name.endswith(\".txt\"):\n",
    "            df_v0 = pd.read_csv(os.path.join(folder_path, file_name), sep='\\t')\n",
    "            df_v1 = df_v0.fillna(0)\n",
    "\n",
    "            df_v1[\"VIR\"] = df_v1[\"VIR\"].astype(int)\n",
    "            df_v1[\"COL\"] = df_v1[\"COL\"].astype(int)\n",
    "\n",
    "            num_viridian_masked += sum((df_v1['label_mar'] == 1)&(df_v1['label_ori'] == 0))\n",
    "            num_colman_masked += sum((df_v1['label_mar'] == 0)&(df_v1['label_ori'] == 1))\n",
    "            num_both_masked += sum((df_v1['label_mar'] == 1)&(df_v1['label_ori'] == 1))\n",
    "            \n",
    "            num_viridian_unmasked_no_error += sum((df_v1['label_mar'] == 0)&(df_v1['VIR'] == 0))\n",
    "            num_colman_unmasked_no_error += sum((df_v1['label_ori'] == 0)&(df_v1['COL'] == 0))\n",
    "            \n",
    "            num_viridian_error += sum((df_v1['VIR'] == 1)&(df_v1['COL'] == 0))\n",
    "            num_colman_error += sum((df_v1['COL'] == 1)&(df_v1['VIR'] == 0))\n",
    "            num_both_error += sum((df_v1['COL'] == 1)&(df_v1['VIR'] == 1))\n",
    "\n",
    "    print('====================== Info ======================')\n",
    "    print('Total masked positions in Virdian assembly (excludes Colman\\'s): ', num_viridian_masked)\n",
    "    print('Total positions in Colman assembly (excludes Virdian\\'s): ', num_colman_masked)\n",
    "    print('Total positions masked in both assemblies: ', num_both_masked)\n",
    "    print('====================== Info ======================')\n",
    "    print('Total unmasked positions in Virdian assembly, without errors '\n",
    "          'identified by MAPLE: ', num_viridian_unmasked_no_error)\n",
    "    print('Total unmasked positions in Colman assembly, without errors '\n",
    "          'identified by MAPLE: ', num_colman_unmasked_no_error)\n",
    "    print('====================== Info ======================')\n",
    "    print('Total positions in Virdian assembly identified as errors by MAPLE '\n",
    "          '(excludes Colman\\'s errors): ', num_viridian_error)\n",
    "    print('Total positions in Colman assembly identified as errors by MAPLE '\n",
    "          '(excludes Virdian\\'s errors): ', num_colman_error)\n",
    "    print('Total positions identified as errors in both assemblies by MAPLE: ', \n",
    "        num_both_error)\n",
    "\n",
    "folder_path = \"/nfs/research/goldman/zihao/Datas/p2_compViridian_P3/folderData_test\"\n",
    "process_files(folder_path)"
   ]
  },
  {
   "cell_type": "code",
   "execution_count": null,
   "id": "bae6818e",
   "metadata": {},
   "outputs": [],
   "source": []
  },
  {
   "cell_type": "code",
   "execution_count": null,
   "id": "9a056b5c",
   "metadata": {},
   "outputs": [],
   "source": []
  },
  {
   "cell_type": "code",
   "execution_count": null,
   "id": "d4ea73c3",
   "metadata": {},
   "outputs": [],
   "source": []
  },
  {
   "cell_type": "code",
   "execution_count": null,
   "id": "dd03265c",
   "metadata": {},
   "outputs": [],
   "source": []
  },
  {
   "cell_type": "code",
   "execution_count": null,
   "id": "ac3ca160",
   "metadata": {},
   "outputs": [],
   "source": []
  },
  {
   "cell_type": "code",
   "execution_count": null,
   "id": "460c058b",
   "metadata": {},
   "outputs": [],
   "source": []
  },
  {
   "cell_type": "code",
   "execution_count": null,
   "id": "6e3dc682",
   "metadata": {},
   "outputs": [],
   "source": []
  }
 ],
 "metadata": {
  "kernelspec": {
   "display_name": "Python 3 (ipykernel)",
   "language": "python",
   "name": "python3"
  },
  "language_info": {
   "codemirror_mode": {
    "name": "ipython",
    "version": 3
   },
   "file_extension": ".py",
   "mimetype": "text/x-python",
   "name": "python",
   "nbconvert_exporter": "python",
   "pygments_lexer": "ipython3",
   "version": "3.11.3"
  }
 },
 "nbformat": 4,
 "nbformat_minor": 5
}
