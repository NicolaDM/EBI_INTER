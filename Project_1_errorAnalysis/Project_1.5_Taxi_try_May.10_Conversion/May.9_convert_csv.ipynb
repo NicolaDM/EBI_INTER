{
 "cells": [
  {
   "cell_type": "markdown",
   "id": "b77307d3",
   "metadata": {},
   "source": [
    "## <center>Taxonium visualization preparation of MAPLE output (extraction of metadata)</center>\n",
    "\n",
    "\n",
    "| **Label** | **start time** | **finish time** | **last modified** |\n",
    "|:--------------:|:-----------:|:-----------:|:----------------:|\n",
    "|   Project 2_convert_4_Taxonium   |  2023-05-03 |  2023-05-09 |   2023-05-09     |"
   ]
  },
  {
   "cell_type": "markdown",
   "id": "641d4731",
   "metadata": {
    "tags": []
   },
   "source": [
    "## TODO\n",
    "\n",
    "- Encapsulate"
   ]
  },
  {
   "cell_type": "markdown",
   "id": "200c8195",
   "metadata": {},
   "source": [
    "##### INPUT: MAPLE_support_exampleMAT_100_MATfromGivenTree_nexusTree.tree\n",
    "##### OUTPUT: Metadata_4_taxonium.tsv"
   ]
  },
  {
   "cell_type": "code",
   "execution_count": 3,
   "id": "f8070261-fdea-4cbe-8193-a47d4c08083b",
   "metadata": {},
   "outputs": [],
   "source": [
    "input_file = '/nfs/research/goldman/zihao/code/EBI_INTER/A_Datas/MAPLE_support_exampleMAT_100_MATfromGivenTree_nexusTree.tree'\n",
    "output_file = 'Metadata_4_taxonium_MAPLE0.3.2_nexusTree_1000samples_simulations_repl1.tree.tsv'"
   ]
  },
  {
   "cell_type": "code",
   "execution_count": 4,
   "id": "a8a79f91-255f-436e-95ca-dc990aed1e10",
   "metadata": {},
   "outputs": [
    {
     "name": "stdout",
     "output_type": "stream",
     "text": [
      "             name country date support alternativePlacements  \\\n",
      "0  EPI_ISL_482423      NA   NA      NA                    NA   \n",
      "1  EPI_ISL_776270      NA   NA     1.0                         \n",
      "2  EPI_ISL_498658      NA   NA     1.0                         \n",
      "3            in99      NA   NA     1.0                         \n",
      "4  EPI_ISL_418243      NA   NA     1.0                         \n",
      "\n",
      "                                           mutations  \\\n",
      "0                                                 NA   \n",
      "1                                  {G22468T,G28878A}   \n",
      "2  {A8081G,C17747T,A17858G,C18060T,T23287C,A24694...   \n",
      "3                                   {C8782T,T28144C}   \n",
      "4                                  {C23707T,T27384C}   \n",
      "\n",
      "                               Ns                  length  \n",
      "0                              NA                     0.0  \n",
      "1              {1-55,29838-29891}  0.00006713773603169003  \n",
      "2  {1-17,19293-19551,29870-29870}  0.00023634542535825445  \n",
      "3              {1-17,29870-29870}  0.00006693850597638444  \n",
      "4                   {29782-29891}  0.00006713812459396017  \n"
     ]
    }
   ],
   "source": [
    "import re\n",
    "import pandas as pd\n",
    "from decimal import Decimal\n",
    "\n",
    "# Define regular expressions\n",
    "name_re = r'([\\w/\\-\\.\\|]+)(?:\\[&|)'\n",
    "support_re = r'support=([0-9.]+)'\n",
    "alt_re = r'alternativePlacements=({.*?})'\n",
    "mut_re = r'mutations=({.*?})'\n",
    "ns_re = r'Ns=({.*?})'\n",
    "length_re = r':([0-9.e-]+)'\n",
    "country_date_re = r'(\\w+)/.*\\|.*?(\\d{4}-\\d{2}-\\d{2})'\n",
    "\n",
    "with open(input_file) as f:\n",
    "    for line in f:\n",
    "        if line.strip() == 'begin trees;':\n",
    "            break\n",
    "\n",
    "    # Read data lines\n",
    "    data = ''\n",
    "    for line in f:\n",
    "        if line.strip() == ';':\n",
    "            break\n",
    "        data += line\n",
    "\n",
    "# Split data into multiple lines\n",
    "data = re.sub(r'\\s+', '', data)\n",
    "data = data.split(';')[0] + ';'\n",
    "\n",
    "# Match all node information and store it in a list\n",
    "node_list = re.findall(r'([\\w/\\-\\.\\|]+(?:\\[&.*?\\]|)):([0-9.e-]+)', data)\n",
    "\n",
    "# Convert node information list to a DataFrame\n",
    "df = pd.DataFrame(node_list, columns=['node', 'length'])\n",
    "\n",
    "# Use regular expressions to extract the fields of node information\n",
    "df['name'] = df['node'].apply(lambda x: re.findall(name_re, x)[0] if re.findall(name_re, x) else x)\n",
    "df['support'] = df['node'].apply(lambda x: re.findall(support_re, x))\n",
    "df['support'] = df['support'].apply(lambda x: x[0] if len(x) > 0 else 'NA')\n",
    "df['alternativePlacements'] = df['node'].apply(lambda x: re.findall(alt_re, x))\n",
    "df['alternativePlacements'] = df['alternativePlacements'].apply(lambda x: ','.join(re.findall(r'([A-Za-z_0-9]+):', x[0])) if len(x) > 0 and '{' in x[0] else 'NA')\n",
    "df['mutations'] = df['node'].apply(lambda x: re.findall(mut_re, x))\n",
    "df['mutations'] = df['mutations'].apply(lambda x: re.sub(r':1\\.0', '', x[0]) if len(x) > 0 else 'NA')\n",
    "df['Ns'] = df['node'].apply(lambda x: re.findall(ns_re, x))\n",
    "df['Ns'] = df['Ns'].apply(lambda x: x[0] if len(x) > 0 else 'NA')\n",
    "df['length'] = df['length'].apply(lambda x: str(Decimal(x)))\n",
    "\n",
    "# Extract country and date\n",
    "df['country'] = df['name'].apply(lambda x: re.findall(country_date_re, x)[0][0] if re.findall(country_date_re, x) else 'NA')\n",
    "df['date'] = df['name'].apply(lambda x: re.findall(country_date_re, x)[0][1] if re.findall(country_date_re, x) else 'NA')\n",
    "\n",
    "# Rearrange columns\n",
    "df = df[['name', 'country', 'date', 'support', 'alternativePlacements', 'mutations', 'Ns', 'length']]\n",
    "\n",
    "print(df.head())\n",
    "df.to_csv(output_file,index=False,sep='\\t')"
   ]
  }
 ],
 "metadata": {
  "kernelspec": {
   "display_name": "Python 3 (ipykernel)",
   "language": "python",
   "name": "python3"
  },
  "language_info": {
   "codemirror_mode": {
    "name": "ipython",
    "version": 3
   },
   "file_extension": ".py",
   "mimetype": "text/x-python",
   "name": "python",
   "nbconvert_exporter": "python",
   "pygments_lexer": "ipython3",
   "version": "3.10.9"
  }
 },
 "nbformat": 4,
 "nbformat_minor": 5
}
