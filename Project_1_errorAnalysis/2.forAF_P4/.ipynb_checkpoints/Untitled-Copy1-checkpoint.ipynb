{
 "cells": [
  {
   "cell_type": "code",
   "execution_count": null,
   "id": "6545162a",
   "metadata": {},
   "outputs": [],
   "source": [
    "(df['SB'] == 0).all()"
   ]
  },
  {
   "cell_type": "code",
   "execution_count": 3,
   "id": "eb2de374",
   "metadata": {},
   "outputs": [
    {
     "data": {
      "text/plain": [
       "171135"
      ]
     },
     "execution_count": 3,
     "metadata": {},
     "output_type": "execute_result"
    }
   ],
   "source": [
    "file_path = \"/nfs/research/goldman/zihao/errorsProject_1/MAPLE/new_version_MAY/MAPLE0.3.2_rateVar_errors_realData_checkingErrors_new_all_estimatedErrors.txt\"\n",
    "data_set = set()\n",
    "\n",
    "with open(file_path, 'r') as file:\n",
    "    for line in file:\n",
    "        if line.startswith(\">\"):\n",
    "            data_set.add(line.strip())\n",
    "\n",
    "modified_set = [s.replace('>', '') for s in data_set]\n",
    "\n",
    "len(modified_set)"
   ]
  },
  {
   "cell_type": "code",
   "execution_count": null,
   "id": "55808b08",
   "metadata": {},
   "outputs": [],
   "source": [
    "import os\n",
    "import pandas as pd\n",
    "\n",
    "# 设置A文件夹路径\n",
    "folder_path = '/nfs/research/goldman/zihao/Datas/p1/File_5_annot/Decompress'\n",
    "\n",
    "# 定义set\n",
    "file_set = modified_set\n",
    "\n",
    "# 初始化计数器\n",
    "count = 0\n",
    "\n",
    "# 遍历文件夹中的文件\n",
    "for filename in os.listdir(folder_path):\n",
    "    if filename.endswith('_annot.txt') and filename.split('_')[0] in file_set:\n",
    "        file_path = os.path.join(folder_path, filename)\n",
    "        df = pd.read_csv(file_path, delimiter='\\t')\n",
    "        if (df['SB'] == 0).all():\n",
    "            count += 1\n",
    "\n",
    "# 打印结果\n",
    "print(f'符合条件的文件数量：{count}')"
   ]
  }
 ],
 "metadata": {
  "kernelspec": {
   "display_name": "Python 3 (ipykernel)",
   "language": "python",
   "name": "python3"
  },
  "language_info": {
   "codemirror_mode": {
    "name": "ipython",
    "version": 3
   },
   "file_extension": ".py",
   "mimetype": "text/x-python",
   "name": "python",
   "nbconvert_exporter": "python",
   "pygments_lexer": "ipython3",
   "version": "3.10.9"
  }
 },
 "nbformat": 4,
 "nbformat_minor": 5
}
