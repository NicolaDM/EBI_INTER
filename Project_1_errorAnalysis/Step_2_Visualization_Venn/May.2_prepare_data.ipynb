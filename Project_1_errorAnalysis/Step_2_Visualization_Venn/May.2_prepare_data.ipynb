{
 "cells": [
  {
   "cell_type": "markdown",
   "id": "f0c72474",
   "metadata": {},
   "source": [
    "## TODO\n",
    "- remember to change the path!!!"
   ]
  },
  {
   "cell_type": "markdown",
   "id": "daa05506",
   "metadata": {},
   "source": [
    "## 1. Error position"
   ]
  },
  {
   "cell_type": "code",
   "execution_count": null,
   "id": "8d05510a",
   "metadata": {},
   "outputs": [],
   "source": [
    "import pandas as pd"
   ]
  },
  {
   "cell_type": "markdown",
   "id": "c7ae4c69",
   "metadata": {},
   "source": [
    "### 1.1_input SB&AF"
   ]
  },
  {
   "cell_type": "code",
   "execution_count": 3,
   "id": "dc978865",
   "metadata": {},
   "outputs": [],
   "source": [
    "# 读取数据\n",
    "df = pd.read_csv(\"/homes/zihao/EBI_INTER/P1_Annot/output.txt\", sep='\\t')\n",
    "\n",
    "# 分别计算 DP、AF、SB 的平均值\n",
    "columns = [\"AF\", \"SB\"]\n",
    "results = {}\n",
    "for i, col in enumerate(columns):\n",
    "    df_col = df.dropna(subset=[col])[[\"Position\", col]]\n",
    "    df_col[col] = df_col[col].astype(float)\n",
    "    result = df_col.groupby(by=[\"Position\"], as_index=False).max(numeric_only=True)\n",
    "    result = result[result[col] != 0]  # 只保留非零值\n",
    "    results[f\"df_err_v{i+1}\"] = result\n",
    "    \n",
    "\n",
    "# 返回结果\n",
    "df_err_v1 = results[\"df_err_v1\"]\n",
    "df_err_v2 = results[\"df_err_v2\"]\n",
    "\n",
    "# 创建一个新的索引\n",
    "new_index = pd.RangeIndex(start=1, stop=29903, step=1)\n",
    "\n",
    "# 重新索引数据框\n",
    "df_err_v1 = df_err_v1.set_index('Position').reindex(new_index, fill_value=0).reset_index(drop=False).rename(columns={'index': 'Position'})\n",
    "df_err_v2 = df_err_v2.set_index('Position').reindex(new_index, fill_value=0).reset_index(drop=False).rename(columns={'index': 'Position'})"
   ]
  },
  {
   "cell_type": "code",
   "execution_count": 4,
   "id": "305f60b5",
   "metadata": {},
   "outputs": [
    {
     "name": "stdout",
     "output_type": "stream",
     "text": [
      "   Position   AF\n",
      "0         1  0.0\n",
      "1         2  0.0\n",
      "2         3  0.0\n",
      "3         4  0.0\n",
      "4         5  0.0\n",
      "==================\n",
      "   Position   SB\n",
      "0         1  0.0\n",
      "1         2  0.0\n",
      "2         3  0.0\n",
      "3         4  0.0\n",
      "4         5  0.0\n"
     ]
    }
   ],
   "source": [
    "print(df_err_v1.head())\n",
    "print(\"==================\")\n",
    "print(df_err_v2.head())"
   ]
  },
  {
   "cell_type": "markdown",
   "id": "f13ef366",
   "metadata": {},
   "source": [
    "### 1.2_input coverage"
   ]
  },
  {
   "cell_type": "code",
   "execution_count": 6,
   "id": "0966bbdd",
   "metadata": {},
   "outputs": [
    {
     "data": {
      "text/html": [
       "<div>\n",
       "<style scoped>\n",
       "    .dataframe tbody tr th:only-of-type {\n",
       "        vertical-align: middle;\n",
       "    }\n",
       "\n",
       "    .dataframe tbody tr th {\n",
       "        vertical-align: top;\n",
       "    }\n",
       "\n",
       "    .dataframe thead th {\n",
       "        text-align: right;\n",
       "    }\n",
       "</style>\n",
       "<table border=\"1\" class=\"dataframe\">\n",
       "  <thead>\n",
       "    <tr style=\"text-align: right;\">\n",
       "      <th></th>\n",
       "      <th>Position</th>\n",
       "      <th>MEAN_err</th>\n",
       "    </tr>\n",
       "  </thead>\n",
       "  <tbody>\n",
       "    <tr>\n",
       "      <th>0</th>\n",
       "      <td>1</td>\n",
       "      <td>0.000000</td>\n",
       "    </tr>\n",
       "    <tr>\n",
       "      <th>1</th>\n",
       "      <td>2</td>\n",
       "      <td>0.000000</td>\n",
       "    </tr>\n",
       "    <tr>\n",
       "      <th>2</th>\n",
       "      <td>3</td>\n",
       "      <td>0.004951</td>\n",
       "    </tr>\n",
       "    <tr>\n",
       "      <th>3</th>\n",
       "      <td>4</td>\n",
       "      <td>0.010309</td>\n",
       "    </tr>\n",
       "    <tr>\n",
       "      <th>4</th>\n",
       "      <td>5</td>\n",
       "      <td>0.000376</td>\n",
       "    </tr>\n",
       "  </tbody>\n",
       "</table>\n",
       "</div>"
      ],
      "text/plain": [
       "   Position  MEAN_err\n",
       "0         1  0.000000\n",
       "1         2  0.000000\n",
       "2         3  0.004951\n",
       "3         4  0.010309\n",
       "4         5  0.000376"
      ]
     },
     "execution_count": 6,
     "metadata": {},
     "output_type": "execute_result"
    }
   ],
   "source": [
    "df_err = pd.read_csv(\"/homes/zihao/EBI_INTER/P1_Coverage/processed_data.txt\", sep='\\t')[['Position','MEAN_err']]\n",
    "# 使用loc和布尔索引筛选出满足条件的行，然后删除该列\n",
    "df = df_err[df_err['Position'].astype(int) <= 29903]\n",
    "\n",
    "df[\"MEAN_err\"] = pd.to_numeric(df_err['MEAN_err'], errors='coerce')\n",
    "df_err = df.groupby(by=[\"Position\"], as_index=False).mean(numeric_only=True)\n",
    "\n",
    "# 重新索引数据框\n",
    "df_err = df_err.set_index('Position').reindex(new_index, fill_value=0).reset_index(drop=False).rename(columns={'index': 'Position'})\n",
    "\n",
    "df_err.head()"
   ]
  },
  {
   "cell_type": "markdown",
   "id": "8330f5a2",
   "metadata": {},
   "source": [
    "## Tips \n",
    "SB>0, and/or a very low coverage (for example a coverage ratio<0.1), and/or an AF>0.01 ."
   ]
  },
  {
   "cell_type": "code",
   "execution_count": 7,
   "id": "922a7440",
   "metadata": {},
   "outputs": [
    {
     "data": {
      "text/html": [
       "<div>\n",
       "<style scoped>\n",
       "    .dataframe tbody tr th:only-of-type {\n",
       "        vertical-align: middle;\n",
       "    }\n",
       "\n",
       "    .dataframe tbody tr th {\n",
       "        vertical-align: top;\n",
       "    }\n",
       "\n",
       "    .dataframe thead th {\n",
       "        text-align: right;\n",
       "    }\n",
       "</style>\n",
       "<table border=\"1\" class=\"dataframe\">\n",
       "  <thead>\n",
       "    <tr style=\"text-align: right;\">\n",
       "      <th></th>\n",
       "      <th>Position</th>\n",
       "      <th>MEAN_err</th>\n",
       "      <th>Flag</th>\n",
       "    </tr>\n",
       "  </thead>\n",
       "  <tbody>\n",
       "    <tr>\n",
       "      <th>0</th>\n",
       "      <td>1</td>\n",
       "      <td>0.000000</td>\n",
       "      <td>False</td>\n",
       "    </tr>\n",
       "    <tr>\n",
       "      <th>1</th>\n",
       "      <td>2</td>\n",
       "      <td>0.000000</td>\n",
       "      <td>False</td>\n",
       "    </tr>\n",
       "    <tr>\n",
       "      <th>2</th>\n",
       "      <td>3</td>\n",
       "      <td>0.004951</td>\n",
       "      <td>False</td>\n",
       "    </tr>\n",
       "    <tr>\n",
       "      <th>3</th>\n",
       "      <td>4</td>\n",
       "      <td>0.010309</td>\n",
       "      <td>False</td>\n",
       "    </tr>\n",
       "    <tr>\n",
       "      <th>4</th>\n",
       "      <td>5</td>\n",
       "      <td>0.000376</td>\n",
       "      <td>False</td>\n",
       "    </tr>\n",
       "  </tbody>\n",
       "</table>\n",
       "</div>"
      ],
      "text/plain": [
       "   Position  MEAN_err   Flag\n",
       "0         1  0.000000  False\n",
       "1         2  0.000000  False\n",
       "2         3  0.004951  False\n",
       "3         4  0.010309  False\n",
       "4         5  0.000376  False"
      ]
     },
     "execution_count": 7,
     "metadata": {},
     "output_type": "execute_result"
    }
   ],
   "source": [
    "# 将'MEAN_err'列转换为浮点数\n",
    "df_err['MEAN_err'] = pd.to_numeric(df_err['MEAN_err'], errors='coerce')\n",
    "\n",
    "# 将NaN值替换为0\n",
    "df_err['MEAN_err'] = df_err['MEAN_err'].fillna(0)\n",
    "\n",
    "# 将'MEAN_err'列与0.1进行比较\n",
    "df_err['Flag'] = df_err['MEAN_err'] > 0.1\n",
    "\n",
    "df_err.head()"
   ]
  },
  {
   "cell_type": "code",
   "execution_count": 8,
   "id": "887f5f34",
   "metadata": {},
   "outputs": [
    {
     "data": {
      "text/html": [
       "<div>\n",
       "<style scoped>\n",
       "    .dataframe tbody tr th:only-of-type {\n",
       "        vertical-align: middle;\n",
       "    }\n",
       "\n",
       "    .dataframe tbody tr th {\n",
       "        vertical-align: top;\n",
       "    }\n",
       "\n",
       "    .dataframe thead th {\n",
       "        text-align: right;\n",
       "    }\n",
       "</style>\n",
       "<table border=\"1\" class=\"dataframe\">\n",
       "  <thead>\n",
       "    <tr style=\"text-align: right;\">\n",
       "      <th></th>\n",
       "      <th>Position</th>\n",
       "      <th>SB</th>\n",
       "      <th>Flag</th>\n",
       "    </tr>\n",
       "  </thead>\n",
       "  <tbody>\n",
       "    <tr>\n",
       "      <th>0</th>\n",
       "      <td>1</td>\n",
       "      <td>0.0</td>\n",
       "      <td>False</td>\n",
       "    </tr>\n",
       "    <tr>\n",
       "      <th>1</th>\n",
       "      <td>2</td>\n",
       "      <td>0.0</td>\n",
       "      <td>False</td>\n",
       "    </tr>\n",
       "    <tr>\n",
       "      <th>2</th>\n",
       "      <td>3</td>\n",
       "      <td>0.0</td>\n",
       "      <td>False</td>\n",
       "    </tr>\n",
       "    <tr>\n",
       "      <th>3</th>\n",
       "      <td>4</td>\n",
       "      <td>0.0</td>\n",
       "      <td>False</td>\n",
       "    </tr>\n",
       "    <tr>\n",
       "      <th>4</th>\n",
       "      <td>5</td>\n",
       "      <td>0.0</td>\n",
       "      <td>False</td>\n",
       "    </tr>\n",
       "  </tbody>\n",
       "</table>\n",
       "</div>"
      ],
      "text/plain": [
       "   Position   SB   Flag\n",
       "0         1  0.0  False\n",
       "1         2  0.0  False\n",
       "2         3  0.0  False\n",
       "3         4  0.0  False\n",
       "4         5  0.0  False"
      ]
     },
     "execution_count": 8,
     "metadata": {},
     "output_type": "execute_result"
    }
   ],
   "source": [
    "# 将'MEAN_err'列与0.1进行比较\n",
    "df_err_v1['Flag'] = df_err_v1['AF'] > 0.01\n",
    "df_err_v1.head()\n",
    "\n",
    "# 将'MEAN_err'列与0.1进行比较\n",
    "df_err_v2['Flag'] = df_err_v2['SB'] > 0\n",
    "df_err_v2.head()"
   ]
  },
  {
   "cell_type": "code",
   "execution_count": 18,
   "id": "e45b08f6",
   "metadata": {},
   "outputs": [],
   "source": [
    "df_err.to_csv(\"/homes/zihao/EBI_INTER/A_Datas/ERR_COV.txt\", sep='\\t', index=False)\n",
    "df_err_v1.to_csv(\"/homes/zihao/EBI_INTER/A_Datas/ERR_AF.txt\", sep='\\t', index=False)\n",
    "df_err_v2.to_csv(\"/homes/zihao/EBI_INTER/A_Datas/ERR_SB.txt\", sep='\\t', index=False)"
   ]
  },
  {
   "cell_type": "markdown",
   "id": "9bd3f54c",
   "metadata": {},
   "source": [
    "## 2. All position"
   ]
  },
  {
   "cell_type": "code",
   "execution_count": 4,
   "id": "29fef2e9",
   "metadata": {},
   "outputs": [],
   "source": [
    "df_all_1 = pd.read_csv('/homes/zihao/EBI_INTER/P1_Annot/AF_RATIO.txt', sep='\\t').reset_index().rename(columns={'index': 'POS'})\n",
    "df_all_2 = pd.read_csv('/homes/zihao/EBI_INTER/P1_Annot/SB_RATIO.txt', sep='\\t').reset_index().rename(columns={'index': 'POS'})"
   ]
  },
  {
   "cell_type": "code",
   "execution_count": 11,
   "id": "6577322a",
   "metadata": {},
   "outputs": [],
   "source": [
    "df_all_1['Flag'] = df_all_1['ERROR_all'] > 0.01\n",
    "df_all_2['Flag'] = df_all_2['ERROR_all'] > 0\n",
    "df_all_1.to_csv(\"/homes/zihao/EBI_INTER/A_Datas/ALL_AF.txt\", sep='\\t', index=False)\n",
    "df_all_2.to_csv(\"/homes/zihao/EBI_INTER/A_Datas/ALL_SB.txt\", sep='\\t', index=False)"
   ]
  },
  {
   "cell_type": "code",
   "execution_count": 12,
   "id": "f4eece77",
   "metadata": {},
   "outputs": [],
   "source": [
    "df_all = pd.read_csv('/homes/zihao/EBI_INTER/P1_Coverage/processed_data_all.txt', sep='\\t').reset_index().rename(columns={'index': 'POS'})\n",
    "df_all['Flag'] = df_all['MEAN_pos'] > 0.1\n",
    "df_all.to_csv(\"/homes/zihao/EBI_INTER/A_Datas/ALL_COV.txt\", sep='\\t', index=False)"
   ]
  },
  {
   "cell_type": "code",
   "execution_count": null,
   "id": "cab6b370",
   "metadata": {},
   "outputs": [],
   "source": []
  },
  {
   "cell_type": "markdown",
   "id": "02ad6446",
   "metadata": {},
   "source": [
    "### Next \n",
    "- go ---> May.2_Venn.Rmd"
   ]
  }
 ],
 "metadata": {
  "kernelspec": {
   "display_name": "Python 3 (ipykernel)",
   "language": "python",
   "name": "python3"
  },
  "language_info": {
   "codemirror_mode": {
    "name": "ipython",
    "version": 3
   },
   "file_extension": ".py",
   "mimetype": "text/x-python",
   "name": "python",
   "nbconvert_exporter": "python",
   "pygments_lexer": "ipython3",
   "version": "3.10.9"
  }
 },
 "nbformat": 4,
 "nbformat_minor": 5
}
