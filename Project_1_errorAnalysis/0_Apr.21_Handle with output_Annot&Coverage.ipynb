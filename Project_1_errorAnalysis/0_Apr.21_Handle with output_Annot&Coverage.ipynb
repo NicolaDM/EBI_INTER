{
 "cells": [
  {
   "cell_type": "markdown",
   "id": "f7851f40",
   "metadata": {},
   "source": [
    "```bash\n",
    "bsub -M 2000 \n",
    "-e /nfs/research/goldman/zihao/errorsProject_1/Handle_with_output_errorChecking_error.txt \n",
    "'python3 /nfs/research/goldman/zihao/errorsProject_1/Handle_with_output.py'\n",
    "```"
   ]
  },
  {
   "cell_type": "markdown",
   "id": "02179977",
   "metadata": {},
   "source": [
    "- Save to {output_modified.txt}\n",
    "## TODO\n",
    "- Encapsulate as a function"
   ]
  },
  {
   "cell_type": "code",
   "execution_count": 22,
   "id": "63ca4e68",
   "metadata": {},
   "outputs": [],
   "source": [
    "import os\n",
    "import pandas as pd"
   ]
  },
  {
   "cell_type": "markdown",
   "id": "2ed22913",
   "metadata": {},
   "source": [
    "### 1. Handle with output"
   ]
  },
  {
   "cell_type": "code",
   "execution_count": 1,
   "id": "6bcb6573",
   "metadata": {},
   "outputs": [],
   "source": [
    "import os\n",
    "\n",
    "def process_file(file_path, output_folder):\n",
    "    \"\"\"\n",
    "    Process the output of MAPLE and filter out the data with percentage <0.5 and save it\n",
    "    \"\"\"\n",
    "    # Open the output file to write the processed data\n",
    "    with open(os.path.join(output_folder, \"output_modified.txt\"), \"w\") as output_file:\n",
    "        # Write the column headers to the output file\n",
    "        output_file.write(\"ID\\tPosition\\n\")\n",
    "\n",
    "        # Initialize the current_id variable to None\n",
    "        current_id = None\n",
    "\n",
    "        # Iterate over each line in the file and convert it to a list\n",
    "        with open(file_path, \"r\") as input_file:\n",
    "            for line in input_file:\n",
    "                if line.startswith(\">\"):\n",
    "                    # Update current_id if a new ID is encountered\n",
    "                    current_id = line[1:].strip()\n",
    "                else:\n",
    "                    tokens = line.strip().split()\n",
    "                    position = int(tokens[0])\n",
    "                    base = tokens[1]\n",
    "                    percentage = float(tokens[2])\n",
    "\n",
    "                    # Check if percentage is less than 0.5, and if so, skip adding it to the processed data\n",
    "                    if percentage < 0.5:\n",
    "                        continue\n",
    "\n",
    "                    # Write the processed data to the output file\n",
    "                    output_file.write(f\"{current_id}\\t{position}\\n\")\n",
    "\n",
    "                    # Delete variables to free up memory\n",
    "                    del tokens, base, position, percentage\n",
    "\n",
    "        # Delete the current_id variable after the loop has finished\n",
    "        del current_id\n",
    "\n",
    "    print(f\"Processing complete and file written to {output_folder}.\")"
   ]
  },
  {
   "cell_type": "code",
   "execution_count": 2,
   "id": "60770af4",
   "metadata": {},
   "outputs": [
    {
     "name": "stdout",
     "output_type": "stream",
     "text": [
      "Processing complete and file written to /nfs/research/goldman/zihao/errorsProject_1/MAPLE/TEST_50000/.\n"
     ]
    }
   ],
   "source": [
    "file_path = \"/nfs/research/goldman/zihao/errorsProject_1/MAPLE/TEST_50000/MAPLE0.3.2_rateVar_errors_realData_checkingErrors_50000_estimatedErrors.txt\"\n",
    "output_folder = \"/nfs/research/goldman/zihao/errorsProject_1/MAPLE/TEST_50000/\"\n",
    "\n",
    "process_file(file_path, output_folder)"
   ]
  },
  {
   "cell_type": "markdown",
   "id": "1d177352",
   "metadata": {},
   "source": [
    "## Old version_without_function\n",
    "```python\n",
    "file_path = \"/nfs/research/goldman/demaio/fastLK/MapleRealErrorsVariation_errorEstimation_estimatedErrors.txt\"\n",
    "output_folder = \"/homes/zihao/P1/\"\n",
    "\n",
    "# Open the output file to write the processed data\n",
    "with open(os.path.join(output_folder, \"output_modified.txt\"), \"w\") as output_file:\n",
    "    # Write the column headers to the output file\n",
    "    output_file.write(\"ID\\tPosition\\n\")\n",
    "    \n",
    "    # Initialize the current_id variable to None\n",
    "    current_id = None\n",
    "    \n",
    "    # Iterate over each line in the file and convert it to a list\n",
    "    with open(file_path, \"r\") as input_file:\n",
    "        for line in input_file:\n",
    "            if line.startswith(\">\"):\n",
    "                # Update current_id if a new ID is encountered\n",
    "                current_id = line[1:].strip()\n",
    "            else:\n",
    "                tokens = line.strip().split()\n",
    "                position = int(tokens[0])\n",
    "                base = tokens[1]\n",
    "                percentage = float(tokens[2])\n",
    "\n",
    "                # Check if percentage is less than 0.5, and if so, skip adding it to the processed data\n",
    "                if percentage < 0.5:\n",
    "                    continue\n",
    "\n",
    "                # Write the processed data to the output file\n",
    "                output_file.write(f\"{current_id}\\t{position}\\n\")\n",
    "                \n",
    "                # Delete variables to free up memory\n",
    "                del tokens, base, position, percentage\n",
    "                \n",
    "    # Delete the current_id variable after the loop has finished\n",
    "    del current_id\n",
    "\n",
    "print(f\"Processing complete and file written to {output_folder}.\")\n",
    "```"
   ]
  },
  {
   "cell_type": "code",
   "execution_count": 31,
   "id": "a016f3c4",
   "metadata": {},
   "outputs": [
    {
     "data": {
      "text/html": [
       "<div>\n",
       "<style scoped>\n",
       "    .dataframe tbody tr th:only-of-type {\n",
       "        vertical-align: middle;\n",
       "    }\n",
       "\n",
       "    .dataframe tbody tr th {\n",
       "        vertical-align: top;\n",
       "    }\n",
       "\n",
       "    .dataframe thead th {\n",
       "        text-align: right;\n",
       "    }\n",
       "</style>\n",
       "<table border=\"1\" class=\"dataframe\">\n",
       "  <thead>\n",
       "    <tr style=\"text-align: right;\">\n",
       "      <th></th>\n",
       "      <th>ID</th>\n",
       "      <th>Position</th>\n",
       "    </tr>\n",
       "  </thead>\n",
       "  <tbody>\n",
       "    <tr>\n",
       "      <th>0</th>\n",
       "      <td>EPI_ISL_542150</td>\n",
       "      <td>28221</td>\n",
       "    </tr>\n",
       "    <tr>\n",
       "      <th>1</th>\n",
       "      <td>EPI_ISL_653826</td>\n",
       "      <td>4</td>\n",
       "    </tr>\n",
       "    <tr>\n",
       "      <th>2</th>\n",
       "      <td>EPI_ISL_653826</td>\n",
       "      <td>29868</td>\n",
       "    </tr>\n",
       "    <tr>\n",
       "      <th>3</th>\n",
       "      <td>EPI_ISL_511905</td>\n",
       "      <td>26</td>\n",
       "    </tr>\n",
       "    <tr>\n",
       "      <th>4</th>\n",
       "      <td>EPI_ISL_511905</td>\n",
       "      <td>20441</td>\n",
       "    </tr>\n",
       "    <tr>\n",
       "      <th>...</th>\n",
       "      <td>...</td>\n",
       "      <td>...</td>\n",
       "    </tr>\n",
       "    <tr>\n",
       "      <th>20814</th>\n",
       "      <td>EPI_ISL_1202081</td>\n",
       "      <td>24390</td>\n",
       "    </tr>\n",
       "    <tr>\n",
       "      <th>20815</th>\n",
       "      <td>EPI_ISL_1078237</td>\n",
       "      <td>29865</td>\n",
       "    </tr>\n",
       "    <tr>\n",
       "      <th>20816</th>\n",
       "      <td>EPI_ISL_509743</td>\n",
       "      <td>43</td>\n",
       "    </tr>\n",
       "    <tr>\n",
       "      <th>20817</th>\n",
       "      <td>EPI_ISL_498719</td>\n",
       "      <td>1211</td>\n",
       "    </tr>\n",
       "    <tr>\n",
       "      <th>20818</th>\n",
       "      <td>EPI_ISL_440776</td>\n",
       "      <td>29191</td>\n",
       "    </tr>\n",
       "  </tbody>\n",
       "</table>\n",
       "<p>20819 rows × 2 columns</p>\n",
       "</div>"
      ],
      "text/plain": [
       "                    ID  Position\n",
       "0       EPI_ISL_542150     28221\n",
       "1       EPI_ISL_653826         4\n",
       "2       EPI_ISL_653826     29868\n",
       "3       EPI_ISL_511905        26\n",
       "4       EPI_ISL_511905     20441\n",
       "...                ...       ...\n",
       "20814  EPI_ISL_1202081     24390\n",
       "20815  EPI_ISL_1078237     29865\n",
       "20816   EPI_ISL_509743        43\n",
       "20817   EPI_ISL_498719      1211\n",
       "20818   EPI_ISL_440776     29191\n",
       "\n",
       "[20819 rows x 2 columns]"
      ]
     },
     "execution_count": 31,
     "metadata": {},
     "output_type": "execute_result"
    }
   ],
   "source": [
    "pd.read_csv(\"output_modified.txt\", sep='\\t')"
   ]
  }
 ],
 "metadata": {
  "kernelspec": {
   "display_name": "Python 3 (ipykernel)",
   "language": "python",
   "name": "python3"
  },
  "language_info": {
   "codemirror_mode": {
    "name": "ipython",
    "version": 3
   },
   "file_extension": ".py",
   "mimetype": "text/x-python",
   "name": "python",
   "nbconvert_exporter": "python",
   "pygments_lexer": "ipython3",
   "version": "3.10.9"
  }
 },
 "nbformat": 4,
 "nbformat_minor": 5
}
