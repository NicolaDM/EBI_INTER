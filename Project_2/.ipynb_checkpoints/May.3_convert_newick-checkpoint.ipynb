{
 "cells": [
  {
   "cell_type": "markdown",
   "id": "5fe49dc0",
   "metadata": {},
   "source": [
    "```python\n",
    "pip install dendropy\n",
    "```"
   ]
  },
  {
   "cell_type": "code",
   "execution_count": 6,
   "id": "7b8217cd",
   "metadata": {
    "scrolled": true
   },
   "outputs": [],
   "source": [
    "import dendropy\n",
    "\n",
    "# 读取 Nexus 文件\n",
    "tree_list = dendropy.TreeList.get_from_path(\"MAPLE_support_exampleMAT_100_MATfromGivenTree_nexusTree.tree\", schema=\"nexus\")\n",
    "\n",
    "# 保存为 Newick 格式\n",
    "tree_list.write_to_path(\"output.nwk\", schema=\"newick\")\n"
   ]
  },
  {
   "cell_type": "code",
   "execution_count": 8,
   "id": "041b0486",
   "metadata": {},
   "outputs": [],
   "source": [
    "# 调用函数进行转换\n",
    "input_file = 'MAPLE_support_exampleMAT_100_MATfromGivenTree_nexusTree.tree'\n",
    "output_file = 'your_output_file.jsonl'\n",
    "nexus_tree_to_jsonl(input_file, output_file)\n"
   ]
  },
  {
   "cell_type": "code",
   "execution_count": null,
   "id": "38372ff3",
   "metadata": {},
   "outputs": [],
   "source": []
  },
  {
   "cell_type": "code",
   "execution_count": null,
   "id": "29a1de0e",
   "metadata": {},
   "outputs": [],
   "source": []
  },
  {
   "cell_type": "code",
   "execution_count": 9,
   "id": "3cecb8f3",
   "metadata": {},
   "outputs": [],
   "source": [
    "import csv\n",
    "import dendropy\n",
    "\n",
    "def extract_metadata_from_nexus(input_file, output_file):\n",
    "    # 从输入文件中读取Nexus树\n",
    "    nexus_trees = dendropy.TreeList.get_from_path(input_file, \"nexus\")\n",
    "\n",
    "    # 提取元数据并存储为CSV\n",
    "    with open(output_file, 'w', newline='', encoding='utf-8') as csvfile:\n",
    "        fieldnames = ['node_id', 'annotation_name', 'annotation_value']\n",
    "        writer = csv.DictWriter(csvfile, fieldnames=fieldnames)\n",
    "        writer.writeheader()\n",
    "\n",
    "        for tree in nexus_trees:\n",
    "            for node in tree.preorder_node_iter():\n",
    "                node_id = node.__hash__()\n",
    "\n",
    "                if node.annotations:\n",
    "                    for annotation in node.annotations:\n",
    "                        writer.writerow({\n",
    "                            'node_id': node_id,\n",
    "                            'annotation_name': annotation.name,\n",
    "                            'annotation_value': annotation.value\n",
    "                        })"
   ]
  },
  {
   "cell_type": "code",
   "execution_count": 10,
   "id": "d7cbbfcd",
   "metadata": {},
   "outputs": [],
   "source": [
    "# 调用函数进行转换\n",
    "input_file = 'MAPLE_support_exampleMAT_100_MATfromGivenTree_nexusTree.tree'\n",
    "output_file = 'metadata_output.csv'\n",
    "extract_metadata_from_nexus(input_file, output_file)"
   ]
  },
  {
   "cell_type": "code",
   "execution_count": null,
   "id": "f7073d5a",
   "metadata": {},
   "outputs": [],
   "source": []
  },
  {
   "cell_type": "code",
   "execution_count": 12,
   "id": "5f36c557",
   "metadata": {},
   "outputs": [],
   "source": [
    "import csv\n",
    "import dendropy\n",
    "\n",
    "def extract_metadata_from_nexus(input_file, output_file):\n",
    "    # 从输入文件中读取Nexus树\n",
    "    nexus_trees = dendropy.TreeList.get_from_path(input_file, \"nexus\")\n",
    "\n",
    "    # 提取元数据并存储为CSV\n",
    "    with open(output_file, 'w', newline='', encoding='utf-8') as csvfile:\n",
    "        fieldnames = ['node_name', 'annotation_name', 'annotation_value']\n",
    "        writer = csv.DictWriter(csvfile, fieldnames=fieldnames)\n",
    "        writer.writeheader()\n",
    "\n",
    "        for tree in nexus_trees:\n",
    "            for node in tree.preorder_node_iter():\n",
    "                node_id = node.__hash__()\n",
    "                node_name = node.label if node.label else f\"node_{node_id}\"\n",
    "\n",
    "                if node.annotations:\n",
    "                    for annotation in node.annotations:\n",
    "                        writer.writerow({\n",
    "                            'node_name': node_name,\n",
    "                            'annotation_name': annotation.name,\n",
    "                            'annotation_value': annotation.value\n",
    "                        })\n",
    "\n",
    "# 调用函数进行转换\n",
    "input_file = 'MAPLE_support_exampleMAT_100_MATfromGivenTree_nexusTree.tree'\n",
    "output_file = 'metadata_output.csv'\n",
    "extract_metadata_from_nexus(input_file, output_file)\n"
   ]
  },
  {
   "cell_type": "code",
   "execution_count": null,
   "id": "a3aa0f2c",
   "metadata": {},
   "outputs": [],
   "source": []
  },
  {
   "cell_type": "code",
   "execution_count": null,
   "id": "bd91c3b6",
   "metadata": {},
   "outputs": [],
   "source": []
  },
  {
   "cell_type": "code",
   "execution_count": null,
   "id": "a990969a",
   "metadata": {},
   "outputs": [],
   "source": []
  },
  {
   "cell_type": "code",
   "execution_count": 13,
   "id": "ae1c1fd3",
   "metadata": {},
   "outputs": [
    {
     "name": "stdout",
     "output_type": "stream",
     "text": [
      "Collecting taxoniumtools\n",
      "  Downloading taxoniumtools-2.0.91-py3-none-any.whl (18 kB)\n",
      "Collecting treeswift\n",
      "  Downloading treeswift-1.1.35-py2.py3-none-any.whl (32 kB)\n",
      "Requirement already satisfied: pandas in /homes/zihao/anaconda3/lib/python3.10/site-packages (from taxoniumtools) (1.5.3)\n",
      "Collecting google-api-python-client\n",
      "  Downloading google_api_python_client-2.86.0-py2.py3-none-any.whl (11.3 MB)\n",
      "\u001b[2K     \u001b[90m━━━━━━━━━━━━━━━━━━━━━━━━━━━━━━━━━━━━━━━\u001b[0m \u001b[32m11.3/11.3 MB\u001b[0m \u001b[31m124.2 MB/s\u001b[0m eta \u001b[36m0:00:00\u001b[0m00:01\u001b[0m00:01\u001b[0m\n",
      "\u001b[?25hCollecting alive-progress\n",
      "  Downloading alive_progress-3.1.1-py3-none-any.whl (75 kB)\n",
      "\u001b[2K     \u001b[90m━━━━━━━━━━━━━━━━━━━━━━━━━━━━━━━━━━━━━━━━\u001b[0m \u001b[32m75.7/75.7 kB\u001b[0m \u001b[31m10.0 MB/s\u001b[0m eta \u001b[36m0:00:00\u001b[0m\n",
      "\u001b[?25hCollecting protobuf<4\n",
      "  Downloading protobuf-3.20.3-cp310-cp310-manylinux_2_12_x86_64.manylinux2010_x86_64.whl (1.1 MB)\n",
      "\u001b[2K     \u001b[90m━━━━━━━━━━━━━━━━━━━━━━━━━━━━━━━━━━━━━━━━\u001b[0m \u001b[32m1.1/1.1 MB\u001b[0m \u001b[31m84.5 MB/s\u001b[0m eta \u001b[36m0:00:00\u001b[0m\n",
      "\u001b[?25hRequirement already satisfied: biopython in /homes/zihao/anaconda3/lib/python3.10/site-packages (from taxoniumtools) (1.81)\n",
      "Collecting docker\n",
      "  Downloading docker-6.0.1-py3-none-any.whl (147 kB)\n",
      "\u001b[2K     \u001b[90m━━━━━━━━━━━━━━━━━━━━━━━━━━━━━━━━━━━━━━\u001b[0m \u001b[32m147.5/147.5 kB\u001b[0m \u001b[31m19.0 MB/s\u001b[0m eta \u001b[36m0:00:00\u001b[0m\n",
      "\u001b[?25hRequirement already satisfied: psutil in /homes/zihao/anaconda3/lib/python3.10/site-packages (from taxoniumtools) (5.9.0)\n",
      "Collecting orjson\n",
      "  Downloading orjson-3.8.11-cp310-cp310-manylinux_2_28_x86_64.whl (135 kB)\n",
      "\u001b[2K     \u001b[90m━━━━━━━━━━━━━━━━━━━━━━━━━━━━━━━━━━━━━━\u001b[0m \u001b[32m135.6/135.6 kB\u001b[0m \u001b[31m19.6 MB/s\u001b[0m eta \u001b[36m0:00:00\u001b[0m\n",
      "\u001b[?25hCollecting grapheme==0.6.0\n",
      "  Downloading grapheme-0.6.0.tar.gz (207 kB)\n",
      "\u001b[2K     \u001b[90m━━━━━━━━━━━━━━━━━━━━━━━━━━━━━━━━━━━━━━\u001b[0m \u001b[32m207.3/207.3 kB\u001b[0m \u001b[31m28.5 MB/s\u001b[0m eta \u001b[36m0:00:00\u001b[0m\n",
      "\u001b[?25h  Preparing metadata (setup.py) ... \u001b[?25ldone\n",
      "\u001b[?25hCollecting about-time==4.2.1\n",
      "  Downloading about_time-4.2.1-py3-none-any.whl (13 kB)\n",
      "Requirement already satisfied: numpy in /homes/zihao/anaconda3/lib/python3.10/site-packages (from biopython->taxoniumtools) (1.23.5)\n",
      "Requirement already satisfied: urllib3>=1.26.0 in /homes/zihao/anaconda3/lib/python3.10/site-packages (from docker->taxoniumtools) (1.26.14)\n",
      "Requirement already satisfied: packaging>=14.0 in /homes/zihao/anaconda3/lib/python3.10/site-packages (from docker->taxoniumtools) (22.0)\n",
      "Requirement already satisfied: websocket-client>=0.32.0 in /homes/zihao/anaconda3/lib/python3.10/site-packages (from docker->taxoniumtools) (0.58.0)\n",
      "Requirement already satisfied: requests>=2.26.0 in /homes/zihao/anaconda3/lib/python3.10/site-packages (from docker->taxoniumtools) (2.28.1)\n",
      "Collecting google-api-core!=2.0.*,!=2.1.*,!=2.2.*,!=2.3.0,<3.0.0dev,>=1.31.5\n",
      "  Downloading google_api_core-2.11.0-py3-none-any.whl (120 kB)\n",
      "\u001b[2K     \u001b[90m━━━━━━━━━━━━━━━━━━━━━━━━━━━━━━━━━━━━━━\u001b[0m \u001b[32m120.3/120.3 kB\u001b[0m \u001b[31m18.2 MB/s\u001b[0m eta \u001b[36m0:00:00\u001b[0m\n",
      "\u001b[?25hCollecting google-auth<3.0.0dev,>=1.19.0\n",
      "  Downloading google_auth-2.17.3-py2.py3-none-any.whl (178 kB)\n",
      "\u001b[2K     \u001b[90m━━━━━━━━━━━━━━━━━━━━━━━━━━━━━━━━━━━━━━\u001b[0m \u001b[32m178.2/178.2 kB\u001b[0m \u001b[31m24.9 MB/s\u001b[0m eta \u001b[36m0:00:00\u001b[0m\n",
      "\u001b[?25hCollecting google-auth-httplib2>=0.1.0\n",
      "  Downloading google_auth_httplib2-0.1.0-py2.py3-none-any.whl (9.3 kB)\n",
      "Collecting httplib2<1dev,>=0.15.0\n",
      "  Downloading httplib2-0.22.0-py3-none-any.whl (96 kB)\n",
      "\u001b[2K     \u001b[90m━━━━━━━━━━━━━━━━━━━━━━━━━━━━━━━━━━━━━━━━\u001b[0m \u001b[32m96.9/96.9 kB\u001b[0m \u001b[31m14.8 MB/s\u001b[0m eta \u001b[36m0:00:00\u001b[0m\n",
      "\u001b[?25hCollecting uritemplate<5,>=3.0.1\n",
      "  Downloading uritemplate-4.1.1-py2.py3-none-any.whl (10 kB)\n",
      "Requirement already satisfied: python-dateutil>=2.8.1 in /homes/zihao/anaconda3/lib/python3.10/site-packages (from pandas->taxoniumtools) (2.8.2)\n",
      "Requirement already satisfied: pytz>=2020.1 in /homes/zihao/anaconda3/lib/python3.10/site-packages (from pandas->taxoniumtools) (2022.7)\n",
      "Collecting googleapis-common-protos<2.0dev,>=1.56.2\n",
      "  Downloading googleapis_common_protos-1.59.0-py2.py3-none-any.whl (223 kB)\n",
      "\u001b[2K     \u001b[90m━━━━━━━━━━━━━━━━━━━━━━━━━━━━━━━━━━━━━━\u001b[0m \u001b[32m223.6/223.6 kB\u001b[0m \u001b[31m30.3 MB/s\u001b[0m eta \u001b[36m0:00:00\u001b[0m\n",
      "\u001b[?25hCollecting cachetools<6.0,>=2.0.0\n",
      "  Downloading cachetools-5.3.0-py3-none-any.whl (9.3 kB)\n",
      "Requirement already satisfied: six>=1.9.0 in /homes/zihao/anaconda3/lib/python3.10/site-packages (from google-auth<3.0.0dev,>=1.19.0->google-api-python-client->taxoniumtools) (1.16.0)\n",
      "Collecting rsa<5,>=3.1.4\n",
      "  Downloading rsa-4.9-py3-none-any.whl (34 kB)\n",
      "Requirement already satisfied: pyasn1-modules>=0.2.1 in /homes/zihao/anaconda3/lib/python3.10/site-packages (from google-auth<3.0.0dev,>=1.19.0->google-api-python-client->taxoniumtools) (0.2.8)\n",
      "Requirement already satisfied: pyparsing!=3.0.0,!=3.0.1,!=3.0.2,!=3.0.3,<4,>=2.4.2 in /homes/zihao/.local/lib/python3.10/site-packages (from httplib2<1dev,>=0.15.0->google-api-python-client->taxoniumtools) (2.4.7)\n",
      "Requirement already satisfied: certifi>=2017.4.17 in /homes/zihao/anaconda3/lib/python3.10/site-packages (from requests>=2.26.0->docker->taxoniumtools) (2022.12.7)\n",
      "Requirement already satisfied: idna<4,>=2.5 in /homes/zihao/anaconda3/lib/python3.10/site-packages (from requests>=2.26.0->docker->taxoniumtools) (3.4)\n",
      "Requirement already satisfied: charset-normalizer<3,>=2 in /homes/zihao/anaconda3/lib/python3.10/site-packages (from requests>=2.26.0->docker->taxoniumtools) (2.0.4)\n",
      "Requirement already satisfied: pyasn1<0.5.0,>=0.4.6 in /homes/zihao/anaconda3/lib/python3.10/site-packages (from pyasn1-modules>=0.2.1->google-auth<3.0.0dev,>=1.19.0->google-api-python-client->taxoniumtools) (0.4.8)\n",
      "Building wheels for collected packages: grapheme\n",
      "  Building wheel for grapheme (setup.py) ... \u001b[?25ldone\n",
      "\u001b[?25h  Created wheel for grapheme: filename=grapheme-0.6.0-py3-none-any.whl size=210080 sha256=0b5b5bdebb1248d24b0ddf09723629fb0592f3f71ef8686242d2a8ea70fb431a\n",
      "  Stored in directory: /homes/zihao/.cache/pip/wheels/ab/2e/fa/38c12eee1d96f6ac5e3339bec66a6055413d870b509c2bff31\n",
      "Successfully built grapheme\n",
      "Installing collected packages: treeswift, grapheme, uritemplate, rsa, protobuf, orjson, httplib2, cachetools, about-time, googleapis-common-protos, google-auth, docker, alive-progress, google-auth-httplib2, google-api-core, google-api-python-client, taxoniumtools\n",
      "Successfully installed about-time-4.2.1 alive-progress-3.1.1 cachetools-5.3.0 docker-6.0.1 google-api-core-2.11.0 google-api-python-client-2.86.0 google-auth-2.17.3 google-auth-httplib2-0.1.0 googleapis-common-protos-1.59.0 grapheme-0.6.0 httplib2-0.22.0 orjson-3.8.11 protobuf-3.20.3 rsa-4.9 taxoniumtools-2.0.91 treeswift-1.1.35 uritemplate-4.1.1\n",
      "Note: you may need to restart the kernel to use updated packages.\n"
     ]
    }
   ],
   "source": [
    "pip install taxoniumtools"
   ]
  },
  {
   "cell_type": "code",
   "execution_count": null,
   "id": "757d3160",
   "metadata": {},
   "outputs": [],
   "source": [
    "usher_to_taxonium --input tfci.pb --output tfci-taxonium.jsonl.gz --metadata tfci.meta.tsv.gz --genbank hu1.gb \\\n",
    "--columns genbank_accession,country,date,pangolin_lineage"
   ]
  },
  {
   "cell_type": "code",
   "execution_count": null,
   "id": "9cc2959c",
   "metadata": {},
   "outputs": [],
   "source": [
    "usage: newick_to_taxonium [-h] -i INPUT -o OUTPUT [-m METADATA] [-c COLUMNS]\n",
    "                          [-j CONFIG_JSON] [-t TITLE]\n",
    "                          [--overlay_html OVERLAY_HTML]\n",
    "                          [--key_column KEY_COLUMN]"
   ]
  },
  {
   "cell_type": "code",
   "execution_count": 14,
   "id": "e6957382",
   "metadata": {},
   "outputs": [
    {
     "ename": "SyntaxError",
     "evalue": "invalid syntax (917537725.py, line 1)",
     "output_type": "error",
     "traceback": [
      "\u001b[0;36m  Cell \u001b[0;32mIn[14], line 1\u001b[0;36m\u001b[0m\n\u001b[0;31m    newick_to_taxonium -i MAPLE_support_exampleMAT_100_MATfromGivenTree_nexusTree.tree -o tree.html -m metadata.csv -c species -t \"Evolutionary tree of species\"\u001b[0m\n\u001b[0m                          ^\u001b[0m\n\u001b[0;31mSyntaxError\u001b[0m\u001b[0;31m:\u001b[0m invalid syntax\n"
     ]
    }
   ],
   "source": [
    "newick_to_taxonium -i MAPLE_support_exampleMAT_100_MATfromGivenTree_nexusTree.tree -o tree.html -m metadata.csv -c species -t \"Evolutionary tree of species\"\n"
   ]
  },
  {
   "cell_type": "code",
   "execution_count": null,
   "id": "14647adf",
   "metadata": {},
   "outputs": [],
   "source": []
  },
  {
   "cell_type": "code",
   "execution_count": null,
   "id": "f697da5a",
   "metadata": {},
   "outputs": [],
   "source": []
  }
 ],
 "metadata": {
  "kernelspec": {
   "display_name": "Python 3 (ipykernel)",
   "language": "python",
   "name": "python3"
  },
  "language_info": {
   "codemirror_mode": {
    "name": "ipython",
    "version": 3
   },
   "file_extension": ".py",
   "mimetype": "text/x-python",
   "name": "python",
   "nbconvert_exporter": "python",
   "pygments_lexer": "ipython3",
   "version": "3.10.9"
  }
 },
 "nbformat": 4,
 "nbformat_minor": 5
}
