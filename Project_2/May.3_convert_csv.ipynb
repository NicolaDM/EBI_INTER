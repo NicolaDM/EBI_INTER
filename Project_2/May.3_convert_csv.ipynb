{
 "cells": [
  {
   "cell_type": "code",
   "execution_count": 1,
   "id": "292526e9",
   "metadata": {},
   "outputs": [
    {
     "name": "stdout",
     "output_type": "stream",
     "text": [
      "Collecting ete3\n",
      "  Downloading ete3-3.1.3.tar.gz (4.8 MB)\n",
      "\u001b[2K     \u001b[90m━━━━━━━━━━━━━━━━━━━━━━━━━━━━━━━━━━━━━━━━\u001b[0m \u001b[32m4.8/4.8 MB\u001b[0m \u001b[31m66.5 MB/s\u001b[0m eta \u001b[36m0:00:00\u001b[0m:00:01\u001b[0m00:01\u001b[0m\n",
      "\u001b[?25h  Preparing metadata (setup.py) ... \u001b[?25ldone\n",
      "\u001b[?25hBuilding wheels for collected packages: ete3\n",
      "  Building wheel for ete3 (setup.py) ... \u001b[?25ldone\n",
      "\u001b[?25h  Created wheel for ete3: filename=ete3-3.1.3-py3-none-any.whl size=2273785 sha256=9fd0d33919ea2ad94fb9cefe5c2feea5d22d1fed89333d55f8a3f0935d3949ef\n",
      "  Stored in directory: /homes/zihao/.cache/pip/wheels/e0/90/21/70d48deb2c8017a28d4fb5fc7bcc0a6954c4e967ef5eea88c8\n",
      "Successfully built ete3\n",
      "Installing collected packages: ete3\n",
      "Successfully installed ete3-3.1.3\n",
      "Note: you may need to restart the kernel to use updated packages.\n"
     ]
    }
   ],
   "source": [
    "pip install ete3"
   ]
  },
  {
   "cell_type": "code",
   "execution_count": 24,
   "id": "bca2f21d",
   "metadata": {},
   "outputs": [
    {
     "ename": "ValueError",
     "evalue": "No records found in handle",
     "output_type": "error",
     "traceback": [
      "\u001b[0;31m---------------------------------------------------------------------------\u001b[0m",
      "\u001b[0;31mValueError\u001b[0m                                Traceback (most recent call last)",
      "Cell \u001b[0;32mIn[24], line 4\u001b[0m\n\u001b[1;32m      1\u001b[0m \u001b[38;5;28;01mfrom\u001b[39;00m \u001b[38;5;21;01mBio\u001b[39;00m \u001b[38;5;28;01mimport\u001b[39;00m AlignIO\n\u001b[1;32m      3\u001b[0m \u001b[38;5;66;03m# 读取Nexus文件\u001b[39;00m\n\u001b[0;32m----> 4\u001b[0m my_data \u001b[38;5;241m=\u001b[39m \u001b[43mAlignIO\u001b[49m\u001b[38;5;241;43m.\u001b[39;49m\u001b[43mread\u001b[49m\u001b[43m(\u001b[49m\u001b[38;5;124;43m\"\u001b[39;49m\u001b[38;5;124;43mMAPLE_support_exampleMAT_100_MATfromGivenTree_nexusTree.tree\u001b[39;49m\u001b[38;5;124;43m\"\u001b[39;49m\u001b[43m,\u001b[49m\u001b[43m \u001b[49m\u001b[38;5;124;43m\"\u001b[39;49m\u001b[38;5;124;43mnexus\u001b[39;49m\u001b[38;5;124;43m\"\u001b[39;49m\u001b[43m)\u001b[49m\n\u001b[1;32m      6\u001b[0m \u001b[38;5;66;03m# 获取元数据\u001b[39;00m\n\u001b[1;32m      7\u001b[0m my_metadata \u001b[38;5;241m=\u001b[39m my_data\u001b[38;5;241m.\u001b[39mannotations\n",
      "File \u001b[0;32m~/anaconda3/lib/python3.10/site-packages/Bio/AlignIO/__init__.py:385\u001b[0m, in \u001b[0;36mread\u001b[0;34m(handle, format, seq_count)\u001b[0m\n\u001b[1;32m    383\u001b[0m     alignment \u001b[38;5;241m=\u001b[39m \u001b[38;5;28mnext\u001b[39m(iterator)\n\u001b[1;32m    384\u001b[0m \u001b[38;5;28;01mexcept\u001b[39;00m \u001b[38;5;167;01mStopIteration\u001b[39;00m:\n\u001b[0;32m--> 385\u001b[0m     \u001b[38;5;28;01mraise\u001b[39;00m \u001b[38;5;167;01mValueError\u001b[39;00m(\u001b[38;5;124m\"\u001b[39m\u001b[38;5;124mNo records found in handle\u001b[39m\u001b[38;5;124m\"\u001b[39m) \u001b[38;5;28;01mfrom\u001b[39;00m \u001b[38;5;28;01mNone\u001b[39;00m\n\u001b[1;32m    386\u001b[0m \u001b[38;5;28;01mtry\u001b[39;00m:\n\u001b[1;32m    387\u001b[0m     \u001b[38;5;28mnext\u001b[39m(iterator)\n",
      "\u001b[0;31mValueError\u001b[0m: No records found in handle"
     ]
    }
   ],
   "source": [
    "from Bio import AlignIO\n",
    "\n",
    "# 读取Nexus文件\n",
    "my_data = AlignIO.read(\"MAPLE_support_exampleMAT_100_MATfromGivenTree_nexusTree.tree\", \"nexus\")\n",
    "\n",
    "# 获取元数据\n",
    "my_metadata = my_data.annotations\n",
    "\n",
    "# 打印元数据\n",
    "print(my_metadata)\n"
   ]
  },
  {
   "cell_type": "code",
   "execution_count": 30,
   "id": "b4e69295",
   "metadata": {},
   "outputs": [
    {
     "ename": "TypeError",
     "evalue": "'module' object is not callable",
     "output_type": "error",
     "traceback": [
      "\u001b[0;31m---------------------------------------------------------------------------\u001b[0m",
      "\u001b[0;31mTypeError\u001b[0m                                 Traceback (most recent call last)",
      "Cell \u001b[0;32mIn[30], line 5\u001b[0m\n\u001b[1;32m      3\u001b[0m \u001b[38;5;66;03m# 读取nexus文件\u001b[39;00m\n\u001b[1;32m      4\u001b[0m nexus_file \u001b[38;5;241m=\u001b[39m \u001b[38;5;124m\"\u001b[39m\u001b[38;5;124mMAPLE_support_exampleMAT_100_MATfromGivenTree_nexusTree.tree\u001b[39m\u001b[38;5;124m\"\u001b[39m\n\u001b[0;32m----> 5\u001b[0m nexus \u001b[38;5;241m=\u001b[39m \u001b[43mNexus\u001b[49m\u001b[43m(\u001b[49m\u001b[43m)\u001b[49m\n\u001b[1;32m      6\u001b[0m nexus\u001b[38;5;241m.\u001b[39mread(nexus_file)\n\u001b[1;32m      8\u001b[0m \u001b[38;5;66;03m# 提取树\u001b[39;00m\n",
      "\u001b[0;31mTypeError\u001b[0m: 'module' object is not callable"
     ]
    }
   ],
   "source": [
    "from Bio.Nexus import Nexus\n",
    "\n",
    "# 读取nexus文件\n",
    "nexus_file = \"MAPLE_support_exampleMAT_100_MATfromGivenTree_nexusTree.tree\"\n",
    "nexus = Nexus()\n",
    "nexus.read(nexus_file)\n",
    "\n",
    "# 提取树\n",
    "tree = nexus.trees[0]\n",
    "\n",
    "# 遍历树中的每个节点并提取信息\n",
    "for node in tree.nodes():\n",
    "    # 获取节点名称\n",
    "    name = node.name\n",
    "    \n",
    "    # 获取支持度信息\n",
    "    support = node.confidence\n",
    "    \n",
    "    # 获取替代排列信息\n",
    "    alternativePlacements = node.comment\n",
    "    \n",
    "    # 获取突变信息\n",
    "    mutations = node.features\n",
    "    \n",
    "    # 对每个节点进行处理，例如打印信息\n",
    "    print(f\"Name: {name}, Support: {support}, Alternative Placements: {alternativePlacements}, Mutations: {mutations}\")\n"
   ]
  },
  {
   "cell_type": "code",
   "execution_count": null,
   "id": "9605e3c7",
   "metadata": {},
   "outputs": [],
   "source": []
  },
  {
   "cell_type": "code",
   "execution_count": null,
   "id": "9446d6a9",
   "metadata": {},
   "outputs": [],
   "source": []
  },
  {
   "cell_type": "code",
   "execution_count": 23,
   "id": "8766e473",
   "metadata": {},
   "outputs": [
    {
     "ename": "TypeError",
     "evalue": "argument of type 'NoneType' is not iterable",
     "output_type": "error",
     "traceback": [
      "\u001b[0;31m---------------------------------------------------------------------------\u001b[0m",
      "\u001b[0;31mTypeError\u001b[0m                                 Traceback (most recent call last)",
      "Cell \u001b[0;32mIn[23], line 19\u001b[0m\n\u001b[1;32m     17\u001b[0m \u001b[38;5;28;01mif\u001b[39;00m node\u001b[38;5;241m.\u001b[39mname:\n\u001b[1;32m     18\u001b[0m     support \u001b[38;5;241m=\u001b[39m node\u001b[38;5;241m.\u001b[39mconfidence \u001b[38;5;28;01mif\u001b[39;00m node\u001b[38;5;241m.\u001b[39mconfidence \u001b[38;5;28;01melse\u001b[39;00m \u001b[38;5;124m'\u001b[39m\u001b[38;5;124m'\u001b[39m\n\u001b[0;32m---> 19\u001b[0m     mutations \u001b[38;5;241m=\u001b[39m node\u001b[38;5;241m.\u001b[39mcomment\u001b[38;5;241m.\u001b[39msplit(\u001b[38;5;124m'\u001b[39m\u001b[38;5;124mmutations=\u001b[39m\u001b[38;5;124m{\u001b[39m\u001b[38;5;124m'\u001b[39m)[\u001b[38;5;241m1\u001b[39m]\u001b[38;5;241m.\u001b[39msplit(\u001b[38;5;124m'\u001b[39m\u001b[38;5;124m}\u001b[39m\u001b[38;5;124m'\u001b[39m)[\u001b[38;5;241m0\u001b[39m] \u001b[38;5;28;01mif\u001b[39;00m \u001b[38;5;124;43m'\u001b[39;49m\u001b[38;5;124;43mmutations=\u001b[39;49m\u001b[38;5;124;43m'\u001b[39;49m\u001b[43m \u001b[49m\u001b[38;5;129;43;01min\u001b[39;49;00m\u001b[43m \u001b[49m\u001b[43mnode\u001b[49m\u001b[38;5;241;43m.\u001b[39;49m\u001b[43mcomment\u001b[49m \u001b[38;5;28;01melse\u001b[39;00m \u001b[38;5;124m'\u001b[39m\u001b[38;5;124m'\u001b[39m\n\u001b[1;32m     20\u001b[0m     Ns \u001b[38;5;241m=\u001b[39m node\u001b[38;5;241m.\u001b[39mcomment\u001b[38;5;241m.\u001b[39msplit(\u001b[38;5;124m'\u001b[39m\u001b[38;5;124mNs=\u001b[39m\u001b[38;5;124m{\u001b[39m\u001b[38;5;124m'\u001b[39m)[\u001b[38;5;241m1\u001b[39m]\u001b[38;5;241m.\u001b[39msplit(\u001b[38;5;124m'\u001b[39m\u001b[38;5;124m}\u001b[39m\u001b[38;5;124m'\u001b[39m)[\u001b[38;5;241m0\u001b[39m] \u001b[38;5;28;01mif\u001b[39;00m \u001b[38;5;124m'\u001b[39m\u001b[38;5;124mNs=\u001b[39m\u001b[38;5;124m'\u001b[39m \u001b[38;5;129;01min\u001b[39;00m node\u001b[38;5;241m.\u001b[39mcomment \u001b[38;5;28;01melse\u001b[39;00m \u001b[38;5;124m'\u001b[39m\u001b[38;5;124m'\u001b[39m\n\u001b[1;32m     21\u001b[0m     metadata\u001b[38;5;241m.\u001b[39mappend((node\u001b[38;5;241m.\u001b[39mname, support, mutations, Ns))\n",
      "\u001b[0;31mTypeError\u001b[0m: argument of type 'NoneType' is not iterable"
     ]
    }
   ],
   "source": [
    "from io import StringIO\n",
    "from Bio import Phylo\n",
    "import csv\n",
    "\n",
    "# Read the NEXUS tree file\n",
    "tree_file = \"MAPLE_support_exampleMAT_100_MATfromGivenTree_nexusTree.tree\"\n",
    "with open(tree_file, 'r') as f:\n",
    "    nexus_data = f.read()\n",
    "\n",
    "# Load the NEXUS tree\n",
    "trees = list(Phylo.parse(StringIO(nexus_data), 'nexus'))\n",
    "tree = trees[0] # Assuming you only have one tree in the file\n",
    "\n",
    "# Extract metadata from the tree\n",
    "metadata = []\n",
    "for node in tree.find_clades():\n",
    "    if node.name:\n",
    "        support = node.confidence if node.confidence else ''\n",
    "        mutations = node.comment.split('mutations={')[1].split('}')[0] if 'mutations=' in node.comment else ''\n",
    "        Ns = node.comment.split('Ns={')[1].split('}')[0] if 'Ns=' in node.comment else ''\n",
    "        metadata.append((node.name, support, mutations, Ns))\n",
    "\n",
    "# Save metadata to a CSV file\n",
    "with open('output.csv', mode='w') as csv_file:\n",
    "    writer = csv.writer(csv_file)\n",
    "    writer.writerow(['name', 'support', 'mutations', 'Ns'])\n",
    "    for row in metadata:\n",
    "        writer.writerow(row)\n",
    "\n"
   ]
  },
  {
   "cell_type": "code",
   "execution_count": null,
   "id": "48d62172",
   "metadata": {},
   "outputs": [],
   "source": []
  },
  {
   "cell_type": "code",
   "execution_count": 9,
   "id": "d6758790",
   "metadata": {},
   "outputs": [
    {
     "name": "stdout",
     "output_type": "stream",
     "text": [
      "Metadata saved to metadata.csv\n"
     ]
    }
   ],
   "source": [
    "import csv\n",
    "from Bio import Phylo\n",
    "\n",
    "# Read the NEXUS file\n",
    "tree = Phylo.read('MAPLE_support_exampleMAT_100_MATfromGivenTree_nexusTree.tree', 'nexus')\n",
    "\n",
    "# Extract metadata from the tree\n",
    "metadata = []\n",
    "for node in tree.get_terminals():\n",
    "    support = node.branch_length\n",
    "    if hasattr(node, \"mutations\"):\n",
    "        mutations = node.mutations\n",
    "    else:\n",
    "        mutations = ''\n",
    "    if hasattr(node, \"Ns\"):\n",
    "        Ns = node.Ns\n",
    "    else:\n",
    "        Ns = ''\n",
    "    name = node.name\n",
    "    metadata.append({'name': name, 'support': support, 'mutations': mutations, 'Ns': Ns})\n",
    "\n",
    "# Save metadata to a CSV file\n",
    "with open('metadata.csv', 'w', newline='', encoding='utf-8') as csvfile:\n",
    "    fieldnames = ['name', 'support', 'mutations', 'Ns']\n",
    "    writer = csv.DictWriter(csvfile, fieldnames=fieldnames)\n",
    "    writer.writeheader()\n",
    "    for data in metadata:\n",
    "        writer.writerow(data)\n",
    "\n",
    "print(\"Metadata saved to metadata.csv\")\n"
   ]
  },
  {
   "cell_type": "code",
   "execution_count": 10,
   "id": "14647adf",
   "metadata": {},
   "outputs": [
    {
     "data": {
      "text/html": [
       "<div>\n",
       "<style scoped>\n",
       "    .dataframe tbody tr th:only-of-type {\n",
       "        vertical-align: middle;\n",
       "    }\n",
       "\n",
       "    .dataframe tbody tr th {\n",
       "        vertical-align: top;\n",
       "    }\n",
       "\n",
       "    .dataframe thead th {\n",
       "        text-align: right;\n",
       "    }\n",
       "</style>\n",
       "<table border=\"1\" class=\"dataframe\">\n",
       "  <thead>\n",
       "    <tr style=\"text-align: right;\">\n",
       "      <th></th>\n",
       "      <th>name</th>\n",
       "      <th>support</th>\n",
       "      <th>mutations</th>\n",
       "      <th>Ns</th>\n",
       "    </tr>\n",
       "  </thead>\n",
       "  <tbody>\n",
       "    <tr>\n",
       "      <th>0</th>\n",
       "      <td>EPI_ISL_482423</td>\n",
       "      <td>0.000000</td>\n",
       "      <td>NaN</td>\n",
       "      <td>NaN</td>\n",
       "    </tr>\n",
       "    <tr>\n",
       "      <th>1</th>\n",
       "      <td>EPI_ISL_776270</td>\n",
       "      <td>0.000067</td>\n",
       "      <td>NaN</td>\n",
       "      <td>NaN</td>\n",
       "    </tr>\n",
       "    <tr>\n",
       "      <th>2</th>\n",
       "      <td>EPI_ISL_498658</td>\n",
       "      <td>0.000236</td>\n",
       "      <td>NaN</td>\n",
       "      <td>NaN</td>\n",
       "    </tr>\n",
       "    <tr>\n",
       "      <th>3</th>\n",
       "      <td>EPI_ISL_418243</td>\n",
       "      <td>0.000067</td>\n",
       "      <td>NaN</td>\n",
       "      <td>NaN</td>\n",
       "    </tr>\n",
       "    <tr>\n",
       "      <th>4</th>\n",
       "      <td>EPI_ISL_422807</td>\n",
       "      <td>0.000067</td>\n",
       "      <td>NaN</td>\n",
       "      <td>NaN</td>\n",
       "    </tr>\n",
       "    <tr>\n",
       "      <th>...</th>\n",
       "      <td>...</td>\n",
       "      <td>...</td>\n",
       "      <td>...</td>\n",
       "      <td>...</td>\n",
       "    </tr>\n",
       "    <tr>\n",
       "      <th>95</th>\n",
       "      <td>EPI_ISL_843183</td>\n",
       "      <td>0.000465</td>\n",
       "      <td>NaN</td>\n",
       "      <td>NaN</td>\n",
       "    </tr>\n",
       "    <tr>\n",
       "      <th>96</th>\n",
       "      <td>EPI_ISL_869222</td>\n",
       "      <td>0.000605</td>\n",
       "      <td>NaN</td>\n",
       "      <td>NaN</td>\n",
       "    </tr>\n",
       "    <tr>\n",
       "      <th>97</th>\n",
       "      <td>EPI_ISL_914595</td>\n",
       "      <td>0.000436</td>\n",
       "      <td>NaN</td>\n",
       "      <td>NaN</td>\n",
       "    </tr>\n",
       "    <tr>\n",
       "      <th>98</th>\n",
       "      <td>EPI_ISL_559392</td>\n",
       "      <td>0.000101</td>\n",
       "      <td>NaN</td>\n",
       "      <td>NaN</td>\n",
       "    </tr>\n",
       "    <tr>\n",
       "      <th>99</th>\n",
       "      <td>EPI_ISL_469674</td>\n",
       "      <td>0.000168</td>\n",
       "      <td>NaN</td>\n",
       "      <td>NaN</td>\n",
       "    </tr>\n",
       "  </tbody>\n",
       "</table>\n",
       "<p>100 rows × 4 columns</p>\n",
       "</div>"
      ],
      "text/plain": [
       "              name   support  mutations  Ns\n",
       "0   EPI_ISL_482423  0.000000        NaN NaN\n",
       "1   EPI_ISL_776270  0.000067        NaN NaN\n",
       "2   EPI_ISL_498658  0.000236        NaN NaN\n",
       "3   EPI_ISL_418243  0.000067        NaN NaN\n",
       "4   EPI_ISL_422807  0.000067        NaN NaN\n",
       "..             ...       ...        ...  ..\n",
       "95  EPI_ISL_843183  0.000465        NaN NaN\n",
       "96  EPI_ISL_869222  0.000605        NaN NaN\n",
       "97  EPI_ISL_914595  0.000436        NaN NaN\n",
       "98  EPI_ISL_559392  0.000101        NaN NaN\n",
       "99  EPI_ISL_469674  0.000168        NaN NaN\n",
       "\n",
       "[100 rows x 4 columns]"
      ]
     },
     "execution_count": 10,
     "metadata": {},
     "output_type": "execute_result"
    }
   ],
   "source": [
    "import pandas as pd\n",
    "\n",
    "# 读取 CSV 文件\n",
    "df = pd.read_csv('metadata.csv')\n",
    "\n",
    "\n",
    "df"
   ]
  },
  {
   "cell_type": "code",
   "execution_count": null,
   "id": "f697da5a",
   "metadata": {},
   "outputs": [],
   "source": []
  }
 ],
 "metadata": {
  "kernelspec": {
   "display_name": "Python 3 (ipykernel)",
   "language": "python",
   "name": "python3"
  },
  "language_info": {
   "codemirror_mode": {
    "name": "ipython",
    "version": 3
   },
   "file_extension": ".py",
   "mimetype": "text/x-python",
   "name": "python",
   "nbconvert_exporter": "python",
   "pygments_lexer": "ipython3",
   "version": "3.10.9"
  }
 },
 "nbformat": 4,
 "nbformat_minor": 5
}
