{
 "cells": [
  {
   "cell_type": "markdown",
   "id": "25009170",
   "metadata": {},
   "source": [
    "- Save to {processed_data.txt}"
   ]
  },
  {
   "cell_type": "code",
   "execution_count": null,
   "id": "2441241d",
   "metadata": {},
   "outputs": [],
   "source": [
    "import pandas as pd\n",
    "import os"
   ]
  },
  {
   "cell_type": "markdown",
   "id": "7f989006",
   "metadata": {},
   "source": [
    "# Data Processing"
   ]
  },
  {
   "cell_type": "code",
   "execution_count": 54,
   "id": "1134107e",
   "metadata": {},
   "outputs": [
    {
     "data": {
      "text/html": [
       "<div>\n",
       "<style scoped>\n",
       "    .dataframe tbody tr th:only-of-type {\n",
       "        vertical-align: middle;\n",
       "    }\n",
       "\n",
       "    .dataframe tbody tr th {\n",
       "        vertical-align: top;\n",
       "    }\n",
       "\n",
       "    .dataframe thead th {\n",
       "        text-align: right;\n",
       "    }\n",
       "</style>\n",
       "<table border=\"1\" class=\"dataframe\">\n",
       "  <thead>\n",
       "    <tr style=\"text-align: right;\">\n",
       "      <th></th>\n",
       "      <th>Position</th>\n",
       "      <th>Coverage</th>\n",
       "      <th>RATIO</th>\n",
       "    </tr>\n",
       "  </thead>\n",
       "  <tbody>\n",
       "    <tr>\n",
       "      <th>0</th>\n",
       "      <td>1</td>\n",
       "      <td>0</td>\n",
       "      <td>0.0</td>\n",
       "    </tr>\n",
       "    <tr>\n",
       "      <th>1</th>\n",
       "      <td>2</td>\n",
       "      <td>0</td>\n",
       "      <td>0.0</td>\n",
       "    </tr>\n",
       "    <tr>\n",
       "      <th>2</th>\n",
       "      <td>3</td>\n",
       "      <td>0</td>\n",
       "      <td>0.0</td>\n",
       "    </tr>\n",
       "    <tr>\n",
       "      <th>3</th>\n",
       "      <td>4</td>\n",
       "      <td>0</td>\n",
       "      <td>0.0</td>\n",
       "    </tr>\n",
       "    <tr>\n",
       "      <th>4</th>\n",
       "      <td>5</td>\n",
       "      <td>0</td>\n",
       "      <td>0.0</td>\n",
       "    </tr>\n",
       "  </tbody>\n",
       "</table>\n",
       "</div>"
      ],
      "text/plain": [
       "   Position  Coverage  RATIO\n",
       "0         1         0    0.0\n",
       "1         2         0    0.0\n",
       "2         3         0    0.0\n",
       "3         4         0    0.0\n",
       "4         5         0    0.0"
      ]
     },
     "execution_count": 54,
     "metadata": {},
     "output_type": "execute_result"
    }
   ],
   "source": [
    "df = pd.read_csv(\"TEST_1/EPI_ISL_1080221_coverage.txt\", sep='\\t')\n",
    "\n",
    "df.head()"
   ]
  },
  {
   "cell_type": "code",
   "execution_count": null,
   "id": "d5a75bbb",
   "metadata": {},
   "outputs": [],
   "source": [
    "def search_position_value_and_get_column_4(file_path, id_position):\n",
    "    with open(file_path, \"r\") as f:\n",
    "        file_header = f.readline().strip().split(\"\\t\")\n",
    "        position_column_index = file_header.index(\"Position\")\n",
    "        column_4_index = 2\n",
    "\n",
    "        for line in f:\n",
    "            line_values = line.strip().split(\"\\t\")\n",
    "            if position_column_index < len(line_values): # Check if index is within range\n",
    "                position_value = int(line_values[position_column_index])\n",
    "                if position_value == id_position and column_4_index < len(line_values):\n",
    "                    return line_values[column_4_index]\n",
    "    return None\n",
    "\n",
    "\n",
    "def process_data(data_file_path, directory_to_search, output_file_path):\n",
    "    data = []\n",
    "\n",
    "    with open(data_file_path, \"r\") as f:\n",
    "        header = f.readline().strip().split(\"\\t\")\n",
    "        header.append(\"MEAN_err\")\n",
    "\n",
    "        for line in f:\n",
    "            data.append(line.strip().split(\"\\t\") + [None])\n",
    "\n",
    "    for line in data:\n",
    "        id_now = str(line[0])\n",
    "        id_position = line[1]\n",
    "\n",
    "        if id_position is not None:\n",
    "            for filename in os.listdir(directory_to_search):\n",
    "                if id_now in filename and filename.endswith(\".txt\"):\n",
    "                    file_path = os.path.join(directory_to_search, filename)\n",
    "                    result = search_position_value_and_get_column_4(file_path, int(id_position))\n",
    "                    if result is not None:\n",
    "                        line[-1] = result\n",
    "                        break\n",
    "\n",
    "    with open(output_file_path, \"w\") as f:\n",
    "        f.write(\"\\t\".join(header) + \"\\n\")\n",
    "        for line in data:\n",
    "            f.write(\"\\t\".join(str(x) for x in line) + \"\\n\")"
   ]
  },
  {
   "cell_type": "code",
   "execution_count": null,
   "id": "d3e017c1",
   "metadata": {},
   "outputs": [],
   "source": [
    "directory_to_search = \"/homes/zihao/P1/TEST_1/\"\n",
    "data_file_path = \"output_modified.txt\"\n",
    "output_file_path = \"processed_data.txt\"\n",
    "\n",
    "process_data(data_file_path, directory_to_search, output_file_path)"
   ]
  },
  {
   "cell_type": "code",
   "execution_count": 66,
   "id": "e08fa592",
   "metadata": {},
   "outputs": [
    {
     "data": {
      "text/html": [
       "<div>\n",
       "<style scoped>\n",
       "    .dataframe tbody tr th:only-of-type {\n",
       "        vertical-align: middle;\n",
       "    }\n",
       "\n",
       "    .dataframe tbody tr th {\n",
       "        vertical-align: top;\n",
       "    }\n",
       "\n",
       "    .dataframe thead th {\n",
       "        text-align: right;\n",
       "    }\n",
       "</style>\n",
       "<table border=\"1\" class=\"dataframe\">\n",
       "  <thead>\n",
       "    <tr style=\"text-align: right;\">\n",
       "      <th></th>\n",
       "      <th>Position</th>\n",
       "      <th>MEAN_err</th>\n",
       "    </tr>\n",
       "  </thead>\n",
       "  <tbody>\n",
       "    <tr>\n",
       "      <th>0</th>\n",
       "      <td>2</td>\n",
       "      <td>0.000000</td>\n",
       "    </tr>\n",
       "    <tr>\n",
       "      <th>1</th>\n",
       "      <td>4</td>\n",
       "      <td>0.000029</td>\n",
       "    </tr>\n",
       "    <tr>\n",
       "      <th>2</th>\n",
       "      <td>6</td>\n",
       "      <td>0.000000</td>\n",
       "    </tr>\n",
       "    <tr>\n",
       "      <th>3</th>\n",
       "      <td>8</td>\n",
       "      <td>0.000000</td>\n",
       "    </tr>\n",
       "    <tr>\n",
       "      <th>4</th>\n",
       "      <td>9</td>\n",
       "      <td>0.000000</td>\n",
       "    </tr>\n",
       "  </tbody>\n",
       "</table>\n",
       "</div>"
      ],
      "text/plain": [
       "   Position  MEAN_err\n",
       "0         2  0.000000\n",
       "1         4  0.000029\n",
       "2         6  0.000000\n",
       "3         8  0.000000\n",
       "4         9  0.000000"
      ]
     },
     "execution_count": 66,
     "metadata": {},
     "output_type": "execute_result"
    }
   ],
   "source": [
    "df = pd.read_csv(\"processed_data.txt\", sep='\\t')\n",
    "\n",
    "# Delete rows where RATIO is None\n",
    "df = df.replace(\"None\", np.nan)\n",
    "df = df.dropna(subset=[\"MEAN_err\"])\n",
    "\n",
    "# Calculate the mean from the position\n",
    "df[\"MEAN_err\"] = df[\"MEAN_err\"].astype(float)\n",
    "df_v1 = df.groupby(by=[\"Position\"], as_index=False).mean(numeric_only=True)\n",
    "\n",
    "df_v1.to_csv(\"treat_err.txt\", sep='\\t', index=False)\n",
    "df_v1.head()"
   ]
  }
 ],
 "metadata": {
  "kernelspec": {
   "display_name": "Python 3 (ipykernel)",
   "language": "python",
   "name": "python3"
  },
  "language_info": {
   "codemirror_mode": {
    "name": "ipython",
    "version": 3
   },
   "file_extension": ".py",
   "mimetype": "text/x-python",
   "name": "python",
   "nbconvert_exporter": "python",
   "pygments_lexer": "ipython3",
   "version": "3.10.9"
  }
 },
 "nbformat": 4,
 "nbformat_minor": 5
}
