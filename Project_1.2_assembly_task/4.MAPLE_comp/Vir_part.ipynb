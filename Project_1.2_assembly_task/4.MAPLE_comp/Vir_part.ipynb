{
 "cells": [
  {
   "cell_type": "markdown",
   "id": "e16ab3c8",
   "metadata": {},
   "source": [
    "## 1.for_vir"
   ]
  },
  {
   "cell_type": "markdown",
   "id": "f2e174b4",
   "metadata": {},
   "source": [
    "#### Combine the seprate file_Viridian"
   ]
  },
  {
   "cell_type": "markdown",
   "id": "f1fc78be",
   "metadata": {},
   "source": [
    "\n",
    "```bash\n",
    "bsub -M 20000 -e /nfs/research/goldman/zihao/compViridian_2/3_combination/pg_combine_split_errorChecking_error.txt 'python3 /nfs/research/goldman/zihao/compViridian_2/3_combination/pg_combine_split.py'\n",
    "```"
   ]
  },
  {
   "cell_type": "code",
   "execution_count": null,
   "id": "303987d0",
   "metadata": {},
   "outputs": [],
   "source": [
    "import os\n",
    "\n",
    "directory = \"/nfs/research/goldman/zihao/Datas/p2_comp_viridian/2_alignment/Aligned_split/\"\n",
    "output_file = \"/nfs/research/goldman/zihao/Datas/p2_comp_viridian/2_alignment/Aligned_split_all.fasta\"\n",
    "\n",
    "txt_files = [file for file in os.listdir(directory) if file.endswith(\".txt\")]\n",
    "\n",
    "with open(output_file, \"w\") as outfile:\n",
    "    for file in txt_files:\n",
    "        file_path = os.path.join(directory, file)\n",
    "        with open(file_path, \"r\") as infile:\n",
    "            content = infile.read()\n",
    "            outfile.write(content)\n",
    "            outfile.write(\"\\n\")\n"
   ]
  },
  {
   "cell_type": "markdown",
   "id": "e8962975",
   "metadata": {},
   "source": [
    "```bash\n",
    "bsub \"/hps/software/users/goldman/pypy3/pypy3.7-v7.3.5-linux64/bin/pypy3 /nfs/research/goldman/zihao/errorsProject_1/MAPLE/createMapleFile.py --path /nfs/research/goldman/zihao/Datas/p2_comp_viridian/2_alignment/ --fasta Aligned_split_all.fasta --output Vir_MAPLE_format_consensuses.txt\"\n",
    "```"
   ]
  },
  {
   "cell_type": "markdown",
   "id": "cecf1a89",
   "metadata": {},
   "source": [
    "##### Code block:\n",
    "```bash\n",
    "bsub -g /MapleRealErrors_3 -q long -M 40000 \n",
    "-o /nfs/research/goldman/zihao/compViridian_2/MAPLE_Part/For_vir/MAPLE_realData_errorChecking_output_vir.txt \n",
    "-e /nfs/research/goldman/zihao/compViridian_2/MAPLE_Part/For_vir/MAPLE_realData_errorChecking_error_vir.txt \n",
    "/hps/software/users/goldman/pypy3/pypy3.7-v7.3.5-linux64/bin/pypy3 /nfs/research/goldman/demaio/fastLK/code/MAPLEv0.3.2.py \n",
    "--model UNREST --rateVariation --estimateSiteSpecificErrorRate \n",
    "--input /nfs/research/goldman/zihao/Datas/p2_comp_viridian/2_alignment/Vir_MAPLE_format_consensuses.txt \n",
    "--overwrite --estimateErrors --calculateLKfinalTree \n",
    "--output /nfs/research/goldman/zihao/compViridian_2/MAPLE_Part/For_vir/MAPLE0.3.2_rateVar_errors_realData_checkingErrors_vir\n",
    "```"
   ]
  },
  {
   "cell_type": "markdown",
   "id": "c7b59bdd",
   "metadata": {},
   "source": [
    "## 2.for_col"
   ]
  },
  {
   "cell_type": "code",
   "execution_count": 7,
   "id": "b66d0c3f",
   "metadata": {},
   "outputs": [],
   "source": [
    "file_path = \"/nfs/research/goldman/zihao/Datas/p2_comp_viridian/2_alignment/Vir_MAPLE_format_consensuses.txt\"\n",
    "data_set = set()\n",
    "\n",
    "with open(file_path, 'r') as file:\n",
    "    for line in file:\n",
    "        if line.startswith(\">\"):\n",
    "            data_set.add(line.strip())\n",
    "\n",
    "modified_set = [s.replace('>', '') for s in data_set]"
   ]
  },
  {
   "cell_type": "code",
   "execution_count": 8,
   "id": "1c906319",
   "metadata": {},
   "outputs": [],
   "source": [
    "file_path = \"/nfs/research/goldman/zihao/compViridian_2/MAPLE_Part/For_vir/MAPLE0.3.2_rateVar_errors_realData_checkingErrors_vir_estimatedErrors.txt\"\n",
    "data_set = set()\n",
    "\n",
    "with open(file_path, 'r') as file:\n",
    "    for line in file:\n",
    "        if line.startswith(\">\"):\n",
    "            data_set.add(line.strip())\n",
    "\n",
    "modified_set_1 = [s.replace('>', '') for s in data_set]"
   ]
  },
  {
   "cell_type": "code",
   "execution_count": 12,
   "id": "d61f49f3",
   "metadata": {},
   "outputs": [
    {
     "name": "stdout",
     "output_type": "stream",
     "text": [
      "Before running MAPLE (after reateMapleFile.py):  136344\n",
      "After running MAPLE:  130436\n",
      "5908\n"
     ]
    }
   ],
   "source": [
    "print('Before running MAPLE (after reateMapleFile.py): ',len(modified_set))\n",
    "print('After running MAPLE: ', len(modified_set_1))\n",
    "print(len(modified_set)-len(modified_set_1))"
   ]
  }
 ],
 "metadata": {
  "kernelspec": {
   "display_name": "Python 3 (ipykernel)",
   "language": "python",
   "name": "python3"
  },
  "language_info": {
   "codemirror_mode": {
    "name": "ipython",
    "version": 3
   },
   "file_extension": ".py",
   "mimetype": "text/x-python",
   "name": "python",
   "nbconvert_exporter": "python",
   "pygments_lexer": "ipython3",
   "version": "3.10.9"
  }
 },
 "nbformat": 4,
 "nbformat_minor": 5
}
