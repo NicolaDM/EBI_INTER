{
 "cells": [
  {
   "cell_type": "code",
   "execution_count": 1,
   "id": "926604cb-937b-4d2c-bffd-47ebcb7ef973",
   "metadata": {},
   "outputs": [],
   "source": [
    "import pandas as pd\n",
    "import urllib.request\n",
    "import os\n",
    "# import gzip"
   ]
  },
  {
   "cell_type": "code",
   "execution_count": 2,
   "id": "21840aca-9378-456b-96dc-6521adad39e4",
   "metadata": {},
   "outputs": [
    {
     "data": {
      "text/html": [
       "<div>\n",
       "<style scoped>\n",
       "    .dataframe tbody tr th:only-of-type {\n",
       "        vertical-align: middle;\n",
       "    }\n",
       "\n",
       "    .dataframe tbody tr th {\n",
       "        vertical-align: top;\n",
       "    }\n",
       "\n",
       "    .dataframe thead th {\n",
       "        text-align: right;\n",
       "    }\n",
       "</style>\n",
       "<table border=\"1\" class=\"dataframe\">\n",
       "  <thead>\n",
       "    <tr style=\"text-align: right;\">\n",
       "      <th></th>\n",
       "      <th>run_id</th>\n",
       "      <th>number of files</th>\n",
       "    </tr>\n",
       "  </thead>\n",
       "  <tbody>\n",
       "    <tr>\n",
       "      <th>0</th>\n",
       "      <td>DRR286879</td>\n",
       "      <td>3</td>\n",
       "    </tr>\n",
       "    <tr>\n",
       "      <th>1</th>\n",
       "      <td>DRR286880</td>\n",
       "      <td>3</td>\n",
       "    </tr>\n",
       "    <tr>\n",
       "      <th>2</th>\n",
       "      <td>DRR286881</td>\n",
       "      <td>3</td>\n",
       "    </tr>\n",
       "    <tr>\n",
       "      <th>3</th>\n",
       "      <td>DRR286882</td>\n",
       "      <td>3</td>\n",
       "    </tr>\n",
       "    <tr>\n",
       "      <th>4</th>\n",
       "      <td>DRR286883</td>\n",
       "      <td>3</td>\n",
       "    </tr>\n",
       "  </tbody>\n",
       "</table>\n",
       "</div>"
      ],
      "text/plain": [
       "      run_id  number of files\n",
       "0  DRR286879                3\n",
       "1  DRR286880                3\n",
       "2  DRR286881                3\n",
       "3  DRR286882                3\n",
       "4  DRR286883                3"
      ]
     },
     "execution_count": 2,
     "metadata": {},
     "output_type": "execute_result"
    }
   ],
   "source": [
    "df = pd.read_csv('../Datas/analysis_run_list.txt', delimiter='\\t')\n",
    "df.head()"
   ]
  },
  {
   "cell_type": "code",
   "execution_count": 3,
   "id": "943e95e3-c6f4-4ab4-9164-90e30434e12a",
   "metadata": {},
   "outputs": [
    {
     "data": {
      "text/html": [
       "<div>\n",
       "<style scoped>\n",
       "    .dataframe tbody tr th:only-of-type {\n",
       "        vertical-align: middle;\n",
       "    }\n",
       "\n",
       "    .dataframe tbody tr th {\n",
       "        vertical-align: top;\n",
       "    }\n",
       "\n",
       "    .dataframe thead th {\n",
       "        text-align: right;\n",
       "    }\n",
       "</style>\n",
       "<table border=\"1\" class=\"dataframe\">\n",
       "  <thead>\n",
       "    <tr style=\"text-align: right;\">\n",
       "      <th></th>\n",
       "      <th>run_id</th>\n",
       "      <th>data_file</th>\n",
       "      <th>analysis_id</th>\n",
       "      <th>FTP_path</th>\n",
       "    </tr>\n",
       "  </thead>\n",
       "  <tbody>\n",
       "    <tr>\n",
       "      <th>0</th>\n",
       "      <td>DRR286879</td>\n",
       "      <td>DRR286879_filtered.vcf.gz</td>\n",
       "      <td>ERZ6074381</td>\n",
       "      <td>ftp://ftp.sra.ebi.ac.uk/vol1/ERZ607/ERZ6074381...</td>\n",
       "    </tr>\n",
       "    <tr>\n",
       "      <th>1</th>\n",
       "      <td>DRR286879</td>\n",
       "      <td>DRR286879_output.tar.gz</td>\n",
       "      <td>ERZ6078684</td>\n",
       "      <td>ftp://ftp.sra.ebi.ac.uk/vol1/ERZ607/ERZ6078684...</td>\n",
       "    </tr>\n",
       "    <tr>\n",
       "      <th>2</th>\n",
       "      <td>DRR286879</td>\n",
       "      <td>DRR286879_consensus.fasta.gz</td>\n",
       "      <td>ERZ8484270</td>\n",
       "      <td>ftp://ftp.sra.ebi.ac.uk/vol1/ERZ848/ERZ8484270...</td>\n",
       "    </tr>\n",
       "    <tr>\n",
       "      <th>3</th>\n",
       "      <td>DRR286880</td>\n",
       "      <td>DRR286880_output.tar.gz</td>\n",
       "      <td>ERZ6081086</td>\n",
       "      <td>ftp://ftp.sra.ebi.ac.uk/vol1/ERZ608/ERZ6081086...</td>\n",
       "    </tr>\n",
       "    <tr>\n",
       "      <th>4</th>\n",
       "      <td>DRR286880</td>\n",
       "      <td>DRR286880_filtered.vcf.gz</td>\n",
       "      <td>ERZ6067986</td>\n",
       "      <td>ftp://ftp.sra.ebi.ac.uk/vol1/ERZ606/ERZ6067986...</td>\n",
       "    </tr>\n",
       "  </tbody>\n",
       "</table>\n",
       "</div>"
      ],
      "text/plain": [
       "      run_id                     data_file analysis_id   \n",
       "0  DRR286879     DRR286879_filtered.vcf.gz  ERZ6074381  \\\n",
       "1  DRR286879       DRR286879_output.tar.gz  ERZ6078684   \n",
       "2  DRR286879  DRR286879_consensus.fasta.gz  ERZ8484270   \n",
       "3  DRR286880       DRR286880_output.tar.gz  ERZ6081086   \n",
       "4  DRR286880     DRR286880_filtered.vcf.gz  ERZ6067986   \n",
       "\n",
       "                                            FTP_path  \n",
       "0  ftp://ftp.sra.ebi.ac.uk/vol1/ERZ607/ERZ6074381...  \n",
       "1  ftp://ftp.sra.ebi.ac.uk/vol1/ERZ607/ERZ6078684...  \n",
       "2  ftp://ftp.sra.ebi.ac.uk/vol1/ERZ848/ERZ8484270...  \n",
       "3  ftp://ftp.sra.ebi.ac.uk/vol1/ERZ608/ERZ6081086...  \n",
       "4  ftp://ftp.sra.ebi.ac.uk/vol1/ERZ606/ERZ6067986...  "
      ]
     },
     "execution_count": 3,
     "metadata": {},
     "output_type": "execute_result"
    }
   ],
   "source": [
    "# 读取文件\n",
    "df_2 = pd.read_csv('../Datas/analysis_full_06.04.23.txt', delimiter='\\t', nrows=5)\n",
    "df_2.head()"
   ]
  },
  {
   "cell_type": "code",
   "execution_count": 4,
   "id": "87f2f1fc-98ae-4c65-9d63-c79abac31419",
   "metadata": {},
   "outputs": [
    {
     "data": {
      "text/html": [
       "<div>\n",
       "<style scoped>\n",
       "    .dataframe tbody tr th:only-of-type {\n",
       "        vertical-align: middle;\n",
       "    }\n",
       "\n",
       "    .dataframe tbody tr th {\n",
       "        vertical-align: top;\n",
       "    }\n",
       "\n",
       "    .dataframe thead th {\n",
       "        text-align: right;\n",
       "    }\n",
       "</style>\n",
       "<table border=\"1\" class=\"dataframe\">\n",
       "  <thead>\n",
       "    <tr style=\"text-align: right;\">\n",
       "      <th></th>\n",
       "      <th>run_id</th>\n",
       "      <th>number of files</th>\n",
       "      <th>data_file</th>\n",
       "      <th>analysis_id</th>\n",
       "      <th>FTP_path</th>\n",
       "    </tr>\n",
       "  </thead>\n",
       "  <tbody>\n",
       "    <tr>\n",
       "      <th>0</th>\n",
       "      <td>DRR286879</td>\n",
       "      <td>3</td>\n",
       "      <td>DRR286879_filtered.vcf.gz</td>\n",
       "      <td>ERZ6074381</td>\n",
       "      <td>ftp://ftp.sra.ebi.ac.uk/vol1/ERZ607/ERZ6074381...</td>\n",
       "    </tr>\n",
       "    <tr>\n",
       "      <th>1</th>\n",
       "      <td>DRR286879</td>\n",
       "      <td>3</td>\n",
       "      <td>DRR286879_output.tar.gz</td>\n",
       "      <td>ERZ6078684</td>\n",
       "      <td>ftp://ftp.sra.ebi.ac.uk/vol1/ERZ607/ERZ6078684...</td>\n",
       "    </tr>\n",
       "    <tr>\n",
       "      <th>2</th>\n",
       "      <td>DRR286879</td>\n",
       "      <td>3</td>\n",
       "      <td>DRR286879_consensus.fasta.gz</td>\n",
       "      <td>ERZ8484270</td>\n",
       "      <td>ftp://ftp.sra.ebi.ac.uk/vol1/ERZ848/ERZ8484270...</td>\n",
       "    </tr>\n",
       "    <tr>\n",
       "      <th>3</th>\n",
       "      <td>DRR286880</td>\n",
       "      <td>3</td>\n",
       "      <td>DRR286880_output.tar.gz</td>\n",
       "      <td>ERZ6081086</td>\n",
       "      <td>ftp://ftp.sra.ebi.ac.uk/vol1/ERZ608/ERZ6081086...</td>\n",
       "    </tr>\n",
       "    <tr>\n",
       "      <th>4</th>\n",
       "      <td>DRR286880</td>\n",
       "      <td>3</td>\n",
       "      <td>DRR286880_filtered.vcf.gz</td>\n",
       "      <td>ERZ6067986</td>\n",
       "      <td>ftp://ftp.sra.ebi.ac.uk/vol1/ERZ606/ERZ6067986...</td>\n",
       "    </tr>\n",
       "  </tbody>\n",
       "</table>\n",
       "</div>"
      ],
      "text/plain": [
       "      run_id  number of files                     data_file analysis_id   \n",
       "0  DRR286879                3     DRR286879_filtered.vcf.gz  ERZ6074381  \\\n",
       "1  DRR286879                3       DRR286879_output.tar.gz  ERZ6078684   \n",
       "2  DRR286879                3  DRR286879_consensus.fasta.gz  ERZ8484270   \n",
       "3  DRR286880                3       DRR286880_output.tar.gz  ERZ6081086   \n",
       "4  DRR286880                3     DRR286880_filtered.vcf.gz  ERZ6067986   \n",
       "\n",
       "                                            FTP_path  \n",
       "0  ftp://ftp.sra.ebi.ac.uk/vol1/ERZ607/ERZ6074381...  \n",
       "1  ftp://ftp.sra.ebi.ac.uk/vol1/ERZ607/ERZ6078684...  \n",
       "2  ftp://ftp.sra.ebi.ac.uk/vol1/ERZ848/ERZ8484270...  \n",
       "3  ftp://ftp.sra.ebi.ac.uk/vol1/ERZ608/ERZ6081086...  \n",
       "4  ftp://ftp.sra.ebi.ac.uk/vol1/ERZ606/ERZ6067986...  "
      ]
     },
     "execution_count": 4,
     "metadata": {},
     "output_type": "execute_result"
    }
   ],
   "source": [
    "df_merge_right = pd.merge(df, df_2, on='run_id', how='right')  # 右连接\n",
    "df_merge_right.head()"
   ]
  },
  {
   "cell_type": "code",
   "execution_count": 5,
   "id": "0142b594-04f9-486e-9740-aab90f9b19ca",
   "metadata": {},
   "outputs": [],
   "source": [
    "df_merge_right_v1 = df_merge_right[df_merge_right[\"number of files\"] == 3] #5"
   ]
  },
  {
   "cell_type": "code",
   "execution_count": 6,
   "id": "6aadab7e-1e24-4369-869b-26ed3cb47207",
   "metadata": {},
   "outputs": [],
   "source": [
    "df_merge_right_v1.to_csv('../Datas/nb_5.txt', sep='\\t', index=False)"
   ]
  },
  {
   "cell_type": "markdown",
   "id": "c080500c-2212-4aef-a199-b505bbaed0b6",
   "metadata": {},
   "source": [
    "# Download"
   ]
  },
  {
   "cell_type": "code",
   "execution_count": 7,
   "id": "e0991de7-9527-4340-b157-ca38843260b1",
   "metadata": {},
   "outputs": [],
   "source": [
    "df_merge_right_v1 = df_merge_right_v1[['FTP_path']]"
   ]
  },
  {
   "cell_type": "code",
   "execution_count": 8,
   "id": "78d8905d-9ab7-4b0e-826e-062edbb01b8c",
   "metadata": {},
   "outputs": [],
   "source": [
    "# Specify the folder path\n",
    "folder_path = '../Folder/'\n",
    "\n",
    "# Create the folder if it does not exist\n",
    "if not os.path.exists(folder_path):\n",
    "    os.makedirs(folder_path)\n",
    "    \n",
    "# Iterate through each row and download the file\n",
    "for index, row in df_merge_right_v1.iterrows():\n",
    "    ftp_path = row['FTP_path']\n",
    "    file_name = ftp_path.split('/')[-1]\n",
    "    file_path = os.path.join(folder_path, file_name)\n",
    "    urllib.request.urlretrieve(ftp_path, file_path)"
   ]
  }
 ],
 "metadata": {
  "kernelspec": {
   "display_name": "Python 3",
   "language": "python",
   "name": "python3"
  },
  "language_info": {
   "codemirror_mode": {
    "name": "ipython",
    "version": 3
   },
   "file_extension": ".py",
   "mimetype": "text/x-python",
   "name": "python",
   "nbconvert_exporter": "python",
   "pygments_lexer": "ipython3",
   "version": "3.9.15"
  }
 },
 "nbformat": 4,
 "nbformat_minor": 5
}
