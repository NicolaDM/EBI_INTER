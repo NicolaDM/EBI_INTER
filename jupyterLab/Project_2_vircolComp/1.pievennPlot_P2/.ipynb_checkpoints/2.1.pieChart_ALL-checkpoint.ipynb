{
 "cells": [
  {
   "cell_type": "code",
   "execution_count": 1,
   "id": "3ae77be9",
   "metadata": {},
   "outputs": [],
   "source": [
    "import pandas as pd\n",
    "import numpy as np\n",
    "import plotly.graph_objects as go"
   ]
  },
  {
   "cell_type": "code",
   "execution_count": 2,
   "id": "e1add8a1",
   "metadata": {},
   "outputs": [],
   "source": [
    "def format_number(number):\n",
    "    suffixes = ['', 'K', 'M', 'B', 'T']\n",
    "\n",
    "    for i in range(len(suffixes)):\n",
    "        magnitude = number / (1000 ** i)\n",
    "        if magnitude < 1000:\n",
    "            if magnitude < 10:\n",
    "                formatted = f\"{magnitude:.1f}\"\n",
    "            else:\n",
    "                formatted = f\"{magnitude:.0f}\"\n",
    "            return f\"{formatted}{suffixes[i]}\"\n",
    "    \n",
    "    return f\"{number:.1e}\""
   ]
  },
  {
   "cell_type": "markdown",
   "id": "1d1cbdce",
   "metadata": {},
   "source": [
    "# <center>Catalog:</center>\n",
    "- 1. [For Pie Chart](#1.For_Pie_Chart)\n",
    "\n",
    "&nbsp;\n",
    "\n",
    "- 2. [For Venn chart](#2.For_Venn_chart)\n",
    "    - 2.1 [Same nucleotide](#2.1_Same_nucleotide)\n",
    "    - 2.2 [Different nucleotide](#2.2_Diff_nucleotide)\n",
    "    - 2.3 [Viridian masked](#2.3_Viridian_masked)"
   ]
  },
  {
   "cell_type": "markdown",
   "id": "80180d3d",
   "metadata": {},
   "source": [
    "# 1.For_Pie_Chart\n",
    "[Return to Catalog](#Catalog:)\n",
    "\n",
    "```python\n",
    "/nfs/research/goldman/zihao/Datas/p2_comp_viridian/Folder_4_percentage/allPos_resultPie.txt\n",
    "```\n",
    "Martin version masked & Portal unmasked: 28221770 , Total number: 4033286737  \n",
    "Same nucleotide type: 3752886134 , Total number: 3753006317  \n",
    "Different nucleotide type: 120183 , Total number: 3753006317  \n",
    "Total records:  3781228087  \n",
    "================================= percentage =================================  \n",
    "Martin version masked & Portal unmasked: 0.746 %  \n",
    "Same nucleotide type: 99.25 %  \n",
    "Different nucleotide type: 0.003 %"
   ]
  },
  {
   "cell_type": "code",
   "execution_count": 3,
   "id": "58603cb2",
   "metadata": {},
   "outputs": [],
   "source": [
    "# Fill in the information above\n",
    "nb_same = 3752886134 \n",
    "nb_diff = 120183\n",
    "nb_masked = 28221770 \n",
    "\n",
    "p_same = 99.25 \n",
    "p_diff = 0.003\n",
    "p_masked = 0.746 "
   ]
  },
  {
   "cell_type": "code",
   "execution_count": 4,
   "id": "9cd75c55",
   "metadata": {},
   "outputs": [
    {
     "name": "stdout",
     "output_type": "stream",
     "text": [
      "['3.8B', '120K', '28M']\n"
     ]
    }
   ],
   "source": [
    "numbers = [nb_same, nb_diff, nb_masked]\n",
    "\n",
    "formatted_numbers_all = []\n",
    "\n",
    "for number in numbers:\n",
    "    formatted_number = format_number(number)\n",
    "    formatted_numbers_all.append(formatted_number)\n",
    "\n",
    "print(formatted_numbers_all)"
   ]
  },
  {
   "cell_type": "code",
   "execution_count": 12,
   "id": "d7446c92",
   "metadata": {},
   "outputs": [
    {
     "data": {
      "application/vnd.plotly.v1+json": {
       "config": {
        "plotlyServerURL": "https://plot.ly"
       },
       "data": [
        {
         "hole": 0.4,
         "hovertemplate": "%{label}<br>Current percentage: %{percent:.1%}<br>: %{text}",
         "labels": [
          "Same nucleotide",
          "Different nucleotides",
          "Viridian masked"
         ],
         "marker": {
          "colors": [
           "#D9BFCB0",
           "#49998B",
           "#C1BEE3"
          ]
         },
         "text": [
          "Same nucleotide: <br>3.8B",
          "Different nucleotides: <br>120K",
          "Viridian masked: <br>28M"
         ],
         "textfont": {
          "size": 15
         },
         "textinfo": "percent+text",
         "texttemplate": "%{text} (%{percent:.3%})",
         "type": "pie",
         "values": [
          99.25,
          0.003,
          0.746
         ]
        }
       ],
       "layout": {
        "template": {
         "data": {
          "bar": [
           {
            "error_x": {
             "color": "#2a3f5f"
            },
            "error_y": {
             "color": "#2a3f5f"
            },
            "marker": {
             "line": {
              "color": "#E5ECF6",
              "width": 0.5
             },
             "pattern": {
              "fillmode": "overlay",
              "size": 10,
              "solidity": 0.2
             }
            },
            "type": "bar"
           }
          ],
          "barpolar": [
           {
            "marker": {
             "line": {
              "color": "#E5ECF6",
              "width": 0.5
             },
             "pattern": {
              "fillmode": "overlay",
              "size": 10,
              "solidity": 0.2
             }
            },
            "type": "barpolar"
           }
          ],
          "carpet": [
           {
            "aaxis": {
             "endlinecolor": "#2a3f5f",
             "gridcolor": "white",
             "linecolor": "white",
             "minorgridcolor": "white",
             "startlinecolor": "#2a3f5f"
            },
            "baxis": {
             "endlinecolor": "#2a3f5f",
             "gridcolor": "white",
             "linecolor": "white",
             "minorgridcolor": "white",
             "startlinecolor": "#2a3f5f"
            },
            "type": "carpet"
           }
          ],
          "choropleth": [
           {
            "colorbar": {
             "outlinewidth": 0,
             "ticks": ""
            },
            "type": "choropleth"
           }
          ],
          "contour": [
           {
            "colorbar": {
             "outlinewidth": 0,
             "ticks": ""
            },
            "colorscale": [
             [
              0,
              "#0d0887"
             ],
             [
              0.1111111111111111,
              "#46039f"
             ],
             [
              0.2222222222222222,
              "#7201a8"
             ],
             [
              0.3333333333333333,
              "#9c179e"
             ],
             [
              0.4444444444444444,
              "#bd3786"
             ],
             [
              0.5555555555555556,
              "#d8576b"
             ],
             [
              0.6666666666666666,
              "#ed7953"
             ],
             [
              0.7777777777777778,
              "#fb9f3a"
             ],
             [
              0.8888888888888888,
              "#fdca26"
             ],
             [
              1,
              "#f0f921"
             ]
            ],
            "type": "contour"
           }
          ],
          "contourcarpet": [
           {
            "colorbar": {
             "outlinewidth": 0,
             "ticks": ""
            },
            "type": "contourcarpet"
           }
          ],
          "heatmap": [
           {
            "colorbar": {
             "outlinewidth": 0,
             "ticks": ""
            },
            "colorscale": [
             [
              0,
              "#0d0887"
             ],
             [
              0.1111111111111111,
              "#46039f"
             ],
             [
              0.2222222222222222,
              "#7201a8"
             ],
             [
              0.3333333333333333,
              "#9c179e"
             ],
             [
              0.4444444444444444,
              "#bd3786"
             ],
             [
              0.5555555555555556,
              "#d8576b"
             ],
             [
              0.6666666666666666,
              "#ed7953"
             ],
             [
              0.7777777777777778,
              "#fb9f3a"
             ],
             [
              0.8888888888888888,
              "#fdca26"
             ],
             [
              1,
              "#f0f921"
             ]
            ],
            "type": "heatmap"
           }
          ],
          "heatmapgl": [
           {
            "colorbar": {
             "outlinewidth": 0,
             "ticks": ""
            },
            "colorscale": [
             [
              0,
              "#0d0887"
             ],
             [
              0.1111111111111111,
              "#46039f"
             ],
             [
              0.2222222222222222,
              "#7201a8"
             ],
             [
              0.3333333333333333,
              "#9c179e"
             ],
             [
              0.4444444444444444,
              "#bd3786"
             ],
             [
              0.5555555555555556,
              "#d8576b"
             ],
             [
              0.6666666666666666,
              "#ed7953"
             ],
             [
              0.7777777777777778,
              "#fb9f3a"
             ],
             [
              0.8888888888888888,
              "#fdca26"
             ],
             [
              1,
              "#f0f921"
             ]
            ],
            "type": "heatmapgl"
           }
          ],
          "histogram": [
           {
            "marker": {
             "pattern": {
              "fillmode": "overlay",
              "size": 10,
              "solidity": 0.2
             }
            },
            "type": "histogram"
           }
          ],
          "histogram2d": [
           {
            "colorbar": {
             "outlinewidth": 0,
             "ticks": ""
            },
            "colorscale": [
             [
              0,
              "#0d0887"
             ],
             [
              0.1111111111111111,
              "#46039f"
             ],
             [
              0.2222222222222222,
              "#7201a8"
             ],
             [
              0.3333333333333333,
              "#9c179e"
             ],
             [
              0.4444444444444444,
              "#bd3786"
             ],
             [
              0.5555555555555556,
              "#d8576b"
             ],
             [
              0.6666666666666666,
              "#ed7953"
             ],
             [
              0.7777777777777778,
              "#fb9f3a"
             ],
             [
              0.8888888888888888,
              "#fdca26"
             ],
             [
              1,
              "#f0f921"
             ]
            ],
            "type": "histogram2d"
           }
          ],
          "histogram2dcontour": [
           {
            "colorbar": {
             "outlinewidth": 0,
             "ticks": ""
            },
            "colorscale": [
             [
              0,
              "#0d0887"
             ],
             [
              0.1111111111111111,
              "#46039f"
             ],
             [
              0.2222222222222222,
              "#7201a8"
             ],
             [
              0.3333333333333333,
              "#9c179e"
             ],
             [
              0.4444444444444444,
              "#bd3786"
             ],
             [
              0.5555555555555556,
              "#d8576b"
             ],
             [
              0.6666666666666666,
              "#ed7953"
             ],
             [
              0.7777777777777778,
              "#fb9f3a"
             ],
             [
              0.8888888888888888,
              "#fdca26"
             ],
             [
              1,
              "#f0f921"
             ]
            ],
            "type": "histogram2dcontour"
           }
          ],
          "mesh3d": [
           {
            "colorbar": {
             "outlinewidth": 0,
             "ticks": ""
            },
            "type": "mesh3d"
           }
          ],
          "parcoords": [
           {
            "line": {
             "colorbar": {
              "outlinewidth": 0,
              "ticks": ""
             }
            },
            "type": "parcoords"
           }
          ],
          "pie": [
           {
            "automargin": true,
            "type": "pie"
           }
          ],
          "scatter": [
           {
            "fillpattern": {
             "fillmode": "overlay",
             "size": 10,
             "solidity": 0.2
            },
            "type": "scatter"
           }
          ],
          "scatter3d": [
           {
            "line": {
             "colorbar": {
              "outlinewidth": 0,
              "ticks": ""
             }
            },
            "marker": {
             "colorbar": {
              "outlinewidth": 0,
              "ticks": ""
             }
            },
            "type": "scatter3d"
           }
          ],
          "scattercarpet": [
           {
            "marker": {
             "colorbar": {
              "outlinewidth": 0,
              "ticks": ""
             }
            },
            "type": "scattercarpet"
           }
          ],
          "scattergeo": [
           {
            "marker": {
             "colorbar": {
              "outlinewidth": 0,
              "ticks": ""
             }
            },
            "type": "scattergeo"
           }
          ],
          "scattergl": [
           {
            "marker": {
             "colorbar": {
              "outlinewidth": 0,
              "ticks": ""
             }
            },
            "type": "scattergl"
           }
          ],
          "scattermapbox": [
           {
            "marker": {
             "colorbar": {
              "outlinewidth": 0,
              "ticks": ""
             }
            },
            "type": "scattermapbox"
           }
          ],
          "scatterpolar": [
           {
            "marker": {
             "colorbar": {
              "outlinewidth": 0,
              "ticks": ""
             }
            },
            "type": "scatterpolar"
           }
          ],
          "scatterpolargl": [
           {
            "marker": {
             "colorbar": {
              "outlinewidth": 0,
              "ticks": ""
             }
            },
            "type": "scatterpolargl"
           }
          ],
          "scatterternary": [
           {
            "marker": {
             "colorbar": {
              "outlinewidth": 0,
              "ticks": ""
             }
            },
            "type": "scatterternary"
           }
          ],
          "surface": [
           {
            "colorbar": {
             "outlinewidth": 0,
             "ticks": ""
            },
            "colorscale": [
             [
              0,
              "#0d0887"
             ],
             [
              0.1111111111111111,
              "#46039f"
             ],
             [
              0.2222222222222222,
              "#7201a8"
             ],
             [
              0.3333333333333333,
              "#9c179e"
             ],
             [
              0.4444444444444444,
              "#bd3786"
             ],
             [
              0.5555555555555556,
              "#d8576b"
             ],
             [
              0.6666666666666666,
              "#ed7953"
             ],
             [
              0.7777777777777778,
              "#fb9f3a"
             ],
             [
              0.8888888888888888,
              "#fdca26"
             ],
             [
              1,
              "#f0f921"
             ]
            ],
            "type": "surface"
           }
          ],
          "table": [
           {
            "cells": {
             "fill": {
              "color": "#EBF0F8"
             },
             "line": {
              "color": "white"
             }
            },
            "header": {
             "fill": {
              "color": "#C8D4E3"
             },
             "line": {
              "color": "white"
             }
            },
            "type": "table"
           }
          ]
         },
         "layout": {
          "annotationdefaults": {
           "arrowcolor": "#2a3f5f",
           "arrowhead": 0,
           "arrowwidth": 1
          },
          "autotypenumbers": "strict",
          "coloraxis": {
           "colorbar": {
            "outlinewidth": 0,
            "ticks": ""
           }
          },
          "colorscale": {
           "diverging": [
            [
             0,
             "#8e0152"
            ],
            [
             0.1,
             "#c51b7d"
            ],
            [
             0.2,
             "#de77ae"
            ],
            [
             0.3,
             "#f1b6da"
            ],
            [
             0.4,
             "#fde0ef"
            ],
            [
             0.5,
             "#f7f7f7"
            ],
            [
             0.6,
             "#e6f5d0"
            ],
            [
             0.7,
             "#b8e186"
            ],
            [
             0.8,
             "#7fbc41"
            ],
            [
             0.9,
             "#4d9221"
            ],
            [
             1,
             "#276419"
            ]
           ],
           "sequential": [
            [
             0,
             "#0d0887"
            ],
            [
             0.1111111111111111,
             "#46039f"
            ],
            [
             0.2222222222222222,
             "#7201a8"
            ],
            [
             0.3333333333333333,
             "#9c179e"
            ],
            [
             0.4444444444444444,
             "#bd3786"
            ],
            [
             0.5555555555555556,
             "#d8576b"
            ],
            [
             0.6666666666666666,
             "#ed7953"
            ],
            [
             0.7777777777777778,
             "#fb9f3a"
            ],
            [
             0.8888888888888888,
             "#fdca26"
            ],
            [
             1,
             "#f0f921"
            ]
           ],
           "sequentialminus": [
            [
             0,
             "#0d0887"
            ],
            [
             0.1111111111111111,
             "#46039f"
            ],
            [
             0.2222222222222222,
             "#7201a8"
            ],
            [
             0.3333333333333333,
             "#9c179e"
            ],
            [
             0.4444444444444444,
             "#bd3786"
            ],
            [
             0.5555555555555556,
             "#d8576b"
            ],
            [
             0.6666666666666666,
             "#ed7953"
            ],
            [
             0.7777777777777778,
             "#fb9f3a"
            ],
            [
             0.8888888888888888,
             "#fdca26"
            ],
            [
             1,
             "#f0f921"
            ]
           ]
          },
          "colorway": [
           "#636efa",
           "#EF553B",
           "#00cc96",
           "#ab63fa",
           "#FFA15A",
           "#19d3f3",
           "#FF6692",
           "#B6E880",
           "#FF97FF",
           "#FECB52"
          ],
          "font": {
           "color": "#2a3f5f"
          },
          "geo": {
           "bgcolor": "white",
           "lakecolor": "white",
           "landcolor": "#E5ECF6",
           "showlakes": true,
           "showland": true,
           "subunitcolor": "white"
          },
          "hoverlabel": {
           "align": "left"
          },
          "hovermode": "closest",
          "mapbox": {
           "style": "light"
          },
          "paper_bgcolor": "white",
          "plot_bgcolor": "#E5ECF6",
          "polar": {
           "angularaxis": {
            "gridcolor": "white",
            "linecolor": "white",
            "ticks": ""
           },
           "bgcolor": "#E5ECF6",
           "radialaxis": {
            "gridcolor": "white",
            "linecolor": "white",
            "ticks": ""
           }
          },
          "scene": {
           "xaxis": {
            "backgroundcolor": "#E5ECF6",
            "gridcolor": "white",
            "gridwidth": 2,
            "linecolor": "white",
            "showbackground": true,
            "ticks": "",
            "zerolinecolor": "white"
           },
           "yaxis": {
            "backgroundcolor": "#E5ECF6",
            "gridcolor": "white",
            "gridwidth": 2,
            "linecolor": "white",
            "showbackground": true,
            "ticks": "",
            "zerolinecolor": "white"
           },
           "zaxis": {
            "backgroundcolor": "#E5ECF6",
            "gridcolor": "white",
            "gridwidth": 2,
            "linecolor": "white",
            "showbackground": true,
            "ticks": "",
            "zerolinecolor": "white"
           }
          },
          "shapedefaults": {
           "line": {
            "color": "#2a3f5f"
           }
          },
          "ternary": {
           "aaxis": {
            "gridcolor": "white",
            "linecolor": "white",
            "ticks": ""
           },
           "baxis": {
            "gridcolor": "white",
            "linecolor": "white",
            "ticks": ""
           },
           "bgcolor": "#E5ECF6",
           "caxis": {
            "gridcolor": "white",
            "linecolor": "white",
            "ticks": ""
           }
          },
          "title": {
           "x": 0.05
          },
          "xaxis": {
           "automargin": true,
           "gridcolor": "white",
           "linecolor": "white",
           "ticks": "",
           "title": {
            "standoff": 15
           },
           "zerolinecolor": "white",
           "zerolinewidth": 2
          },
          "yaxis": {
           "automargin": true,
           "gridcolor": "white",
           "linecolor": "white",
           "ticks": "",
           "title": {
            "standoff": 15
           },
           "zerolinecolor": "white",
           "zerolinewidth": 2
          }
         }
        }
       }
      },
      "text/html": [
       "<div>                            <div id=\"f1c67597-e13d-40a8-84ea-a99bba2f99a1\" class=\"plotly-graph-div\" style=\"height:525px; width:100%;\"></div>            <script type=\"text/javascript\">                require([\"plotly\"], function(Plotly) {                    window.PLOTLYENV=window.PLOTLYENV || {};                                    if (document.getElementById(\"f1c67597-e13d-40a8-84ea-a99bba2f99a1\")) {                    Plotly.newPlot(                        \"f1c67597-e13d-40a8-84ea-a99bba2f99a1\",                        [{\"hole\":0.4,\"hovertemplate\":\"%{label}<br>Current percentage: %{percent:.1%}<br>: %{text}\",\"labels\":[\"Same nucleotide\",\"Different nucleotides\",\"Viridian masked\"],\"marker\":{\"colors\":[\"#D9BFCB0\",\"#49998B\",\"#C1BEE3\"]},\"text\":[\"Same nucleotide: <br>3.8B\",\"Different nucleotides: <br>120K\",\"Viridian masked: <br>28M\"],\"textfont\":{\"size\":15},\"textinfo\":\"percent+text\",\"texttemplate\":\"%{text} (%{percent:.3%})\",\"values\":[99.25,0.003,0.746],\"type\":\"pie\"}],                        {\"template\":{\"data\":{\"histogram2dcontour\":[{\"type\":\"histogram2dcontour\",\"colorbar\":{\"outlinewidth\":0,\"ticks\":\"\"},\"colorscale\":[[0.0,\"#0d0887\"],[0.1111111111111111,\"#46039f\"],[0.2222222222222222,\"#7201a8\"],[0.3333333333333333,\"#9c179e\"],[0.4444444444444444,\"#bd3786\"],[0.5555555555555556,\"#d8576b\"],[0.6666666666666666,\"#ed7953\"],[0.7777777777777778,\"#fb9f3a\"],[0.8888888888888888,\"#fdca26\"],[1.0,\"#f0f921\"]]}],\"choropleth\":[{\"type\":\"choropleth\",\"colorbar\":{\"outlinewidth\":0,\"ticks\":\"\"}}],\"histogram2d\":[{\"type\":\"histogram2d\",\"colorbar\":{\"outlinewidth\":0,\"ticks\":\"\"},\"colorscale\":[[0.0,\"#0d0887\"],[0.1111111111111111,\"#46039f\"],[0.2222222222222222,\"#7201a8\"],[0.3333333333333333,\"#9c179e\"],[0.4444444444444444,\"#bd3786\"],[0.5555555555555556,\"#d8576b\"],[0.6666666666666666,\"#ed7953\"],[0.7777777777777778,\"#fb9f3a\"],[0.8888888888888888,\"#fdca26\"],[1.0,\"#f0f921\"]]}],\"heatmap\":[{\"type\":\"heatmap\",\"colorbar\":{\"outlinewidth\":0,\"ticks\":\"\"},\"colorscale\":[[0.0,\"#0d0887\"],[0.1111111111111111,\"#46039f\"],[0.2222222222222222,\"#7201a8\"],[0.3333333333333333,\"#9c179e\"],[0.4444444444444444,\"#bd3786\"],[0.5555555555555556,\"#d8576b\"],[0.6666666666666666,\"#ed7953\"],[0.7777777777777778,\"#fb9f3a\"],[0.8888888888888888,\"#fdca26\"],[1.0,\"#f0f921\"]]}],\"heatmapgl\":[{\"type\":\"heatmapgl\",\"colorbar\":{\"outlinewidth\":0,\"ticks\":\"\"},\"colorscale\":[[0.0,\"#0d0887\"],[0.1111111111111111,\"#46039f\"],[0.2222222222222222,\"#7201a8\"],[0.3333333333333333,\"#9c179e\"],[0.4444444444444444,\"#bd3786\"],[0.5555555555555556,\"#d8576b\"],[0.6666666666666666,\"#ed7953\"],[0.7777777777777778,\"#fb9f3a\"],[0.8888888888888888,\"#fdca26\"],[1.0,\"#f0f921\"]]}],\"contourcarpet\":[{\"type\":\"contourcarpet\",\"colorbar\":{\"outlinewidth\":0,\"ticks\":\"\"}}],\"contour\":[{\"type\":\"contour\",\"colorbar\":{\"outlinewidth\":0,\"ticks\":\"\"},\"colorscale\":[[0.0,\"#0d0887\"],[0.1111111111111111,\"#46039f\"],[0.2222222222222222,\"#7201a8\"],[0.3333333333333333,\"#9c179e\"],[0.4444444444444444,\"#bd3786\"],[0.5555555555555556,\"#d8576b\"],[0.6666666666666666,\"#ed7953\"],[0.7777777777777778,\"#fb9f3a\"],[0.8888888888888888,\"#fdca26\"],[1.0,\"#f0f921\"]]}],\"surface\":[{\"type\":\"surface\",\"colorbar\":{\"outlinewidth\":0,\"ticks\":\"\"},\"colorscale\":[[0.0,\"#0d0887\"],[0.1111111111111111,\"#46039f\"],[0.2222222222222222,\"#7201a8\"],[0.3333333333333333,\"#9c179e\"],[0.4444444444444444,\"#bd3786\"],[0.5555555555555556,\"#d8576b\"],[0.6666666666666666,\"#ed7953\"],[0.7777777777777778,\"#fb9f3a\"],[0.8888888888888888,\"#fdca26\"],[1.0,\"#f0f921\"]]}],\"mesh3d\":[{\"type\":\"mesh3d\",\"colorbar\":{\"outlinewidth\":0,\"ticks\":\"\"}}],\"scatter\":[{\"fillpattern\":{\"fillmode\":\"overlay\",\"size\":10,\"solidity\":0.2},\"type\":\"scatter\"}],\"parcoords\":[{\"type\":\"parcoords\",\"line\":{\"colorbar\":{\"outlinewidth\":0,\"ticks\":\"\"}}}],\"scatterpolargl\":[{\"type\":\"scatterpolargl\",\"marker\":{\"colorbar\":{\"outlinewidth\":0,\"ticks\":\"\"}}}],\"bar\":[{\"error_x\":{\"color\":\"#2a3f5f\"},\"error_y\":{\"color\":\"#2a3f5f\"},\"marker\":{\"line\":{\"color\":\"#E5ECF6\",\"width\":0.5},\"pattern\":{\"fillmode\":\"overlay\",\"size\":10,\"solidity\":0.2}},\"type\":\"bar\"}],\"scattergeo\":[{\"type\":\"scattergeo\",\"marker\":{\"colorbar\":{\"outlinewidth\":0,\"ticks\":\"\"}}}],\"scatterpolar\":[{\"type\":\"scatterpolar\",\"marker\":{\"colorbar\":{\"outlinewidth\":0,\"ticks\":\"\"}}}],\"histogram\":[{\"marker\":{\"pattern\":{\"fillmode\":\"overlay\",\"size\":10,\"solidity\":0.2}},\"type\":\"histogram\"}],\"scattergl\":[{\"type\":\"scattergl\",\"marker\":{\"colorbar\":{\"outlinewidth\":0,\"ticks\":\"\"}}}],\"scatter3d\":[{\"type\":\"scatter3d\",\"line\":{\"colorbar\":{\"outlinewidth\":0,\"ticks\":\"\"}},\"marker\":{\"colorbar\":{\"outlinewidth\":0,\"ticks\":\"\"}}}],\"scattermapbox\":[{\"type\":\"scattermapbox\",\"marker\":{\"colorbar\":{\"outlinewidth\":0,\"ticks\":\"\"}}}],\"scatterternary\":[{\"type\":\"scatterternary\",\"marker\":{\"colorbar\":{\"outlinewidth\":0,\"ticks\":\"\"}}}],\"scattercarpet\":[{\"type\":\"scattercarpet\",\"marker\":{\"colorbar\":{\"outlinewidth\":0,\"ticks\":\"\"}}}],\"carpet\":[{\"aaxis\":{\"endlinecolor\":\"#2a3f5f\",\"gridcolor\":\"white\",\"linecolor\":\"white\",\"minorgridcolor\":\"white\",\"startlinecolor\":\"#2a3f5f\"},\"baxis\":{\"endlinecolor\":\"#2a3f5f\",\"gridcolor\":\"white\",\"linecolor\":\"white\",\"minorgridcolor\":\"white\",\"startlinecolor\":\"#2a3f5f\"},\"type\":\"carpet\"}],\"table\":[{\"cells\":{\"fill\":{\"color\":\"#EBF0F8\"},\"line\":{\"color\":\"white\"}},\"header\":{\"fill\":{\"color\":\"#C8D4E3\"},\"line\":{\"color\":\"white\"}},\"type\":\"table\"}],\"barpolar\":[{\"marker\":{\"line\":{\"color\":\"#E5ECF6\",\"width\":0.5},\"pattern\":{\"fillmode\":\"overlay\",\"size\":10,\"solidity\":0.2}},\"type\":\"barpolar\"}],\"pie\":[{\"automargin\":true,\"type\":\"pie\"}]},\"layout\":{\"autotypenumbers\":\"strict\",\"colorway\":[\"#636efa\",\"#EF553B\",\"#00cc96\",\"#ab63fa\",\"#FFA15A\",\"#19d3f3\",\"#FF6692\",\"#B6E880\",\"#FF97FF\",\"#FECB52\"],\"font\":{\"color\":\"#2a3f5f\"},\"hovermode\":\"closest\",\"hoverlabel\":{\"align\":\"left\"},\"paper_bgcolor\":\"white\",\"plot_bgcolor\":\"#E5ECF6\",\"polar\":{\"bgcolor\":\"#E5ECF6\",\"angularaxis\":{\"gridcolor\":\"white\",\"linecolor\":\"white\",\"ticks\":\"\"},\"radialaxis\":{\"gridcolor\":\"white\",\"linecolor\":\"white\",\"ticks\":\"\"}},\"ternary\":{\"bgcolor\":\"#E5ECF6\",\"aaxis\":{\"gridcolor\":\"white\",\"linecolor\":\"white\",\"ticks\":\"\"},\"baxis\":{\"gridcolor\":\"white\",\"linecolor\":\"white\",\"ticks\":\"\"},\"caxis\":{\"gridcolor\":\"white\",\"linecolor\":\"white\",\"ticks\":\"\"}},\"coloraxis\":{\"colorbar\":{\"outlinewidth\":0,\"ticks\":\"\"}},\"colorscale\":{\"sequential\":[[0.0,\"#0d0887\"],[0.1111111111111111,\"#46039f\"],[0.2222222222222222,\"#7201a8\"],[0.3333333333333333,\"#9c179e\"],[0.4444444444444444,\"#bd3786\"],[0.5555555555555556,\"#d8576b\"],[0.6666666666666666,\"#ed7953\"],[0.7777777777777778,\"#fb9f3a\"],[0.8888888888888888,\"#fdca26\"],[1.0,\"#f0f921\"]],\"sequentialminus\":[[0.0,\"#0d0887\"],[0.1111111111111111,\"#46039f\"],[0.2222222222222222,\"#7201a8\"],[0.3333333333333333,\"#9c179e\"],[0.4444444444444444,\"#bd3786\"],[0.5555555555555556,\"#d8576b\"],[0.6666666666666666,\"#ed7953\"],[0.7777777777777778,\"#fb9f3a\"],[0.8888888888888888,\"#fdca26\"],[1.0,\"#f0f921\"]],\"diverging\":[[0,\"#8e0152\"],[0.1,\"#c51b7d\"],[0.2,\"#de77ae\"],[0.3,\"#f1b6da\"],[0.4,\"#fde0ef\"],[0.5,\"#f7f7f7\"],[0.6,\"#e6f5d0\"],[0.7,\"#b8e186\"],[0.8,\"#7fbc41\"],[0.9,\"#4d9221\"],[1,\"#276419\"]]},\"xaxis\":{\"gridcolor\":\"white\",\"linecolor\":\"white\",\"ticks\":\"\",\"title\":{\"standoff\":15},\"zerolinecolor\":\"white\",\"automargin\":true,\"zerolinewidth\":2},\"yaxis\":{\"gridcolor\":\"white\",\"linecolor\":\"white\",\"ticks\":\"\",\"title\":{\"standoff\":15},\"zerolinecolor\":\"white\",\"automargin\":true,\"zerolinewidth\":2},\"scene\":{\"xaxis\":{\"backgroundcolor\":\"#E5ECF6\",\"gridcolor\":\"white\",\"linecolor\":\"white\",\"showbackground\":true,\"ticks\":\"\",\"zerolinecolor\":\"white\",\"gridwidth\":2},\"yaxis\":{\"backgroundcolor\":\"#E5ECF6\",\"gridcolor\":\"white\",\"linecolor\":\"white\",\"showbackground\":true,\"ticks\":\"\",\"zerolinecolor\":\"white\",\"gridwidth\":2},\"zaxis\":{\"backgroundcolor\":\"#E5ECF6\",\"gridcolor\":\"white\",\"linecolor\":\"white\",\"showbackground\":true,\"ticks\":\"\",\"zerolinecolor\":\"white\",\"gridwidth\":2}},\"shapedefaults\":{\"line\":{\"color\":\"#2a3f5f\"}},\"annotationdefaults\":{\"arrowcolor\":\"#2a3f5f\",\"arrowhead\":0,\"arrowwidth\":1},\"geo\":{\"bgcolor\":\"white\",\"landcolor\":\"#E5ECF6\",\"subunitcolor\":\"white\",\"showland\":true,\"showlakes\":true,\"lakecolor\":\"white\"},\"title\":{\"x\":0.05},\"mapbox\":{\"style\":\"light\"}}}},                        {\"responsive\": true}                    ).then(function(){\n",
       "                            \n",
       "var gd = document.getElementById('f1c67597-e13d-40a8-84ea-a99bba2f99a1');\n",
       "var x = new MutationObserver(function (mutations, observer) {{\n",
       "        var display = window.getComputedStyle(gd).display;\n",
       "        if (!display || display === 'none') {{\n",
       "            console.log([gd, 'removed!']);\n",
       "            Plotly.purge(gd);\n",
       "            observer.disconnect();\n",
       "        }}\n",
       "}});\n",
       "\n",
       "// Listen for the removal of the full notebook cells\n",
       "var notebookContainer = gd.closest('#notebook-container');\n",
       "if (notebookContainer) {{\n",
       "    x.observe(notebookContainer, {childList: true});\n",
       "}}\n",
       "\n",
       "// Listen for the clearing of the current output cell\n",
       "var outputEl = gd.closest('.output');\n",
       "if (outputEl) {{\n",
       "    x.observe(outputEl, {childList: true});\n",
       "}}\n",
       "\n",
       "                        })                };                });            </script>        </div>"
      ]
     },
     "metadata": {},
     "output_type": "display_data"
    }
   ],
   "source": [
    "# creat DataFrame\n",
    "data_all = {'Category': ['Same nucleotide',\n",
    "                        'Different nucleotides',\n",
    "                        'Viridian masked'],\n",
    "        'Percentage': [p_same, p_diff, p_masked],\n",
    "           'Raw_number':formatted_numbers_all}\n",
    "df_all_plot = pd.DataFrame(data_all)\n",
    "\n",
    "colors = ['#D9BFCB0', '#49998B', '#C1BEE3']\n",
    "\n",
    "### Plot\n",
    "fig = go.Figure(go.Pie(labels=df_all_plot['Category'], values=df_all_plot['Percentage'], hole=0.4,\n",
    "                       text=df_all_plot['Category']+': <br>' + df_all_plot['Raw_number'].astype(str),\n",
    "                       textinfo='percent+text',\n",
    "                       marker={'colors': colors},\n",
    "                       hovertemplate='%{label}<br>Current percentage: %{percent:.1%}<br>: %{text}',\n",
    "                       textfont={'size': 15},\n",
    "                       texttemplate='%{text} (%{percent:.3%})'\n",
    "                      ))\n",
    "\n",
    "fig.show()"
   ]
  },
  {
   "cell_type": "markdown",
   "id": "07d05b9a",
   "metadata": {},
   "source": [
    "# 2.For_Venn_chart\n",
    "[Return to Catalog](#Catalog:)\n",
    "\n",
    "### 2.1_Same_nucleotide\n",
    "```python\n",
    "/nfs/research/goldman/zihao/Datas/p2_comp_viridian/Folder_4_percentage/allPos_resultVenn_same.txt\n",
    "```"
   ]
  },
  {
   "cell_type": "code",
   "execution_count": 6,
   "id": "9667504d",
   "metadata": {},
   "outputs": [],
   "source": [
    "same_count = 3752886134\n",
    "Flag_SB_PASSED = 10584406\n",
    "Flag_AF_PASSED = 15914808\n",
    "Flag_COV_PASSED = 320151144\n",
    "both_PASSED = 367633\n",
    "both_UNPASSED = 3377979636\n",
    "Flag_SB_Flag_AF_PASSED = 26725181\n",
    "Flag_SB_Flag_COV_PASSED = 141549\n",
    "Flag_AF_Flag_COV_PASSED = 1021777\n",
    "\n",
    "pass_1 = Flag_SB_PASSED+Flag_AF_PASSED+Flag_COV_PASSED\n",
    "pass_2 = Flag_SB_Flag_AF_PASSED+Flag_SB_Flag_COV_PASSED+Flag_AF_Flag_COV_PASSED\n",
    "pass_3 = both_PASSED + both_UNPASSED\n",
    "nb_pass = pass_1+pass_2+pass_3"
   ]
  },
  {
   "cell_type": "code",
   "execution_count": 7,
   "id": "7a837e9a",
   "metadata": {},
   "outputs": [
    {
     "name": "stdout",
     "output_type": "stream",
     "text": [
      "90.01 %\n",
      "=======================================\n",
      "0.424 %\n",
      "8.531 %\n",
      "0.282 %\n",
      "=======================================\n",
      "0.712 %\n",
      "0.004 %\n",
      "0.027 %\n",
      "=======================================\n",
      "0.01 %\n"
     ]
    }
   ],
   "source": [
    "print(round(both_UNPASSED/nb_pass*100,3),'%')\n",
    "print('=======================================')\n",
    "\n",
    "print(round(Flag_AF_PASSED/nb_pass*100,3),'%')\n",
    "print(round(Flag_COV_PASSED/nb_pass*100,3),'%')\n",
    "print(round(Flag_SB_PASSED/nb_pass*100,3),'%')\n",
    "print('=======================================')\n",
    "\n",
    "print(round(Flag_SB_Flag_AF_PASSED/nb_pass*100,3),'%')\n",
    "print(round(Flag_SB_Flag_COV_PASSED/nb_pass*100,3),'%')\n",
    "print(round(Flag_AF_Flag_COV_PASSED/nb_pass*100,3),'%')\n",
    "\n",
    "print('=======================================')\n",
    "print(round(both_PASSED/nb_pass*100,3),'%')"
   ]
  },
  {
   "cell_type": "markdown",
   "id": "d72b1e38",
   "metadata": {},
   "source": [
    "### 2.2_Different_nucleotide\n",
    "```python\n",
    "/nfs/research/goldman/zihao/Datas/p2_comp_viridian/Folder_4_percentage/allPos_resultVenn_diff.txt\n",
    "```"
   ]
  },
  {
   "cell_type": "code",
   "execution_count": 8,
   "id": "7d70dfb1",
   "metadata": {},
   "outputs": [],
   "source": [
    "diff_count = 120183\n",
    "Flag_SB_PASSED = 341\n",
    "Flag_AF_PASSED = 24739\n",
    "Flag_COV_PASSED = 2021\n",
    "both_PASSED = 9363\n",
    "both_UNPASSED = 4839\n",
    "Flag_SB_Flag_AF_PASSED = 77001\n",
    "Flag_SB_Flag_COV_PASSED = 166\n",
    "Flag_AF_Flag_COV_PASSED = 1713\n",
    "\n",
    "pass_1 = Flag_SB_PASSED+Flag_AF_PASSED+Flag_COV_PASSED\n",
    "pass_2 = Flag_SB_Flag_AF_PASSED+Flag_SB_Flag_COV_PASSED+Flag_AF_Flag_COV_PASSED\n",
    "pass_3 = both_PASSED+both_UNPASSED\n",
    "nb_pass = pass_1+pass_2+pass_3"
   ]
  },
  {
   "cell_type": "code",
   "execution_count": 9,
   "id": "1a3e6523",
   "metadata": {},
   "outputs": [
    {
     "name": "stdout",
     "output_type": "stream",
     "text": [
      "4.026 %\n",
      "=======================================\n",
      "20.584 %\n",
      "1.682 %\n",
      "0.284 %\n",
      "=======================================\n",
      "64.07 %\n",
      "0.138 %\n",
      "1.425 %\n",
      "=======================================\n",
      "7.791 %\n"
     ]
    }
   ],
   "source": [
    "print(round(both_UNPASSED/nb_pass*100,3),'%')\n",
    "print('=======================================')\n",
    "\n",
    "print(round(Flag_AF_PASSED/nb_pass*100,3),'%')\n",
    "print(round(Flag_COV_PASSED/nb_pass*100,3),'%')\n",
    "print(round(Flag_SB_PASSED/nb_pass*100,3),'%')\n",
    "print('=======================================')\n",
    "\n",
    "print(round(Flag_SB_Flag_AF_PASSED/nb_pass*100,3),'%')\n",
    "print(round(Flag_SB_Flag_COV_PASSED/nb_pass*100,3),'%')\n",
    "print(round(Flag_AF_Flag_COV_PASSED/nb_pass*100,3),'%')\n",
    "\n",
    "print('=======================================')\n",
    "print(round(both_PASSED/nb_pass*100,3),'%')"
   ]
  },
  {
   "cell_type": "markdown",
   "id": "b6eb9f6d",
   "metadata": {},
   "source": [
    "### 2.3_Viridian_masked\n",
    "```python\n",
    "/nfs/research/goldman/zihao/Datas/p2_comp_viridian/Folder_4_percentage/allPos_resultVenn_masked.txt\n",
    "```"
   ]
  },
  {
   "cell_type": "code",
   "execution_count": 10,
   "id": "c635ed49",
   "metadata": {},
   "outputs": [],
   "source": [
    "masked_count = 28221770\n",
    "Flag_SB_PASSED = 1013\n",
    "Flag_AF_PASSED = 121953\n",
    "Flag_COV_PASSED = 12833822\n",
    "both_PASSED = 29594\n",
    "both_UNPASSED = 15140884\n",
    "Flag_SB_Flag_AF_PASSED = 58608\n",
    "Flag_SB_Flag_COV_PASSED = 4835\n",
    "Flag_AF_Flag_COV_PASSED = 31061\n",
    "\n",
    "pass_1 = Flag_SB_PASSED+Flag_AF_PASSED+Flag_COV_PASSED\n",
    "pass_2 = Flag_SB_Flag_AF_PASSED+Flag_SB_Flag_COV_PASSED+Flag_AF_Flag_COV_PASSED\n",
    "pass_3 = both_PASSED+both_UNPASSED\n",
    "nb_pass = pass_1+pass_2+pass_3"
   ]
  },
  {
   "cell_type": "code",
   "execution_count": 11,
   "id": "876fc442",
   "metadata": {},
   "outputs": [
    {
     "name": "stdout",
     "output_type": "stream",
     "text": [
      "53.65 %\n",
      "=======================================\n",
      "0.432 %\n",
      "45.475 %\n",
      "0.004 %\n",
      "=======================================\n",
      "0.208 %\n",
      "0.017 %\n",
      "0.11 %\n",
      "=======================================\n",
      "0.105 %\n"
     ]
    }
   ],
   "source": [
    "print(round(both_UNPASSED/nb_pass*100,3),'%')\n",
    "print('=======================================')\n",
    "\n",
    "print(round(Flag_AF_PASSED/nb_pass*100,3),'%')\n",
    "print(round(Flag_COV_PASSED/nb_pass*100,3),'%')\n",
    "print(round(Flag_SB_PASSED/nb_pass*100,3),'%')\n",
    "print('=======================================')\n",
    "\n",
    "print(round(Flag_SB_Flag_AF_PASSED/nb_pass*100,3),'%')\n",
    "print(round(Flag_SB_Flag_COV_PASSED/nb_pass*100,3),'%')\n",
    "print(round(Flag_AF_Flag_COV_PASSED/nb_pass*100,3),'%')\n",
    "\n",
    "print('=======================================')\n",
    "print(round(both_PASSED/nb_pass*100,3),'%')"
   ]
  }
 ],
 "metadata": {
  "kernelspec": {
   "display_name": "Python 3 (ipykernel)",
   "language": "python",
   "name": "python3"
  },
  "language_info": {
   "codemirror_mode": {
    "name": "ipython",
    "version": 3
   },
   "file_extension": ".py",
   "mimetype": "text/x-python",
   "name": "python",
   "nbconvert_exporter": "python",
   "pygments_lexer": "ipython3",
   "version": "3.11.3"
  }
 },
 "nbformat": 4,
 "nbformat_minor": 5
}
