{
 "cells": [
  {
   "cell_type": "markdown",
   "id": "3c6e2457",
   "metadata": {},
   "source": [
    "## <center>Comparison of Viridian Alignment and COVID-19 Data Portal Alignment.</center>\n",
    "\n",
    "\n",
    "| **Label** | **start time** | **finish time** | **last modified** |\n",
    "|:--------------:|:-----------:|:-----------:|:----------------:|\n",
    "|   Project 3   |  2023-07-10 |  2023-07-30 |   2023-08-22     |"
   ]
  },
  {
   "cell_type": "code",
   "execution_count": 1,
   "id": "6badf9b5",
   "metadata": {},
   "outputs": [],
   "source": [
    "import numpy as np\n",
    "import pandas as pd\n",
    "\n",
    "from plotly.subplots import make_subplots\n",
    "import plotly.graph_objects as go\n",
    "import plotly.io as pio"
   ]
  },
  {
   "cell_type": "code",
   "execution_count": 2,
   "id": "69c4b638",
   "metadata": {},
   "outputs": [],
   "source": [
    "def format_number(number):\n",
    "    suffixes = ['', 'K', 'M', 'B', 'T']\n",
    "\n",
    "    for i in range(len(suffixes)):\n",
    "        magnitude = number / (1000 ** i)\n",
    "        if magnitude < 1000:\n",
    "            if magnitude < 10:\n",
    "                formatted = f\"{magnitude:.1f}\"\n",
    "            else:\n",
    "                formatted = f\"{magnitude:.0f}\"\n",
    "            return f\"{formatted}{suffixes[i]}\"\n",
    "    \n",
    "    return f\"{number:.1e}\""
   ]
  },
  {
   "cell_type": "markdown",
   "id": "85e404a2",
   "metadata": {},
   "source": [
    "====================== Info ======================  \n",
    "Total masked positions in Virdian assembly:  93450014  \n",
    "Total positions in Colman assembly:  254979847  \n",
    "====================== Info ======================  \n",
    "Total unmasked positions in Virdian assembly, without errors identified by MAPLE:  3983602552  \n",
    "Total unmasked positions in Colman assembly, without errors identified by MAPLE:  3822049253  \n",
    "====================== Info ======================  \n",
    "Total positions in Virdian assembly identified as errors by MAPLE (Virdian's errors):  12174  \n",
    "Total positions in Colman assembly identified as errors by MAPLE (Colman's errors):  35629  \n",
    "====================== For VIR error ======================  \n",
    "Colman’s assemblies are masked:  513  \n",
    "Same nucleotide, Colman’s assembly error:  7743  \n",
    "Same nucleotide, Colman’s assembly not error:  3043  \n",
    "Diff nucleotide, Colman’s assembly error:  3  \n",
    "Diff nucleotide, Colman’s assembly not error:  862  \n",
    "====================== For COL error ======================  \n",
    "Viridian’s assemblies are masked:  9387  \n",
    "Same nucleotide, Viridian's assembly error:  7743  \n",
    "Same nucleotide, Viridian's assembly not error:  7742  \n",
    "Diff nucleotide, Viridian's assembly error:  3  \n",
    "Diff nucleotide, Viridian's assembly not error:  10754  "
   ]
  },
  {
   "cell_type": "markdown",
   "id": "3a188a14",
   "metadata": {},
   "source": [
    "## 1. input data"
   ]
  },
  {
   "cell_type": "code",
   "execution_count": 3,
   "id": "2064dcec",
   "metadata": {},
   "outputs": [],
   "source": [
    "VIR_masked = 93450014\n",
    "VIR_unmasked = 3983602552\n",
    "VIR_error = 12174\n",
    "VIR_both = VIR_masked+VIR_unmasked+VIR_error\n",
    "\n",
    "VIR_error_othMasked = 513\n",
    "VIR_error_sameError = 7743\n",
    "VIR_error_sameCorrect = 3043\n",
    "VIR_error_diffError = 3\n",
    "VIR_error_diffCorrect = 862\n",
    "VIR_error_both = VIR_error_othMasked+VIR_error_sameError+VIR_error_sameCorrect+VIR_error_diffError+VIR_error_diffCorrect"
   ]
  },
  {
   "cell_type": "code",
   "execution_count": 4,
   "id": "a468f78e",
   "metadata": {},
   "outputs": [],
   "source": [
    "COL_masked = 254979847\n",
    "COL_unmasked = 3822049253\n",
    "COL_error = 35629\n",
    "COL_both = COL_masked+COL_unmasked+COL_error\n",
    "\n",
    "COL_error_othMasked = 9387\n",
    "COL_error_sameError = 7743\n",
    "COL_error_sameCorrect = 7742\n",
    "COL_error_diffError = 3\n",
    "COL_error_diffCorrect = 10754\n",
    "COL_error_both = COL_error_othMasked+COL_error_sameError+COL_error_sameCorrect+COL_error_diffError+COL_error_diffCorrect"
   ]
  },
  {
   "cell_type": "markdown",
   "id": "474de9f3",
   "metadata": {},
   "source": [
    "## 2. data processing\n",
    "### 2.1 for Viridian Alignment"
   ]
  },
  {
   "cell_type": "code",
   "execution_count": 5,
   "id": "d5f10d26",
   "metadata": {},
   "outputs": [
    {
     "name": "stdout",
     "output_type": "stream",
     "text": [
      "['93M', '4.0B', '12K']\n",
      "['513', '7.7K', '3.0K', '3.0', '862']\n"
     ]
    }
   ],
   "source": [
    "numbers = [VIR_masked, VIR_unmasked, VIR_error]\n",
    "\n",
    "formatted_numbers_VIR = []\n",
    "\n",
    "for number in numbers:\n",
    "    formatted_number = format_number(number)\n",
    "    formatted_numbers_VIR.append(formatted_number)\n",
    "\n",
    "print(formatted_numbers_VIR)\n",
    "\n",
    "numbers = [VIR_error_othMasked, VIR_error_sameError, VIR_error_sameCorrect,\n",
    "           VIR_error_diffError, VIR_error_diffCorrect]\n",
    "\n",
    "formatted_numbers_VIR_ERROR = []\n",
    "\n",
    "for number in numbers:\n",
    "    formatted_number = format_number(number)\n",
    "    formatted_numbers_VIR_ERROR.append(formatted_number)\n",
    "\n",
    "print(formatted_numbers_VIR_ERROR)"
   ]
  },
  {
   "cell_type": "code",
   "execution_count": 6,
   "id": "f977d096",
   "metadata": {},
   "outputs": [
    {
     "data": {
      "text/plain": [
       "2.985971716505046e-06"
      ]
     },
     "execution_count": 6,
     "metadata": {},
     "output_type": "execute_result"
    }
   ],
   "source": [
    "VIR_error/VIR_both"
   ]
  },
  {
   "cell_type": "code",
   "execution_count": 7,
   "id": "a8f2eefc",
   "metadata": {},
   "outputs": [
    {
     "data": {
      "text/plain": [
       "4077064740"
      ]
     },
     "execution_count": 7,
     "metadata": {},
     "output_type": "execute_result"
    }
   ],
   "source": [
    "VIR_both"
   ]
  },
  {
   "cell_type": "code",
   "execution_count": 8,
   "id": "0022f83c",
   "metadata": {},
   "outputs": [],
   "source": [
    "data_VIR = {'Category': ['Masked',\n",
    "                         'Not Error',\n",
    "                         'Error'],\n",
    "        'Percentage': [np.log(VIR_masked)/VIR_both, \n",
    "                       np.log(VIR_unmasked)/VIR_both, \n",
    "                       np.log(VIR_error)/VIR_both],\n",
    "        'Raw_Percentage': [VIR_masked/VIR_both, \n",
    "                           VIR_unmasked/VIR_both, \n",
    "                           VIR_error/VIR_both],\n",
    "           'Raw_number':formatted_numbers_VIR}\n",
    "df_VIR_plot = pd.DataFrame(data_VIR)"
   ]
  },
  {
   "cell_type": "code",
   "execution_count": 9,
   "id": "b280ea1f",
   "metadata": {},
   "outputs": [],
   "source": [
    "# creat DataFrame\n",
    "data_VIR_ERR = {'Category': ['Vir_otherMasked',\n",
    "                         'Vir_sameError',\n",
    "                         'Vir_sameCorrect',\n",
    "                         'Vir_diffError',\n",
    "                         'Vir_diff'],\n",
    "        'Percentage': [VIR_error_othMasked/VIR_error_both, \n",
    "                       VIR_error_sameError/VIR_error_both, \n",
    "                       VIR_error_sameCorrect/VIR_error_both, \n",
    "                       VIR_error_diffError/VIR_error_both, \n",
    "                       VIR_error_diffCorrect/VIR_error_both],\n",
    "           'Raw_number':formatted_numbers_VIR_ERROR}\n",
    "df_VIR_ERR_plot = pd.DataFrame(data_VIR_ERR)"
   ]
  },
  {
   "cell_type": "markdown",
   "id": "054a2e08",
   "metadata": {},
   "source": [
    "### 2.2 for COVID-19 Data Portal Alignment"
   ]
  },
  {
   "cell_type": "code",
   "execution_count": 10,
   "id": "c3909e15",
   "metadata": {},
   "outputs": [
    {
     "name": "stdout",
     "output_type": "stream",
     "text": [
      "['255M', '3.8B', '36K']\n",
      "['9.4K', '7.7K', '7.7K', '3.0', '11K']\n"
     ]
    }
   ],
   "source": [
    "numbers = [COL_masked, COL_unmasked, COL_error]\n",
    "\n",
    "formatted_numbers_COL = []\n",
    "\n",
    "for number in numbers:\n",
    "    formatted_number = format_number(number)\n",
    "    formatted_numbers_COL.append(formatted_number)\n",
    "\n",
    "print(formatted_numbers_COL)\n",
    "\n",
    "numbers = [COL_error_othMasked, COL_error_sameError, COL_error_sameCorrect,\n",
    "           COL_error_diffError, COL_error_diffCorrect]\n",
    "\n",
    "formatted_numbers_COL_ERROR = []\n",
    "\n",
    "for number in numbers:\n",
    "    formatted_number = format_number(number)\n",
    "    formatted_numbers_COL_ERROR.append(formatted_number)\n",
    "\n",
    "print(formatted_numbers_COL_ERROR)"
   ]
  },
  {
   "cell_type": "code",
   "execution_count": 11,
   "id": "d7e3c522",
   "metadata": {},
   "outputs": [],
   "source": [
    "# creat DataFrame\n",
    "data_COL = {'Category': ['Masked',\n",
    "                         'Not Error',\n",
    "                         'Error'],\n",
    "        'Percentage': [np.log(COL_masked)/COL_both, \n",
    "                       np.log(COL_unmasked)/COL_both, \n",
    "                       np.log(COL_error)/COL_both],\n",
    "        'Raw_Percentage': [COL_masked/COL_both, \n",
    "                           COL_unmasked/COL_both, \n",
    "                           COL_error/COL_both],\n",
    "           'Raw_number':formatted_numbers_COL}\n",
    "df_COL_plot = pd.DataFrame(data_COL)"
   ]
  },
  {
   "cell_type": "code",
   "execution_count": 12,
   "id": "7c7a3744",
   "metadata": {},
   "outputs": [],
   "source": [
    "# creat DataFrame\n",
    "data_COL_ERR = {'Category': ['Col_otherMasked',\n",
    "                         'Col_sameError',\n",
    "                         'Col_sameCorrect',\n",
    "                         'Col_diffError',\n",
    "                         'Col_diff'],\n",
    "        'Percentage': [COL_error_othMasked/COL_error_both, \n",
    "                       COL_error_sameError/COL_error_both, \n",
    "                       COL_error_sameCorrect/COL_error_both, \n",
    "                       COL_error_diffError/COL_error_both, \n",
    "                       COL_error_diffCorrect/COL_error_both],\n",
    "           'Raw_number':formatted_numbers_COL_ERROR}\n",
    "df_COL_ERR_plot = pd.DataFrame(data_COL_ERR)"
   ]
  },
  {
   "cell_type": "markdown",
   "id": "299c783a",
   "metadata": {},
   "source": [
    "## 3. data visualization"
   ]
  },
  {
   "cell_type": "code",
   "execution_count": 13,
   "id": "8b22dd0c",
   "metadata": {},
   "outputs": [],
   "source": [
    "colors = ['#EBD67E', '#7FB7D1', '#89A78E']\n",
    "colors_ERROR = ['#C9DFCC', '#9AC2A0', '#7AAC9A', '#688462', '#AAB07C']\n",
    "label_err = ['otherMasked', 'sameError', 'sameCorrect', 'diffError', 'diff']"
   ]
  },
  {
   "cell_type": "code",
   "execution_count": 14,
   "id": "7f45dc2b",
   "metadata": {},
   "outputs": [],
   "source": [
    "# Create the subplots\n",
    "fig = make_subplots(rows=1, cols=2, subplot_titles=['Viridian Alignment', 'COVID-19 Data Portal Alignment'],\n",
    "                    specs=[[{'type':'pie'}, {'type':'pie'}]])\n",
    "\n",
    "# Create the pie chart for VIR\n",
    "pie_VIR = go.Pie(labels=df_VIR_plot['Category'], values=df_VIR_plot['Percentage'], hole=0.4,\n",
    "                 text=df_VIR_plot['Category']+': <br>' + df_VIR_plot['Raw_number'].astype(str)+\n",
    "                 ' ('+(df_VIR_plot['Raw_Percentage']*100).round(4).astype(str)+'%)',\n",
    "                 textinfo='percent+text',\n",
    "                 marker={'colors': colors},\n",
    "                 hovertemplate='%{label}<br>Current percentage: %{percent:.1%}<br>: %{text}',\n",
    "                 textfont={'size': 15},\n",
    "                 texttemplate='%{text}',# (%{percent:.1%})',\n",
    "                 name='VIR')\n",
    "\n",
    "# Add pie chart for VIR to subplot\n",
    "fig.add_trace(pie_VIR, row=1, col=1)\n",
    "\n",
    "# Create the pie chart for COL\n",
    "pie_COL = go.Pie(labels=df_COL_plot['Category'], values=df_COL_plot['Percentage'], hole=0.4,\n",
    "                 text=df_COL_plot['Category']+': <br>' + df_COL_plot['Raw_number'].astype(str)+\n",
    "                 ' ('+(df_COL_plot['Raw_Percentage']*100).round(4).astype(str)+'%)',\n",
    "                 textinfo='percent+text',\n",
    "                 marker={'colors': colors},\n",
    "                 hovertemplate='%{label}<br>Current percentage: %{percent:.1%}<br>: %{text}',\n",
    "                 textfont={'size': 15},\n",
    "                 texttemplate='%{text}',# (%{percent:.1%})',\n",
    "                 name='COL')\n",
    "\n",
    "# Add pie chart for COL to subplot\n",
    "fig.add_trace(pie_COL, row=1, col=2)\n",
    "\n",
    "\"\"\"\n",
    "fig.show()\n",
    "\"\"\"\n",
    "# Set titles for the two subplots\n",
    "# fig.update_layout(title_text=\"subplots_error\")  # Increase figure size\n",
    "\n",
    "# Save the figure as an HTML file\n",
    "pio.write_html(fig, 'Figure/subplots_all.html')\n"
   ]
  },
  {
   "cell_type": "code",
   "execution_count": 15,
   "id": "7e28416c",
   "metadata": {},
   "outputs": [],
   "source": [
    "fig = make_subplots(rows=1, cols=2, subplot_titles=['Viridian Alignment', 'COVID-19 Data Portal Alignment'], \n",
    "# fig = make_subplots(rows=1, cols=2, subplot_titles=['Viridian Assembly', 'COVID19 Data Portal'],\n",
    "                    specs=[[{'type':'domain'}, {'type':'domain'}]])\n",
    "\n",
    "fig.add_trace(go.Pie(labels=label_err, values=df_VIR_ERR_plot['Percentage'], hole=0.35,\n",
    "                     text=df_VIR_ERR_plot['Raw_number'].astype(str),\n",
    "                     # text=df_VIR_ERR_plot['Category']+': <br>' + df_VIR_ERR_plot['Raw_number'].astype(str),\n",
    "                     textinfo='percent+text',\n",
    "                     marker={'colors': colors_ERROR},\n",
    "                     hovertemplate='%{label}<br>Current percentage: %{percent:.1%}<br>: %{text}',\n",
    "                     textfont={'size': 15},\n",
    "                     texttemplate='%{text} (%{percent:.1%})'\n",
    "                    ), \n",
    "              row=1, col=1)\n",
    "\n",
    "fig.add_trace(go.Pie(labels=label_err, values=df_COL_ERR_plot['Percentage'], hole=0.35,\n",
    "                     text=df_COL_ERR_plot['Raw_number'].astype(str),\n",
    "                     # text=df_COL_ERR_plot['Category']+': <br>' + df_COL_ERR_plot['Raw_number'].astype(str),\n",
    "                     textinfo='percent+text',\n",
    "                     marker={'colors': colors_ERROR},\n",
    "                     hovertemplate='%{label}<br>Current percentage: %{percent:.1%}<br>: %{text}',\n",
    "                     textfont={'size': 15},\n",
    "                     texttemplate='%{text} (%{percent:.1%})'\n",
    "                    ), \n",
    "              row=1, col=2)\n",
    "\"\"\"\n",
    "fig.show()\n",
    "\"\"\"\n",
    "# Set titles for the two subplots\n",
    "# fig.update_layout(title_text=\"subplots_error\")  # Increase figure size\n",
    "\n",
    "# Save the figure as an HTML file\n",
    "pio.write_html(fig, 'Figure/subplots_error.html')"
   ]
  }
 ],
 "metadata": {
  "kernelspec": {
   "display_name": "Python 3 (ipykernel)",
   "language": "python",
   "name": "python3"
  },
  "language_info": {
   "codemirror_mode": {
    "name": "ipython",
    "version": 3
   },
   "file_extension": ".py",
   "mimetype": "text/x-python",
   "name": "python",
   "nbconvert_exporter": "python",
   "pygments_lexer": "ipython3",
   "version": "3.11.3"
  }
 },
 "nbformat": 4,
 "nbformat_minor": 5
}
