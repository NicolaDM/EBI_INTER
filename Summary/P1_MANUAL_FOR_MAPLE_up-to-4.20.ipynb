{
 "cells": [
  {
   "cell_type": "markdown",
   "id": "72a78489",
   "metadata": {},
   "source": [
    "# 0. Possible preparations needed\n",
    "- Install anaconda [Check here](https://docs.anaconda.com/free/anaconda/install/) [Not necessary]\n",
    "    - Connect to jupyter\n",
    "\n",
    "##### Code block:\n",
    "```bash\n",
    "export PATH=\"/$HOME/anaconda3/bin:$PATH\"\n",
    "\n",
    "export PATH=\"$PATH:$HOME/anaconda/bin\"\n",
    "\n",
    "cd\n",
    "\n",
    "jupyter-notebook --no-browser --ip=0.0.0.0 --port=9999\n",
    "\n",
    "```\n",
    "\n",
    "- Install MAFFT [Check here](https://mafft.cbrc.jp/alignment/software/installation_without_root.html) [Important!!!]\n",
    "\n"
   ]
  },
  {
   "cell_type": "markdown",
   "id": "abcb835c",
   "metadata": {},
   "source": [
    "**User's Manual**: \n",
    "- Enter the steps in !!**Code block**!! below separately\n",
    "- Or just input:\n",
    "```bash\n",
    "cd /nfs/research/goldman/zihao/errorsProject_1/\n",
    "sh Step_for_MAPLE.sh\n",
    "```\n",
    "\n",
    "Tips: But in order to find out the error in time, I strongly recommend following the first method."
   ]
  },
  {
   "cell_type": "markdown",
   "id": "ebfc1c09",
   "metadata": {},
   "source": [
    "***\n",
    "***\n",
    "# 1. Data Preparation"
   ]
  },
  {
   "cell_type": "markdown",
   "id": "805dcd19",
   "metadata": {},
   "source": [
    "## 1.1 Data slicing (for easy download)"
   ]
  },
  {
   "cell_type": "markdown",
   "id": "8599b741",
   "metadata": {},
   "source": [
    "- **Idea**: cut all files into 100 copies so that they can be downloaded at the same time\n",
    "- **Input**:\n",
    "```python\n",
    "input_files = ['/nfs/research/goldman/zihao/Datas/p1/File_5_Annot.txt',\n",
    "               '/nfs/research/goldman/zihao/Datas/p1/File_5_Consensus.txt',\n",
    "               '/nfs/research/goldman/zihao/Datas/p1/File_5_Coverage.txt']\n",
    "```\n",
    "- **Output**:\n",
    "```python\n",
    "output_directories = ['/nfs/research/goldman/zihao/Datas/p1/File_5_annot/Datas/batch*.txt',\n",
    "                      '/nfs/research/goldman/zihao/Datas/p1/File_5_consensus/Datas/batch*.txt',\n",
    "                      '/nfs/research/goldman/zihao/Datas/p1/File_5_coverage/Datas/batch*.txt']\n",
    "```"
   ]
  },
  {
   "cell_type": "markdown",
   "id": "cc15f126",
   "metadata": {},
   "source": [
    "##### Code block:\n",
    "```bash\n",
    "bsub -M 2000 \n",
    "-e /nfs/research/goldman/zihao/errorsProject_1/1_Download/Data_slicing_errorChecking_error.txt  \n",
    "'python3 /nfs/research/goldman/zihao/errorsProject_1/1_Download/Data_slicing.py'\n",
    "```"
   ]
  },
  {
   "cell_type": "markdown",
   "id": "3659a16c",
   "metadata": {},
   "source": [
    "***\n",
    "## 1.2 Data Download"
   ]
  },
  {
   "cell_type": "markdown",
   "id": "a64898b3",
   "metadata": {},
   "source": [
    "- **Idea**: Download the corresponding sample files from the files cut in the previous steps while following the FTP link\n",
    "\n",
    "\n",
    "- **Input&Output**:\n",
    "```python\n",
    "for use_case in \"File_5_annot\" \"File_5_consensus\" \"File_5_coverage\"; do\n",
    "      input_folder_path=\"$input_base_path/$use_case/Datas\"\n",
    "      output_folder_path=\"$output_base_path/$use_case/Downloads\"\n",
    "```"
   ]
  },
  {
   "cell_type": "markdown",
   "id": "1022e668",
   "metadata": {},
   "source": [
    "##### Code block:\n",
    "```bash\n",
    "cd /nfs/research/goldman/zihao/errorsProject_1/1_Download\n",
    "\n",
    "sh run_data_download.sh\n",
    "```"
   ]
  },
  {
   "cell_type": "markdown",
   "id": "0b43b76a",
   "metadata": {},
   "source": [
    "***\n",
    "***\n",
    "# 2. Data processing (adjusting sequence format)"
   ]
  },
  {
   "cell_type": "markdown",
   "id": "1e0fa076",
   "metadata": {},
   "source": [
    "1. Put all the downloaded consensus sequences in a single fasta file (let’s call it all_consensuses.fasta ).\n",
    "    \n",
    "2. Run mafft with the special options we mentioned before including --keeplength and using the reference I sent you MN908947.3 , let’s call the output all_consensuses_aligned.fasta .\n",
    "    \n",
    "3. Remove the reference sequence from the mafft alignment output (it should be the first sequence in the file), let’s call the resulting file all_consensuses_aligned_noReference.fasta .\n",
    "    \n",
    "4. Run my script createMapleFile.py on  all_consensuses_aligned_noReference.fasta WITHOUT using option --reference . This will create a MAPLE file for you, and a new reference to use with MAPLE."
   ]
  },
  {
   "cell_type": "markdown",
   "id": "b63a6ba6",
   "metadata": {},
   "source": [
    "***\n",
    "## 2.1. Decompress"
   ]
  },
  {
   "cell_type": "markdown",
   "id": "0176d20a",
   "metadata": {},
   "source": [
    "- **Idea**: Decompress the downloaded file\n",
    "- **Input**: All files downloaded in the previous step\n",
    "\n",
    "- **Output**: \n",
    "    - all_consensuses_batch_*.fasta"
   ]
  },
  {
   "cell_type": "markdown",
   "id": "dca50656",
   "metadata": {},
   "source": [
    "##### Code block:\n",
    "```bash\n",
    "bsub -M 2000 \n",
    "-e /nfs/research/goldman/zihao/errorsProject_1/Consensuses/Decompress_errorChecking_error.txt \n",
    "'python3 /nfs/research/goldman/zihao/errorsProject_1/Consensuses/Decompress.py'\n",
    "```"
   ]
  },
  {
   "cell_type": "markdown",
   "id": "8def89d6",
   "metadata": {},
   "source": [
    "### 2.1.2 Sequence Alignment"
   ]
  },
  {
   "cell_type": "markdown",
   "id": "0d1b90f2",
   "metadata": {},
   "source": [
    "- **Idea**: Alignment using MAFFT software and according to MN908947.3 as reference\n",
    "\n",
    "```bash\n",
    "#!/bin/bash\n",
    "for i in {1..20}\n",
    "do\n",
    "  mafft --6merpair --keeplength --addfragments \"/nfs/research/goldman/zihao/Datas/p1/File_5_consensus/Decompress/all_consensuses_batch_$i.fasta\" \"/nfs/research/goldman/zihao/errorsProject_1/Consensuses/ref_MN908947.3.fasta\" > \"/nfs/research/goldman/zihao/Datas/p1/File_5_consensus/Decompress/aligned_$i.fasta\"\n",
    "done\n",
    "```\n",
    "\n",
    "- **Input**: All files decompressed in the previous step\n",
    "\n",
    "- **Output**: \n",
    "    - /nfs/research/goldman/zihao/Datas/p1/File_5_consensus/Decompress/aligned_*.fasta"
   ]
  },
  {
   "cell_type": "markdown",
   "id": "7bd6fc5e",
   "metadata": {},
   "source": [
    "##### Code block:\n",
    "```bash\n",
    "cd /nfs/research/goldman/zihao/errorsProject_1/Consensuses\n",
    "sh Aligned.sh\n",
    "```"
   ]
  },
  {
   "cell_type": "markdown",
   "id": "d7051963",
   "metadata": {},
   "source": [
    "***\n",
    "## 2.2. Del ref"
   ]
  },
  {
   "cell_type": "markdown",
   "id": "23b1fdb1",
   "metadata": {},
   "source": [
    "- **Idea**: Delete reference MN908947.3\n",
    "\n",
    "- **Input**: All files aligned in the previous step\n",
    "\n",
    "- **Output**: \n",
    "    - all_consensuses_aligned_noReference_aligned_*.fasta"
   ]
  },
  {
   "cell_type": "markdown",
   "id": "c7acab88",
   "metadata": {},
   "source": [
    "##### Code block:\n",
    "```bash\n",
    "bsub -M 2000\n",
    "-e /nfs/research/goldman/zihao/errorsProject_1/Consensuses/Del_ref_errorChecking_error.txt  \n",
    "'python3 /nfs/research/goldman/zihao/errorsProject_1/Consensuses/Del_ref.py'\n",
    "```"
   ]
  },
  {
   "cell_type": "markdown",
   "id": "0e452980",
   "metadata": {},
   "source": [
    "***\n",
    "## 2.3. Merge + Remove blank"
   ]
  },
  {
   "cell_type": "markdown",
   "id": "2f52f5d1",
   "metadata": {},
   "source": [
    "- Input: all_consensuses_aligned_noReference_aligned_*.fasta\n",
    "\n",
    "- Output: \n",
    "    - After merge: all_consensuses_aligned_noReference.fasta\n",
    "\n",
    "    - After Remove: rm_blank_all_consensuses_aligned_noReference.fasta"
   ]
  },
  {
   "cell_type": "markdown",
   "id": "46b17b92",
   "metadata": {},
   "source": [
    "##### Code block:\n",
    "```bash\n",
    "bsub -M 2000 \n",
    "-e /nfs/research/goldman/zihao/errorsProject_1/Consensuses/Merge_Remove_errorChecking_error.txt  \n",
    "'python3 /nfs/research/goldman/zihao/errorsProject_1/Consensuses/Merge_Remove_blank.py'\n",
    "```"
   ]
  },
  {
   "cell_type": "markdown",
   "id": "a0c4061f",
   "metadata": {},
   "source": [
    "***\n",
    "## 2.4. Transform as the MAPLE format"
   ]
  },
  {
   "cell_type": "markdown",
   "id": "b205bc6a",
   "metadata": {},
   "source": [
    "Run the script createMapleFile.py on  all_consensuses_aligned_noReference.fasta WITHOUT using option --reference . This will create a MAPLE file for you, and a new reference to use with MAPLE.\n",
    "\n",
    "##### Code block:\n",
    "```bash\n",
    "bsub \"/hps/software/users/goldman/pypy3/pypy3.7-v7.3.5-linux64/bin/pypy3 \n",
    "createMapleFile.py \n",
    "--path /nfs/research/goldman/zihao/Datas/p1/File_5_consensus/Decompress/Aligned/noReference/ \n",
    "--fasta rm_blank_all_consensuses_aligned_noReference.fasta \n",
    "--output MAPLE_format_consensuses.txt\"\n",
    "```"
   ]
  },
  {
   "cell_type": "markdown",
   "id": "8e21978b",
   "metadata": {},
   "source": [
    "### Explanation of MAPLE format\n",
    "#### > SRR20944325\n",
    "\n",
    "|         |         |         |\n",
    "|---------|---------|---------|\n",
    "| - | 1 | 2 |\n",
    "| n | 3 | 29901 |\n",
    "\n"
   ]
  },
  {
   "cell_type": "markdown",
   "id": "58922471",
   "metadata": {},
   "source": [
    "- The second column number tells you the genome position the entry refers to.\n",
    "\n",
    "- The third column\n",
    "    - If the third column is not present, then the entry refers to only one position.\n",
    "    - If the third column is present, its value tells you how many positions that entry refers to\n",
    "\n",
    "- For example\n",
    "|         |         |         |\n",
    "|---------|---------|---------|\n",
    "| n | 541 | 10 |\n",
    "\n",
    "    - means that “n” is present in the sequence in ten consecutive positions from position 541 up to position 550."
   ]
  },
  {
   "cell_type": "markdown",
   "id": "702081d1",
   "metadata": {},
   "source": [
    "***\n",
    "***\n",
    "# 3. Run MAPLE program"
   ]
  },
  {
   "cell_type": "markdown",
   "id": "b8414de4",
   "metadata": {},
   "source": [
    "##### Code block:\n",
    "```bash\n",
    "bsub -g /MapleRealErrors -q long -M 40000 \n",
    "-o /nfs/research/goldman/zihao/errorsProject_1/MAPLE/MAPLE_realData_errorChecking_output.txt \n",
    "-e /nfs/research/goldman/zihao/errorsProject_1/MAPLE/MAPLE_realData_errorChecking_error.txt \n",
    "/hps/software/users/goldman/pypy3/pypy3.7-v7.3.5-linux64/bin/pypy3 \n",
    "/nfs/research/goldman/demaio/fastLK/code/MAPLEv0.3.2.py \n",
    "--model UNREST --rateVariation --estimateSiteSpecificErrorRate \n",
    "--input /nfs/research/goldman/zihao/Datas/p1/File_5_consensus/Decompress/Aligned/noReference/MAPLE_format_consensuses_new_1.txt \n",
    "--overwrite --estimateErrors --calculateLKfinalTree \n",
    "--output /nfs/research/goldman/zihao/errorsProject_1/MAPLE/MAPLE0.3.1_rateVar_errors_realData_checkingErrors\n",
    "```"
   ]
  }
 ],
 "metadata": {
  "kernelspec": {
   "display_name": "Python 3 (ipykernel)",
   "language": "python",
   "name": "python3"
  },
  "language_info": {
   "codemirror_mode": {
    "name": "ipython",
    "version": 3
   },
   "file_extension": ".py",
   "mimetype": "text/x-python",
   "name": "python",
   "nbconvert_exporter": "python",
   "pygments_lexer": "ipython3",
   "version": "3.10.9"
  }
 },
 "nbformat": 4,
 "nbformat_minor": 5
}
