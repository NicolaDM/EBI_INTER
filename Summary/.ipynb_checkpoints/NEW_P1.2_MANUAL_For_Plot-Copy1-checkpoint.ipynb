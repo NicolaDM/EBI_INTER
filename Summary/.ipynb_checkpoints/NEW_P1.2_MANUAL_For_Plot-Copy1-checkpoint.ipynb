{
 "cells": [
  {
   "cell_type": "markdown",
   "id": "f3a0abf7",
   "metadata": {},
   "source": [
    "## <center>Document the Data processing and visualization for Converage & Annot</center>\n",
    "##### <center>MANUAL</center>\n",
    "\n",
    "\n",
    "\n",
    "| **Label** | **start time** | **finish time** | **last modified** |\n",
    "|:--------------:|:-----------:|:-----------:|:----------------:|\n",
    "|   Project 1   |  2023-07-10 |  2023-07-12 |   2023-07-12     |"
   ]
  },
  {
   "cell_type": "markdown",
   "id": "bd16cce1",
   "metadata": {},
   "source": [
    "# <center>Catalog:</center>\n",
    "- 1. [Data processing](#1.Data_processing_and_preparation)\n",
    "    - [1) Data processing for errorPosition](#1.1_Data_processing_for_errorPosition)\n",
    "    - [2) Data processing for allPosition](#1.2_Data_processing_for_allPosition)\n",
    "\n",
    "&nbsp;\n",
    "\n",
    "- 2. [Visualization](#4.Visualization)\n",
    "    - [1) Density Chart](#1.Density_chart_(python))\n",
    "    - [2) Venn Chart](#2.Venn_chart_(R))"
   ]
  },
  {
   "cell_type": "markdown",
   "id": "766a7099",
   "metadata": {},
   "source": [
    "***\n",
    "***\n",
    "# 1.Data_processing_and_preparation\n",
    "[Return to Catalog](#Catalog:)\n",
    "\n",
    "- **Input**:\n",
    "```python\n",
    "MAPLE output(forErrpos): /nfs/research/goldman/zihao/compViridian_2/MAPLE_Part/For_col/MAPLE0.3.2_rateVar_checkingErrors_col_estimatedErrors.txt\n",
    "    \n",
    "MAPLE input(forAllpos): /nfs/research/goldman/zihao/Datas/p2_comp_viridian/2_alignment/Col_MAPLE_format_consensuses.txt\n",
    "    \n",
    "Coverage: /nfs/research/goldman/zihao/Datas/p1/File_5_coverage/Decompress/*.txt\n",
    "    \n",
    "Annot: /nfs/research/goldman/zihao/Datas/p1/File_5_annot/New_Decompress/*.txt\n",
    "```\n",
    "- **Output**: \n",
    "```python\n",
    "Count: /nfs/research/goldman/zihao/N_errorsProject_1/Folder_errANDall_dataProcessing/Folder_Checking/outputChecking_*.txt\n",
    "Data：/nfs/research/goldman/zihao/Datas/p1_errorsProject_NEW/Folder_dataProcessing/\n",
    "```\n",
    "- **Address**:\n",
    "```python\n",
    "/nfs/research/goldman/zihao/N_errorsProject_1/Folder_errANDall_dataProcessing/BASH_dataProcessing_errAndall.sh\n",
    "```\n",
    "### Code block:\n",
    "```bash\n",
    "sh /nfs/research/goldman/zihao/N_errorsProject_1/Folder_errANDall_dataProcessing/BASH_dataProcessing_errAndall.sh\n",
    "```"
   ]
  },
  {
   "cell_type": "markdown",
   "id": "a2a10aa9",
   "metadata": {},
   "source": [
    "<span style=\"color:red;\">Here's a step-by-step version in case you need it, but in principle just type in the commands above to run them</span>\n",
    "## 1.1_Data_processing_for_errorPosition\n",
    "- **Input**:\n",
    "```python\n",
    "MAPLE output: /nfs/research/goldman/zihao/compViridian_2/MAPLE_Part/For_col/MAPLE0.3.2_rateVar_checkingErrors_col_estimatedErrors.txt\n",
    "    \n",
    "Coverage: /nfs/research/goldman/zihao/Datas/p1/File_5_coverage/Decompress/*.txt\n",
    "    \n",
    "Annot: /nfs/research/goldman/zihao/Datas/p1/File_5_annot/New_Decompress/*.txt\n",
    "```\n",
    "- **Output**: \n",
    "```python\n",
    "Count: /nfs/research/goldman/zihao/N_errorsProject_1/Folder_errPos_dataProcessing/Folder_Checking/outputChecking_*.txt\n",
    "Data：/nfs/research/goldman/zihao/Datas/p1_errorsProject_NEW/Folder_dataProcessing/\n",
    "```\n",
    "- **Address**:\n",
    "```python\n",
    "/nfs/research/goldman/zihao/N_errorsProject_1/Folder_errPos_dataProcessing/BASH_errPos_dataProcessing.sh\n",
    "```\n",
    "\n",
    "### Code block:\n",
    "\n",
    "###### 1) Modify input path???\n",
    "```bash\n",
    "sed -i 's|file_path = \"/nfs/research/goldman/zihao/errorsProject_1/MAPLE/TEST_50000/MAPLE0.3.2_rateVar_errors_realData_checkingErrors_50000_estimatedErrors.txt\"|file_path = \"/new_path/to/estimatedErrors.txt\"|g' /nfs/research/goldman/zihao/errorsProject_1/Handle_with_output.py\n",
    "```\n",
    "###### 2) Modify output path???\n",
    "```bash\n",
    "sed -i 's|output_folder = \"/nfs/research/goldman/zihao/errorsProject_1/MAPLE/TEST_50000/\"|output_folder = \"/new_path/to/output_folder/\"|g' /nfs/research/goldman/zihao/errorsProject_1/Handle_with_output.py\n",
    "```\n",
    "###### 3) Run the program\n",
    "```bash\n",
    "sh /nfs/research/goldman/zihao/N_errorsProject_1/Folder_errPos_dataProcessing/BASH_errPos_dataProcessing.sh\n",
    "```"
   ]
  },
  {
   "cell_type": "markdown",
   "id": "6d32518b",
   "metadata": {},
   "source": [
    "## 1.2_Data_processing_for_allPosition\n",
    "- **Input**:\n",
    "```python\n",
    "MAPLE input: /nfs/research/goldman/zihao/Datas/p2_comp_viridian/2_alignment/Col_MAPLE_format_consensuses.txt\n",
    "    \n",
    "Coverage: /nfs/research/goldman/zihao/Datas/p1/File_5_coverage/Decompress/*.txt\n",
    "    \n",
    "Annot: /nfs/research/goldman/zihao/Datas/p1/File_5_annot/New_Decompress/*.txt\n",
    "```\n",
    "- **Output**: \n",
    "```python\n",
    "Count: /nfs/research/goldman/zihao/N_errorsProject_1/Folder_allPos_dataProcessing/Folder_Checking/outputChecking_*.txt\n",
    "Data：/nfs/research/goldman/zihao/Datas/p1_errorsProject_NEW/Folder_dataProcessing/\n",
    "```\n",
    "- **Address**:\n",
    "```python\n",
    "/nfs/research/goldman/zihao/N_errorsProject_1/Folder_allPos_dataProcessing/CODE_allPos_dataProcessing.py\n",
    "```\n",
    "### Code block:\n",
    "```bash\n",
    "bsub -M 20000 -e /nfs/research/goldman/zihao/N_errorsProject_1/Folder_allPos_dataProcessing/Folder_Checking/errorChecking_allPos_dataProcessing.txt -o /nfs/research/goldman/zihao/N_errorsProject_1/Folder_allPos_dataProcessing/Folder_Checking/outputChecking_allPos_dataProcessing.txt 'python3 /nfs/research/goldman/zihao/N_errorsProject_1/Folder_allPos_dataProcessing/CODE_allPos_dataProcessing.py'\n",
    "```"
   ]
  },
  {
   "cell_type": "markdown",
   "id": "e99b28ee",
   "metadata": {},
   "source": [
    "***\n",
    "***\n",
    "# 2.Visualization\n",
    "[Return to Catalog](#Catalog:)"
   ]
  },
  {
   "cell_type": "markdown",
   "id": "cf2bdf08",
   "metadata": {},
   "source": [
    "### 1.Density_chart_(python)\n",
    "\n",
    "```python\n",
    "for_annot_AF = [\"./EBI_INTER/Project_1/Step_1.2_Annot/3_Final_plot_Annot-May.ipynb\"]\n",
    "for_coverage = [\"./EBI_INTER/Project_1/Step_1.1_Coverage/3_Final_plot_Coverage-May.ipynb\"]\n",
    "```\n",
    "\n",
    "### 2.Venn_chart_(R)\n",
    "\n",
    "```python\n",
    "# 1. Prepare the data for plotting\n",
    "dir_1 = [\"./EBI_INTER/Project_1/Step_2_Visualization_Venn/May.9_prepare_data.ipynb\"]\n",
    "# 2. Plot\n",
    "dir_2 = [\"./EBI_INTER/Project_1/Step_2_Visualization_Venn/May.2_Venn.Rmd\"]\n",
    "```\n"
   ]
  }
 ],
 "metadata": {
  "kernelspec": {
   "display_name": "Python 3 (ipykernel)",
   "language": "python",
   "name": "python3"
  },
  "language_info": {
   "codemirror_mode": {
    "name": "ipython",
    "version": 3
   },
   "file_extension": ".py",
   "mimetype": "text/x-python",
   "name": "python",
   "nbconvert_exporter": "python",
   "pygments_lexer": "ipython3",
   "version": "3.10.9"
  }
 },
 "nbformat": 4,
 "nbformat_minor": 5
}
