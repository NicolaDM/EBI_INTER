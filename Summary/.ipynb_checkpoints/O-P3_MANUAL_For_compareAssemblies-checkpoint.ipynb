{
 "cells": [
  {
   "cell_type": "markdown",
   "id": "5573854f",
   "metadata": {},
   "source": [
    "## <center>Comparison of Colman's and Viridian's versions</center>\n",
    "##### <center>MANUAL</center>\n",
    "\n",
    "\n",
    "\n",
    "| **Label** | **start time** | **finish time** | **last modified** |\n",
    "|:--------------:|:-----------:|:-----------:|:----------------:|\n",
    "|   Project 1   |  2023-05-16 |  2023-07-?? |   2023-07-04     |"
   ]
  },
  {
   "cell_type": "markdown",
   "id": "a9f98739",
   "metadata": {},
   "source": [
    "# <center>Catalog:</center>\n",
    "- 1. Data Preparation\n",
    "    - 1.1 [Extract assembled sequences](#1.1_Extract_assembled_sequences)\n",
    "    - 1.2 [Split processing](#1.2_Split_processing)\n",
    "\n",
    "&nbsp;\n",
    "\n",
    "- 2. Data Processing\n",
    "    - 2.1 [Sequence alignment](#2.1_Sequence_alignment)\n",
    "    - 2.2 [Combine into one DF](#2.2_Combine_into_one_DF)\n",
    "    - 2.3 [Adding info](#2.3_add_infomation(sb_af))\n",
    "    \n",
    "&nbsp;\n",
    "\n",
    "- 3. Calculating percentages and plotting\n",
    "    - 3.1 [Calculate percentage](#3_calculate_percentage)"
   ]
  },
  {
   "cell_type": "markdown",
   "id": "9846a69b",
   "metadata": {},
   "source": [
    "---\n",
    "# 1. Data Preparation\n",
    "[Return to Catalog](#Catalog:)\n",
    "\n",
    "/nfs/research/goldman/zihao/code/EBI_INTER/Project_2_vircolComp/2.mapleComp_P3/1_Data_prepration.py\n",
    "```python\n",
    "python3 1_Data_prepration.py \n",
    "\n",
    "\n",
    "Processing complete and file written to /nfs/research/goldman/zihao/N_compProject_2/Folder_mapleComp_p3/VIR_output_modified.txt.\n",
    "\n",
    "Processing complete and file written to /nfs/research/goldman/zihao/N_compProject_2/Folder_mapleComp_p3/COL_output_modified.txt.\n",
    "```"
   ]
  },
  {
   "cell_type": "code",
   "execution_count": null,
   "id": "66cb9d74",
   "metadata": {},
   "outputs": [],
   "source": []
  },
  {
   "cell_type": "markdown",
   "id": "c2e4d85e",
   "metadata": {
    "vscode": {
     "languageId": "plaintext"
    }
   },
   "source": [
    "# 2.add_info\n",
    "### Code block:\n",
    "###### Run the program\n",
    "```bash\n",
    "bsub -M 20000 -e /nfs/research/goldman/zihao/code/EBI_INTER/Project_2_vircolComp/2.mapleComp_P3/error_addInfo_errorChecking.txt -o /nfs/research/goldman/zihao/code/EBI_INTER/Project_2_vircolComp/2.mapleComp_P3/output_addInfo_errorChecking.txt 'python3 /nfs/research/goldman/zihao/code/EBI_INTER/Project_2_vircolComp/2.mapleComp_P3/2_bubble_plot.py'\n",
    "```"
   ]
  },
  {
   "cell_type": "code",
   "execution_count": null,
   "id": "c1519c0d",
   "metadata": {
    "vscode": {
     "languageId": "plaintext"
    }
   },
   "outputs": [],
   "source": []
  },
  {
   "cell_type": "markdown",
   "id": "adccaf2a",
   "metadata": {
    "vscode": {
     "languageId": "plaintext"
    }
   },
   "source": [
    "# combination\n",
    "```bash\n",
    "bsub -M 20000 -e /nfs/research/goldman/zihao/N_compProject_2_P3/Folder1_dataPrepration/Folder_Checking/dataPrepration_errorChecking.txt -o /nfs/research/goldman/zihao/N_compProject_2_P3Folder1_dataPrepration/Folder_Checking/dataPrepration_outputChecking.txt 'python3 /nfs/research/goldman/zihao/N_compProject_2_P3/Folder1_dataPrepration/Pg_dataPrepration.py'\n",
    "```"
   ]
  },
  {
   "cell_type": "code",
   "execution_count": null,
   "id": "19d749f2",
   "metadata": {},
   "outputs": [],
   "source": []
  },
  {
   "cell_type": "code",
   "execution_count": null,
   "id": "ca8e4ebf",
   "metadata": {
    "vscode": {
     "languageId": "plaintext"
    }
   },
   "outputs": [],
   "source": []
  },
  {
   "cell_type": "markdown",
   "id": "8b0e850c",
   "metadata": {},
   "source": [
    "- **Input**: Mr Martin's assembled sequence\n",
    "- **Output**: \n",
    "    - Folder: /nfs/research/goldman/zihao/Datas/p2_comp_viridian/1_extract_sequence/\n",
    "- **Address**:\n",
    "```python\n",
    "/nfs/research/goldman/zihao/compViridian_2/1_extract_sequence/pg_for_extract.py\n",
    "```\n",
    "\n",
    "### Code block:\n",
    "###### Run the program\n",
    "```bash\n",
    "sh /nfs/research/goldman/zihao/compViridian_2/1_extract_sequence/bash_for_extract.sh\n",
    "```"
   ]
  },
  {
   "cell_type": "markdown",
   "id": "b1b7cdc5",
   "metadata": {},
   "source": [
    "## 1.2_Split_processing\n",
    "[Return to Catalog](#Catalog:)"
   ]
  },
  {
   "cell_type": "markdown",
   "id": "650a345a",
   "metadata": {},
   "source": [
    "- **Input**: \n",
    "```python\n",
    "/nfs/research/goldman/zihao/Datas/p2_comp_viridian/1_extract_sequence\n",
    "```\n",
    "- **Output**: \n",
    "```python\n",
    "/nfs/research/goldman/zihao/Datas/p2_comp_viridian/1_extract_sequence/split_files\n",
    "```\n",
    "- **Address**:\n",
    "```python\n",
    "/nfs/research/goldman/zihao/compViridian_2/1_extract_sequence/pg_for_extract_2.py\n",
    "```\n",
    "\n",
    "### Code block:\n",
    "###### Run the program\n",
    "```bash\n",
    "bsub -M 20000 -e /nfs/research/goldman/zihao/compViridian_2/1_extract_sequence/pg_for_extract_2_errorChecking_error.txt 'python3 /nfs/research/goldman/zihao/compViridian_2/1_extract_sequence/pg_for_extract_2.py'\n",
    "```"
   ]
  },
  {
   "cell_type": "markdown",
   "id": "b4ac6dde",
   "metadata": {},
   "source": [
    "---\n",
    "# 2. Data Processing\n",
    "\n",
    "## 2.1_Sequence_alignment\n",
    "[Return to Catalog](#Catalog:)\n",
    "\n",
    "### 1. Sequence alignment using MAFFT software\n",
    "- **Run the program**:\n",
    "```bash\n",
    "bsub sh /nfs/research/goldman/zihao/compViridian_2/2_alignment/Aligned.sh\n",
    "```\n",
    "\n",
    "### 2. split\n",
    "\n",
    "- **Address**: \n",
    "```python\n",
    "/nfs/research/goldman/zihao/errorsProject_1/Part1_2_for_assemble/Part2_Compare/2.MAPLE_part.py\n",
    "```\n",
    "\n",
    "\n",
    "- **Output**: \n",
    "```python\n",
    "save path: /nfs/research/goldman/zihao/Datas/p1/File_5_consensus/Decompress/Aligned_split_May\n",
    "```\n",
    "- **Run the program**:\n",
    "```bash\n",
    "sh bash_for_split_aligned.sh\n",
    "```"
   ]
  },
  {
   "cell_type": "markdown",
   "id": "9a19b3bb",
   "metadata": {},
   "source": [
    "## 2.2_Combine_into_one_DF\n",
    "[Return to Catalog](#Catalog:)"
   ]
  },
  {
   "cell_type": "markdown",
   "id": "1cfa3fb5",
   "metadata": {},
   "source": [
    "- **Input**: \n",
    "```python\n",
    "# Viridian version: \n",
    "/nfs/research/goldman/zihao/Datas/p2_comp_viridian/2_alignment/Aligned_split/\n",
    "# Colman version: \n",
    "/nfs/research/goldman/zihao/Datas/p1/File_5_consensus/Decompress/Aligned_split_May/\n",
    "```\n",
    "- **Output**: \n",
    "```python\n",
    "output path: /nfs/research/goldman/zihao/Datas/p2_comp_viridian/3_combination\n",
    "```\n",
    "- **Address**:\n",
    "```python\n",
    "/nfs/research/goldman/zihao/compViridian_2/3_combination/pg_combination.py\n",
    "```\n",
    "\n",
    "### Code block:\n",
    "###### Run the program\n",
    "```bash\n",
    "sh /nfs/research/goldman/zihao/compViridian_2/3_combination/bash_combination.sh\n",
    "```"
   ]
  },
  {
   "cell_type": "markdown",
   "id": "a38bc4e0",
   "metadata": {},
   "source": [
    "## 2.3_add_infomation(sb_af)\n",
    "[Return to Catalog](#Catalog:)"
   ]
  },
  {
   "cell_type": "markdown",
   "id": "c69f4d55",
   "metadata": {},
   "source": [
    "### Part1_for_all_pos\n",
    "- **Input**: \n",
    "```python\n",
    "'/nfs/research/goldman/zihao/Datas/p2_comp_viridian/3_combination/*.txt'\n",
    "```\n",
    "- **Output**:\n",
    "```python\n",
    "'/nfs/research/goldman/zihao/Datas/p2_comp_viridian/3.1_merge_sb_af/{id}.txt'\n",
    "```\n",
    "- **Address**:\n",
    "```python\n",
    "python: '/nfs/research/goldman/zihao/compViridian_2/3_combination/2_pg_merge_all_pos.py'\n",
    "bash: '/nfs/research/goldman/zihao/compViridian_2/3_combination/2_bash_merge_all_pos.sh'\n",
    "```\n",
    "\n",
    "### Code block:\n",
    "###### Run the program\n",
    "```bash\n",
    "sh /nfs/research/goldman/zihao/compViridian_2/3_combination/2_bash_merge_all_pos.sh\n",
    "```"
   ]
  },
  {
   "cell_type": "markdown",
   "id": "1e292f05",
   "metadata": {},
   "source": [
    "### Part2_for_err_pos\n",
    "- **Input**: \n",
    "```python\n",
    "# MAPLE's output: \n",
    "'/nfs/research/goldman/zihao/errorsProject_1/MAPLE/new_version_MAY/output_modified.txt'\n",
    "# Files to be processed: \n",
    "'/nfs/research/goldman/zihao/Datas/p2_comp_viridian/3.1_merge_sb_af/'\n",
    "```\n",
    "- **Output**: \n",
    "```python\n",
    "'/nfs/research/goldman/zihao/Datas/p2_comp_viridian/4_pourcentage/err_pos_output_data.txt'\n",
    "```\n",
    "- **Address**:\n",
    "```python\n",
    "/nfs/research/goldman/zihao/compViridian_2/3_combination/2_pg_merge_err_pos.py\n",
    "```\n",
    "\n",
    "### Code block:\n",
    "###### Run the program\n",
    "```bash\n",
    "bsub -M 2000 -e /nfs/research/goldman/zihao/compViridian_2/3_combination/2_pg_merge_err_pos_errorChecking_error.txt 'python3 /nfs/research/goldman/zihao/compViridian_2/3_combination/2_pg_merge_err_pos.py'\n",
    "```"
   ]
  },
  {
   "cell_type": "markdown",
   "id": "7dd2609c",
   "metadata": {},
   "source": [
    "## 3_calculate_percentage\n",
    "[Return to Catalog](#Catalog:)"
   ]
  },
  {
   "cell_type": "markdown",
   "id": "de857a30",
   "metadata": {},
   "source": [
    "### Part1_for_all_pos"
   ]
  },
  {
   "cell_type": "markdown",
   "id": "c68e0fa5",
   "metadata": {},
   "source": [
    "```bash\n",
    "sh /nfs/research/goldman/zihao/compViridian_2/4_pourcentage/1_calculate_for_all_pos.sh\n",
    "```\n",
    "## Or enter the commends step by step"
   ]
  },
  {
   "cell_type": "markdown",
   "id": "8d3bdd2b",
   "metadata": {},
   "source": [
    "### 1.For venn chart\n",
    "\n",
    "##### diff\n",
    "```bash\n",
    "bsub -M 2000 -e /nfs/research/goldman/zihao/compViridian_2/4_pourcentage/Venn_diff_all_pos_errorChecking_error.txt -o /nfs/research/goldman/zihao/Datas/p2_comp_viridian/4_pourcentage/result_for_all_pos_JUNE_diff.txt 'python3 /nfs/research/goldman/zihao/compViridian_2/4_pourcentage/1.2.1_For_venn_diff.py'\n",
    "```\n",
    "##### masked\n",
    "```bash\n",
    "bsub -M 2000 -e /nfs/research/goldman/zihao/compViridian_2/4_pourcentage/Venn_masked_all_pos_errorChecking_error.txt -o /nfs/research/goldman/zihao/Datas/p2_comp_viridian/4_pourcentage/result_for_all_pos_JUNE_masked.txt 'python3 /nfs/research/goldman/zihao/compViridian_2/4_pourcentage/1.2.2_For_venn_masked.py'\n",
    "```\n",
    "##### same\n",
    "```bash\n",
    "bsub -M 2000 -e /nfs/research/goldman/zihao/compViridian_2/4_pourcentage/Venn_same_all_pos_errorChecking_error.txt -o /nfs/research/goldman/zihao/Datas/p2_comp_viridian/4_pourcentage/result_for_all_pos_JUNE_same.txt 'python3 /nfs/research/goldman/zihao/compViridian_2/4_pourcentage/1.2.3_For_venn_same.py'\n",
    "```"
   ]
  },
  {
   "cell_type": "markdown",
   "id": "64fb6827",
   "metadata": {},
   "source": [
    "### 2.For pie chart\n",
    "```bash\n",
    "bsub -M 2000 -e /nfs/research/goldman/zihao/compViridian_2/4_pourcentage/Pie_all_pos_errorChecking_error.txt -o /nfs/research/goldman/zihao/Datas/p2_comp_viridian/4_pourcentage/result_for_all_pos_JUNE.txt 'python3 /nfs/research/goldman/zihao/compViridian_2/4_pourcentage/1.1_Calculate_percentage_all_pos.py'\n",
    "```"
   ]
  },
  {
   "cell_type": "markdown",
   "id": "5156bda6",
   "metadata": {},
   "source": [
    "### Part2_for_err_pos\n",
    "======================> 4.2_For_err_pos.ipy"
   ]
  }
 ],
 "metadata": {
  "kernelspec": {
   "display_name": "Python 3 (ipykernel)",
   "language": "python",
   "name": "python3"
  },
  "language_info": {
   "codemirror_mode": {
    "name": "ipython",
    "version": 3
   },
   "file_extension": ".py",
   "mimetype": "text/x-python",
   "name": "python",
   "nbconvert_exporter": "python",
   "pygments_lexer": "ipython3",
   "version": "3.11.3"
  }
 },
 "nbformat": 4,
 "nbformat_minor": 5
}
