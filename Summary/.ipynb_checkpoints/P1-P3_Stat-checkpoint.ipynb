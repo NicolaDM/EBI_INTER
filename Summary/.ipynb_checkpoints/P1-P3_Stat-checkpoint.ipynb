{
 "cells": [
  {
   "cell_type": "markdown",
   "id": "f3a0abf7",
   "metadata": {},
   "source": [
    "# <center>Statistical information</center>"
   ]
  },
  {
   "cell_type": "markdown",
   "id": "e5a9fce7",
   "metadata": {},
   "source": [
    "### MAPLE alignment files for Viridian and Colman’s datasets\n",
    "- Total number of samples: 136343\n",
    "```python\n",
    "path/to/Viridian = /nfs/research/goldman/zihao/Datas/p2_comp_viridian/2_alignment/Aligned_split\n",
    "\n",
    "path/to/Colman = /nfs/research/goldman/zihao/Datas/p1/File_5_consensus/Decompress/Aligned_split_July_for_MAPLE\n",
    "```\n",
    "##### i) RUN-MAPLE_ForViridian:\n",
    "```bash\n",
    "bsub -g /MapleRealErrors_3 -q long -M 40000 \n",
    "-o /nfs/research/goldman/zihao/compViridian_2_P2/MAPLE_Part/For_vir/MAPLE_realData_errorChecking_output_vir.txt \n",
    "-e /nfs/research/goldman/zihao/compViridian_2_P2/MAPLE_Part/For_vir/MAPLE_realData_errorChecking_error_vir.txt \n",
    "/hps/software/users/goldman/pypy3/pypy3.7-v7.3.5-linux64/bin/pypy3 /nfs/research/goldman/demaio/fastLK/code/MAPLEv0.3.2.py \n",
    "--model UNREST --rateVariation --estimateSiteSpecificErrorRate \n",
    "--input /nfs/research/goldman/zihao/Datas/p2_comp_viridian/2_alignment/Vir_MAPLE_format_consensuses.txt \n",
    "--overwrite --estimateErrors --calculateLKfinalTree \n",
    "--output /nfs/research/goldman/zihao/compViridian_2_P2/MAPLE_Part/For_vir/MAPLE0.3.2_rateVar_errors_realData_checkingErrors_vir\n",
    "```\n",
    "```python\n",
    "### Modify Output\n",
    "path/to/VIR_output_modified = \"/nfs/research/goldman/zihao/Datas/p2_compViridian_P3/Folder_mapleOutput/VIR_output_modified.txt\"\n",
    "```\n",
    "##### ii) RUN-MAPLE_ForColman:\n",
    "```bash\n",
    "bsub -g /MapleRealErrors_3 -q long -M 40000 -o /nfs/research/goldman/zihao/compViridian_2_P2/MAPLE_Part/For_col/MAPLE_errorChecking_output_col.txt -e /nfs/research/goldman/zihao/compViridian_2_P2/MAPLE_Part/For_col/MAPLE_errorChecking_error_col.txt /hps/software/users/goldman/pypy3/pypy3.7-v7.3.5-linux64/bin/pypy3 /nfs/research/goldman/demaio/fastLK/code/MAPLEv0.3.2.py --model UNREST --rateVariation --estimateSiteSpecificErrorRate --input /nfs/research/goldman/zihao/Datas/p2_comp_viridian/2_alignment/Col_MAPLE_format_consensuses.txt --overwrite --estimateErrors --calculateLKfinalTree --output /nfs/research/goldman/zihao/compViridian_2_P2/MAPLE_Part/For_col/MAPLE0.3.2_rateVar_checkingErrors_col\n",
    "```\n",
    "```python\n",
    "### Modify Output\n",
    "path/to/COL_output_modified = \"/nfs/research/goldman/zihao/Datas/p2_compViridian_P3/Folder_mapleOutput/COL_output_modified.txt\"\n",
    "```"
   ]
  },
  {
   "cell_type": "markdown",
   "id": "23eaa737",
   "metadata": {},
   "source": [
    "# 1.For_P1\n",
    "\n",
    "=========================== information ===========================  \n",
    "The number of samples is: 134879/136343\n",
    "\n",
    "- Missing IDs for CovFileProcessor: 1444 have been logged at \n",
    "```python\n",
    "/nfs/research/goldman/zihao/Datas/p1_errorsProject_NEW/Folder_dataProcessing/Folder_Allpos_missingID/missing_ids_cov.txt\n",
    "```\n",
    "- Missing IDs for AnnotDataProcessor: 20 have been logged at \n",
    "```python\n",
    "/nfs/research/goldman/zihao/Datas/p1_errorsProject_NEW/Folder_dataProcessing/Folder_Allpos_missingID/missing_ids_annot.txt\n",
    "```"
   ]
  },
  {
   "cell_type": "markdown",
   "id": "7d574d2e",
   "metadata": {},
   "source": [
    "# 2.For_P2\n",
    "\n",
    "================ Stat for annot ================  \n",
    "The number of missing IDs for Annot is: 20  \n",
    "/nfs/research/goldman/zihao/Datas/p2_comp_viridian/Folder_3_mergeINFO/missing_ann_ids.txt  \n",
    "================ Stat for cov ================  \n",
    "The number of missing IDs for COV is: 1444  \n",
    "/nfs/research/goldman/zihao/Datas/p2_comp_viridian/Folder_3_mergeINFO/missing_cov_ids.txt  \n",
    "================ Stat total ================  \n",
    "The total number of missing IDs is: 1464\n",
    "\n",
    "Sample size: 136343 - 1464 = 134879/136343"
   ]
  },
  {
   "cell_type": "markdown",
   "id": "a486f887",
   "metadata": {},
   "source": [
    "# 3.For_P3\n",
    "\n",
    "Sample size: 136343 |**No loss**| (No merge operation)\n",
    "```python\n",
    "output_dir = '/nfs/research/goldman/zihao/Datas/p2_compViridian_P3/folderData_addError'\n",
    "not_found_ids_file = '/nfs/research/goldman/zihao/Datas/p2_compViridian_P3/notFound_idsError.txt'\n",
    "```"
   ]
  }
 ],
 "metadata": {
  "kernelspec": {
   "display_name": "Python 3 (ipykernel)",
   "language": "python",
   "name": "python3"
  },
  "language_info": {
   "codemirror_mode": {
    "name": "ipython",
    "version": 3
   },
   "file_extension": ".py",
   "mimetype": "text/x-python",
   "name": "python",
   "nbconvert_exporter": "python",
   "pygments_lexer": "ipython3",
   "version": "3.11.3"
  }
 },
 "nbformat": 4,
 "nbformat_minor": 5
}
