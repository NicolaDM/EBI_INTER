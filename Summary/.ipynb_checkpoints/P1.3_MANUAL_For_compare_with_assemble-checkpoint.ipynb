{
 "cells": [
  {
   "cell_type": "markdown",
   "id": "5573854f",
   "metadata": {},
   "source": [
    "## <center>Comparison of original and assembled versions</center>\n",
    "##### <center>MANUAL</center>\n",
    "\n",
    "\n",
    "\n",
    "| **Label** | **start time** | **finish time** | **last modified** |\n",
    "|:--------------:|:-----------:|:-----------:|:----------------:|\n",
    "|   Project 1   |  2023-05-16 |  2023-05-31 |   2023-06-01     |"
   ]
  },
  {
   "cell_type": "markdown",
   "id": "a9f98739",
   "metadata": {},
   "source": [
    "# <center>Catalog:</center>\n",
    "- 1. Data Preparation\n",
    "    - 1.1 [Extract assembled sequences](#1.1_Extract_assembled_sequences)\n",
    "    - 1.2 [Screening of MAPLE-treated samples](#1.2_Screen_of_MAPLE-treated_samples)\n",
    "\n",
    "&nbsp;\n",
    "\n",
    "- 2. Data Processing\n",
    "    - 2.1 [Sequence alignment](#2.1_Sequence_alignment)\n",
    "    - 2.2 [Combine into one DF](#2.2_Combine_into_one_DF)\n",
    "    - 2.3 [Calculate percentage](#2.3_calculate_percentage)"
   ]
  },
  {
   "cell_type": "markdown",
   "id": "9846a69b",
   "metadata": {},
   "source": [
    "---\n",
    "# 1. Data Preparation\n",
    "## 1.1_Extract_assembled_sequences\n",
    "[Return to Catalog](#Catalog:)"
   ]
  },
  {
   "cell_type": "markdown",
   "id": "8b0e850c",
   "metadata": {},
   "source": [
    "- **Input**: Mr Martin's assembled sequence\n",
    "- **Output**: \n",
    "    - /nfs/research/goldman/zihao/Datas/p1/Part1_2_for_assemble_data/output_D_new.txt\n",
    "    - /nfs/research/goldman/zihao/Datas/p1/Part1_2_for_assemble_data/output_S_new.txt\n",
    "    - /nfs/research/goldman/zihao/Datas/p1/Part1_2_for_assemble_data/output_E_new.txt\n",
    "- **Address**:\n",
    "```python\n",
    "/nfs/research/goldman/zihao/errorsProject_1/Part1_2_for_assemble/1_Extract_Sequence_new.py\n",
    "```\n",
    "\n",
    "### Code block:\n",
    "###### Run the program\n",
    "```bash\n",
    "sh /nfs/research/goldman/zihao/errorsProject_1/Part1_2_for_assemble/bash_extract_sequence.sh\n",
    "```"
   ]
  },
  {
   "cell_type": "markdown",
   "id": "b1b7cdc5",
   "metadata": {},
   "source": [
    "## 1.2_Screen_of_MAPLE-treated_samples\n",
    "[Return to Catalog](#Catalog:)"
   ]
  },
  {
   "cell_type": "markdown",
   "id": "650a345a",
   "metadata": {},
   "source": [
    "- **Input**: Mr Martin's assembled sequence\n",
    "- **Output**: \n",
    "    - /nfs/research/goldman/zihao/Datas/p1/Part1_2_for_assemble_data/output_S/all_files_combined.fasta\n",
    "    - /nfs/research/goldman/zihao/Datas/p1/Part1_2_for_assemble_data/output_E/all_files_combined.fasta\n",
    "    - /nfs/research/goldman/zihao/Datas/p1/Part1_2_for_assemble_data/output_D/all_files_combined.fasta\n",
    "- **Address**:\n",
    "```python\n",
    "/nfs/research/goldman/zihao/errorsProject_1/Part1_2_for_assemble/1.2_Filter_For_D.py\n",
    "/nfs/research/goldman/zihao/errorsProject_1/Part1_2_for_assemble/1.2_Filter_For_S.py\n",
    "/nfs/research/goldman/zihao/errorsProject_1/Part1_2_for_assemble/1.2_Filter_For_E.py\n",
    "```\n",
    "\n",
    "### Code block:\n",
    "###### Run the program\n",
    "```bash\n",
    "bsub -M 2000 -e /nfs/research/goldman/zihao/errorsProject_1/Part1_2_for_assemble/1.2_Filter_For_D_errorChecking_error.txt 'python3 /nfs/research/goldman/zihao/errorsProject_1/Part1_2_for_assemble/1.2_Filter_For_D.py'\n",
    "\n",
    "bsub -M 2000 -e /nfs/research/goldman/zihao/errorsProject_1/Part1_2_for_assemble/1.2_Filter_For_S_errorChecking_error.txt 'python3 /nfs/research/goldman/zihao/errorsProject_1/Part1_2_for_assemble/1.2_Filter_For_S.py'\n",
    "\n",
    "bsub -M 2000 -e /nfs/research/goldman/zihao/errorsProject_1/Part1_2_for_assemble/1.2_Filter_For_E_errorChecking_error.txt 'python3 /nfs/research/goldman/zihao/errorsProject_1/Part1_2_for_assemble/1.2_Filter_For_E.py'\n",
    "```"
   ]
  },
  {
   "cell_type": "markdown",
   "id": "b4ac6dde",
   "metadata": {},
   "source": [
    "---\n",
    "# 2. Data Processing\n",
    "\n",
    "## 2.1_Sequence_alignment\n",
    "[Return to Catalog](#Catalog:)\n",
    "\n",
    "### Code block:\n",
    "###### Run the program\n",
    "### 1. split\n",
    "\n",
    "#### P1. Origin_version\n",
    "- **Address**: \n",
    "```python\n",
    "/nfs/research/goldman/zihao/errorsProject_1/Part1_2_for_assemble/Part2_Compare/2.MAPLE_part.py\n",
    "```\n",
    "\n",
    "```bash\n",
    "sh bash_MAPLE_part.sh\n",
    "```\n",
    "- **Output**: \n",
    "```python\n",
    "save path: /nfs/research/goldman/zihao/Datas/p1/File_5_consensus/Decompress/Aligned_split_May\n",
    "```\n",
    "#### P2. Martin_version\n",
    "```bash\n",
    "bsub -M 2000 -e /nfs/research/goldman/zihao/errorsProject_1/Part1_2_for_assemble/Part2_Compare/2_Martin_part_E_errorChecking_error.txt 'python3 /nfs/research/goldman/zihao/errorsProject_1/Part1_2_for_assemble/Part2_Compare/2.Martin_for_E.py'\n",
    "```\n",
    "\n",
    "```bash\n",
    "bsub -M 2000 -e /nfs/research/goldman/zihao/errorsProject_1/Part1_2_for_assemble/Part2_Compare/2_Martin_part_S_errorChecking_error.txt 'python3 /nfs/research/goldman/zihao/errorsProject_1/Part1_2_for_assemble/Part2_Compare/2.Martin_for_S.py'\n",
    "```\n",
    "- **Output**: \n",
    "```python\n",
    "save path: /nfs/research/goldman/zihao/Datas/p1/Part1_2_for_assemble_data/Aligned_split_May\n",
    "```\n",
    "### 2. Sequence alignment using MAFFT software\n",
    "```bash\n",
    "bsub sh /nfs/research/goldman/zihao/errorsProject_1/Part1_2_for_assemble/Aligned.sh\n",
    "```"
   ]
  },
  {
   "cell_type": "markdown",
   "id": "9a19b3bb",
   "metadata": {},
   "source": [
    "## 2.2_Combine_into_one_DF\n",
    "[Return to Catalog](#Catalog:)"
   ]
  },
  {
   "cell_type": "markdown",
   "id": "1cfa3fb5",
   "metadata": {},
   "source": [
    "- **Input**: \n",
    "```python\n",
    "Original version: \"/nfs/research/goldman/zihao/Datas/p1/Part1_2_for_assemble_data/Aligned_split_May/\"\n",
    "Assembled version: \"/nfs/research/goldman/zihao/Datas/p1/File_5_consensus/Decompress/Aligned_split_May/\"\n",
    "```\n",
    "- **Output**: \n",
    "```python\n",
    "output path: /nfs/research/goldman/zihao/Datas/p1/Part1_2_for_assemble_data/2_combination\n",
    "```\n",
    "- **Address**:\n",
    "```python\n",
    "/nfs/research/goldman/zihao/errorsProject_1/Part1_2_for_assemble/Part2_Compare/2.2_combination_new.py\n",
    "```\n",
    "\n",
    "### Code block:\n",
    "###### Run the program\n",
    "```bash\n",
    "bsub -M 2000 -e /nfs/research/goldman/zihao/errorsProject_1/Part1_2_for_assemble/Part2_Compare/2.2_combination_errorChecking_error.txt 'python3 /nfs/research/goldman/zihao/errorsProject_1/Part1_2_for_assemble/Part2_Compare/2.2_combination.py'\n",
    "\n",
    "///\n",
    "\n",
    "sh /nfs/research/goldman/zihao/errorsProject_1/Part1_2_for_assemble/Part2_Compare/bash_combination.sh\n",
    "```"
   ]
  },
  {
   "cell_type": "markdown",
   "id": "7dd2609c",
   "metadata": {},
   "source": [
    "## 2.3_calculate_percentage\n",
    "[Return to Catalog](#Catalog:)"
   ]
  },
  {
   "cell_type": "markdown",
   "id": "de857a30",
   "metadata": {},
   "source": [
    "### Part1_for_all_pos"
   ]
  },
  {
   "cell_type": "markdown",
   "id": "62ad7fbc",
   "metadata": {},
   "source": [
    "- **Input**: \n",
    "```python\n",
    "\"/nfs/research/goldman/zihao/Datas/p1/Part1_2_for_assemble_data/2_combination\n",
    "```\n",
    "- **Output**: \n",
    "```python\n",
    "/nfs/research/goldman/zihao/Datas/p1/Part1_2_for_assemble_data/2.3_calculate_percentage/result_for_all_pos.txt\n",
    "```\n",
    "- **Address**:\n",
    "```python\n",
    "/nfs/research/goldman/zihao/errorsProject_1/Part1_2_for_assemble/Part2_Compare/2.3_Calculate_percentage_all_pos.py\n",
    "```\n",
    "\n",
    "### Code block:\n",
    "###### Run the program\n",
    "\n",
    "```bash\n",
    "bsub -M 2000 -e /nfs/research/goldman/zihao/errorsProject_1/Part1_2_for_assemble/Part2_Compare/2.3_Calculate_percentage_all_pos_errorChecking_error.txt -o /nfs/research/goldman/zihao/Datas/p1/Part1_2_for_assemble_data/2.3_calculate_percentage/result_for_all_pos.txt 'python3 /nfs/research/goldman/zihao/errorsProject_1/Part1_2_for_assemble/Part2_Compare/2.3_Calculate_percentage_all_pos.py'\n",
    "```"
   ]
  },
  {
   "cell_type": "markdown",
   "id": "c155bfca",
   "metadata": {},
   "source": [
    "### Part2_for_err_pos"
   ]
  },
  {
   "cell_type": "markdown",
   "id": "95229921",
   "metadata": {},
   "source": [
    "- **Input**: \n",
    "```python\n",
    "MAPLE's output: '/nfs/research/goldman/zihao/errorsProject_1/MAPLE/new_version_MAY/output_modified.txt'\n",
    "Files to be processed: \"/nfs/research/goldman/zihao/Datas/p1/Part1_2_for_assemble_data/2_combination\"\n",
    "```\n",
    "- **Output**: \n",
    "```python\n",
    "/nfs/research/goldman/zihao/Datas/p1/Part1_2_for_assemble_data/2.3_calculate_percentage/result_for_err_pos.txt \n",
    "\n",
    "and\n",
    "\n",
    "/nfs/research/goldman/zihao/Datas/p1/Part1_2_for_assemble_data/2.3_calculate_percentage/err_pos_output_data.txt\n",
    "```\n",
    "- **Address**:\n",
    "```python\n",
    "/nfs/research/goldman/zihao/errorsProject_1/Part1_2_for_assemble/Part2_Compare/2.3_Calculate_percentage_err_pos.py\n",
    "```\n",
    "\n",
    "### Code block:\n",
    "###### Run the program\n",
    "```bash\n",
    "bsub -M 2000 -e /nfs/research/goldman/zihao/errorsProject_1/Part1_2_for_assemble/Part2_Compare/2.3_Calculate_percentage_err_pos_errorChecking_error.txt -o /nfs/research/goldman/zihao/Datas/p1/Part1_2_for_assemble_data/2.3_calculate_percentage/result_for_err_pos.txt 'python3 /nfs/research/goldman/zihao/errorsProject_1/Part1_2_for_assemble/Part2_Compare/2.3_Calculate_percentage_err_pos.py'\n",
    "```"
   ]
  }
 ],
 "metadata": {
  "kernelspec": {
   "display_name": "Python 3 (ipykernel)",
   "language": "python",
   "name": "python3"
  },
  "language_info": {
   "codemirror_mode": {
    "name": "ipython",
    "version": 3
   },
   "file_extension": ".py",
   "mimetype": "text/x-python",
   "name": "python",
   "nbconvert_exporter": "python",
   "pygments_lexer": "ipython3",
   "version": "3.10.9"
  }
 },
 "nbformat": 4,
 "nbformat_minor": 5
}
