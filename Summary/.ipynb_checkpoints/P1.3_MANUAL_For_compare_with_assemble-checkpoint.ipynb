{
 "cells": [
  {
   "cell_type": "markdown",
   "id": "5573854f",
   "metadata": {},
   "source": [
    "## <center>Comparison of original and assembled versions</center>\n",
    "##### <center>MANUAL</center>\n",
    "\n",
    "\n",
    "\n",
    "| **Label** | **start time** | **finish time** | **last modified** |\n",
    "|:--------------:|:-----------:|:-----------:|:----------------:|\n",
    "|   Project 1   |  2023-05-16 |  2023-05-31 |   2023-05-31     |"
   ]
  },
  {
   "cell_type": "markdown",
   "id": "a9f98739",
   "metadata": {},
   "source": [
    "# <center>Catalog:</center>\n",
    "- 1. [Process output](#1.Process_MAPLE_output)\n",
    "\n",
    "&nbsp;\n",
    "\n",
    "- 2. [Data processing for Converage](#2.Data_processing_for_Converage)\n",
    "    - [1) Decompress and save coverage](#1.Decompress_and_save_coverage)\n",
    "    - [2.1) Processing for error positions](#2.1_Processing_for_error_pos_of_Cov)\n",
    "    - [2.2) Processing for all positions](#2.2_Processing_for_all_pos_of_Cov)\n",
    "        - [2.2.1) Sampling for all positions](#2.2.1_Sampling_of_all_positions_cov)\n",
    "\n",
    "&nbsp;\n",
    "\n",
    "- 3. [Data processing for Annot](#3.Data_processing_for_Annot)\n",
    "    - [1) Decompress and save coverage](#1.Decompress_and_save_Annot)\n",
    "    - [2.1) Processing for error positions](#2.1_Processing_for_error_pos_of_Annot)\n",
    "    - [2.2) Processing for all positions](#2.2_Processing_for_all_pos_of_Annot)\n",
    "        - [2.2.1) Sampling for all positions](#2.2.1_Sampling_of_all_positions)\n",
    "\n",
    "&nbsp;\n",
    "\n",
    "- 4. [Visualization](#4.Visualization)\n",
    "    - [1) Density Chart](#1.Density_chart_(python))\n",
    "    - [2) Venn Chart](#2.Venn_chart_(R))"
   ]
  },
  {
   "cell_type": "markdown",
   "id": "9846a69b",
   "metadata": {},
   "source": [
    "---\n",
    "## 1_Extract_assembled_sequences\n",
    "[Return to Catalog](#Catalog:)"
   ]
  },
  {
   "cell_type": "markdown",
   "id": "8b0e850c",
   "metadata": {},
   "source": [
    "- **Idea**: Extracting the assembled sequence\n",
    "- **Input**: Mr Martin's assembled sequence\n",
    "- **Output**: \n",
    "    - /nfs/research/goldman/zihao/Datas/p1/Part1_2_for_assemble_data/output_D_new.txt\n",
    "    - /nfs/research/goldman/zihao/Datas/p1/Part1_2_for_assemble_data/output_S_new.txt\n",
    "    - /nfs/research/goldman/zihao/Datas/p1/Part1_2_for_assemble_data/output_E_new.txt\n",
    "- **Address**:\n",
    "```python\n",
    "/nfs/research/goldman/zihao/errorsProject_1/Part1_2_for_assemble/1_Extract_Sequence_new.py\n",
    "```\n",
    "\n",
    "### Code block:\n",
    "###### Run the program\n",
    "```bash\n",
    "sh /nfs/research/goldman/zihao/errorsProject_1/Part1_2_for_assemble/bash_extract_sequence.sh\n",
    "```"
   ]
  },
  {
   "cell_type": "markdown",
   "id": "a803ee76",
   "metadata": {},
   "source": [
    "在递归扫描文件夹时依次进入子文件夹，并在进入 vdn.v1.0.0 文件夹后读取其中的 consensus.fa.gz 文件并写入文本\n",
    "\n",
    "在这个更新后的示例代码中，我们使用了递归函数 process_folder，对于每个文件夹，我们首先列出其中的子文件夹，并在循环中对子文件夹进行处理。\n",
    "\n",
    "在处理每个子文件夹时，如果子文件夹的名称是 vdn.v1.0.0，我们构建 consensus.fa.gz 文件的路径并检查其是否存在。如果文件存在，我们使用 gzip.open 打开文件，并以文本模式 'rt' 进行读取。然后将文件内容写入输出文件中。\n",
    "\n",
    "如果子文件夹的名称不是 vdn.v1.0.0，我们递归调用 process_folder 函数，传递子文件夹路径和输出文件作为参数，以处理子文件夹中的子文件夹。\n",
    "\n",
    "======================================\n",
    "\n",
    "\n",
    "\n",
    "\n",
    "\n",
    "在这个修改后的代码中，我添加了一个名为 output_files 的列表，其中包含三个输出文件的路径，分别对应于D、S和E文件夹的结果。\n",
    "\n",
    "在主程序的主循环中，我们使用 enumerate 函数同时迭代 folders 列表中的文件夹名称，并获取对应的输出文件路径。然后，我们使用 with open 语句打开输出文件，并将文件路径作为参数传递给 process_folder 函数。\n",
    "\n",
    "这样，process_folder 函数将会将相应文件夹的结果写入正确的输出文件中。"
   ]
  },
  {
   "cell_type": "markdown",
   "id": "b1b7cdc5",
   "metadata": {},
   "source": [
    "## 1.2_Filter"
   ]
  },
  {
   "cell_type": "markdown",
   "id": "650a345a",
   "metadata": {},
   "source": [
    "```bash\n",
    "bsub -M 20000 -e /nfs/research/goldman/zihao/errorsProject_1/Part1_2_for_assemble/1.2_Filter_For_D_errorChecking_error.txt 'python3 /nfs/research/goldman/zihao/errorsProject_1/Part1_2_for_assemble/1.2_Filter_For_D.py'\n",
    "\n",
    "bsub -M 20000 -e /nfs/research/goldman/zihao/errorsProject_1/Part1_2_for_assemble/1.2_Filter_For_S_errorChecking_error.txt 'python3 /nfs/research/goldman/zihao/errorsProject_1/Part1_2_for_assemble/1.2_Filter_For_S.py'\n",
    "\n",
    "bsub -M 20000 -e /nfs/research/goldman/zihao/errorsProject_1/Part1_2_for_assemble/1.2_Filter_For_E_errorChecking_error.txt 'python3 /nfs/research/goldman/zihao/errorsProject_1/Part1_2_for_assemble/1.2_Filter_For_E.py'\n",
    "```"
   ]
  },
  {
   "cell_type": "markdown",
   "id": "b4ac6dde",
   "metadata": {},
   "source": [
    "## 1.2_Sequence_alignment\n",
    "\n",
    "#### 1. split"
   ]
  },
  {
   "cell_type": "markdown",
   "id": "548ac7d2",
   "metadata": {},
   "source": [
    "```bash\n",
    "bsub sh /nfs/research/goldman/zihao/errorsProject_1/Part1_2_for_assemble/Aligned.sh\n",
    "```"
   ]
  },
  {
   "cell_type": "markdown",
   "id": "db49d73d",
   "metadata": {},
   "source": [
    "#### 1. Origin\n",
    "```bash\n",
    "sh bash_MAPLE_part.sh\n",
    "```\n",
    "```python\n",
    "save path: /nfs/research/goldman/zihao/Datas/p1/File_5_consensus/Decompress/Aligned_split_May\n",
    "```"
   ]
  },
  {
   "cell_type": "markdown",
   "id": "04a05c78",
   "metadata": {},
   "source": [
    "#### 2. Martin"
   ]
  },
  {
   "cell_type": "markdown",
   "id": "96b591cc",
   "metadata": {},
   "source": [
    "```bash\n",
    "bsub -M 2000 -e /nfs/research/goldman/zihao/errorsProject_1/Part1_2_for_assemble/Part2_Compare/2_Martin_part_E_errorChecking_error.txt 'python3 /nfs/research/goldman/zihao/errorsProject_1/Part1_2_for_assemble/Part2_Compare/2.Martin_for_E.py'\n",
    "```\n",
    "\n",
    "```bash\n",
    "bsub -M 2000 -e /nfs/research/goldman/zihao/errorsProject_1/Part1_2_for_assemble/Part2_Compare/2_Martin_part_S_errorChecking_error.txt 'python3 /nfs/research/goldman/zihao/errorsProject_1/Part1_2_for_assemble/Part2_Compare/2.Martin_for_S.py'\n",
    "```\n",
    "\n",
    "```python\n",
    "save path: /nfs/research/goldman/zihao/Datas/p1/Part1_2_for_assemble_data/Aligned_split_May\n",
    "```"
   ]
  },
  {
   "cell_type": "markdown",
   "id": "8f1ffe66",
   "metadata": {},
   "source": [
    "---\n",
    "## 2.1_????????????"
   ]
  },
  {
   "cell_type": "markdown",
   "id": "9a19b3bb",
   "metadata": {},
   "source": [
    "## 2.2_Combine into one DF"
   ]
  },
  {
   "cell_type": "markdown",
   "id": "295138c6",
   "metadata": {},
   "source": [
    "```python\n",
    "output path: /nfs/research/goldman/zihao/Datas/p1/Part1_2_for_assemble_data/2_combination\n",
    "```"
   ]
  },
  {
   "cell_type": "markdown",
   "id": "1cfa3fb5",
   "metadata": {},
   "source": [
    "### Final version!!!\n",
    "```bash\n",
    "bsub -M 2000 -e /nfs/research/goldman/zihao/errorsProject_1/Part1_2_for_assemble/Part2_Compare/2.2_combination_errorChecking_error.txt 'python3 /nfs/research/goldman/zihao/errorsProject_1/Part1_2_for_assemble/Part2_Compare/2.2_combination.py'\n",
    "```"
   ]
  },
  {
   "cell_type": "markdown",
   "id": "7dd2609c",
   "metadata": {},
   "source": [
    "## 2.3_calculate percentage"
   ]
  },
  {
   "cell_type": "markdown",
   "id": "de857a30",
   "metadata": {},
   "source": [
    "### Part1_for_all_pos"
   ]
  },
  {
   "cell_type": "markdown",
   "id": "62ad7fbc",
   "metadata": {},
   "source": [
    "- **Idea**: ?????????????????\n",
    "- **Input**: ?????????????????\n",
    "- **Output**: \n",
    "```python\n",
    "/nfs/research/goldman/zihao/Datas/p1/Part1_2_for_assemble_data/2.3_calculate_percentage/result_for_all_pos.txt\n",
    "```\n",
    "- **Address**:\n",
    "```python\n",
    "/nfs/research/goldman/zihao/errorsProject_1/Part1_2_for_assemble/Part2_Compare/2.3_Calculate_percentage_all_pos.py\n",
    "```\n",
    "\n",
    "### Code block:\n",
    "###### Run the program\n",
    "\n",
    "```bash\n",
    "bsub -M 2000 -e /nfs/research/goldman/zihao/errorsProject_1/Part1_2_for_assemble/Part2_Compare/2.3_Calculate_percentage_all_pos_errorChecking_error.txt -o /nfs/research/goldman/zihao/Datas/p1/Part1_2_for_assemble_data/2.3_calculate_percentage/result_for_all_pos.txt 'python3 /nfs/research/goldman/zihao/errorsProject_1/Part1_2_for_assemble/Part2_Compare/2.3_Calculate_percentage_all_pos.py'\n",
    "```"
   ]
  },
  {
   "cell_type": "markdown",
   "id": "c155bfca",
   "metadata": {},
   "source": [
    "### Part2_for_err_pos"
   ]
  },
  {
   "cell_type": "markdown",
   "id": "95229921",
   "metadata": {},
   "source": [
    "- **Idea**: ?????????????????\n",
    "- **Input**: ?????????????????\n",
    "- **Output**: \n",
    "```python\n",
    "/nfs/research/goldman/zihao/Datas/p1/Part1_2_for_assemble_data/2.3_calculate_percentage/result_for_err_pos.txt \n",
    "\n",
    "and\n",
    "\n",
    "/nfs/research/goldman/zihao/Datas/p1/Part1_2_for_assemble_data/2.3_calculate_percentage/err_pos_output_data.txt\n",
    "```\n",
    "- **Address**:\n",
    "```python\n",
    "/nfs/research/goldman/zihao/errorsProject_1/Part1_2_for_assemble/Part2_Compare/2.3_Calculate_percentage_err_pos.py\n",
    "```\n",
    "\n",
    "### Code block:\n",
    "###### Run the program\n",
    "```bash\n",
    "bsub -M 2000 -e /nfs/research/goldman/zihao/errorsProject_1/Part1_2_for_assemble/Part2_Compare/2.3_Calculate_percentage_err_pos_errorChecking_error.txt -o /nfs/research/goldman/zihao/Datas/p1/Part1_2_for_assemble_data/2.3_calculate_percentage/result_for_err_pos.txt 'python3 /nfs/research/goldman/zihao/errorsProject_1/Part1_2_for_assemble/Part2_Compare/2.3_Calculate_percentage_err_pos.py'\n",
    "```"
   ]
  }
 ],
 "metadata": {
  "kernelspec": {
   "display_name": "Python 3 (ipykernel)",
   "language": "python",
   "name": "python3"
  },
  "language_info": {
   "codemirror_mode": {
    "name": "ipython",
    "version": 3
   },
   "file_extension": ".py",
   "mimetype": "text/x-python",
   "name": "python",
   "nbconvert_exporter": "python",
   "pygments_lexer": "ipython3",
   "version": "3.10.9"
  }
 },
 "nbformat": 4,
 "nbformat_minor": 5
}
