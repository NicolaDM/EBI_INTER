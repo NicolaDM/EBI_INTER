{
 "cells": [
  {
   "cell_type": "markdown",
   "id": "7581129e",
   "metadata": {},
   "source": [
    "## TODO：\n",
    "- possible：Add a step that looks for the previous file(missing ID) and then continue the operations (between 1.2&1.3)"
   ]
  },
  {
   "cell_type": "markdown",
   "id": "5573854f",
   "metadata": {},
   "source": [
    "## <center>Verification of Viridian assemblies</center>\n",
    "##### <center>MANUAL</center>\n",
    "\n",
    "\n",
    "\n",
    "| **Label** | **start time** | **finish time** | **last modified** |\n",
    "|:--------------:|:-----------:|:-----------:|:----------------:|\n",
    "|   Project 1   |  2023-07-26 |  2023-07-27 |   2023-07-27     |\n",
    "\n",
    "&nbsp;\n",
    "\n",
    "```python\n",
    "# CODE: \n",
    "/nfs/research/goldman/zihao/Code/compProject_2_P3\n",
    "# DATA:\n",
    "/nfs/research/goldman/zihao/Datas/p2_compViridian_P3\n",
    "# Path/to/figure\n",
    "/nfs/research/goldman/zihao/Code/jupyterLab/Project_2_vircolComp/2.mapleComp_P3/3_plot.ipynb\n",
    "```\n",
    "**Tips：** All the codes need to change the path has been marked in the code as below:\n",
    "  \n",
    "  \\# ==================Requires modification==================  \n",
    "  \\# Path to be changed  \n",
    "  \\# ==================Requires modification=================="
   ]
  },
  {
   "cell_type": "markdown",
   "id": "a9f98739",
   "metadata": {},
   "source": [
    "# <center>Catalog:</center>\n",
    "- 1. [Data Preparation](#1.Data_Processing)\n",
    "    - 1.1 [Processing of MAPLE outputs](#1.1_Processing-MAPLE-output)\n",
    "    - 1.2 [Data Merge Adds Error Info Indicated by MAPLE](#1.2.Data-Merge_Adds-Error-by-MAPLE)\n",
    "    - 1.3 [Statistics for different categories of data](#1.3.Calculate-percentage)\n",
    "\n",
    "&nbsp;\n",
    "\n",
    "- 2. [Data visualizations](#2.Visualization)"
   ]
  },
  {
   "cell_type": "markdown",
   "id": "9846a69b",
   "metadata": {},
   "source": [
    "---\n",
    "# 1.Data_Processing\n",
    "[Return to Catalog](#Catalog:)\n",
    "\n",
    "## 1.1_Processing-MAPLE-output\n",
    "- **Output**: \n",
    "```python\n",
    "# Processing complete and file written to \n",
    "/nfs/research/goldman/zihao/Datas/p2_compViridian_P3/Folder_mapleOutput/VIR_output_modified.txt\n",
    "\n",
    "# Processing complete and file written to \n",
    "/nfs/research/goldman/zihao/Datas/p2_compViridian_P3/Folder_mapleOutput/COL_output_modified.txt\n",
    "```\n",
    "\n",
    "###### Run the program\n",
    "```python\n",
    "python3 /nfs/research/goldman/zihao/Code/compProject_2_P3/Folder1_dataPrepration/Pg_dataPrepration.py\n",
    "```"
   ]
  },
  {
   "cell_type": "markdown",
   "id": "0b9ca18b",
   "metadata": {},
   "source": [
    "## 1.2.Data-Merge_Adds-Error-by-MAPLE\n",
    "[Return to Catalog](#Catalog:)\n",
    "\n",
    "- **Idea**:\n",
    "Combining the information such as nucleotide obtained in P2(folder_data below) with the error indicated by MAPLE\n",
    "\n",
    "- **Input**: \n",
    "```python\n",
    "# folder_col:\n",
    "/nfs/research/goldman/zihao/Datas/p2_compViridian_P3/Folder_mapleOutput/COL_output_modified.txt\n",
    "# folder_vir:\n",
    "/nfs/research/goldman/zihao/Datas/p2_compViridian_P3/Folder_mapleOutput/VIR_output_modified.txt\n",
    "# folder_data:\n",
    "/nfs/research/goldman/zihao/Datas/p2_compViridian_P2/Folder_2_combination/folderData_combination\n",
    "```\n",
    "- **Output**: \n",
    "```python\n",
    "output_dir = '/nfs/research/goldman/zihao/Datas/p2_compViridian_P3/folderData_addError'\n",
    "not_found_ids_file = '/nfs/research/goldman/zihao/Datas/p2_compViridian_P3/notFound_idsError.txt'\n",
    "\n",
    "```\n",
    "- **Address**:\n",
    "```python\n",
    "/nfs/research/goldman/zihao/Code/compProject_2_P3/Folder2_dataProcessing/Pg_addError.py\n",
    "```\n",
    "\n",
    "### Code block:\n",
    "###### Run the program\n",
    "```bash\n",
    "bsub -M 20000 -e /nfs/research/goldman/zihao/Code/compProject_2_P3/Folder2_dataProcessing/Folder_Checking/errorChecking_addError.txt -o /nfs/research/goldman/zihao/Code/compProject_2_P3/Folder2_dataProcessing/Folder_Checking/outputChecking_addError.txt 'python3 /nfs/research/goldman/zihao/Code/compProject_2_P3/Folder2_dataProcessing/Pg_addError.py'\n",
    "```"
   ]
  },
  {
   "cell_type": "markdown",
   "id": "081aead0",
   "metadata": {},
   "source": [
    "```bash\n",
    "sh /nfs/research/goldman/zihao/TEST/bash_combMAPLEerror.sh\n",
    "```\n",
    "\n",
    "#### Counting missing IDs: **(After finishing the above run)**\n",
    "```bash\n",
    "sh /nfs/research/goldman/zihao/Code/compProject_2_P2/Folder_3addInfo/bash_statMissingID.sh\n",
    "```"
   ]
  },
  {
   "cell_type": "markdown",
   "id": "880db968",
   "metadata": {},
   "source": [
    "## 1.3.Calculate-percentage\n",
    "\n",
    "- **Idea**:\n",
    "Counting the number of different categories for visualization purposes\n",
    "\n",
    "- **Input**: \n",
    "```python\n",
    "# folder_path：\n",
    "/nfs/research/goldman/zihao/Datas/p2_compViridian_P3/folderData_addError\n",
    "```\n",
    "- **Output**: \n",
    "```python\n",
    "output_dir = '/nfs/research/goldman/zihao/Datas/p2_compViridian_P3/output_calculPercentage.txt'\n",
    "```\n",
    "\n",
    "- **Address**:\n",
    "```python\n",
    "/nfs/research/goldman/zihao/Code/compProject_2_P3/Folder3_calculPercentage/pg_calculPercentage.py\n",
    "```\n",
    "\n",
    "### Code block:\n",
    "###### Run the program\n",
    "```bash\n",
    "bsub -M 20000 -e /nfs/research/goldman/zihao/Code/compProject_2_P3/Folder3_calculPercentage/Folder_Checking/errorChecking_calculPercentage.txt -o /nfs/research/goldman/zihao/Datas/p2_compViridian_P3/output_calculPercentage.txt 'python3 /nfs/research/goldman/zihao/Code/compProject_2_P3/Folder3_calculPercentage/pg_calculPercentage.py'\n",
    "```"
   ]
  },
  {
   "cell_type": "markdown",
   "id": "dd41dc56",
   "metadata": {},
   "source": [
    "## 2.Visualization\n",
    "[Return to Catalog](#Catalog:)\n",
    "```python\n",
    "/nfs/research/goldman/zihao/Code/jupyterLab/Project_2_vircolComp/2.mapleComp_P3/3_plot.ipynb\n",
    "```"
   ]
  }
 ],
 "metadata": {
  "kernelspec": {
   "display_name": "Python 3 (ipykernel)",
   "language": "python",
   "name": "python3"
  },
  "language_info": {
   "codemirror_mode": {
    "name": "ipython",
    "version": 3
   },
   "file_extension": ".py",
   "mimetype": "text/x-python",
   "name": "python",
   "nbconvert_exporter": "python",
   "pygments_lexer": "ipython3",
   "version": "3.11.3"
  }
 },
 "nbformat": 4,
 "nbformat_minor": 5
}
