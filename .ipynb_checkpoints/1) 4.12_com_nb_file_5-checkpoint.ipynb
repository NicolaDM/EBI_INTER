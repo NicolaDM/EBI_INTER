{
 "cells": [
  {
   "cell_type": "code",
   "execution_count": 1,
   "id": "926604cb-937b-4d2c-bffd-47ebcb7ef973",
   "metadata": {},
   "outputs": [],
   "source": [
    "import time\n",
    "import pandas as pd"
   ]
  },
  {
   "cell_type": "code",
   "execution_count": 2,
   "id": "ac8c8dbf-0f10-4c4f-aebf-032a2620a67c",
   "metadata": {},
   "outputs": [
    {
     "data": {
      "text/html": [
       "<div>\n",
       "<style scoped>\n",
       "    .dataframe tbody tr th:only-of-type {\n",
       "        vertical-align: middle;\n",
       "    }\n",
       "\n",
       "    .dataframe tbody tr th {\n",
       "        vertical-align: top;\n",
       "    }\n",
       "\n",
       "    .dataframe thead th {\n",
       "        text-align: right;\n",
       "    }\n",
       "</style>\n",
       "<table border=\"1\" class=\"dataframe\">\n",
       "  <thead>\n",
       "    <tr style=\"text-align: right;\">\n",
       "      <th></th>\n",
       "      <th>run_id</th>\n",
       "      <th>number of files</th>\n",
       "    </tr>\n",
       "  </thead>\n",
       "  <tbody>\n",
       "    <tr>\n",
       "      <th>126</th>\n",
       "      <td>DRR428582</td>\n",
       "      <td>5</td>\n",
       "    </tr>\n",
       "    <tr>\n",
       "      <th>127</th>\n",
       "      <td>ERR10008306</td>\n",
       "      <td>5</td>\n",
       "    </tr>\n",
       "    <tr>\n",
       "      <th>128</th>\n",
       "      <td>ERR10008309</td>\n",
       "      <td>5</td>\n",
       "    </tr>\n",
       "    <tr>\n",
       "      <th>129</th>\n",
       "      <td>ERR10008311</td>\n",
       "      <td>5</td>\n",
       "    </tr>\n",
       "    <tr>\n",
       "      <th>130</th>\n",
       "      <td>ERR10008328</td>\n",
       "      <td>5</td>\n",
       "    </tr>\n",
       "  </tbody>\n",
       "</table>\n",
       "</div>"
      ],
      "text/plain": [
       "          run_id  number of files\n",
       "126    DRR428582                5\n",
       "127  ERR10008306                5\n",
       "128  ERR10008309                5\n",
       "129  ERR10008311                5\n",
       "130  ERR10008328                5"
      ]
     },
     "execution_count": 2,
     "metadata": {},
     "output_type": "execute_result"
    }
   ],
   "source": [
    "df = pd.read_csv('../Datas/analysis_run_list.txt', delimiter='\\t')\n",
    "df = df[df['number of files'] == 5]\n",
    "df.head()"
   ]
  },
  {
   "cell_type": "markdown",
   "id": "d0746855-acd1-458e-9565-b15ac360c8f1",
   "metadata": {},
   "source": [
    "- 从数据文件中逐行读取数据，可以使用 Pandas 的 read_csv() 函数，并设置 chunksize 参数来逐块读取数据。\n",
    "- 对于每一块数据，遍历每一行并进行处理。\n",
    "- 对于每一行，比对另一个文件中的“run_id”，如果存在，则将该行数据的 run_id 和 FTP_path 存储在一个字典中，并将字典中的数据写入到一个文本文件中。\n",
    "- 如果不存在，则直接跳过该行数据。\n",
    "- 删除该块数据，继续读取下一块数据。"
   ]
  },
  {
   "cell_type": "code",
   "execution_count": 3,
   "id": "753ebedc-ac82-40bc-9824-d9db7a35ec17",
   "metadata": {},
   "outputs": [],
   "source": [
    "test = set(df['run_id'])"
   ]
  },
  {
   "cell_type": "code",
   "execution_count": 4,
   "id": "66358969-ff73-410d-a048-f3754ab2bee0",
   "metadata": {},
   "outputs": [],
   "source": [
    "# 创建输出文件并写入表头\n",
    "with open('file_5.txt', 'w') as f:\n",
    "    f.write(\"run_id\\tdata_file\\tFTP_path\\n\")"
   ]
  },
  {
   "cell_type": "code",
   "execution_count": 5,
   "id": "63018c12-d8e6-484e-ade8-ce92ea0694bd",
   "metadata": {},
   "outputs": [
    {
     "name": "stdout",
     "output_type": "stream",
     "text": [
      "Processing chunk 1\n",
      "Time taken for chunk 1: 31.21 seconds\n",
      "Processing chunk 2\n",
      "Time taken for chunk 2: 32.90 seconds\n",
      "Processing chunk 3\n",
      "Time taken for chunk 3: 36.61 seconds\n",
      "Processing chunk 4\n",
      "Time taken for chunk 4: 36.87 seconds\n",
      "Processing chunk 5\n",
      "Time taken for chunk 5: 36.39 seconds\n",
      "Processing chunk 6\n",
      "Time taken for chunk 6: 36.01 seconds\n",
      "Processing chunk 7\n",
      "Time taken for chunk 7: 34.80 seconds\n",
      "Processing chunk 8\n",
      "Time taken for chunk 8: 59.02 seconds\n",
      "Processing chunk 9\n",
      "Time taken for chunk 9: 37.53 seconds\n",
      "Processing chunk 10\n",
      "Time taken for chunk 10: 40.48 seconds\n",
      "Processing chunk 11\n",
      "Time taken for chunk 11: 37.02 seconds\n",
      "Processing chunk 12\n",
      "Time taken for chunk 12: 17.96 seconds\n"
     ]
    }
   ],
   "source": [
    "# 逐块读取数据文件\n",
    "for i, chunk in enumerate(pd.read_csv('../Datas/analysis_full_06.04.23.txt', delimiter='\\t', chunksize=100000, skiprows=range(1, 8000000))):\n",
    "    start_time = time.time()\n",
    "    print(f\"Processing chunk {i+1}\")\n",
    "    # 遍历每一行数据\n",
    "    for index, row in chunk.iterrows():\n",
    "        # 检查 DataFrame 中是否包含 'run_id' 这一列\n",
    "        if 'run_id' in chunk.columns:\n",
    "            # 比对另一个文件中的“run_id”\n",
    "            if row['run_id'] in test: #df['run_id'].values: #list -> set\n",
    "                # 如果存在，则保存 run_id 和 FTP_path 并写入到文本文件中\n",
    "                data = {'run_id': row['run_id'], 'data_file': row['data_file'], 'FTP_path': row['FTP_path']}\n",
    "                with open('file_5.txt', 'a') as f:\n",
    "                    f.write(f\"{data['run_id']}\\t{data['data_file']}\\t{data['FTP_path']}\\n\")\n",
    "        # 删除内存中的该行数据\n",
    "        del row\n",
    "    end_time = time.time()\n",
    "    print(f\"Time taken for chunk {i+1}: {end_time - start_time:.2f} seconds\")"
   ]
  }
 ],
 "metadata": {
  "kernelspec": {
   "display_name": "Python 3",
   "language": "python",
   "name": "python3"
  },
  "language_info": {
   "codemirror_mode": {
    "name": "ipython",
    "version": 3
   },
   "file_extension": ".py",
   "mimetype": "text/x-python",
   "name": "python",
   "nbconvert_exporter": "python",
   "pygments_lexer": "ipython3",
   "version": "3.9.15"
  }
 },
 "nbformat": 4,
 "nbformat_minor": 5
}
