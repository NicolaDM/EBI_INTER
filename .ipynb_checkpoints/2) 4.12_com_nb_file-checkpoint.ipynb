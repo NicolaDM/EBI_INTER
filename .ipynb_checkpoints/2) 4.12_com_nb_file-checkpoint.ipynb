{
 "cells": [
  {
   "cell_type": "code",
   "execution_count": 1,
   "id": "926604cb-937b-4d2c-bffd-47ebcb7ef973",
   "metadata": {},
   "outputs": [
    {
     "data": {
      "text/html": [
       "<div>\n",
       "<style scoped>\n",
       "    .dataframe tbody tr th:only-of-type {\n",
       "        vertical-align: middle;\n",
       "    }\n",
       "\n",
       "    .dataframe tbody tr th {\n",
       "        vertical-align: top;\n",
       "    }\n",
       "\n",
       "    .dataframe thead th {\n",
       "        text-align: right;\n",
       "    }\n",
       "</style>\n",
       "<table border=\"1\" class=\"dataframe\">\n",
       "  <thead>\n",
       "    <tr style=\"text-align: right;\">\n",
       "      <th></th>\n",
       "      <th>run_id</th>\n",
       "      <th>number of files</th>\n",
       "    </tr>\n",
       "  </thead>\n",
       "  <tbody>\n",
       "    <tr>\n",
       "      <th>0</th>\n",
       "      <td>DRR428582</td>\n",
       "      <td>5</td>\n",
       "    </tr>\n",
       "    <tr>\n",
       "      <th>1</th>\n",
       "      <td>ERR10008306</td>\n",
       "      <td>5</td>\n",
       "    </tr>\n",
       "    <tr>\n",
       "      <th>2</th>\n",
       "      <td>ERR10008309</td>\n",
       "      <td>5</td>\n",
       "    </tr>\n",
       "    <tr>\n",
       "      <th>3</th>\n",
       "      <td>ERR10008311</td>\n",
       "      <td>5</td>\n",
       "    </tr>\n",
       "    <tr>\n",
       "      <th>4</th>\n",
       "      <td>ERR10008328</td>\n",
       "      <td>5</td>\n",
       "    </tr>\n",
       "  </tbody>\n",
       "</table>\n",
       "</div>"
      ],
      "text/plain": [
       "        run_id  number of files\n",
       "0    DRR428582                5\n",
       "1  ERR10008306                5\n",
       "2  ERR10008309                5\n",
       "3  ERR10008311                5\n",
       "4  ERR10008328                5"
      ]
     },
     "execution_count": 1,
     "metadata": {},
     "output_type": "execute_result"
    }
   ],
   "source": [
    "import pandas as pd\n",
    "df = pd.read_csv('../Datas/nb_5_dic.txt', delimiter='\\t')\n",
    "df.head()"
   ]
  },
  {
   "cell_type": "markdown",
   "id": "d0746855-acd1-458e-9565-b15ac360c8f1",
   "metadata": {},
   "source": [
    "- 从数据文件中逐行读取数据，可以使用 Pandas 的 read_csv() 函数，并设置 chunksize 参数来逐块读取数据。\n",
    "- 对于每一块数据，遍历每一行并进行处理。\n",
    "- 对于每一行，比对另一个文件中的“run_id”，如果存在，则将该行数据的 run_id 和 FTP_path 存储在一个字典中，并将字典中的数据写入到一个文本文件中。\n",
    "- 如果不存在，则直接跳过该行数据。\n",
    "- 删除该块数据，继续读取下一块数据。"
   ]
  },
  {
   "cell_type": "code",
   "execution_count": null,
   "id": "4d59f454-04b5-44b7-ac02-87ebebcf8a75",
   "metadata": {},
   "outputs": [],
   "source": [
    "# 从数据文件中逐块读取数据\n",
    "for chunk in pd.read_csv('../Datas/analysis_full_06.04.23.txt', delimiter='\\t', chunksize=1000):\n",
    "    # 遍历每一行数据\n",
    "    for index, row in chunk.iterrows():\n",
    "        # 检查 DataFrame 中是否包含 'run_id' 这一列\n",
    "        if 'run_id' in chunk.columns:\n",
    "            # 比对另一个文件中的“run_id”\n",
    "            if row['run_id'] in df['run_id'].values:\n",
    "                print(row['run_id'])\n",
    "                # 如果存在，则保存 run_id 和 FTP_path 并写入到文本文件中\n",
    "                data = {'run_id': row['run_id'], 'FTP_path': row['FTP_path']}\n",
    "                with open('output.txt', 'a') as f:\n",
    "                    f.write(f\"{data['run_id']}\\t{data['FTP_path']}\\n\")\n",
    "        # 删除内存中的该行数据\n",
    "        del row"
   ]
  }
 ],
 "metadata": {
  "kernelspec": {
   "display_name": "Python 3",
   "language": "python",
   "name": "python3"
  },
  "language_info": {
   "codemirror_mode": {
    "name": "ipython",
    "version": 3
   },
   "file_extension": ".py",
   "mimetype": "text/x-python",
   "name": "python",
   "nbconvert_exporter": "python",
   "pygments_lexer": "ipython3",
   "version": "3.9.15"
  }
 },
 "nbformat": 4,
 "nbformat_minor": 5
}
