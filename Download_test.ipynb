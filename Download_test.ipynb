{
 "cells": [
  {
   "cell_type": "code",
   "execution_count": 4,
   "id": "3ab16b08",
   "metadata": {},
   "outputs": [],
   "source": [
    "import os\n",
    "import pandas as pd"
   ]
  },
  {
   "cell_type": "code",
   "execution_count": 5,
   "id": "01e707d4",
   "metadata": {},
   "outputs": [],
   "source": [
    "def count_files_in_folder(folder_path):\n",
    "    # 定义要查找的文件类型列表\n",
    "    file_types = ['.txt', '.gz']\n",
    "\n",
    "    # 初始化文件个数字典\n",
    "    file_counts = {file_type: 0 for file_type in file_types}\n",
    "\n",
    "    # 遍历文件夹中的所有文件\n",
    "    for filename in os.listdir(folder_path):\n",
    "        # 判断文件的扩展名是否匹配任意一个类型\n",
    "        for file_type in file_types:\n",
    "            if filename.endswith(file_type):\n",
    "                # 如果是指定类型的文件，计数器加 1\n",
    "                file_counts[file_type] += 1\n",
    "                break\n",
    "\n",
    "    # 打印结果\n",
    "    file_count = len(os.listdir(folder_path))\n",
    "    print(f'The number of files in {folder_path} is {file_count}')\n",
    "    \n",
    "    # print(\"Completion ratio: \", (file_count-101)/len_whole*100,\"%\")\n",
    "\n",
    "    for file_type, file_count in file_counts.items():\n",
    "        print(f\"There are {file_count} {file_type} files in the folder.\")\n",
    "        \n",
    "    print(\"==========================================================\")"
   ]
  },
  {
   "cell_type": "markdown",
   "id": "76f23b3f",
   "metadata": {},
   "source": [
    "### start from: 13:30"
   ]
  },
  {
   "cell_type": "code",
   "execution_count": 6,
   "id": "93109829",
   "metadata": {},
   "outputs": [
    {
     "name": "stdout",
     "output_type": "stream",
     "text": [
      "The number of files in /nfs/research/goldman/zihao/TEST/folderData_addError is 136333\n",
      "There are 136333 .txt files in the folder.\n",
      "There are 0 .gz files in the folder.\n",
      "==========================================================\n"
     ]
    }
   ],
   "source": [
    "count_files_in_folder('/nfs/research/goldman/zihao/TEST/folderData_addError')"
   ]
  },
  {
   "cell_type": "code",
   "execution_count": 9,
   "id": "5a619433",
   "metadata": {},
   "outputs": [
    {
     "name": "stdout",
     "output_type": "stream",
     "text": [
      "The number of files in /nfs/research/goldman/zihao/TEST/folderData_combTEST is 100\n",
      "There are 100 .txt files in the folder.\n",
      "There are 0 .gz files in the folder.\n",
      "==========================================================\n"
     ]
    }
   ],
   "source": [
    "count_files_in_folder('/nfs/research/goldman/zihao/TEST/folderData_combTEST')"
   ]
  },
  {
   "cell_type": "code",
   "execution_count": 12,
   "id": "05b7a4b2",
   "metadata": {},
   "outputs": [
    {
     "data": {
      "text/plain": [
       "2003511"
      ]
     },
     "execution_count": 12,
     "metadata": {},
     "output_type": "execute_result"
    }
   ],
   "source": [
    "29903*100-40429 - 946360"
   ]
  },
  {
   "cell_type": "code",
   "execution_count": 8,
   "id": "b1bd0775",
   "metadata": {},
   "outputs": [
    {
     "ename": "FileNotFoundError",
     "evalue": "[Errno 2] No such file or directory: '/nfs/research/goldman/zihao/Datas/p2_comp_viridian/3_combination/'",
     "output_type": "error",
     "traceback": [
      "\u001b[0;31m---------------------------------------------------------------------------\u001b[0m",
      "\u001b[0;31mFileNotFoundError\u001b[0m                         Traceback (most recent call last)",
      "Cell \u001b[0;32mIn[8], line 1\u001b[0m\n\u001b[0;32m----> 1\u001b[0m count_files_in_folder(\u001b[38;5;124m'\u001b[39m\u001b[38;5;124m/nfs/research/goldman/zihao/Datas/p2_comp_viridian/3_combination/\u001b[39m\u001b[38;5;124m'\u001b[39m)\n",
      "Cell \u001b[0;32mIn[5], line 9\u001b[0m, in \u001b[0;36mcount_files_in_folder\u001b[0;34m(folder_path)\u001b[0m\n\u001b[1;32m      6\u001b[0m file_counts \u001b[38;5;241m=\u001b[39m {file_type: \u001b[38;5;241m0\u001b[39m \u001b[38;5;28;01mfor\u001b[39;00m file_type \u001b[38;5;129;01min\u001b[39;00m file_types}\n\u001b[1;32m      8\u001b[0m \u001b[38;5;66;03m# 遍历文件夹中的所有文件\u001b[39;00m\n\u001b[0;32m----> 9\u001b[0m \u001b[38;5;28;01mfor\u001b[39;00m filename \u001b[38;5;129;01min\u001b[39;00m os\u001b[38;5;241m.\u001b[39mlistdir(folder_path):\n\u001b[1;32m     10\u001b[0m     \u001b[38;5;66;03m# 判断文件的扩展名是否匹配任意一个类型\u001b[39;00m\n\u001b[1;32m     11\u001b[0m     \u001b[38;5;28;01mfor\u001b[39;00m file_type \u001b[38;5;129;01min\u001b[39;00m file_types:\n\u001b[1;32m     12\u001b[0m         \u001b[38;5;28;01mif\u001b[39;00m filename\u001b[38;5;241m.\u001b[39mendswith(file_type):\n\u001b[1;32m     13\u001b[0m             \u001b[38;5;66;03m# 如果是指定类型的文件，计数器加 1\u001b[39;00m\n",
      "\u001b[0;31mFileNotFoundError\u001b[0m: [Errno 2] No such file or directory: '/nfs/research/goldman/zihao/Datas/p2_comp_viridian/3_combination/'"
     ]
    }
   ],
   "source": [
    "count_files_in_folder('/nfs/research/goldman/zihao/Datas/p2_comp_viridian/3_combination/')"
   ]
  },
  {
   "cell_type": "code",
   "execution_count": null,
   "id": "6f916bd9",
   "metadata": {},
   "outputs": [],
   "source": []
  },
  {
   "cell_type": "code",
   "execution_count": null,
   "id": "5c94f861",
   "metadata": {},
   "outputs": [],
   "source": []
  },
  {
   "cell_type": "code",
   "execution_count": null,
   "id": "31426bda",
   "metadata": {},
   "outputs": [],
   "source": []
  }
 ],
 "metadata": {
  "kernelspec": {
   "display_name": "Python 3 (ipykernel)",
   "language": "python",
   "name": "python3"
  },
  "language_info": {
   "codemirror_mode": {
    "name": "ipython",
    "version": 3
   },
   "file_extension": ".py",
   "mimetype": "text/x-python",
   "name": "python",
   "nbconvert_exporter": "python",
   "pygments_lexer": "ipython3",
   "version": "3.11.3"
  }
 },
 "nbformat": 4,
 "nbformat_minor": 5
}
