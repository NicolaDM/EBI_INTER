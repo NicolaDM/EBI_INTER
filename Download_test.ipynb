{
 "cells": [
  {
   "cell_type": "code",
   "execution_count": 1,
   "id": "3ab16b08",
   "metadata": {},
   "outputs": [],
   "source": [
    "import os\n",
    "import pandas as pd"
   ]
  },
  {
   "cell_type": "code",
   "execution_count": 2,
   "id": "01e707d4",
   "metadata": {},
   "outputs": [],
   "source": [
    "def count_files_in_folder(folder_path):\n",
    "    # 定义要查找的文件类型列表\n",
    "    file_types = ['.txt', '.gz']\n",
    "\n",
    "    # 初始化文件个数字典\n",
    "    file_counts = {file_type: 0 for file_type in file_types}\n",
    "\n",
    "    # 遍历文件夹中的所有文件\n",
    "    for filename in os.listdir(folder_path):\n",
    "        # 判断文件的扩展名是否匹配任意一个类型\n",
    "        for file_type in file_types:\n",
    "            if filename.endswith(file_type):\n",
    "                # 如果是指定类型的文件，计数器加 1\n",
    "                file_counts[file_type] += 1\n",
    "                break\n",
    "\n",
    "    # 打印结果\n",
    "    file_count = len(os.listdir(folder_path))\n",
    "    print(f'The number of files in {folder_path} is {file_count}')\n",
    "    \n",
    "    # print(\"Completion ratio: \", (file_count-101)/len_whole*100,\"%\")\n",
    "\n",
    "    for file_type, file_count in file_counts.items():\n",
    "        print(f\"There are {file_count} {file_type} files in the folder.\")\n",
    "        \n",
    "    print(\"==========================================================\")"
   ]
  },
  {
   "cell_type": "code",
   "execution_count": 3,
   "id": "93109829",
   "metadata": {
    "scrolled": true
   },
   "outputs": [
    {
     "name": "stdout",
     "output_type": "stream",
     "text": [
      "The number of files in /nfs/research/goldman/zihao/Datas/p2_compViridian_P2/Folder_2_combination/folderData_addInfo is 134879\n",
      "There are 134879 .txt files in the folder.\n",
      "There are 0 .gz files in the folder.\n",
      "==========================================================\n"
     ]
    }
   ],
   "source": [
    "count_files_in_folder('/nfs/research/goldman/zihao/Datas/p2_compViridian_P2/Folder_2_combination/folderData_addInfo')"
   ]
  },
  {
   "cell_type": "code",
   "execution_count": 131,
   "id": "247e96d3",
   "metadata": {},
   "outputs": [
    {
     "name": "stdout",
     "output_type": "stream",
     "text": [
      "The number of files in /nfs/research/goldman/zihao/Datas/p2_compViridian_P2/Folder_2_combination/folderData_combination is 136343\n",
      "There are 136343 .txt files in the folder.\n",
      "There are 0 .gz files in the folder.\n",
      "==========================================================\n"
     ]
    }
   ],
   "source": [
    "count_files_in_folder('/nfs/research/goldman/zihao/Datas/p2_compViridian_P2/Folder_2_combination/folderData_combination')"
   ]
  },
  {
   "cell_type": "code",
   "execution_count": 94,
   "id": "5c94f861",
   "metadata": {},
   "outputs": [
    {
     "name": "stdout",
     "output_type": "stream",
     "text": [
      "The number of files in /nfs/research/goldman/zihao/Datas/p2_compViridian_P2/Folder_2_combination/folderData_addInfo is 134879\n",
      "There are 134879 .txt files in the folder.\n",
      "There are 0 .gz files in the folder.\n",
      "==========================================================\n"
     ]
    }
   ],
   "source": [
    "count_files_in_folder('/nfs/research/goldman/zihao/Datas/p2_compViridian_P2/Folder_2_combination/folderData_addInfo')"
   ]
  }
 ],
 "metadata": {
  "kernelspec": {
   "display_name": "Python 3 (ipykernel)",
   "language": "python",
   "name": "python3"
  },
  "language_info": {
   "codemirror_mode": {
    "name": "ipython",
    "version": 3
   },
   "file_extension": ".py",
   "mimetype": "text/x-python",
   "name": "python",
   "nbconvert_exporter": "python",
   "pygments_lexer": "ipython3",
   "version": "3.11.3"
  }
 },
 "nbformat": 4,
 "nbformat_minor": 5
}
