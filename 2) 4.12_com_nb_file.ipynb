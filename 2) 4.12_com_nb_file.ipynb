{
 "cells": [
  {
   "cell_type": "code",
   "execution_count": 1,
   "id": "2f1109d7-55a8-40b8-9da6-4605ead94f5c",
   "metadata": {},
   "outputs": [],
   "source": [
    "import pandas as pd\n",
    "import time"
   ]
  },
  {
   "cell_type": "code",
   "execution_count": 2,
   "id": "75cfbf68-363c-4f85-80c0-3bb9b86d2d6d",
   "metadata": {},
   "outputs": [
    {
     "data": {
      "text/html": [
       "<div>\n",
       "<style scoped>\n",
       "    .dataframe tbody tr th:only-of-type {\n",
       "        vertical-align: middle;\n",
       "    }\n",
       "\n",
       "    .dataframe tbody tr th {\n",
       "        vertical-align: top;\n",
       "    }\n",
       "\n",
       "    .dataframe thead th {\n",
       "        text-align: right;\n",
       "    }\n",
       "</style>\n",
       "<table border=\"1\" class=\"dataframe\">\n",
       "  <thead>\n",
       "    <tr style=\"text-align: right;\">\n",
       "      <th></th>\n",
       "      <th>run_id</th>\n",
       "      <th>number of files</th>\n",
       "    </tr>\n",
       "  </thead>\n",
       "  <tbody>\n",
       "    <tr>\n",
       "      <th>0</th>\n",
       "      <td>DRR286879</td>\n",
       "      <td>3</td>\n",
       "    </tr>\n",
       "    <tr>\n",
       "      <th>1</th>\n",
       "      <td>DRR286880</td>\n",
       "      <td>3</td>\n",
       "    </tr>\n",
       "    <tr>\n",
       "      <th>2</th>\n",
       "      <td>DRR286881</td>\n",
       "      <td>3</td>\n",
       "    </tr>\n",
       "    <tr>\n",
       "      <th>3</th>\n",
       "      <td>DRR286882</td>\n",
       "      <td>3</td>\n",
       "    </tr>\n",
       "    <tr>\n",
       "      <th>4</th>\n",
       "      <td>DRR286883</td>\n",
       "      <td>3</td>\n",
       "    </tr>\n",
       "  </tbody>\n",
       "</table>\n",
       "</div>"
      ],
      "text/plain": [
       "      run_id  number of files\n",
       "0  DRR286879                3\n",
       "1  DRR286880                3\n",
       "2  DRR286881                3\n",
       "3  DRR286882                3\n",
       "4  DRR286883                3"
      ]
     },
     "execution_count": 2,
     "metadata": {},
     "output_type": "execute_result"
    }
   ],
   "source": [
    "df = pd.read_csv('../Datas/analysis_run_list.txt', delimiter='\\t')\n",
    "df = df[df['number of files'] == 3]\n",
    "df.head()"
   ]
  },
  {
   "cell_type": "code",
   "execution_count": 3,
   "id": "7d57197a-09ba-4680-872e-168510099c16",
   "metadata": {},
   "outputs": [],
   "source": [
    "test = set(df['run_id'])"
   ]
  },
  {
   "cell_type": "code",
   "execution_count": 4,
   "id": "f13421df-326c-4a6a-a710-08c7b6b70eef",
   "metadata": {},
   "outputs": [],
   "source": [
    "# 创建输出文件并写入表头\n",
    "with open('file_3.txt', 'w') as f:\n",
    "    f.write(\"run_id\\tdata_file\\tFTP_path\\n\")"
   ]
  },
  {
   "cell_type": "code",
   "execution_count": 5,
   "id": "ff8a5cea-9a7b-4ac3-a255-a0da9fef16d4",
   "metadata": {},
   "outputs": [
    {
     "name": "stdout",
     "output_type": "stream",
     "text": [
      "Processing chunk 1\n"
     ]
    },
    {
     "name": "stderr",
     "output_type": "stream",
     "text": [
      "\n",
      "KeyboardInterrupt\n",
      "\n"
     ]
    }
   ],
   "source": [
    "# 逐块读取数据文件\n",
    "for i, chunk in enumerate(pd.read_csv('../Datas/analysis_full_06.04.23.txt', delimiter='\\t', chunksize=100000)):\n",
    "    start_time = time.time()\n",
    "    print(f\"Processing chunk {i+1}\")\n",
    "    # 遍历每一行数据\n",
    "    for index, row in chunk.iterrows():\n",
    "        # 检查 DataFrame 中是否包含 'run_id' 这一列\n",
    "        if 'run_id' in chunk.columns:\n",
    "            # 比对另一个文件中的“run_id”\n",
    "            if row['run_id'] in test: #df['run_id'].values: #list -> set\n",
    "                # 如果存在，则保存 run_id 和 FTP_path 并写入到文本文件中\n",
    "                data = {'run_id': row['run_id'], 'data_file': row['data_file'], 'FTP_path': row['FTP_path']}\n",
    "                with open('file_3.txt', 'a') as f:\n",
    "                    f.write(f\"{data['run_id']}\\t{data['data_file']}\\t{data['FTP_path']}\\n\")\n",
    "        # 删除内存中的该行数据\n",
    "        del row\n",
    "    end_time = time.time()\n",
    "    print(f\"Time taken for chunk {i+1}: {end_time - start_time:.2f} seconds\")"
   ]
  }
 ],
 "metadata": {
  "kernelspec": {
   "display_name": "Python 3",
   "language": "python",
   "name": "python3"
  },
  "language_info": {
   "codemirror_mode": {
    "name": "ipython",
    "version": 3
   },
   "file_extension": ".py",
   "mimetype": "text/x-python",
   "name": "python",
   "nbconvert_exporter": "python",
   "pygments_lexer": "ipython3",
   "version": "3.9.15"
  }
 },
 "nbformat": 4,
 "nbformat_minor": 5
}
